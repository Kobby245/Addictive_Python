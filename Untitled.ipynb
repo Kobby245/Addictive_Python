{
 "cells": [
  {
   "cell_type": "code",
   "execution_count": null,
   "id": "8377af60",
   "metadata": {},
   "outputs": [],
   "source": [
    "course = \"AddictivePython\"\n",
    "\n",
    "course"
   ]
  },
  {
   "cell_type": "code",
   "execution_count": null,
   "id": "2dbd47b7",
   "metadata": {},
   "outputs": [],
   "source": [
    "course[9:]"
   ]
  },
  {
   "cell_type": "code",
   "execution_count": null,
   "id": "258aa897",
   "metadata": {},
   "outputs": [],
   "source": [
    "course[:9]"
   ]
  },
  {
   "cell_type": "code",
   "execution_count": null,
   "id": "ee3ed617",
   "metadata": {},
   "outputs": [],
   "source": [
    "course[5:5]"
   ]
  },
  {
   "cell_type": "code",
   "execution_count": null,
   "id": "61c12513",
   "metadata": {},
   "outputs": [],
   "source": [
    "name = \"Kobe\"\n",
    "\n",
    "name"
   ]
  },
  {
   "cell_type": "code",
   "execution_count": null,
   "id": "2965e008",
   "metadata": {},
   "outputs": [],
   "source": [
    "name[0] = \"k\""
   ]
  },
  {
   "cell_type": "code",
   "execution_count": 4,
   "id": "e2b4c6cb",
   "metadata": {},
   "outputs": [],
   "source": [
    "full_name = \"Herbert Owusu\""
   ]
  },
  {
   "cell_type": "code",
   "execution_count": 5,
   "id": "f8c1b64c",
   "metadata": {},
   "outputs": [
    {
     "data": {
      "text/plain": [
       "'Herbert Owusu'"
      ]
     },
     "execution_count": 5,
     "metadata": {},
     "output_type": "execute_result"
    }
   ],
   "source": [
    "full_name"
   ]
  },
  {
   "cell_type": "code",
   "execution_count": null,
   "id": "0ed41420",
   "metadata": {},
   "outputs": [],
   "source": [
    "full_name = \"Herbert Owusu\""
   ]
  },
  {
   "cell_type": "code",
   "execution_count": null,
   "id": "4612300e",
   "metadata": {},
   "outputs": [],
   "source": [
    "len(full_name)"
   ]
  },
  {
   "cell_type": "code",
   "execution_count": null,
   "id": "6292fb70",
   "metadata": {},
   "outputs": [],
   "source": [
    "full_name[len(full_name) -1]"
   ]
  },
  {
   "cell_type": "code",
   "execution_count": null,
   "id": "175e2b21",
   "metadata": {},
   "outputs": [],
   "source": [
    "def traverse(string):\n",
    "    \n",
    "    index = 0\n",
    "    \n",
    "    while index < len(string):\n",
    "        \n",
    "        letter = string[index]\n",
    "        \n",
    "        print(letter)\n",
    "        \n",
    "        index += 1"
   ]
  },
  {
   "cell_type": "code",
   "execution_count": null,
   "id": "75608dd3",
   "metadata": {},
   "outputs": [],
   "source": [
    "traverse('AddictivePython')"
   ]
  },
  {
   "cell_type": "code",
   "execution_count": null,
   "id": "2fe7b477",
   "metadata": {},
   "outputs": [],
   "source": [
    "for letter in \"AddictivePython\":\n",
    "    print(letter)"
   ]
  },
  {
   "cell_type": "code",
   "execution_count": null,
   "id": "1445555b",
   "metadata": {},
   "outputs": [],
   "source": [
    "# Input Example ---> Kobe\n",
    "full_name = input(\"Enter your full name here >>> \")"
   ]
  },
  {
   "cell_type": "code",
   "execution_count": null,
   "id": "041da941",
   "metadata": {},
   "outputs": [],
   "source": [
    "full_name.title().replace(\" \", \"_\")"
   ]
  },
  {
   "cell_type": "code",
   "execution_count": null,
   "id": "1f6129aa",
   "metadata": {},
   "outputs": [],
   "source": [
    "name = \"Addictive Python Programming Course\""
   ]
  },
  {
   "cell_type": "code",
   "execution_count": null,
   "id": "0fee4380",
   "metadata": {},
   "outputs": [],
   "source": [
    "name.index(\"P\")"
   ]
  },
  {
   "cell_type": "code",
   "execution_count": null,
   "id": "e2bce4ec",
   "metadata": {},
   "outputs": [],
   "source": [
    "index_of_P = string_.find(\"P\")\n",
    "\n",
    "index_of_P"
   ]
  },
  {
   "cell_type": "code",
   "execution_count": null,
   "id": "12cb55c9",
   "metadata": {},
   "outputs": [],
   "source": []
  }
 ],
 "metadata": {
  "kernelspec": {
   "display_name": "Python 3",
   "language": "python",
   "name": "python3"
  },
  "language_info": {
   "codemirror_mode": {
    "name": "ipython",
    "version": 3
   },
   "file_extension": ".py",
   "mimetype": "text/x-python",
   "name": "python",
   "nbconvert_exporter": "python",
   "pygments_lexer": "ipython3",
   "version": "3.8.8"
  }
 },
 "nbformat": 4,
 "nbformat_minor": 5
}
