{
 "cells": [
  {
   "cell_type": "markdown",
   "id": "dc68a40a",
   "metadata": {},
   "source": [
    "# List"
   ]
  },
  {
   "cell_type": "markdown",
   "id": "f1ff6a90",
   "metadata": {},
   "source": [
    "* Mutable sequence of values;\n",
    "    - values can be any data type in python\n",
    "    \n",
    "* Lists are created with square braces **`[ ]`**\n",
    "\n",
    "* List can be of mix data types"
   ]
  },
  {
   "cell_type": "code",
   "execution_count": 1,
   "id": "3a440c62",
   "metadata": {
    "ExecuteTime": {
     "end_time": "2022-07-09T13:49:03.961815Z",
     "start_time": "2022-07-09T13:49:03.958804Z"
    }
   },
   "outputs": [],
   "source": [
    "list_of_colors = [\"turquoise\", \"cyan\", \"deepskyblue\", \"gold\", \"maroon\"]"
   ]
  },
  {
   "cell_type": "code",
   "execution_count": 2,
   "id": "919fa30e",
   "metadata": {
    "ExecuteTime": {
     "end_time": "2022-07-09T13:49:06.946180Z",
     "start_time": "2022-07-09T13:49:06.939100Z"
    }
   },
   "outputs": [
    {
     "data": {
      "text/plain": [
       "['turquoise', 'cyan', 'deepskyblue', 'gold', 'maroon']"
      ]
     },
     "execution_count": 2,
     "metadata": {},
     "output_type": "execute_result"
    }
   ],
   "source": [
    "list_of_colors"
   ]
  },
  {
   "cell_type": "code",
   "execution_count": 3,
   "id": "23cef0cd",
   "metadata": {
    "ExecuteTime": {
     "end_time": "2022-07-09T13:50:12.864541Z",
     "start_time": "2022-07-09T13:50:12.860541Z"
    }
   },
   "outputs": [],
   "source": [
    "list_of_names = [\"Kobe\", \"Gigi\", \"Phil\", \"Kyrie\"]"
   ]
  },
  {
   "cell_type": "code",
   "execution_count": 4,
   "id": "ca025cea",
   "metadata": {
    "ExecuteTime": {
     "end_time": "2022-07-09T13:50:14.629305Z",
     "start_time": "2022-07-09T13:50:14.609282Z"
    }
   },
   "outputs": [
    {
     "data": {
      "text/plain": [
       "['Kobe', 'Gigi', 'Phil', 'Kyrie']"
      ]
     },
     "execution_count": 4,
     "metadata": {},
     "output_type": "execute_result"
    }
   ],
   "source": [
    "list_of_names"
   ]
  },
  {
   "cell_type": "markdown",
   "id": "a830afef",
   "metadata": {},
   "source": [
    "---"
   ]
  },
  {
   "cell_type": "markdown",
   "id": "c3a831d7",
   "metadata": {},
   "source": [
    "## Types of Lists"
   ]
  },
  {
   "cell_type": "code",
   "execution_count": 11,
   "id": "aff911ae",
   "metadata": {
    "ExecuteTime": {
     "end_time": "2022-07-09T13:53:37.661882Z",
     "start_time": "2022-07-09T13:53:37.651882Z"
    }
   },
   "outputs": [
    {
     "data": {
      "text/plain": [
       "[1, 2, 3, 4, 5, 6, 7, 8, 9, 10, 11, 12, 13, 14, 15, 16, 17, 18, 19, 20]"
      ]
     },
     "execution_count": 11,
     "metadata": {},
     "output_type": "execute_result"
    }
   ],
   "source": [
    "list_of_integer_numbers = list(range(1, 21))\n",
    "\n",
    "list_of_integer_numbers"
   ]
  },
  {
   "cell_type": "code",
   "execution_count": 12,
   "id": "b5d995e9",
   "metadata": {
    "ExecuteTime": {
     "end_time": "2022-07-09T13:53:37.910075Z",
     "start_time": "2022-07-09T13:53:37.891076Z"
    }
   },
   "outputs": [
    {
     "data": {
      "text/plain": [
       "[1.0, 2.3, 4.5, 5.8]"
      ]
     },
     "execution_count": 12,
     "metadata": {},
     "output_type": "execute_result"
    }
   ],
   "source": [
    "list_of_decimal_numbers = [1.0, 2.3, 4.5, 5.8]\n",
    "\n",
    "list_of_decimal_numbers"
   ]
  },
  {
   "cell_type": "code",
   "execution_count": 13,
   "id": "29bd71b1",
   "metadata": {
    "ExecuteTime": {
     "end_time": "2022-07-09T13:54:11.198245Z",
     "start_time": "2022-07-09T13:54:11.193247Z"
    }
   },
   "outputs": [
    {
     "data": {
      "text/plain": [
       "['Kobe', 'Gigi', 'Phil', 'Kyrie']"
      ]
     },
     "execution_count": 13,
     "metadata": {},
     "output_type": "execute_result"
    }
   ],
   "source": [
    "list_of_strings = [\"Kobe\", \"Gigi\", \"Phil\", \"Kyrie\"]\n",
    "\n",
    "list_of_strings"
   ]
  },
  {
   "cell_type": "code",
   "execution_count": 14,
   "id": "dcd3c1bf",
   "metadata": {
    "ExecuteTime": {
     "end_time": "2022-07-09T13:55:13.649494Z",
     "start_time": "2022-07-09T13:55:13.634461Z"
    }
   },
   "outputs": [
    {
     "data": {
      "text/plain": [
       "[1, 2.3, 'Kobe', 'Stax-124B6', 10000, 234.60823]"
      ]
     },
     "execution_count": 14,
     "metadata": {},
     "output_type": "execute_result"
    }
   ],
   "source": [
    "list_of_mix_types = [1, 2.3, \"Kobe\", \"Stax-124B6\", 10000, 234.60823]\n",
    "\n",
    "list_of_mix_types"
   ]
  },
  {
   "cell_type": "code",
   "execution_count": 15,
   "id": "a51a0903",
   "metadata": {
    "ExecuteTime": {
     "end_time": "2022-07-09T13:56:45.714405Z",
     "start_time": "2022-07-09T13:56:45.708410Z"
    }
   },
   "outputs": [
    {
     "data": {
      "text/plain": [
       "[[1, 2, 3, 4, 5, 6, 7, 8, 9, 10, 11, 12, 13, 14, 15, 16, 17, 18, 19, 20],\n",
       " [1.0, 2.3, 4.5, 5.8],\n",
       " ['Kobe', 'Gigi', 'Phil', 'Kyrie'],\n",
       " [1, 2.3, 'Kobe', 'Stax-124B6', 10000, 234.60823]]"
      ]
     },
     "execution_count": 15,
     "metadata": {},
     "output_type": "execute_result"
    }
   ],
   "source": [
    "list_of_lists = [\n",
    "    list_of_integer_numbers,\n",
    "    list_of_decimal_numbers,\n",
    "    list_of_strings,\n",
    "    list_of_mix_types,\n",
    "]\n",
    "\n",
    "list_of_lists"
   ]
  },
  {
   "cell_type": "markdown",
   "id": "1b80dea2",
   "metadata": {},
   "source": [
    "---"
   ]
  },
  {
   "cell_type": "markdown",
   "id": "8b0ba1e1",
   "metadata": {},
   "source": [
    "## Indexing a List"
   ]
  },
  {
   "cell_type": "code",
   "execution_count": 16,
   "id": "2a6fc62a",
   "metadata": {
    "ExecuteTime": {
     "end_time": "2022-07-09T13:58:16.910988Z",
     "start_time": "2022-07-09T13:58:16.907380Z"
    }
   },
   "outputs": [
    {
     "data": {
      "text/plain": [
       "['turquoise', 'cyan', 'deepskyblue', 'gold', 'maroon']"
      ]
     },
     "execution_count": 16,
     "metadata": {},
     "output_type": "execute_result"
    }
   ],
   "source": [
    "list_of_colors"
   ]
  },
  {
   "cell_type": "code",
   "execution_count": 20,
   "id": "fad8e999",
   "metadata": {
    "ExecuteTime": {
     "end_time": "2022-07-09T14:00:40.076116Z",
     "start_time": "2022-07-09T14:00:40.071109Z"
    }
   },
   "outputs": [
    {
     "data": {
      "text/plain": [
       "'deepskyblue'"
      ]
     },
     "execution_count": 20,
     "metadata": {},
     "output_type": "execute_result"
    }
   ],
   "source": [
    "list_of_colors[2]"
   ]
  },
  {
   "cell_type": "code",
   "execution_count": 18,
   "id": "c5a75d1d",
   "metadata": {
    "ExecuteTime": {
     "end_time": "2022-07-09T13:59:55.308760Z",
     "start_time": "2022-07-09T13:59:55.303760Z"
    }
   },
   "outputs": [
    {
     "data": {
      "text/plain": [
       "'turquoise'"
      ]
     },
     "execution_count": 18,
     "metadata": {},
     "output_type": "execute_result"
    }
   ],
   "source": [
    "list_of_colors[0]"
   ]
  },
  {
   "cell_type": "code",
   "execution_count": 19,
   "id": "782f5aca",
   "metadata": {
    "ExecuteTime": {
     "end_time": "2022-07-09T14:00:04.773082Z",
     "start_time": "2022-07-09T14:00:04.764043Z"
    }
   },
   "outputs": [
    {
     "data": {
      "text/plain": [
       "'maroon'"
      ]
     },
     "execution_count": 19,
     "metadata": {},
     "output_type": "execute_result"
    }
   ],
   "source": [
    "list_of_colors[-1]"
   ]
  },
  {
   "cell_type": "code",
   "execution_count": 21,
   "id": "18c1b6cf",
   "metadata": {
    "ExecuteTime": {
     "end_time": "2022-07-09T14:00:43.513749Z",
     "start_time": "2022-07-09T14:00:43.507749Z"
    }
   },
   "outputs": [
    {
     "data": {
      "text/plain": [
       "'maroon'"
      ]
     },
     "execution_count": 21,
     "metadata": {},
     "output_type": "execute_result"
    }
   ],
   "source": [
    "list_of_colors[len(list_of_colors) - 1]"
   ]
  },
  {
   "cell_type": "markdown",
   "id": "a291194b",
   "metadata": {},
   "source": [
    "## Slicing a List"
   ]
  },
  {
   "cell_type": "code",
   "execution_count": 27,
   "id": "35df3265",
   "metadata": {
    "ExecuteTime": {
     "end_time": "2022-07-09T14:05:39.111084Z",
     "start_time": "2022-07-09T14:05:39.103014Z"
    }
   },
   "outputs": [
    {
     "data": {
      "text/plain": [
       "['cyan', 'deepskyblue', 'gold']"
      ]
     },
     "execution_count": 27,
     "metadata": {},
     "output_type": "execute_result"
    }
   ],
   "source": [
    "list_of_colors[1:4]"
   ]
  },
  {
   "cell_type": "code",
   "execution_count": 28,
   "id": "c6bd65ce",
   "metadata": {
    "ExecuteTime": {
     "end_time": "2022-07-09T14:07:00.478337Z",
     "start_time": "2022-07-09T14:07:00.463763Z"
    }
   },
   "outputs": [
    {
     "data": {
      "text/plain": [
       "['deepskyblue', 'gold', 'maroon']"
      ]
     },
     "execution_count": 28,
     "metadata": {},
     "output_type": "execute_result"
    }
   ],
   "source": [
    "list_of_colors[2:]"
   ]
  },
  {
   "cell_type": "markdown",
   "id": "c5d0d705",
   "metadata": {},
   "source": [
    "## Mutating a List"
   ]
  },
  {
   "cell_type": "code",
   "execution_count": 29,
   "id": "87eac68b",
   "metadata": {
    "ExecuteTime": {
     "end_time": "2022-07-09T14:19:12.189136Z",
     "start_time": "2022-07-09T14:19:12.176123Z"
    }
   },
   "outputs": [
    {
     "data": {
      "text/plain": [
       "\"O'neil\""
      ]
     },
     "execution_count": 29,
     "metadata": {},
     "output_type": "execute_result"
    }
   ],
   "source": [
    "first_name = \"O'neil\"\n",
    "\n",
    "first_name"
   ]
  },
  {
   "cell_type": "code",
   "execution_count": 32,
   "id": "b0fe2bdb",
   "metadata": {
    "ExecuteTime": {
     "end_time": "2022-07-09T14:19:56.763462Z",
     "start_time": "2022-07-09T14:19:56.747450Z"
    }
   },
   "outputs": [
    {
     "ename": "TypeError",
     "evalue": "'str' object does not support item assignment",
     "output_type": "error",
     "traceback": [
      "\u001b[1;31m---------------------------------------------------------------------------\u001b[0m",
      "\u001b[1;31mTypeError\u001b[0m                                 Traceback (most recent call last)",
      "\u001b[1;32mC:\\Users\\MHOLDB~1\\AppData\\Local\\Temp/ipykernel_31592/3650801040.py\u001b[0m in \u001b[0;36m<module>\u001b[1;34m\u001b[0m\n\u001b[1;32m----> 1\u001b[1;33m \u001b[0mfirst_name\u001b[0m\u001b[1;33m[\u001b[0m\u001b[1;36m0\u001b[0m\u001b[1;33m]\u001b[0m \u001b[1;33m=\u001b[0m \u001b[1;34m\"o\"\u001b[0m\u001b[1;33m\u001b[0m\u001b[1;33m\u001b[0m\u001b[0m\n\u001b[0m",
      "\u001b[1;31mTypeError\u001b[0m: 'str' object does not support item assignment"
     ]
    }
   ],
   "source": [
    "first_name[0] = \"o\""
   ]
  },
  {
   "cell_type": "markdown",
   "id": "6bda1c5d",
   "metadata": {},
   "source": [
    "---"
   ]
  },
  {
   "cell_type": "markdown",
   "id": "fbf2ced4",
   "metadata": {},
   "source": [
    "### Adding New Values to a Defined List"
   ]
  },
  {
   "cell_type": "code",
   "execution_count": 34,
   "id": "5c7ca33e",
   "metadata": {
    "ExecuteTime": {
     "end_time": "2022-07-09T14:21:52.167303Z",
     "start_time": "2022-07-09T14:21:52.154399Z"
    }
   },
   "outputs": [],
   "source": [
    "list_of_names.append(\"Brooks\")"
   ]
  },
  {
   "cell_type": "code",
   "execution_count": 35,
   "id": "09d1c995",
   "metadata": {
    "ExecuteTime": {
     "end_time": "2022-07-09T14:21:57.203910Z",
     "start_time": "2022-07-09T14:21:57.188835Z"
    }
   },
   "outputs": [
    {
     "data": {
      "text/plain": [
       "['Kobe', 'Gigi', 'Phil', 'Kyrie', 'Brooks']"
      ]
     },
     "execution_count": 35,
     "metadata": {},
     "output_type": "execute_result"
    }
   ],
   "source": [
    "list_of_names"
   ]
  },
  {
   "cell_type": "markdown",
   "id": "ab318a4b",
   "metadata": {},
   "source": [
    "### Changing a Value in a Define list to a Different Value"
   ]
  },
  {
   "cell_type": "code",
   "execution_count": 37,
   "id": "82553889",
   "metadata": {
    "ExecuteTime": {
     "end_time": "2022-07-09T14:24:21.846736Z",
     "start_time": "2022-07-09T14:24:21.843740Z"
    }
   },
   "outputs": [],
   "source": [
    "list_of_names[0] = \"Bryant\""
   ]
  },
  {
   "cell_type": "code",
   "execution_count": 38,
   "id": "393a0bf4",
   "metadata": {
    "ExecuteTime": {
     "end_time": "2022-07-09T14:24:25.738740Z",
     "start_time": "2022-07-09T14:24:25.724493Z"
    }
   },
   "outputs": [
    {
     "data": {
      "text/plain": [
       "['Bryant', 'Gigi', 'Phil', 'Kyrie', 'Brooks']"
      ]
     },
     "execution_count": 38,
     "metadata": {},
     "output_type": "execute_result"
    }
   ],
   "source": [
    "list_of_names"
   ]
  },
  {
   "cell_type": "markdown",
   "id": "6d69266a",
   "metadata": {},
   "source": [
    "### Removing a Value from a Define List"
   ]
  },
  {
   "cell_type": "code",
   "execution_count": 41,
   "id": "e8d0812a",
   "metadata": {
    "ExecuteTime": {
     "end_time": "2022-07-09T14:26:25.439834Z",
     "start_time": "2022-07-09T14:26:25.424088Z"
    }
   },
   "outputs": [],
   "source": [
    "index_position_of_kyrie = list_of_names.index(\"Kyrie\")"
   ]
  },
  {
   "cell_type": "code",
   "execution_count": 42,
   "id": "d1a7f285",
   "metadata": {
    "ExecuteTime": {
     "end_time": "2022-07-09T14:26:54.611935Z",
     "start_time": "2022-07-09T14:26:54.606945Z"
    }
   },
   "outputs": [
    {
     "data": {
      "text/plain": [
       "'Kyrie'"
      ]
     },
     "execution_count": 42,
     "metadata": {},
     "output_type": "execute_result"
    }
   ],
   "source": [
    "list_of_names.pop(index_position_of_kyrie)"
   ]
  },
  {
   "cell_type": "code",
   "execution_count": 43,
   "id": "0d92ebd0",
   "metadata": {
    "ExecuteTime": {
     "end_time": "2022-07-09T14:27:00.652872Z",
     "start_time": "2022-07-09T14:27:00.644820Z"
    }
   },
   "outputs": [
    {
     "data": {
      "text/plain": [
       "['Bryant', 'Gigi', 'Phil', 'Brooks']"
      ]
     },
     "execution_count": 43,
     "metadata": {},
     "output_type": "execute_result"
    }
   ],
   "source": [
    "list_of_names"
   ]
  },
  {
   "cell_type": "markdown",
   "id": "d4bbd76d",
   "metadata": {},
   "source": [
    "---"
   ]
  },
  {
   "cell_type": "code",
   "execution_count": 44,
   "id": "4b5d3f13",
   "metadata": {
    "ExecuteTime": {
     "end_time": "2022-07-09T14:28:01.465000Z",
     "start_time": "2022-07-09T14:28:01.455891Z"
    }
   },
   "outputs": [],
   "source": [
    "list_of_names.append(\"Kyrie\")"
   ]
  },
  {
   "cell_type": "code",
   "execution_count": 45,
   "id": "3f8eafcc",
   "metadata": {
    "ExecuteTime": {
     "end_time": "2022-07-09T14:28:07.397447Z",
     "start_time": "2022-07-09T14:28:07.380928Z"
    }
   },
   "outputs": [
    {
     "data": {
      "text/plain": [
       "['Bryant', 'Gigi', 'Phil', 'Brooks', 'Kyrie']"
      ]
     },
     "execution_count": 45,
     "metadata": {},
     "output_type": "execute_result"
    }
   ],
   "source": [
    "list_of_names"
   ]
  },
  {
   "cell_type": "code",
   "execution_count": 48,
   "id": "8b97bc10",
   "metadata": {
    "ExecuteTime": {
     "end_time": "2022-07-09T14:29:31.777207Z",
     "start_time": "2022-07-09T14:29:31.770226Z"
    }
   },
   "outputs": [
    {
     "data": {
      "text/plain": [
       "'Kyrie'"
      ]
     },
     "execution_count": 48,
     "metadata": {},
     "output_type": "execute_result"
    }
   ],
   "source": [
    "list_of_names[4]"
   ]
  },
  {
   "cell_type": "code",
   "execution_count": 49,
   "id": "f16ab9c1",
   "metadata": {
    "ExecuteTime": {
     "end_time": "2022-07-09T14:29:48.103325Z",
     "start_time": "2022-07-09T14:29:48.090326Z"
    }
   },
   "outputs": [
    {
     "data": {
      "text/plain": [
       "'Kyrie'"
      ]
     },
     "execution_count": 49,
     "metadata": {},
     "output_type": "execute_result"
    }
   ],
   "source": [
    "list_of_names[list_of_names.index(\"Kyrie\")]"
   ]
  },
  {
   "cell_type": "code",
   "execution_count": 50,
   "id": "4abade42",
   "metadata": {
    "ExecuteTime": {
     "end_time": "2022-07-09T14:30:14.884627Z",
     "start_time": "2022-07-09T14:30:14.878626Z"
    }
   },
   "outputs": [],
   "source": [
    "del list_of_names[list_of_names.index(\"Kyrie\")]"
   ]
  },
  {
   "cell_type": "code",
   "execution_count": 51,
   "id": "b97909f8",
   "metadata": {
    "ExecuteTime": {
     "end_time": "2022-07-09T14:30:18.948925Z",
     "start_time": "2022-07-09T14:30:18.933872Z"
    }
   },
   "outputs": [
    {
     "data": {
      "text/plain": [
       "['Bryant', 'Gigi', 'Phil', 'Brooks']"
      ]
     },
     "execution_count": 51,
     "metadata": {},
     "output_type": "execute_result"
    }
   ],
   "source": [
    "list_of_names"
   ]
  },
  {
   "cell_type": "markdown",
   "id": "e3f73b4f",
   "metadata": {},
   "source": [
    "---"
   ]
  },
  {
   "cell_type": "markdown",
   "id": "91c796cf",
   "metadata": {},
   "source": [
    "## Travering a List"
   ]
  },
  {
   "cell_type": "code",
   "execution_count": 55,
   "id": "a0f8ea9f",
   "metadata": {
    "ExecuteTime": {
     "end_time": "2022-07-09T14:36:12.980196Z",
     "start_time": "2022-07-09T14:36:12.969622Z"
    }
   },
   "outputs": [],
   "source": [
    "list_of_fruits = \"apple grape watermelon orage raspberry strawberry cranberry blueberry\".split(\" \")"
   ]
  },
  {
   "cell_type": "code",
   "execution_count": 56,
   "id": "c68431c4",
   "metadata": {
    "ExecuteTime": {
     "end_time": "2022-07-09T14:36:16.909890Z",
     "start_time": "2022-07-09T14:36:16.898876Z"
    }
   },
   "outputs": [
    {
     "data": {
      "text/plain": [
       "['apple',\n",
       " 'grape',\n",
       " 'watermelon',\n",
       " 'orage',\n",
       " 'raspberry',\n",
       " 'strawberry',\n",
       " 'cranberry',\n",
       " 'blueberry']"
      ]
     },
     "execution_count": 56,
     "metadata": {},
     "output_type": "execute_result"
    }
   ],
   "source": [
    "list_of_fruits"
   ]
  },
  {
   "cell_type": "code",
   "execution_count": 57,
   "id": "7af3c172",
   "metadata": {
    "ExecuteTime": {
     "end_time": "2022-07-09T14:39:28.566298Z",
     "start_time": "2022-07-09T14:39:28.548297Z"
    }
   },
   "outputs": [
    {
     "name": "stdout",
     "output_type": "stream",
     "text": [
      "apple\n",
      "grape\n",
      "watermelon\n",
      "orage\n",
      "raspberry\n",
      "strawberry\n",
      "cranberry\n",
      "blueberry\n"
     ]
    }
   ],
   "source": [
    "for fruit in list_of_fruits:\n",
    "    print(fruit)"
   ]
  },
  {
   "cell_type": "markdown",
   "id": "26209164",
   "metadata": {},
   "source": [
    "---"
   ]
  },
  {
   "cell_type": "markdown",
   "id": "181efde6",
   "metadata": {},
   "source": [
    "### Get List of Integer Numbers Between 0 and 100"
   ]
  },
  {
   "cell_type": "code",
   "execution_count": 58,
   "id": "12808da8",
   "metadata": {
    "ExecuteTime": {
     "end_time": "2022-07-09T14:41:09.548234Z",
     "start_time": "2022-07-09T14:41:09.539233Z"
    },
    "scrolled": true
   },
   "outputs": [
    {
     "data": {
      "text/plain": [
       "[1,\n",
       " 2,\n",
       " 3,\n",
       " 4,\n",
       " 5,\n",
       " 6,\n",
       " 7,\n",
       " 8,\n",
       " 9,\n",
       " 10,\n",
       " 11,\n",
       " 12,\n",
       " 13,\n",
       " 14,\n",
       " 15,\n",
       " 16,\n",
       " 17,\n",
       " 18,\n",
       " 19,\n",
       " 20,\n",
       " 21,\n",
       " 22,\n",
       " 23,\n",
       " 24,\n",
       " 25,\n",
       " 26,\n",
       " 27,\n",
       " 28,\n",
       " 29,\n",
       " 30,\n",
       " 31,\n",
       " 32,\n",
       " 33,\n",
       " 34,\n",
       " 35,\n",
       " 36,\n",
       " 37,\n",
       " 38,\n",
       " 39,\n",
       " 40,\n",
       " 41,\n",
       " 42,\n",
       " 43,\n",
       " 44,\n",
       " 45,\n",
       " 46,\n",
       " 47,\n",
       " 48,\n",
       " 49,\n",
       " 50,\n",
       " 51,\n",
       " 52,\n",
       " 53,\n",
       " 54,\n",
       " 55,\n",
       " 56,\n",
       " 57,\n",
       " 58,\n",
       " 59,\n",
       " 60,\n",
       " 61,\n",
       " 62,\n",
       " 63,\n",
       " 64,\n",
       " 65,\n",
       " 66,\n",
       " 67,\n",
       " 68,\n",
       " 69,\n",
       " 70,\n",
       " 71,\n",
       " 72,\n",
       " 73,\n",
       " 74,\n",
       " 75,\n",
       " 76,\n",
       " 77,\n",
       " 78,\n",
       " 79,\n",
       " 80,\n",
       " 81,\n",
       " 82,\n",
       " 83,\n",
       " 84,\n",
       " 85,\n",
       " 86,\n",
       " 87,\n",
       " 88,\n",
       " 89,\n",
       " 90,\n",
       " 91,\n",
       " 92,\n",
       " 93,\n",
       " 94,\n",
       " 95,\n",
       " 96,\n",
       " 97,\n",
       " 98,\n",
       " 99]"
      ]
     },
     "execution_count": 58,
     "metadata": {},
     "output_type": "execute_result"
    }
   ],
   "source": [
    "list_of_integer_number_between_0_and_100 = list(range(1, 100))\n",
    "\n",
    "list_of_integer_number_between_0_and_100"
   ]
  },
  {
   "cell_type": "code",
   "execution_count": 72,
   "id": "fb477d0c",
   "metadata": {
    "ExecuteTime": {
     "end_time": "2022-07-09T15:16:40.764763Z",
     "start_time": "2022-07-09T15:16:40.752655Z"
    }
   },
   "outputs": [],
   "source": [
    "list_of_even_numbers_between_0_and_100 = []\n",
    "\n",
    "for integer_number in list_of_integer_number_between_0_and_100:\n",
    "    \n",
    "    if integer_number % 2 == 0:\n",
    "        \n",
    "        list_of_even_numbers_between_0_and_100.append(integer_number)\n",
    "        \n",
    "    else:\n",
    "        \n",
    "        continue"
   ]
  },
  {
   "cell_type": "code",
   "execution_count": 73,
   "id": "c7ee0165",
   "metadata": {
    "ExecuteTime": {
     "end_time": "2022-07-09T15:16:41.735007Z",
     "start_time": "2022-07-09T15:16:41.720909Z"
    },
    "scrolled": true
   },
   "outputs": [
    {
     "data": {
      "text/plain": [
       "[2,\n",
       " 4,\n",
       " 6,\n",
       " 8,\n",
       " 10,\n",
       " 12,\n",
       " 14,\n",
       " 16,\n",
       " 18,\n",
       " 20,\n",
       " 22,\n",
       " 24,\n",
       " 26,\n",
       " 28,\n",
       " 30,\n",
       " 32,\n",
       " 34,\n",
       " 36,\n",
       " 38,\n",
       " 40,\n",
       " 42,\n",
       " 44,\n",
       " 46,\n",
       " 48,\n",
       " 50,\n",
       " 52,\n",
       " 54,\n",
       " 56,\n",
       " 58,\n",
       " 60,\n",
       " 62,\n",
       " 64,\n",
       " 66,\n",
       " 68,\n",
       " 70,\n",
       " 72,\n",
       " 74,\n",
       " 76,\n",
       " 78,\n",
       " 80,\n",
       " 82,\n",
       " 84,\n",
       " 86,\n",
       " 88,\n",
       " 90,\n",
       " 92,\n",
       " 94,\n",
       " 96,\n",
       " 98]"
      ]
     },
     "execution_count": 73,
     "metadata": {},
     "output_type": "execute_result"
    }
   ],
   "source": [
    "list_of_even_numbers_between_0_and_100"
   ]
  },
  {
   "cell_type": "markdown",
   "id": "020c8804",
   "metadata": {},
   "source": [
    "---"
   ]
  },
  {
   "cell_type": "code",
   "execution_count": 74,
   "id": "96c6563a",
   "metadata": {
    "ExecuteTime": {
     "end_time": "2022-07-09T15:16:48.234735Z",
     "start_time": "2022-07-09T15:16:48.228736Z"
    }
   },
   "outputs": [
    {
     "data": {
      "text/plain": [
       "True"
      ]
     },
     "execution_count": 74,
     "metadata": {},
     "output_type": "execute_result"
    }
   ],
   "source": [
    "list_of_even_numbers_between_0_and_100 == list(range(2, 100, 2))"
   ]
  },
  {
   "cell_type": "markdown",
   "id": "dddce01a",
   "metadata": {},
   "source": [
    "## List Methods"
   ]
  },
  {
   "cell_type": "markdown",
   "id": "bc621136",
   "metadata": {
    "run_control": {
     "marked": false
    }
   },
   "source": [
    "* Find 10 List Methods and how they are used"
   ]
  },
  {
   "cell_type": "code",
   "execution_count": 1,
   "id": "000c09af",
   "metadata": {},
   "outputs": [],
   "source": [
    "# .append() # Add objects to list.\n",
    "\n",
    "fruits = ['apple', 'banana', 'cherry']\n",
    "\n",
    "fruits.append(\"orange\")"
   ]
  },
  {
   "cell_type": "code",
   "execution_count": 2,
   "id": "7d0aed73",
   "metadata": {},
   "outputs": [
    {
     "data": {
      "text/plain": [
       "['apple', 'banana', 'cherry', 'orange']"
      ]
     },
     "execution_count": 2,
     "metadata": {},
     "output_type": "execute_result"
    }
   ],
   "source": [
    "fruits "
   ]
  },
  {
   "cell_type": "code",
   "execution_count": 16,
   "id": "d4094012",
   "metadata": {},
   "outputs": [
    {
     "name": "stdout",
     "output_type": "stream",
     "text": [
      "[]\n"
     ]
    }
   ],
   "source": [
    "# .clear(). #Removes everything from the list.\n",
    "\n",
    "fruits = [\"apple\", \"banana\", \"cherry\", \"orange\"]\n",
    "\n",
    "fruits.clear()\n",
    "\n",
    "print(fruits)"
   ]
  },
  {
   "cell_type": "code",
   "execution_count": 17,
   "id": "b28ec787",
   "metadata": {},
   "outputs": [
    {
     "data": {
      "text/plain": [
       "[]"
      ]
     },
     "execution_count": 17,
     "metadata": {},
     "output_type": "execute_result"
    }
   ],
   "source": [
    "fruits"
   ]
  },
  {
   "cell_type": "code",
   "execution_count": 23,
   "id": "70449821",
   "metadata": {},
   "outputs": [
    {
     "name": "stdout",
     "output_type": "stream",
     "text": [
      "['apple', 'banana', 'cherry', 'orange']\n"
     ]
    }
   ],
   "source": [
    "#.copy\n",
    "# Copy the fruits list:\n",
    "\n",
    "fruits = ['apple', 'banana', 'cherry', 'orange']\n",
    "\n",
    "new = fruits.copy()\n",
    "\n",
    "print(new)"
   ]
  },
  {
   "cell_type": "code",
   "execution_count": 27,
   "id": "03028076",
   "metadata": {},
   "outputs": [
    {
     "name": "stdout",
     "output_type": "stream",
     "text": [
      "1\n"
     ]
    }
   ],
   "source": [
    "# .count\n",
    "# fruits = ['apple', 'banana', 'cherry']\n",
    "\n",
    "\n",
    "fruits = ['apple', 'banana', 'cherry']\n",
    "\n",
    "x = fruits.count(\"cherry\")\n",
    "\n",
    "print(x)"
   ]
  },
  {
   "cell_type": "code",
   "execution_count": 31,
   "id": "ce5880a7",
   "metadata": {},
   "outputs": [
    {
     "name": "stdout",
     "output_type": "stream",
     "text": [
      "['apple', 'banana', 'cherry', 'Ford', 'BMW', 'Volvo']\n"
     ]
    }
   ],
   "source": [
    "# .extend\n",
    "# Add the elements of cars to the fruits list:\n",
    "\n",
    "fruits = ['apple', 'banana', 'cherry']\n",
    "\n",
    "cars = ['Ford', 'BMW', 'Volvo']\n",
    "\n",
    "fruits.extend(cars)\n",
    "\n",
    "print(fruits)"
   ]
  },
  {
   "cell_type": "code",
   "execution_count": 2,
   "id": "b023c77d",
   "metadata": {},
   "outputs": [
    {
     "name": "stdout",
     "output_type": "stream",
     "text": [
      "3\n"
     ]
    }
   ],
   "source": [
    "# .index\n",
    "\n",
    "# What is the position of the value \"cherry\":\n",
    "\n",
    "fruits = [4, 55, 64, 32, 6, 32]\n",
    "\n",
    "x = fruits.index(32)\n",
    "\n",
    "print(x)"
   ]
  },
  {
   "cell_type": "code",
   "execution_count": null,
   "id": "cee93698",
   "metadata": {},
   "outputs": [],
   "source": []
  }
 ],
 "metadata": {
  "kernelspec": {
   "display_name": "Python 3",
   "language": "python",
   "name": "python3"
  },
  "language_info": {
   "codemirror_mode": {
    "name": "ipython",
    "version": 3
   },
   "file_extension": ".py",
   "mimetype": "text/x-python",
   "name": "python",
   "nbconvert_exporter": "python",
   "pygments_lexer": "ipython3",
   "version": "3.8.8"
  },
  "nbTranslate": {
   "displayLangs": [
    "*"
   ],
   "hotkey": "alt-t",
   "langInMainMenu": true,
   "sourceLang": "en",
   "targetLang": "fr",
   "useGoogleTranslate": true
  },
  "toc": {
   "base_numbering": 1,
   "nav_menu": {},
   "number_sections": true,
   "sideBar": true,
   "skip_h1_title": false,
   "title_cell": "Table of Contents",
   "title_sidebar": "Contents",
   "toc_cell": false,
   "toc_position": {},
   "toc_section_display": true,
   "toc_window_display": false
  },
  "varInspector": {
   "cols": {
    "lenName": 16,
    "lenType": 16,
    "lenVar": 40
   },
   "kernels_config": {
    "python": {
     "delete_cmd_postfix": "",
     "delete_cmd_prefix": "del ",
     "library": "var_list.py",
     "varRefreshCmd": "print(var_dic_list())"
    },
    "r": {
     "delete_cmd_postfix": ") ",
     "delete_cmd_prefix": "rm(",
     "library": "var_list.r",
     "varRefreshCmd": "cat(var_dic_list()) "
    }
   },
   "types_to_exclude": [
    "module",
    "function",
    "builtin_function_or_method",
    "instance",
    "_Feature"
   ],
   "window_display": false
  }
 },
 "nbformat": 4,
 "nbformat_minor": 5
}
