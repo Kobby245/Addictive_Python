{
 "cells": [
  {
   "cell_type": "markdown",
   "id": "72577e16",
   "metadata": {},
   "source": [
    "**PEP8**"
   ]
  },
  {
   "cell_type": "code",
   "execution_count": 1,
   "id": "d175a635",
   "metadata": {
    "ExecuteTime": {
     "end_time": "2022-06-25T12:15:45.993579Z",
     "start_time": "2022-06-25T12:15:45.960480Z"
    }
   },
   "outputs": [
    {
     "name": "stdout",
     "output_type": "stream",
     "text": [
      "The Zen of Python, by Tim Peters\n",
      "\n",
      "Beautiful is better than ugly.\n",
      "Explicit is better than implicit.\n",
      "Simple is better than complex.\n",
      "Complex is better than complicated.\n",
      "Flat is better than nested.\n",
      "Sparse is better than dense.\n",
      "Readability counts.\n",
      "Special cases aren't special enough to break the rules.\n",
      "Although practicality beats purity.\n",
      "Errors should never pass silently.\n",
      "Unless explicitly silenced.\n",
      "In the face of ambiguity, refuse the temptation to guess.\n",
      "There should be one-- and preferably only one --obvious way to do it.\n",
      "Although that way may not be obvious at first unless you're Dutch.\n",
      "Now is better than never.\n",
      "Although never is often better than *right* now.\n",
      "If the implementation is hard to explain, it's a bad idea.\n",
      "If the implementation is easy to explain, it may be a good idea.\n",
      "Namespaces are one honking great idea -- let's do more of those!\n"
     ]
    }
   ],
   "source": [
    "import this"
   ]
  },
  {
   "cell_type": "markdown",
   "id": "d03b3312",
   "metadata": {},
   "source": [
    "---"
   ]
  },
  {
   "cell_type": "markdown",
   "id": "b75f0651",
   "metadata": {},
   "source": [
    "# Decision Making in Python"
   ]
  },
  {
   "cell_type": "code",
   "execution_count": 2,
   "id": "2fd144c3",
   "metadata": {
    "ExecuteTime": {
     "end_time": "2022-06-25T12:55:48.786343Z",
     "start_time": "2022-06-25T12:55:48.778289Z"
    }
   },
   "outputs": [
    {
     "name": "stdout",
     "output_type": "stream",
     "text": [
      "You can now stop betting!\n"
     ]
    }
   ],
   "source": [
    "won_bet = True\n",
    "\n",
    "big_win = True\n",
    "\n",
    "if won_bet and big_win:\n",
    "    \n",
    "    print(\"You can now stop betting!\")"
   ]
  },
  {
   "cell_type": "code",
   "execution_count": 5,
   "id": "933c11f8",
   "metadata": {
    "ExecuteTime": {
     "end_time": "2022-06-25T13:04:31.429845Z",
     "start_time": "2022-06-25T13:04:31.414807Z"
    }
   },
   "outputs": [
    {
     "name": "stdout",
     "output_type": "stream",
     "text": [
      "You can now stop betting!\n"
     ]
    }
   ],
   "source": [
    "won_bet = True\n",
    "\n",
    "big_win = True\n",
    "\n",
    "if won_bet or big_win:\n",
    "    \n",
    "    print(\"You can now stop betting!\")"
   ]
  },
  {
   "cell_type": "markdown",
   "id": "d7c486a6",
   "metadata": {},
   "source": [
    "---"
   ]
  },
  {
   "cell_type": "code",
   "execution_count": 6,
   "id": "1969099f",
   "metadata": {
    "ExecuteTime": {
     "end_time": "2022-06-25T13:36:42.282646Z",
     "start_time": "2022-06-25T13:36:42.269175Z"
    }
   },
   "outputs": [
    {
     "data": {
      "text/plain": [
       "2.0"
      ]
     },
     "execution_count": 6,
     "metadata": {},
     "output_type": "execute_result"
    }
   ],
   "source": [
    "4 / 2"
   ]
  },
  {
   "cell_type": "code",
   "execution_count": 7,
   "id": "5646ab3b",
   "metadata": {
    "ExecuteTime": {
     "end_time": "2022-06-25T13:37:50.569078Z",
     "start_time": "2022-06-25T13:37:50.549958Z"
    }
   },
   "outputs": [
    {
     "data": {
      "text/plain": [
       "0"
      ]
     },
     "execution_count": 7,
     "metadata": {},
     "output_type": "execute_result"
    }
   ],
   "source": [
    "4 % 2"
   ]
  },
  {
   "cell_type": "code",
   "execution_count": 8,
   "id": "45c8aa51",
   "metadata": {
    "ExecuteTime": {
     "end_time": "2022-06-25T13:38:13.038002Z",
     "start_time": "2022-06-25T13:38:13.018797Z"
    }
   },
   "outputs": [
    {
     "data": {
      "text/plain": [
       "2"
      ]
     },
     "execution_count": 8,
     "metadata": {},
     "output_type": "execute_result"
    }
   ],
   "source": [
    "4 // 2"
   ]
  },
  {
   "cell_type": "code",
   "execution_count": 13,
   "id": "54e8b691",
   "metadata": {
    "ExecuteTime": {
     "end_time": "2022-06-25T13:44:15.881993Z",
     "start_time": "2022-06-25T13:44:12.985525Z"
    }
   },
   "outputs": [
    {
     "name": "stdout",
     "output_type": "stream",
     "text": [
      "Enter a real number: 146\n",
      "146.0 is an even number.\n"
     ]
    }
   ],
   "source": [
    "real_number = float(input(\"Enter a real number: \"))\n",
    "\n",
    "if real_number % 2 == 0:\n",
    "    \n",
    "    print(f\"{real_number} is an even number.\")\n",
    "    \n",
    "else:\n",
    "    \n",
    "    print(f\"{real_number} is an odd number.\")"
   ]
  },
  {
   "cell_type": "code",
   "execution_count": 15,
   "id": "3eb23e90",
   "metadata": {
    "ExecuteTime": {
     "end_time": "2022-06-25T14:09:43.181077Z",
     "start_time": "2022-06-25T14:09:43.170821Z"
    }
   },
   "outputs": [
    {
     "name": "stdout",
     "output_type": "stream",
     "text": [
      "Go buy a coffee!\n",
      "I hate Mondays\n",
      "Now you can start work\n"
     ]
    }
   ],
   "source": [
    "# working_days --> Mon, Tue, Wed, Thurs, Fri.\n",
    "\n",
    "# working_days --> Employees get coffee for breakfast\n",
    "\n",
    "monday = True\n",
    "\n",
    "fresh_coffee = False\n",
    "\n",
    "# Main if\n",
    "if monday:\n",
    "    \n",
    "    # Nested if\n",
    "    if not fresh_coffee:\n",
    "        \n",
    "        # Nested if print statement\n",
    "        print(\"Go buy a coffee!\")\n",
    "    \n",
    "    # Main if print statement\n",
    "    print(\"I hate Mondays\")\n",
    "\n",
    "# Not part of any if statement\n",
    "print(\"Now you can start work\")"
   ]
  },
  {
   "cell_type": "markdown",
   "id": "7e4e8384",
   "metadata": {
    "run_control": {
     "marked": false
    }
   },
   "source": [
    "## Trial Work"
   ]
  },
  {
   "cell_type": "markdown",
   "id": "64643e69",
   "metadata": {},
   "source": [
    "* Write a python program to determine whether a year is a leap year or not;\n",
    "your program should take year as an input.\n",
    "Your output should look like this:\n",
    "    - ```python\n",
    "    \"2020 is a leap year.\"\n",
    "    ```\n",
    "\n",
    "---\n",
    "\n",
    "* Write a python program to determine if a user is eligible to vote or not;\n",
    "your program should take the user's first name, last name, gender and age.\n",
    "Your output shoud look like this:\n",
    "    - ```python\n",
    "    \"Arthur Lewis is 30 years old and he is eligible to vote.\"\n",
    "    ```\n",
    "    \n",
    "    - ```python\n",
    "    \"Shaun Natalie is 15 years old and she is not eligible to vote.\"\n",
    "    ```"
   ]
  },
  {
   "cell_type": "markdown",
   "id": "2b601565",
   "metadata": {},
   "source": [
    "---"
   ]
  }
 ],
 "metadata": {
  "kernelspec": {
   "display_name": "Python 3",
   "language": "python",
   "name": "python3"
  },
  "language_info": {
   "codemirror_mode": {
    "name": "ipython",
    "version": 3
   },
   "file_extension": ".py",
   "mimetype": "text/x-python",
   "name": "python",
   "nbconvert_exporter": "python",
   "pygments_lexer": "ipython3",
   "version": "3.8.8"
  },
  "nbTranslate": {
   "displayLangs": [
    "*"
   ],
   "hotkey": "alt-t",
   "langInMainMenu": true,
   "sourceLang": "en",
   "targetLang": "fr",
   "useGoogleTranslate": true
  },
  "toc": {
   "base_numbering": 1,
   "nav_menu": {},
   "number_sections": true,
   "sideBar": true,
   "skip_h1_title": false,
   "title_cell": "Table of Contents",
   "title_sidebar": "Contents",
   "toc_cell": false,
   "toc_position": {},
   "toc_section_display": true,
   "toc_window_display": false
  },
  "varInspector": {
   "cols": {
    "lenName": 16,
    "lenType": 16,
    "lenVar": 40
   },
   "kernels_config": {
    "python": {
     "delete_cmd_postfix": "",
     "delete_cmd_prefix": "del ",
     "library": "var_list.py",
     "varRefreshCmd": "print(var_dic_list())"
    },
    "r": {
     "delete_cmd_postfix": ") ",
     "delete_cmd_prefix": "rm(",
     "library": "var_list.r",
     "varRefreshCmd": "cat(var_dic_list()) "
    }
   },
   "types_to_exclude": [
    "module",
    "function",
    "builtin_function_or_method",
    "instance",
    "_Feature"
   ],
   "window_display": false
  }
 },
 "nbformat": 4,
 "nbformat_minor": 5
}
