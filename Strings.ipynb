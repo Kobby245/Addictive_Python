{
 "cells": [
  {
   "cell_type": "markdown",
   "id": "1b5b9d5e",
   "metadata": {},
   "source": [
    "# Strings"
   ]
  },
  {
   "cell_type": "markdown",
   "id": "7cd6e232",
   "metadata": {},
   "source": [
    "**`Immutable`** **`sequence`** of `characters`"
   ]
  },
  {
   "cell_type": "markdown",
   "id": "c08ef2f0",
   "metadata": {},
   "source": [
    "They either between a single quote, a double quote or a triple quote"
   ]
  },
  {
   "cell_type": "markdown",
   "id": "3b1d1d50",
   "metadata": {},
   "source": [
    "* `''` ---> single quotes\n",
    "\n",
    "* `\"\"` ---> double quotes\n",
    "\n",
    "* `\"\"\"\"\"\"` ---> triple quotes ---> docstrings"
   ]
  },
  {
   "cell_type": "code",
   "execution_count": null,
   "id": "697643cf",
   "metadata": {
    "ExecuteTime": {
     "end_time": "2022-07-02T14:25:08.372771Z",
     "start_time": "2022-07-02T14:25:08.361763Z"
    }
   },
   "outputs": [],
   "source": [
    "'Python Programming'"
   ]
  },
  {
   "cell_type": "code",
   "execution_count": null,
   "id": "03c1f985",
   "metadata": {
    "ExecuteTime": {
     "end_time": "2022-07-02T14:25:20.071950Z",
     "start_time": "2022-07-02T14:25:20.061888Z"
    }
   },
   "outputs": [],
   "source": [
    "\"Python Programming\""
   ]
  },
  {
   "cell_type": "code",
   "execution_count": null,
   "id": "36db5fcb",
   "metadata": {
    "ExecuteTime": {
     "end_time": "2022-07-02T14:25:30.819406Z",
     "start_time": "2022-07-02T14:25:30.808942Z"
    }
   },
   "outputs": [],
   "source": [
    "\"\"\"Python Programming\"\"\""
   ]
  },
  {
   "cell_type": "code",
   "execution_count": null,
   "id": "ce057f0c",
   "metadata": {
    "ExecuteTime": {
     "end_time": "2022-07-02T14:26:22.736894Z",
     "start_time": "2022-07-02T14:26:22.728876Z"
    }
   },
   "outputs": [],
   "source": [
    "'Regional Managers's email address'"
   ]
  },
  {
   "cell_type": "code",
   "execution_count": null,
   "id": "99405878",
   "metadata": {
    "ExecuteTime": {
     "end_time": "2022-07-02T14:27:10.718473Z",
     "start_time": "2022-07-02T14:27:10.700382Z"
    }
   },
   "outputs": [],
   "source": [
    "\"Regional Managers's email address\""
   ]
  },
  {
   "cell_type": "code",
   "execution_count": null,
   "id": "fdd8b396",
   "metadata": {
    "ExecuteTime": {
     "end_time": "2022-07-02T14:27:51.903549Z",
     "start_time": "2022-07-02T14:27:51.892551Z"
    }
   },
   "outputs": [],
   "source": [
    "\"The Quick \n",
    "Brown Foxes \n",
    "Jumped Over \n",
    "The Lazy Dogs\""
   ]
  },
  {
   "cell_type": "code",
   "execution_count": null,
   "id": "8ef6f314",
   "metadata": {
    "ExecuteTime": {
     "end_time": "2022-07-02T14:28:03.130153Z",
     "start_time": "2022-07-02T14:28:03.117149Z"
    }
   },
   "outputs": [],
   "source": [
    "'The Quick \n",
    "Brown Foxes \n",
    "Jumped Over \n",
    "The Lazy Dogs'"
   ]
  },
  {
   "cell_type": "code",
   "execution_count": null,
   "id": "d9b2ad24",
   "metadata": {
    "ExecuteTime": {
     "end_time": "2022-07-02T14:28:14.189204Z",
     "start_time": "2022-07-02T14:28:14.169106Z"
    }
   },
   "outputs": [],
   "source": [
    "\"\"\"The Quick \n",
    "Brown Foxes \n",
    "Jumped Over \n",
    "The Lazy Dogs\"\"\""
   ]
  },
  {
   "cell_type": "code",
   "execution_count": null,
   "id": "cfef7bdf",
   "metadata": {
    "ExecuteTime": {
     "end_time": "2022-07-02T14:28:49.679825Z",
     "start_time": "2022-07-02T14:28:49.662151Z"
    }
   },
   "outputs": [],
   "source": [
    "\"The Quick \\\n",
    "Brown Foxes \\\n",
    "Jumped Over \\\n",
    "The Lazy Dogs\""
   ]
  },
  {
   "cell_type": "code",
   "execution_count": null,
   "id": "ca2e9ef8",
   "metadata": {
    "ExecuteTime": {
     "end_time": "2022-07-02T14:29:31.716580Z",
     "start_time": "2022-07-02T14:29:31.710578Z"
    }
   },
   "outputs": [],
   "source": [
    "'Regional Managers\\'s email address'"
   ]
  },
  {
   "cell_type": "markdown",
   "id": "7c546659",
   "metadata": {},
   "source": [
    "---"
   ]
  },
  {
   "cell_type": "code",
   "execution_count": null,
   "id": "91794d61",
   "metadata": {
    "ExecuteTime": {
     "end_time": "2022-07-02T14:31:09.787913Z",
     "start_time": "2022-07-02T14:31:09.772094Z"
    }
   },
   "outputs": [],
   "source": [
    "first_name = \"Kyrie\"\n",
    "\n",
    "first_name"
   ]
  },
  {
   "cell_type": "markdown",
   "id": "486cfb8c",
   "metadata": {},
   "source": [
    "## Indexing"
   ]
  },
  {
   "cell_type": "markdown",
   "id": "6518ecbe",
   "metadata": {},
   "source": [
    "* All sequences/collection/iterables use zero based indexing\n",
    "\n",
    "* The first item in any sequence/iterable/collection has an index number zero\n",
    "\n",
    "* We use the square **`[ ]`** braces for indexing"
   ]
  },
  {
   "cell_type": "code",
   "execution_count": null,
   "id": "91e0b55e",
   "metadata": {
    "ExecuteTime": {
     "end_time": "2022-07-02T14:40:15.530955Z",
     "start_time": "2022-07-02T14:40:15.526946Z"
    }
   },
   "outputs": [],
   "source": [
    "first_name"
   ]
  },
  {
   "cell_type": "code",
   "execution_count": null,
   "id": "3a31fa14",
   "metadata": {
    "ExecuteTime": {
     "end_time": "2022-07-02T14:34:53.535117Z",
     "start_time": "2022-07-02T14:34:53.523025Z"
    }
   },
   "outputs": [],
   "source": [
    "first_name[0]"
   ]
  },
  {
   "cell_type": "code",
   "execution_count": null,
   "id": "dcfb6cf4",
   "metadata": {
    "ExecuteTime": {
     "end_time": "2022-07-02T14:40:00.430276Z",
     "start_time": "2022-07-02T14:40:00.420211Z"
    }
   },
   "outputs": [],
   "source": [
    "first_name[4]"
   ]
  },
  {
   "cell_type": "markdown",
   "id": "82ee96cd",
   "metadata": {},
   "source": [
    "---"
   ]
  },
  {
   "cell_type": "code",
   "execution_count": 1,
   "id": "3416b700",
   "metadata": {
    "ExecuteTime": {
     "end_time": "2022-07-02T14:41:22.446489Z",
     "start_time": "2022-07-02T14:41:22.428454Z"
    }
   },
   "outputs": [
    {
     "ename": "NameError",
     "evalue": "name 'first_name' is not defined",
     "output_type": "error",
     "traceback": [
      "\u001b[1;31m---------------------------------------------------------------------------\u001b[0m",
      "\u001b[1;31mNameError\u001b[0m                                 Traceback (most recent call last)",
      "\u001b[1;32m<ipython-input-1-5306c9532c00>\u001b[0m in \u001b[0;36m<module>\u001b[1;34m\u001b[0m\n\u001b[1;32m----> 1\u001b[1;33m \u001b[0mfirst_name\u001b[0m\u001b[1;33m[\u001b[0m\u001b[1;36m2\u001b[0m \u001b[1;33m+\u001b[0m \u001b[1;36m4\u001b[0m \u001b[1;33m-\u001b[0m \u001b[1;36m2\u001b[0m\u001b[1;33m]\u001b[0m\u001b[1;33m\u001b[0m\u001b[1;33m\u001b[0m\u001b[0m\n\u001b[0m",
      "\u001b[1;31mNameError\u001b[0m: name 'first_name' is not defined"
     ]
    }
   ],
   "source": [
    "first_name[2 + 4 - 2]"
   ]
  },
  {
   "cell_type": "markdown",
   "id": "243b27ac",
   "metadata": {},
   "source": [
    "* Negative Indexing\n",
    "\n",
    "    - right to left ---> start from -1 to -n\n",
    "\n",
    "* Positive Indexing\n",
    "\n",
    "    - left to right ---> start from 0 to n - 1\n",
    "    \n",
    "    n --> total len of the squence"
   ]
  },
  {
   "cell_type": "markdown",
   "id": "16cda101",
   "metadata": {},
   "source": [
    "### Negative Indexing"
   ]
  },
  {
   "cell_type": "code",
   "execution_count": null,
   "id": "0a12330e",
   "metadata": {
    "ExecuteTime": {
     "end_time": "2022-07-02T14:44:32.080978Z",
     "start_time": "2022-07-02T14:44:32.067613Z"
    }
   },
   "outputs": [],
   "source": [
    "first_name"
   ]
  },
  {
   "cell_type": "code",
   "execution_count": 2,
   "id": "485da17f",
   "metadata": {
    "ExecuteTime": {
     "end_time": "2022-07-02T14:44:52.328452Z",
     "start_time": "2022-07-02T14:44:52.319419Z"
    }
   },
   "outputs": [
    {
     "ename": "NameError",
     "evalue": "name 'first_name' is not defined",
     "output_type": "error",
     "traceback": [
      "\u001b[1;31m---------------------------------------------------------------------------\u001b[0m",
      "\u001b[1;31mNameError\u001b[0m                                 Traceback (most recent call last)",
      "\u001b[1;32m<ipython-input-2-1883b8f1f066>\u001b[0m in \u001b[0;36m<module>\u001b[1;34m\u001b[0m\n\u001b[1;32m----> 1\u001b[1;33m \u001b[0mfirst_name\u001b[0m\u001b[1;33m[\u001b[0m\u001b[1;33m-\u001b[0m\u001b[1;36m1\u001b[0m\u001b[1;33m]\u001b[0m\u001b[1;33m\u001b[0m\u001b[1;33m\u001b[0m\u001b[0m\n\u001b[0m",
      "\u001b[1;31mNameError\u001b[0m: name 'first_name' is not defined"
     ]
    }
   ],
   "source": [
    "first_name[-1]"
   ]
  },
  {
   "cell_type": "code",
   "execution_count": null,
   "id": "95bc1d97",
   "metadata": {
    "ExecuteTime": {
     "end_time": "2022-07-02T14:46:48.604422Z",
     "start_time": "2022-07-02T14:46:48.595279Z"
    }
   },
   "outputs": [],
   "source": [
    "first_name[-5]"
   ]
  },
  {
   "cell_type": "markdown",
   "id": "f5fbda0b",
   "metadata": {},
   "source": [
    "### Positive Indexing"
   ]
  },
  {
   "cell_type": "code",
   "execution_count": null,
   "id": "b7e68520",
   "metadata": {
    "ExecuteTime": {
     "end_time": "2022-07-02T14:47:07.058677Z",
     "start_time": "2022-07-02T14:47:07.049680Z"
    }
   },
   "outputs": [],
   "source": [
    "first_name[0]"
   ]
  },
  {
   "cell_type": "code",
   "execution_count": null,
   "id": "99339492",
   "metadata": {
    "ExecuteTime": {
     "end_time": "2022-07-02T14:48:16.976563Z",
     "start_time": "2022-07-02T14:48:16.959561Z"
    }
   },
   "outputs": [],
   "source": [
    "first_name[4]"
   ]
  },
  {
   "cell_type": "markdown",
   "id": "d7e24543",
   "metadata": {},
   "source": [
    "## Slicing"
   ]
  },
  {
   "cell_type": "code",
   "execution_count": null,
   "id": "b9d4c7db",
   "metadata": {
    "ExecuteTime": {
     "end_time": "2022-07-02T14:49:43.106607Z",
     "start_time": "2022-07-02T14:49:43.096601Z"
    }
   },
   "outputs": [],
   "source": [
    "course = \"AddictivePython\"\n",
    "\n",
    "course"
   ]
  },
  {
   "cell_type": "code",
   "execution_count": null,
   "id": "e85f81ca",
   "metadata": {
    "ExecuteTime": {
     "end_time": "2022-07-02T14:56:36.261929Z",
     "start_time": "2022-07-02T14:56:36.248829Z"
    }
   },
   "outputs": [],
   "source": [
    "course[9:]"
   ]
  },
  {
   "cell_type": "code",
   "execution_count": null,
   "id": "39645c86",
   "metadata": {
    "ExecuteTime": {
     "end_time": "2022-07-02T14:56:56.173134Z",
     "start_time": "2022-07-02T14:56:56.167134Z"
    }
   },
   "outputs": [],
   "source": [
    "course[:9]"
   ]
  },
  {
   "cell_type": "code",
   "execution_count": null,
   "id": "e6405582",
   "metadata": {
    "ExecuteTime": {
     "end_time": "2022-07-02T14:53:49.400429Z",
     "start_time": "2022-07-02T14:53:49.386430Z"
    }
   },
   "outputs": [],
   "source": [
    "course[2:6]"
   ]
  },
  {
   "cell_type": "code",
   "execution_count": null,
   "id": "7f5e5a22",
   "metadata": {
    "ExecuteTime": {
     "end_time": "2022-07-02T14:57:37.040450Z",
     "start_time": "2022-07-02T14:57:37.032451Z"
    }
   },
   "outputs": [],
   "source": [
    "course[:]"
   ]
  },
  {
   "cell_type": "code",
   "execution_count": null,
   "id": "127ff596",
   "metadata": {
    "ExecuteTime": {
     "end_time": "2022-07-02T14:57:58.074640Z",
     "start_time": "2022-07-02T14:57:58.065639Z"
    }
   },
   "outputs": [],
   "source": [
    "course[5:5]"
   ]
  },
  {
   "cell_type": "markdown",
   "id": "4731196b",
   "metadata": {},
   "source": [
    "## String Immutability"
   ]
  },
  {
   "cell_type": "code",
   "execution_count": null,
   "id": "5ef9bb7e",
   "metadata": {
    "ExecuteTime": {
     "end_time": "2022-07-02T14:59:53.408372Z",
     "start_time": "2022-07-02T14:59:53.401372Z"
    }
   },
   "outputs": [],
   "source": [
    "name = \"Kobe\"\n",
    "\n",
    "name"
   ]
  },
  {
   "cell_type": "code",
   "execution_count": null,
   "id": "48595e08",
   "metadata": {
    "ExecuteTime": {
     "end_time": "2022-07-02T15:01:16.620375Z",
     "start_time": "2022-07-02T15:01:16.604394Z"
    }
   },
   "outputs": [],
   "source": [
    "name[0] = \"k\""
   ]
  },
  {
   "cell_type": "markdown",
   "id": "24774faa",
   "metadata": {},
   "source": [
    "### Defining New Sequence of Character from a Defined String"
   ]
  },
  {
   "cell_type": "code",
   "execution_count": null,
   "id": "79ab4fef",
   "metadata": {
    "ExecuteTime": {
     "end_time": "2022-07-02T15:05:50.875681Z",
     "start_time": "2022-07-02T15:05:50.867666Z"
    }
   },
   "outputs": [],
   "source": [
    "pet = \"PiT Bull\"\n",
    "\n",
    "pet"
   ]
  },
  {
   "cell_type": "code",
   "execution_count": null,
   "id": "b33c088c",
   "metadata": {
    "ExecuteTime": {
     "end_time": "2022-07-02T15:05:51.405033Z",
     "start_time": "2022-07-02T15:05:51.390969Z"
    }
   },
   "outputs": [],
   "source": [
    "pet = pet[:2] + \"t\" + pet[3:]\n",
    "\n",
    "pet"
   ]
  },
  {
   "cell_type": "markdown",
   "id": "491d6cac",
   "metadata": {},
   "source": [
    "## The len Function"
   ]
  },
  {
   "cell_type": "code",
   "execution_count": null,
   "id": "04ef16e6",
   "metadata": {
    "ExecuteTime": {
     "end_time": "2022-07-02T15:06:39.721697Z",
     "start_time": "2022-07-02T15:06:39.713265Z"
    }
   },
   "outputs": [],
   "source": [
    "len(pet)"
   ]
  },
  {
   "cell_type": "code",
   "execution_count": null,
   "id": "d6b52afe",
   "metadata": {
    "ExecuteTime": {
     "end_time": "2022-07-02T15:07:03.393979Z",
     "start_time": "2022-07-02T15:07:03.388776Z"
    }
   },
   "outputs": [],
   "source": [
    "pet[len(pet) - 1]"
   ]
  },
  {
   "cell_type": "code",
   "execution_count": null,
   "id": "4f5ebae3",
   "metadata": {
    "ExecuteTime": {
     "end_time": "2022-07-02T15:07:22.470416Z",
     "start_time": "2022-07-02T15:07:22.458025Z"
    }
   },
   "outputs": [],
   "source": [
    "pet[-1]"
   ]
  },
  {
   "cell_type": "markdown",
   "id": "dc9c6fc5",
   "metadata": {},
   "source": [
    "## Traversing a String with a while loop"
   ]
  },
  {
   "cell_type": "code",
   "execution_count": null,
   "id": "4139b8a7",
   "metadata": {
    "ExecuteTime": {
     "end_time": "2022-07-02T15:18:22.362997Z",
     "start_time": "2022-07-02T15:18:22.347940Z"
    }
   },
   "outputs": [],
   "source": [
    "def traverse(string):\n",
    "    \n",
    "    index = 0\n",
    "    \n",
    "    while index < len(string):\n",
    "        \n",
    "        letter = string[index]\n",
    "        \n",
    "        print(letter)\n",
    "        \n",
    "        index += 1"
   ]
  },
  {
   "cell_type": "code",
   "execution_count": null,
   "id": "2f7c8b93",
   "metadata": {
    "ExecuteTime": {
     "end_time": "2022-07-02T15:18:35.461215Z",
     "start_time": "2022-07-02T15:18:35.454205Z"
    }
   },
   "outputs": [],
   "source": [
    "traverse('AddictivePython')"
   ]
  },
  {
   "cell_type": "markdown",
   "id": "cecba891",
   "metadata": {},
   "source": [
    "## Traversing a String with a for loop"
   ]
  },
  {
   "cell_type": "code",
   "execution_count": null,
   "id": "2287d2bd",
   "metadata": {
    "ExecuteTime": {
     "end_time": "2022-07-02T15:19:05.374263Z",
     "start_time": "2022-07-02T15:19:05.358272Z"
    }
   },
   "outputs": [],
   "source": [
    "for letter in \"AddictivePython\":\n",
    "    print(letter)"
   ]
  },
  {
   "cell_type": "markdown",
   "id": "41a1646f",
   "metadata": {},
   "source": [
    "## String Methods"
   ]
  },
  {
   "cell_type": "markdown",
   "id": "4a138a63",
   "metadata": {},
   "source": [
    "Find 10 string Methods are how to they are used"
   ]
  },
  {
   "cell_type": "code",
   "execution_count": null,
   "id": "e374737e",
   "metadata": {},
   "outputs": [],
   "source": []
  }
 ],
 "metadata": {
  "kernelspec": {
   "display_name": "Python 3",
   "language": "python",
   "name": "python3"
  },
  "language_info": {
   "codemirror_mode": {
    "name": "ipython",
    "version": 3
   },
   "file_extension": ".py",
   "mimetype": "text/x-python",
   "name": "python",
   "nbconvert_exporter": "python",
   "pygments_lexer": "ipython3",
   "version": "3.8.8"
  },
  "nbTranslate": {
   "displayLangs": [
    "*"
   ],
   "hotkey": "alt-t",
   "langInMainMenu": true,
   "sourceLang": "en",
   "targetLang": "fr",
   "useGoogleTranslate": true
  },
  "toc": {
   "base_numbering": 1,
   "nav_menu": {},
   "number_sections": true,
   "sideBar": true,
   "skip_h1_title": false,
   "title_cell": "Table of Contents",
   "title_sidebar": "Contents",
   "toc_cell": false,
   "toc_position": {},
   "toc_section_display": true,
   "toc_window_display": false
  },
  "varInspector": {
   "cols": {
    "lenName": 16,
    "lenType": 16,
    "lenVar": 40
   },
   "kernels_config": {
    "python": {
     "delete_cmd_postfix": "",
     "delete_cmd_prefix": "del ",
     "library": "var_list.py",
     "varRefreshCmd": "print(var_dic_list())"
    },
    "r": {
     "delete_cmd_postfix": ") ",
     "delete_cmd_prefix": "rm(",
     "library": "var_list.r",
     "varRefreshCmd": "cat(var_dic_list()) "
    }
   },
   "types_to_exclude": [
    "module",
    "function",
    "builtin_function_or_method",
    "instance",
    "_Feature"
   ],
   "window_display": false
  }
 },
 "nbformat": 4,
 "nbformat_minor": 5
}
