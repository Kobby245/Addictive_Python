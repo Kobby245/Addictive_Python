{
 "cells": [
  {
   "cell_type": "markdown",
   "id": "5bc7f237",
   "metadata": {},
   "source": [
    "# Activities"
   ]
  },
  {
   "cell_type": "markdown",
   "id": "6288e1f3",
   "metadata": {},
   "source": [
    "* **Simple Interest**\n",
    "    *  PRT\n",
    " \n",
    "###  Write a python program to calculate the Simple Interest of a marketer.\n",
    "\n",
    "#### Your pogram should accept keyboard input"
   ]
  },
  {
   "cell_type": "code",
   "execution_count": 5,
   "id": "3b22a301",
   "metadata": {},
   "outputs": [
    {
     "name": "stdout",
     "output_type": "stream",
     "text": [
      "Enter the profit earn by the marketer: 5\n",
      "Enter the rate at whic the marketer had the profit: 6\n",
      "Enter the time used by the marketer used to get the profitL 6\n",
      "GH¢ 180.0\n"
     ]
    }
   ],
   "source": [
    "# Formula for finding simple interest;\n",
    "\n",
    "# simple interest = Profit x Rate x Time\n",
    "\n",
    "# where interest = inte, profit = prof, rate = rte, time = tme\n",
    "\n",
    "\n",
    "\n",
    "prof = float(input(\"Enter the profit earn by the marketer: \"))\n",
    "\n",
    "\n",
    "rte = float(input(\"Enter the rate at whic the marketer had the profit: \"))\n",
    "\n",
    "\n",
    "tme = float(input(\"Enter the time used by the marketer used to get the profitL \"))\n",
    "\n",
    "inte = prof * rte * tme\n",
    "\n",
    "print(\"GH¢\", inte)\n"
   ]
  },
  {
   "cell_type": "code",
   "execution_count": null,
   "id": "72937c84",
   "metadata": {},
   "outputs": [],
   "source": []
  },
  {
   "cell_type": "markdown",
   "id": "03e2a667",
   "metadata": {},
   "source": [
    " * **Area of Rectangle**\n",
    "    - lb\n",
    "    \n",
    " ### Write a python program to calculate the area of a rectangle."
   ]
  },
  {
   "cell_type": "code",
   "execution_count": null,
   "id": "22e31718",
   "metadata": {},
   "outputs": [],
   "source": [
    "# Area of a rectangle\n",
    "\n",
    "# Formular; Area = Length x breath\n",
    "\n",
    "# where lenght = lent breadth = bre, area = area\n",
    "\n",
    "\n",
    "lent = int(input(\"Enter the length of the rectangle: \"))\n",
    "\n",
    "\n",
    "bre = float(input(\"Enter the breadth of the rectangle: \"))\n",
    "      \n",
    "\n",
    "area = lent * bre\n",
    "\n",
    "\n",
    "print(area)"
   ]
  },
  {
   "cell_type": "code",
   "execution_count": null,
   "id": "83972619",
   "metadata": {},
   "outputs": [],
   "source": []
  },
  {
   "cell_type": "markdown",
   "id": "0af82d97",
   "metadata": {},
   "source": [
    "* **Area of a circle**\n",
    "    - π𝑟2\n",
    "    \n",
    " ### Write a python program to calculate the area of a circle.\n",
    " \n",
    " \n",
    " #### Your pogram should accept keyboard input"
   ]
  },
  {
   "cell_type": "code",
   "execution_count": null,
   "id": "571b3c6f",
   "metadata": {},
   "outputs": [],
   "source": [
    "# Area of a circle\n",
    "\n",
    "# Formular; Area = (π * 𝑟)2\n",
    "\n",
    "# where π = pie and r = radius \n",
    "\n",
    "π = int(input(\"Enter the value of π\"))\n",
    "\n",
    "r = int(input(\"Enter the value of r\"))\n",
    "\n",
    "area = (π * 𝑟 )**2\n",
    "\n",
    "print(area)"
   ]
  },
  {
   "cell_type": "code",
   "execution_count": null,
   "id": "bcb6c9d8",
   "metadata": {},
   "outputs": [],
   "source": []
  },
  {
   "cell_type": "markdown",
   "id": "ff5758db",
   "metadata": {},
   "source": [
    "* **Circumference of a circle**\n",
    "    - 2π𝑟\n",
    "    \n",
    "  \n",
    "### Write a python program to calculate the circumfrence area of a circle.\n",
    "\n",
    "\n",
    "\n",
    "#### Your pogram should accept keyboard input"
   ]
  },
  {
   "cell_type": "code",
   "execution_count": null,
   "id": "36ba0578",
   "metadata": {},
   "outputs": [],
   "source": [
    "# Circufrence of a circle\n",
    "\n",
    "# formular for circumfrence of a circle. \n",
    "\n",
    "# circumfrence = 2π𝑟  2 (pie * radius)\n",
    "\n",
    "# where π(pie) = pie, r= radius\n",
    "\n",
    "# circumference = circ , pie = π and radious = radi\n",
    "\n",
    "\n",
    "π = int(input(\"Enter the pie value for the circle: \"))\n",
    "\n",
    "radi = float(input(\"Enter the radius of the circle: \"))\n",
    "\n",
    "circ = 2*(π*r)\n",
    "\n",
    "print(circ)\n"
   ]
  },
  {
   "cell_type": "code",
   "execution_count": null,
   "id": "7db6f60d",
   "metadata": {},
   "outputs": [],
   "source": []
  },
  {
   "cell_type": "markdown",
   "id": "a820c1db",
   "metadata": {},
   "source": [
    "* **Area of a triangle**\n",
    "    - 1/2bh\n",
    "    \n",
    "## Write a python program to calculate the area of a rectangle. \n",
    "\n",
    "\n",
    "#### The program should accept keyboard input. "
   ]
  },
  {
   "cell_type": "code",
   "execution_count": null,
   "id": "5868d3a1",
   "metadata": {},
   "outputs": [],
   "source": [
    "# Formular to calculate the area of a triangle; \n",
    "\n",
    "# 1/2 breadth x height\n",
    "\n",
    "# where breadth = bre, height = hei,  area = area\n",
    "\n",
    "\n",
    "bre = float(input(\" Enter the breadth of the triangle: \"))\n",
    "\n",
    "\n",
    "hei = float(input(\"Enter the height of the triangle: \"))\n",
    "\n",
    "area = 1/2*(bre * hei)\n",
    "\n",
    "print(area)"
   ]
  },
  {
   "cell_type": "code",
   "execution_count": null,
   "id": "4ecc73e0",
   "metadata": {},
   "outputs": [],
   "source": []
  },
  {
   "cell_type": "markdown",
   "id": "ee89efe2",
   "metadata": {},
   "source": [
    "* **Square root of a number**\n",
    "    - x**2\n",
    "    \n",
    "## Write a python program to calculate square root of a number.\n",
    "\n",
    "#### The program should accept keyboard input. "
   ]
  },
  {
   "cell_type": "code",
   "execution_count": null,
   "id": "be78c8b0",
   "metadata": {},
   "outputs": [],
   "source": [
    "# square root of a number = x**2\n",
    "\n",
    "x = int(input(\"Enter the vlaue of x: \"))\n",
    "\n",
    "result = x**2\n",
    "\n",
    "print(result)"
   ]
  },
  {
   "cell_type": "code",
   "execution_count": null,
   "id": "a87ef827",
   "metadata": {},
   "outputs": [],
   "source": []
  },
  {
   "cell_type": "markdown",
   "id": "e6443cc0",
   "metadata": {},
   "source": [
    "* **Distance betwwen two points**\n",
    "    - ((𝑥1 − 𝑥2) ** 2 + (𝑦1 − 𝑦2) ** 2) ** 0.5\n",
    " \n",
    "\n",
    "## Write a python program to calculate the distance between two points\n",
    "\n",
    "#### The program should accept keyboard input."
   ]
  },
  {
   "cell_type": "code",
   "execution_count": null,
   "id": "38d49ab8",
   "metadata": {},
   "outputs": [],
   "source": [
    "# The formular for calculating the distance between points;\n",
    "\n",
    "# ((𝑥1 − 𝑥2) ** 2 + (𝑦1 − 𝑦2) ** 2) ** 0.5\n",
    "\n",
    "# First_point  = (𝑥1 − 𝑥2) ** 2\n",
    "\n",
    "# where x1 and x2 are the first point. \n",
    "\n",
    "\n",
    "# Second_point = (y1 − y2) ** 2\n",
    "\n",
    "# where y1 and y2 are the second point\n",
    "\n",
    "\n",
    "\n",
    "\n",
    "x1 = float(input(\"Enter the value for x1 in the first point: \"))\n",
    "\n",
    "\n",
    "x2 = float(input(\"Enter the value for x2 in the first point: \"))\n",
    "\n",
    "\n",
    "first_point = (x1 - x2) ** 2\n",
    "\n",
    "\n",
    "y1 = float(input(\"Enter the value for y1 in the second point: \"))\n",
    "\n",
    "\n",
    "y2 = float(input(\"Enter the value for y2 in the second point: \"))\n",
    "\n",
    "\n",
    "second_point = (x1 - x2) ** 2\n",
    "\n",
    "\n",
    "total_distance = (first_point + second_point)** 0.5\n",
    "\n",
    "\n",
    "print(total_distance)"
   ]
  },
  {
   "cell_type": "code",
   "execution_count": null,
   "id": "aa132b21",
   "metadata": {},
   "outputs": [],
   "source": []
  },
  {
   "cell_type": "markdown",
   "id": "07b09a1e",
   "metadata": {},
   "source": [
    "* **Slope of the line**\n",
    "    - 𝑦2 − 𝑦1 / 𝑥2 – 𝑥1\n",
    "\n",
    "\n",
    "## Write a python program to calculate the distance between two points\n",
    "\n",
    "#### The program should accept keyboard input.\n"
   ]
  },
  {
   "cell_type": "code",
   "execution_count": 3,
   "id": "4faed22a",
   "metadata": {},
   "outputs": [
    {
     "name": "stdout",
     "output_type": "stream",
     "text": [
      "Enter for the value for x1 in the first point: 8\n",
      "Enter the value for x2 in the first point: 5\n",
      "Enter the value of y1 in the second point: 6\n",
      "Enter the value of y2 in the second point: 6\n",
      "-0.0 cm\n"
     ]
    }
   ],
   "source": [
    "# The formular for calculating the slope of a line\n",
    "\n",
    "# slope = y2 − y1 / x2 – x1\n",
    "\n",
    "\n",
    "# First_point  = (x2 - x1)\n",
    "\n",
    "\n",
    "# where x2 and x1 are the first point. \n",
    "\n",
    "\n",
    "# Second_point = (y2−y1)\n",
    "\n",
    "\n",
    "# where y2 and y1 are the second point. \n",
    "\n",
    "\n",
    "x1 = float(input(\"Enter for the value for x1 in the first point: \"))\n",
    "\n",
    "x2 = float(input(\"Enter the value for x2 in the first point: \"))\n",
    "\n",
    "\n",
    "first_point = x2 - x1\n",
    "\n",
    "\n",
    "y1 = float(input(\"Enter the value of y1 in the second point: \"))\n",
    "\n",
    "y2 = float(input(\"Enter the value of y2 in the second point: \"))\n",
    "\n",
    "\n",
    "second_point = y2 - y1\n",
    "\n",
    "slope = second_point / first_point\n",
    "\n",
    "\n",
    "print(slope, \"cm\")\n",
    "\n"
   ]
  },
  {
   "cell_type": "code",
   "execution_count": null,
   "id": "aa1a3103",
   "metadata": {},
   "outputs": [],
   "source": []
  },
  {
   "cell_type": "markdown",
   "id": "f9f93098",
   "metadata": {},
   "source": [
    "\n",
    "* **Equation of a line**\n",
    "    - y = mx + c\n",
    "\n",
    "\n",
    "## Write a python program to calculate the distance between two points\n",
    "\n",
    "#### Write a python program to calculate the equation of a line."
   ]
  },
  {
   "cell_type": "code",
   "execution_count": null,
   "id": "8693d15f",
   "metadata": {},
   "outputs": [],
   "source": [
    "# Equation of a line\n",
    "\n",
    "# y = mx + c\n",
    "\n",
    "\n",
    "m = float(input(\"Enter the value of m in the equation: \"))\n",
    "\n",
    "\n",
    "x = float(input(\"Enter the value of x in the equation: \"))\n",
    "\n",
    "\n",
    "c = float(input(\"Enter the value of c in the equation: \"))\n",
    "\n",
    "\n",
    "y = m * x + c\n",
    "\n",
    "\n",
    "print(y, \"cm\")\n"
   ]
  }
 ],
 "metadata": {
  "kernelspec": {
   "display_name": "Python 3",
   "language": "python",
   "name": "python3"
  },
  "language_info": {
   "codemirror_mode": {
    "name": "ipython",
    "version": 3
   },
   "file_extension": ".py",
   "mimetype": "text/x-python",
   "name": "python",
   "nbconvert_exporter": "python",
   "pygments_lexer": "ipython3",
   "version": "3.8.8"
  }
 },
 "nbformat": 4,
 "nbformat_minor": 5
}
