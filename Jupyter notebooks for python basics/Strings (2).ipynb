{
 "cells": [
  {
   "cell_type": "markdown",
   "id": "43b96939",
   "metadata": {},
   "source": [
    "# Strings"
   ]
  },
  {
   "cell_type": "markdown",
   "id": "6d044139",
   "metadata": {},
   "source": [
    "**`Immutable`** **`sequence`** of `characters`"
   ]
  },
  {
   "cell_type": "markdown",
   "id": "8fbd4c89",
   "metadata": {},
   "source": [
    "They either between a single quote, a double quote or a triple quote"
   ]
  },
  {
   "cell_type": "markdown",
   "id": "92aa5f24",
   "metadata": {},
   "source": [
    "* `''` ---> single quotes\n",
    "\n",
    "* `\"\"` ---> double quotes\n",
    "\n",
    "* `\"\"\"\"\"\"` ---> triple quotes ---> docstrings"
   ]
  },
  {
   "cell_type": "code",
   "execution_count": 1,
   "id": "f82e70a0",
   "metadata": {
    "ExecuteTime": {
     "end_time": "2022-07-02T14:25:08.372771Z",
     "start_time": "2022-07-02T14:25:08.361763Z"
    }
   },
   "outputs": [
    {
     "data": {
      "text/plain": [
       "'Python Programming'"
      ]
     },
     "execution_count": 1,
     "metadata": {},
     "output_type": "execute_result"
    }
   ],
   "source": [
    "'Python Programming'"
   ]
  },
  {
   "cell_type": "code",
   "execution_count": 2,
   "id": "e1dedb2e",
   "metadata": {
    "ExecuteTime": {
     "end_time": "2022-07-02T14:25:20.071950Z",
     "start_time": "2022-07-02T14:25:20.061888Z"
    }
   },
   "outputs": [
    {
     "data": {
      "text/plain": [
       "'Python Programming'"
      ]
     },
     "execution_count": 2,
     "metadata": {},
     "output_type": "execute_result"
    }
   ],
   "source": [
    "\"Python Programming\""
   ]
  },
  {
   "cell_type": "code",
   "execution_count": 3,
   "id": "9662d5aa",
   "metadata": {
    "ExecuteTime": {
     "end_time": "2022-07-02T14:25:30.819406Z",
     "start_time": "2022-07-02T14:25:30.808942Z"
    }
   },
   "outputs": [
    {
     "data": {
      "text/plain": [
       "'Python Programming'"
      ]
     },
     "execution_count": 3,
     "metadata": {},
     "output_type": "execute_result"
    }
   ],
   "source": [
    "\"\"\"Python Programming\"\"\""
   ]
  },
  {
   "cell_type": "code",
   "execution_count": 4,
   "id": "6c4a5591",
   "metadata": {
    "ExecuteTime": {
     "end_time": "2022-07-02T14:26:22.736894Z",
     "start_time": "2022-07-02T14:26:22.728876Z"
    }
   },
   "outputs": [
    {
     "ename": "SyntaxError",
     "evalue": "unterminated string literal (detected at line 1) (Temp/ipykernel_39520/404712096.py, line 1)",
     "output_type": "error",
     "traceback": [
      "\u001b[1;36m  File \u001b[1;32m\"C:\\Users\\MHOLDB~1\\AppData\\Local\\Temp/ipykernel_39520/404712096.py\"\u001b[1;36m, line \u001b[1;32m1\u001b[0m\n\u001b[1;33m    'Regional Managers's email address'\u001b[0m\n\u001b[1;37m                                      ^\u001b[0m\n\u001b[1;31mSyntaxError\u001b[0m\u001b[1;31m:\u001b[0m unterminated string literal (detected at line 1)\n"
     ]
    }
   ],
   "source": [
    "'Regional Managers's email address'"
   ]
  },
  {
   "cell_type": "code",
   "execution_count": 6,
   "id": "c313de34",
   "metadata": {
    "ExecuteTime": {
     "end_time": "2022-07-02T14:27:10.718473Z",
     "start_time": "2022-07-02T14:27:10.700382Z"
    }
   },
   "outputs": [
    {
     "data": {
      "text/plain": [
       "\"Regional Managers's email address\""
      ]
     },
     "execution_count": 6,
     "metadata": {},
     "output_type": "execute_result"
    }
   ],
   "source": [
    "\"Regional Managers's email address\""
   ]
  },
  {
   "cell_type": "code",
   "execution_count": 7,
   "id": "ba2ce291",
   "metadata": {
    "ExecuteTime": {
     "end_time": "2022-07-02T14:27:51.903549Z",
     "start_time": "2022-07-02T14:27:51.892551Z"
    }
   },
   "outputs": [
    {
     "ename": "SyntaxError",
     "evalue": "unterminated string literal (detected at line 1) (Temp/ipykernel_39520/2972190615.py, line 1)",
     "output_type": "error",
     "traceback": [
      "\u001b[1;36m  File \u001b[1;32m\"C:\\Users\\MHOLDB~1\\AppData\\Local\\Temp/ipykernel_39520/2972190615.py\"\u001b[1;36m, line \u001b[1;32m1\u001b[0m\n\u001b[1;33m    \"The Quick\u001b[0m\n\u001b[1;37m    ^\u001b[0m\n\u001b[1;31mSyntaxError\u001b[0m\u001b[1;31m:\u001b[0m unterminated string literal (detected at line 1)\n"
     ]
    }
   ],
   "source": [
    "\"The Quick \n",
    "Brown Foxes \n",
    "Jumped Over \n",
    "The Lazy Dogs\""
   ]
  },
  {
   "cell_type": "code",
   "execution_count": 8,
   "id": "01f8974f",
   "metadata": {
    "ExecuteTime": {
     "end_time": "2022-07-02T14:28:03.130153Z",
     "start_time": "2022-07-02T14:28:03.117149Z"
    }
   },
   "outputs": [
    {
     "ename": "SyntaxError",
     "evalue": "unterminated string literal (detected at line 1) (Temp/ipykernel_39520/1478552299.py, line 1)",
     "output_type": "error",
     "traceback": [
      "\u001b[1;36m  File \u001b[1;32m\"C:\\Users\\MHOLDB~1\\AppData\\Local\\Temp/ipykernel_39520/1478552299.py\"\u001b[1;36m, line \u001b[1;32m1\u001b[0m\n\u001b[1;33m    'The Quick\u001b[0m\n\u001b[1;37m    ^\u001b[0m\n\u001b[1;31mSyntaxError\u001b[0m\u001b[1;31m:\u001b[0m unterminated string literal (detected at line 1)\n"
     ]
    }
   ],
   "source": [
    "'The Quick \n",
    "Brown Foxes \n",
    "Jumped Over \n",
    "The Lazy Dogs'"
   ]
  },
  {
   "cell_type": "code",
   "execution_count": 9,
   "id": "93e1a9d8",
   "metadata": {
    "ExecuteTime": {
     "end_time": "2022-07-02T14:28:14.189204Z",
     "start_time": "2022-07-02T14:28:14.169106Z"
    }
   },
   "outputs": [
    {
     "data": {
      "text/plain": [
       "'The Quick \\nBrown Foxes \\nJumped Over \\nThe Lazy Dogs'"
      ]
     },
     "execution_count": 9,
     "metadata": {},
     "output_type": "execute_result"
    }
   ],
   "source": [
    "\"\"\"The Quick \n",
    "Brown Foxes \n",
    "Jumped Over \n",
    "The Lazy Dogs\"\"\""
   ]
  },
  {
   "cell_type": "code",
   "execution_count": 10,
   "id": "961e8772",
   "metadata": {
    "ExecuteTime": {
     "end_time": "2022-07-02T14:28:49.679825Z",
     "start_time": "2022-07-02T14:28:49.662151Z"
    }
   },
   "outputs": [
    {
     "data": {
      "text/plain": [
       "'The Quick Brown Foxes Jumped Over The Lazy Dogs'"
      ]
     },
     "execution_count": 10,
     "metadata": {},
     "output_type": "execute_result"
    }
   ],
   "source": [
    "\"The Quick \\\n",
    "Brown Foxes \\\n",
    "Jumped Over \\\n",
    "The Lazy Dogs\""
   ]
  },
  {
   "cell_type": "code",
   "execution_count": 11,
   "id": "188b6c30",
   "metadata": {
    "ExecuteTime": {
     "end_time": "2022-07-02T14:29:31.716580Z",
     "start_time": "2022-07-02T14:29:31.710578Z"
    }
   },
   "outputs": [
    {
     "data": {
      "text/plain": [
       "\"Regional Managers's email address\""
      ]
     },
     "execution_count": 11,
     "metadata": {},
     "output_type": "execute_result"
    }
   ],
   "source": [
    "'Regional Managers\\'s email address'"
   ]
  },
  {
   "cell_type": "markdown",
   "id": "f9f62fe6",
   "metadata": {},
   "source": [
    "---"
   ]
  },
  {
   "cell_type": "code",
   "execution_count": 13,
   "id": "be2038ef",
   "metadata": {
    "ExecuteTime": {
     "end_time": "2022-07-02T14:31:09.787913Z",
     "start_time": "2022-07-02T14:31:09.772094Z"
    }
   },
   "outputs": [
    {
     "data": {
      "text/plain": [
       "'Kyrie'"
      ]
     },
     "execution_count": 13,
     "metadata": {},
     "output_type": "execute_result"
    }
   ],
   "source": [
    "first_name = \"Kyrie\"\n",
    "\n",
    "first_name"
   ]
  },
  {
   "cell_type": "markdown",
   "id": "dc430f25",
   "metadata": {},
   "source": [
    "## Indexing"
   ]
  },
  {
   "cell_type": "markdown",
   "id": "f54c5f6e",
   "metadata": {},
   "source": [
    "* All sequences/collection/iterables use zero based indexing\n",
    "\n",
    "* The first item in any sequence/iterable/collection has an index number zero\n",
    "\n",
    "* We use the square **`[ ]`** braces for indexing"
   ]
  },
  {
   "cell_type": "code",
   "execution_count": 16,
   "id": "41697fe8",
   "metadata": {
    "ExecuteTime": {
     "end_time": "2022-07-02T14:40:15.530955Z",
     "start_time": "2022-07-02T14:40:15.526946Z"
    }
   },
   "outputs": [
    {
     "data": {
      "text/plain": [
       "'Kyrie'"
      ]
     },
     "execution_count": 16,
     "metadata": {},
     "output_type": "execute_result"
    }
   ],
   "source": [
    "first_name"
   ]
  },
  {
   "cell_type": "code",
   "execution_count": 14,
   "id": "7f6b3a3b",
   "metadata": {
    "ExecuteTime": {
     "end_time": "2022-07-02T14:34:53.535117Z",
     "start_time": "2022-07-02T14:34:53.523025Z"
    }
   },
   "outputs": [
    {
     "data": {
      "text/plain": [
       "'K'"
      ]
     },
     "execution_count": 14,
     "metadata": {},
     "output_type": "execute_result"
    }
   ],
   "source": [
    "first_name[0]"
   ]
  },
  {
   "cell_type": "code",
   "execution_count": 15,
   "id": "6ecb2856",
   "metadata": {
    "ExecuteTime": {
     "end_time": "2022-07-02T14:40:00.430276Z",
     "start_time": "2022-07-02T14:40:00.420211Z"
    }
   },
   "outputs": [
    {
     "data": {
      "text/plain": [
       "'e'"
      ]
     },
     "execution_count": 15,
     "metadata": {},
     "output_type": "execute_result"
    }
   ],
   "source": [
    "first_name[4]"
   ]
  },
  {
   "cell_type": "markdown",
   "id": "2aa7dccc",
   "metadata": {},
   "source": [
    "---"
   ]
  },
  {
   "cell_type": "code",
   "execution_count": 17,
   "id": "fe7e1194",
   "metadata": {
    "ExecuteTime": {
     "end_time": "2022-07-02T14:41:22.446489Z",
     "start_time": "2022-07-02T14:41:22.428454Z"
    }
   },
   "outputs": [
    {
     "data": {
      "text/plain": [
       "'e'"
      ]
     },
     "execution_count": 17,
     "metadata": {},
     "output_type": "execute_result"
    }
   ],
   "source": [
    "first_name[2 + 4 - 2]"
   ]
  },
  {
   "cell_type": "markdown",
   "id": "d34ea9bc",
   "metadata": {},
   "source": [
    "* Negative Indexing\n",
    "\n",
    "    - right to left ---> start from -1 to -n\n",
    "\n",
    "* Positive Indexing\n",
    "\n",
    "    - left to right ---> start from 0 to n - 1\n",
    "    \n",
    "    n --> total len of the squence"
   ]
  },
  {
   "cell_type": "markdown",
   "id": "149fd4d5",
   "metadata": {},
   "source": [
    "### Negative Indexing"
   ]
  },
  {
   "cell_type": "code",
   "execution_count": 19,
   "id": "5c83ac2a",
   "metadata": {
    "ExecuteTime": {
     "end_time": "2022-07-02T14:44:32.080978Z",
     "start_time": "2022-07-02T14:44:32.067613Z"
    }
   },
   "outputs": [
    {
     "data": {
      "text/plain": [
       "'Kyrie'"
      ]
     },
     "execution_count": 19,
     "metadata": {},
     "output_type": "execute_result"
    }
   ],
   "source": [
    "first_name"
   ]
  },
  {
   "cell_type": "code",
   "execution_count": 20,
   "id": "048376b3",
   "metadata": {
    "ExecuteTime": {
     "end_time": "2022-07-02T14:44:52.328452Z",
     "start_time": "2022-07-02T14:44:52.319419Z"
    }
   },
   "outputs": [
    {
     "data": {
      "text/plain": [
       "'e'"
      ]
     },
     "execution_count": 20,
     "metadata": {},
     "output_type": "execute_result"
    }
   ],
   "source": [
    "first_name[-1]"
   ]
  },
  {
   "cell_type": "code",
   "execution_count": 21,
   "id": "84b943e1",
   "metadata": {
    "ExecuteTime": {
     "end_time": "2022-07-02T14:46:48.604422Z",
     "start_time": "2022-07-02T14:46:48.595279Z"
    }
   },
   "outputs": [
    {
     "data": {
      "text/plain": [
       "'K'"
      ]
     },
     "execution_count": 21,
     "metadata": {},
     "output_type": "execute_result"
    }
   ],
   "source": [
    "first_name[-5]"
   ]
  },
  {
   "cell_type": "markdown",
   "id": "fe4a7438",
   "metadata": {},
   "source": [
    "### Positive Indexing"
   ]
  },
  {
   "cell_type": "code",
   "execution_count": 22,
   "id": "d04af522",
   "metadata": {
    "ExecuteTime": {
     "end_time": "2022-07-02T14:47:07.058677Z",
     "start_time": "2022-07-02T14:47:07.049680Z"
    }
   },
   "outputs": [
    {
     "data": {
      "text/plain": [
       "'K'"
      ]
     },
     "execution_count": 22,
     "metadata": {},
     "output_type": "execute_result"
    }
   ],
   "source": [
    "first_name[0]"
   ]
  },
  {
   "cell_type": "code",
   "execution_count": 24,
   "id": "e289f39b",
   "metadata": {
    "ExecuteTime": {
     "end_time": "2022-07-02T14:48:16.976563Z",
     "start_time": "2022-07-02T14:48:16.959561Z"
    }
   },
   "outputs": [
    {
     "data": {
      "text/plain": [
       "'e'"
      ]
     },
     "execution_count": 24,
     "metadata": {},
     "output_type": "execute_result"
    }
   ],
   "source": [
    "first_name[4]"
   ]
  },
  {
   "cell_type": "markdown",
   "id": "56138334",
   "metadata": {},
   "source": [
    "## Slicing"
   ]
  },
  {
   "cell_type": "code",
   "execution_count": 25,
   "id": "e394ae4b",
   "metadata": {
    "ExecuteTime": {
     "end_time": "2022-07-02T14:49:43.106607Z",
     "start_time": "2022-07-02T14:49:43.096601Z"
    }
   },
   "outputs": [
    {
     "data": {
      "text/plain": [
       "'AddictivePython'"
      ]
     },
     "execution_count": 25,
     "metadata": {},
     "output_type": "execute_result"
    }
   ],
   "source": [
    "course = \"AddictivePython\"\n",
    "\n",
    "course"
   ]
  },
  {
   "cell_type": "code",
   "execution_count": 36,
   "id": "e724ee62",
   "metadata": {
    "ExecuteTime": {
     "end_time": "2022-07-02T14:56:36.261929Z",
     "start_time": "2022-07-02T14:56:36.248829Z"
    }
   },
   "outputs": [
    {
     "data": {
      "text/plain": [
       "'Python'"
      ]
     },
     "execution_count": 36,
     "metadata": {},
     "output_type": "execute_result"
    }
   ],
   "source": [
    "course[9:]"
   ]
  },
  {
   "cell_type": "code",
   "execution_count": 37,
   "id": "09f13dc9",
   "metadata": {
    "ExecuteTime": {
     "end_time": "2022-07-02T14:56:56.173134Z",
     "start_time": "2022-07-02T14:56:56.167134Z"
    }
   },
   "outputs": [
    {
     "data": {
      "text/plain": [
       "'Addictive'"
      ]
     },
     "execution_count": 37,
     "metadata": {},
     "output_type": "execute_result"
    }
   ],
   "source": [
    "course[:9]"
   ]
  },
  {
   "cell_type": "code",
   "execution_count": 33,
   "id": "ece6fc83",
   "metadata": {
    "ExecuteTime": {
     "end_time": "2022-07-02T14:53:49.400429Z",
     "start_time": "2022-07-02T14:53:49.386430Z"
    }
   },
   "outputs": [
    {
     "data": {
      "text/plain": [
       "'dict'"
      ]
     },
     "execution_count": 33,
     "metadata": {},
     "output_type": "execute_result"
    }
   ],
   "source": [
    "course[2:6]"
   ]
  },
  {
   "cell_type": "code",
   "execution_count": 38,
   "id": "d786b139",
   "metadata": {
    "ExecuteTime": {
     "end_time": "2022-07-02T14:57:37.040450Z",
     "start_time": "2022-07-02T14:57:37.032451Z"
    }
   },
   "outputs": [
    {
     "data": {
      "text/plain": [
       "'AddictivePython'"
      ]
     },
     "execution_count": 38,
     "metadata": {},
     "output_type": "execute_result"
    }
   ],
   "source": [
    "course[:]"
   ]
  },
  {
   "cell_type": "code",
   "execution_count": 39,
   "id": "c75eb61e",
   "metadata": {
    "ExecuteTime": {
     "end_time": "2022-07-02T14:57:58.074640Z",
     "start_time": "2022-07-02T14:57:58.065639Z"
    }
   },
   "outputs": [
    {
     "data": {
      "text/plain": [
       "''"
      ]
     },
     "execution_count": 39,
     "metadata": {},
     "output_type": "execute_result"
    }
   ],
   "source": [
    "course[5:5]"
   ]
  },
  {
   "cell_type": "markdown",
   "id": "60b1d62c",
   "metadata": {},
   "source": [
    "## String Immutability"
   ]
  },
  {
   "cell_type": "code",
   "execution_count": 40,
   "id": "da66b035",
   "metadata": {
    "ExecuteTime": {
     "end_time": "2022-07-02T14:59:53.408372Z",
     "start_time": "2022-07-02T14:59:53.401372Z"
    }
   },
   "outputs": [
    {
     "data": {
      "text/plain": [
       "'Kobe'"
      ]
     },
     "execution_count": 40,
     "metadata": {},
     "output_type": "execute_result"
    }
   ],
   "source": [
    "name = \"Kobe\"\n",
    "\n",
    "name"
   ]
  },
  {
   "cell_type": "code",
   "execution_count": 42,
   "id": "08891c21",
   "metadata": {
    "ExecuteTime": {
     "end_time": "2022-07-02T15:01:16.620375Z",
     "start_time": "2022-07-02T15:01:16.604394Z"
    }
   },
   "outputs": [
    {
     "ename": "TypeError",
     "evalue": "'str' object does not support item assignment",
     "output_type": "error",
     "traceback": [
      "\u001b[1;31m---------------------------------------------------------------------------\u001b[0m",
      "\u001b[1;31mTypeError\u001b[0m                                 Traceback (most recent call last)",
      "\u001b[1;32mC:\\Users\\MHOLDB~1\\AppData\\Local\\Temp/ipykernel_39520/3603410633.py\u001b[0m in \u001b[0;36m<module>\u001b[1;34m\u001b[0m\n\u001b[1;32m----> 1\u001b[1;33m \u001b[0mname\u001b[0m\u001b[1;33m[\u001b[0m\u001b[1;36m0\u001b[0m\u001b[1;33m]\u001b[0m \u001b[1;33m=\u001b[0m \u001b[1;34m\"k\"\u001b[0m\u001b[1;33m\u001b[0m\u001b[1;33m\u001b[0m\u001b[0m\n\u001b[0m",
      "\u001b[1;31mTypeError\u001b[0m: 'str' object does not support item assignment"
     ]
    }
   ],
   "source": [
    "name[0] = \"k\""
   ]
  },
  {
   "cell_type": "markdown",
   "id": "fc070266",
   "metadata": {},
   "source": [
    "### Defining New Sequence of Character from a Defined String"
   ]
  },
  {
   "cell_type": "code",
   "execution_count": 48,
   "id": "412ebd2a",
   "metadata": {
    "ExecuteTime": {
     "end_time": "2022-07-02T15:05:50.875681Z",
     "start_time": "2022-07-02T15:05:50.867666Z"
    }
   },
   "outputs": [
    {
     "data": {
      "text/plain": [
       "'PiT Bull'"
      ]
     },
     "execution_count": 48,
     "metadata": {},
     "output_type": "execute_result"
    }
   ],
   "source": [
    "pet = \"PiT Bull\"\n",
    "\n",
    "pet"
   ]
  },
  {
   "cell_type": "code",
   "execution_count": 49,
   "id": "19eba98a",
   "metadata": {
    "ExecuteTime": {
     "end_time": "2022-07-02T15:05:51.405033Z",
     "start_time": "2022-07-02T15:05:51.390969Z"
    }
   },
   "outputs": [
    {
     "data": {
      "text/plain": [
       "'Pit Bull'"
      ]
     },
     "execution_count": 49,
     "metadata": {},
     "output_type": "execute_result"
    }
   ],
   "source": [
    "pet = pet[:2] + \"t\" + pet[3:]\n",
    "\n",
    "pet"
   ]
  },
  {
   "cell_type": "markdown",
   "id": "7fc393ce",
   "metadata": {},
   "source": [
    "## The len Function"
   ]
  },
  {
   "cell_type": "code",
   "execution_count": 50,
   "id": "3877c18a",
   "metadata": {
    "ExecuteTime": {
     "end_time": "2022-07-02T15:06:39.721697Z",
     "start_time": "2022-07-02T15:06:39.713265Z"
    }
   },
   "outputs": [
    {
     "data": {
      "text/plain": [
       "8"
      ]
     },
     "execution_count": 50,
     "metadata": {},
     "output_type": "execute_result"
    }
   ],
   "source": [
    "len(pet)"
   ]
  },
  {
   "cell_type": "code",
   "execution_count": 51,
   "id": "e8f86991",
   "metadata": {
    "ExecuteTime": {
     "end_time": "2022-07-02T15:07:03.393979Z",
     "start_time": "2022-07-02T15:07:03.388776Z"
    }
   },
   "outputs": [
    {
     "data": {
      "text/plain": [
       "'l'"
      ]
     },
     "execution_count": 51,
     "metadata": {},
     "output_type": "execute_result"
    }
   ],
   "source": [
    "pet[len(pet) - 1]"
   ]
  },
  {
   "cell_type": "code",
   "execution_count": 52,
   "id": "59e2efda",
   "metadata": {
    "ExecuteTime": {
     "end_time": "2022-07-02T15:07:22.470416Z",
     "start_time": "2022-07-02T15:07:22.458025Z"
    }
   },
   "outputs": [
    {
     "data": {
      "text/plain": [
       "'l'"
      ]
     },
     "execution_count": 52,
     "metadata": {},
     "output_type": "execute_result"
    }
   ],
   "source": [
    "pet[-1]"
   ]
  },
  {
   "cell_type": "markdown",
   "id": "3515b744",
   "metadata": {},
   "source": [
    "## Traversing a String with a while loop"
   ]
  },
  {
   "cell_type": "code",
   "execution_count": 56,
   "id": "d0347438",
   "metadata": {
    "ExecuteTime": {
     "end_time": "2022-07-02T15:18:22.362997Z",
     "start_time": "2022-07-02T15:18:22.347940Z"
    }
   },
   "outputs": [],
   "source": [
    "def traverse(string):\n",
    "    \n",
    "    index = 0\n",
    "    \n",
    "    while index < len(string):\n",
    "        \n",
    "        letter = string[index]\n",
    "        \n",
    "        print(letter)\n",
    "        \n",
    "        index += 1"
   ]
  },
  {
   "cell_type": "code",
   "execution_count": 58,
   "id": "3385dc0e",
   "metadata": {
    "ExecuteTime": {
     "end_time": "2022-07-02T15:18:35.461215Z",
     "start_time": "2022-07-02T15:18:35.454205Z"
    }
   },
   "outputs": [
    {
     "name": "stdout",
     "output_type": "stream",
     "text": [
      "A\n",
      "d\n",
      "d\n",
      "i\n",
      "c\n",
      "t\n",
      "i\n",
      "v\n",
      "e\n",
      "P\n",
      "y\n",
      "t\n",
      "h\n",
      "o\n",
      "n\n"
     ]
    }
   ],
   "source": [
    "traverse('AddictivePython')"
   ]
  },
  {
   "cell_type": "markdown",
   "id": "7d999e5d",
   "metadata": {},
   "source": [
    "## Traversing a String with a for loop"
   ]
  },
  {
   "cell_type": "code",
   "execution_count": 59,
   "id": "a383a9a6",
   "metadata": {
    "ExecuteTime": {
     "end_time": "2022-07-02T15:19:05.374263Z",
     "start_time": "2022-07-02T15:19:05.358272Z"
    }
   },
   "outputs": [
    {
     "name": "stdout",
     "output_type": "stream",
     "text": [
      "A\n",
      "d\n",
      "d\n",
      "i\n",
      "c\n",
      "t\n",
      "i\n",
      "v\n",
      "e\n",
      "P\n",
      "y\n",
      "t\n",
      "h\n",
      "o\n",
      "n\n"
     ]
    }
   ],
   "source": [
    "for letter in \"AddictivePython\":\n",
    "    print(letter)"
   ]
  },
  {
   "cell_type": "markdown",
   "id": "8b970711",
   "metadata": {},
   "source": [
    "## String Methods"
   ]
  },
  {
   "cell_type": "markdown",
   "id": "e3961ff3",
   "metadata": {},
   "source": [
    "* Find 10 String Methods and how they are used"
   ]
  },
  {
   "cell_type": "markdown",
   "id": "8b88ffe4",
   "metadata": {},
   "source": [
    "* `capitalize()`\n",
    "* `center()`\n",
    "* `casefold(`)\n",
    "* `count()`\n",
    "* `endswith()`\n",
    "* `find()`\n",
    "* `expandtabs()`\n",
    "* `format()`\n",
    "* `index()`\n",
    "* `isalpha()`\n",
    "* `isnum()`\n",
    "* `islower()`\n",
    "* `isupper()`\n",
    "* `isprintable()`\n",
    "* `istitle()`\n",
    "* `isspace()`\n",
    "* `join()`"
   ]
  },
  {
   "cell_type": "code",
   "execution_count": 29,
   "id": "3c0346d8",
   "metadata": {
    "ExecuteTime": {
     "end_time": "2022-07-09T13:36:59.150362Z",
     "start_time": "2022-07-09T13:36:30.728075Z"
    }
   },
   "outputs": [
    {
     "name": "stdout",
     "output_type": "stream",
     "text": [
      "Enter your full name here >>> JASON TATUM??//\\\\\\\n"
     ]
    }
   ],
   "source": [
    "# Input Example ---> Kobe\n",
    "full_name = input(\"Enter your full name here >>> \")"
   ]
  },
  {
   "cell_type": "code",
   "execution_count": 30,
   "id": "3d2cb5ed",
   "metadata": {
    "ExecuteTime": {
     "end_time": "2022-07-09T13:37:01.216549Z",
     "start_time": "2022-07-09T13:37:01.199470Z"
    }
   },
   "outputs": [
    {
     "data": {
      "text/plain": [
       "'JASON TATUM??//\\\\\\\\\\\\'"
      ]
     },
     "execution_count": 30,
     "metadata": {},
     "output_type": "execute_result"
    }
   ],
   "source": [
    "full_name"
   ]
  },
  {
   "cell_type": "code",
   "execution_count": 31,
   "id": "f44a7f35",
   "metadata": {
    "ExecuteTime": {
     "end_time": "2022-07-09T13:37:07.215685Z",
     "start_time": "2022-07-09T13:37:07.206339Z"
    }
   },
   "outputs": [
    {
     "data": {
      "text/plain": [
       "'Jason_Tatum??//\\\\\\\\\\\\'"
      ]
     },
     "execution_count": 31,
     "metadata": {},
     "output_type": "execute_result"
    }
   ],
   "source": [
    "full_name.title().replace(\" \", \"_\")"
   ]
  },
  {
   "cell_type": "code",
   "execution_count": 21,
   "id": "a6e46601",
   "metadata": {
    "ExecuteTime": {
     "end_time": "2022-07-09T13:30:51.907780Z",
     "start_time": "2022-07-09T13:30:51.896753Z"
    }
   },
   "outputs": [
    {
     "name": "stdout",
     "output_type": "stream",
     "text": [
      "The name you entered contains special characters\n"
     ]
    }
   ],
   "source": [
    "if full_name.isalpha() and full_name:\n",
    "    \n",
    "    print(\"You entered the right format\")\n",
    "    \n",
    "else:\n",
    "    \n",
    "    print(\"The name you entered contains special characters\")"
   ]
  },
  {
   "cell_type": "code",
   "execution_count": 34,
   "id": "2c1b7fdd",
   "metadata": {
    "ExecuteTime": {
     "end_time": "2022-07-09T13:37:53.221498Z",
     "start_time": "2022-07-09T13:37:53.202647Z"
    }
   },
   "outputs": [
    {
     "data": {
      "text/plain": [
       "'Jason_Tatum'"
      ]
     },
     "execution_count": 34,
     "metadata": {},
     "output_type": "execute_result"
    }
   ],
   "source": [
    "full_name.strip(\"??//\\\\\\\\\\\\\").title().replace(\" \", \"_\")"
   ]
  },
  {
   "cell_type": "code",
   "execution_count": 36,
   "id": "7d7c8cff",
   "metadata": {
    "ExecuteTime": {
     "end_time": "2022-07-09T13:40:38.502778Z",
     "start_time": "2022-07-09T13:40:38.485419Z"
    }
   },
   "outputs": [],
   "source": [
    "string_ = \"Addictive Python Programming Course\""
   ]
  },
  {
   "cell_type": "code",
   "execution_count": 40,
   "id": "e492ad79",
   "metadata": {
    "ExecuteTime": {
     "end_time": "2022-07-09T13:43:50.380133Z",
     "start_time": "2022-07-09T13:43:50.361142Z"
    }
   },
   "outputs": [
    {
     "data": {
      "text/plain": [
       "10"
      ]
     },
     "execution_count": 40,
     "metadata": {},
     "output_type": "execute_result"
    }
   ],
   "source": [
    "index_of_P = string_.find(\"P\")\n",
    "z\n",
    "index_of_P"
   ]
  },
  {
   "cell_type": "code",
   "execution_count": 42,
   "id": "5df98037",
   "metadata": {
    "ExecuteTime": {
     "end_time": "2022-07-09T13:45:20.177029Z",
     "start_time": "2022-07-09T13:45:20.163540Z"
    }
   },
   "outputs": [
    {
     "data": {
      "text/plain": [
       "10"
      ]
     },
     "execution_count": 42,
     "metadata": {},
     "output_type": "execute_result"
    }
   ],
   "source": [
    "string_.index(\"P\")"
   ]
  },
  {
   "cell_type": "code",
   "execution_count": null,
   "id": "9c7d35e4",
   "metadata": {},
   "outputs": [],
   "source": []
  }
 ],
 "metadata": {
  "kernelspec": {
   "display_name": "Python 3",
   "language": "python",
   "name": "python3"
  },
  "language_info": {
   "codemirror_mode": {
    "name": "ipython",
    "version": 3
   },
   "file_extension": ".py",
   "mimetype": "text/x-python",
   "name": "python",
   "nbconvert_exporter": "python",
   "pygments_lexer": "ipython3",
   "version": "3.8.8"
  },
  "nbTranslate": {
   "displayLangs": [
    "*"
   ],
   "hotkey": "alt-t",
   "langInMainMenu": true,
   "sourceLang": "en",
   "targetLang": "fr",
   "useGoogleTranslate": true
  },
  "toc": {
   "base_numbering": 1,
   "nav_menu": {},
   "number_sections": true,
   "sideBar": true,
   "skip_h1_title": false,
   "title_cell": "Table of Contents",
   "title_sidebar": "Contents",
   "toc_cell": false,
   "toc_position": {},
   "toc_section_display": true,
   "toc_window_display": false
  },
  "varInspector": {
   "cols": {
    "lenName": 16,
    "lenType": 16,
    "lenVar": 40
   },
   "kernels_config": {
    "python": {
     "delete_cmd_postfix": "",
     "delete_cmd_prefix": "del ",
     "library": "var_list.py",
     "varRefreshCmd": "print(var_dic_list())"
    },
    "r": {
     "delete_cmd_postfix": ") ",
     "delete_cmd_prefix": "rm(",
     "library": "var_list.r",
     "varRefreshCmd": "cat(var_dic_list()) "
    }
   },
   "types_to_exclude": [
    "module",
    "function",
    "builtin_function_or_method",
    "instance",
    "_Feature"
   ],
   "window_display": false
  }
 },
 "nbformat": 4,
 "nbformat_minor": 5
}
