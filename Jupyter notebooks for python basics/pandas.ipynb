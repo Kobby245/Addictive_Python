{
 "cells": [
  {
   "cell_type": "markdown",
   "id": "45243abb",
   "metadata": {},
   "source": [
    "# pandas"
   ]
  },
  {
   "cell_type": "markdown",
   "id": "93979565",
   "metadata": {},
   "source": [
    "## Library Highlights"
   ]
  },
  {
   "cell_type": "markdown",
   "id": "ddfc5652",
   "metadata": {},
   "source": [
    "* A fast and efficient DataFrame object for data manipulation with integrated indexing;\n",
    "---\n",
    "* Tools for reading and writing data between in-memory data structures and different formats: CSV and text files, Microsoft Excel, SQL databases, and the fast HDF5 format;\n",
    "---\n",
    "* Intelligent data alignment and integrated handling of missing data: gain automatic label-based alignment in computations and easily manipulate messy data into an orderly form;\n",
    "---\n",
    "* Flexible reshaping and pivoting of data sets;\n",
    "---\n",
    "* Intelligent label-based slicing, fancy indexing, and subsetting of large data sets;\n",
    "---\n",
    "* Columns can be inserted and deleted from data structures for size mutability;\n",
    "---\n",
    "* Aggregating or transforming data with a powerful group by engine allowing split-apply-combine operations on data sets;\n",
    "---\n",
    "* High performance merging and joining of data sets;\n",
    "---\n",
    "* Hierarchical axis indexing provides an intuitive way of working with high-dimensional data in a lower-dimensional data structure;\n",
    "---\n",
    "* Time series-functionality: date range generation and frequency conversion, moving window statistics, date shifting and lagging. Even create domain-specific time offsets and join time series without losing data;\n",
    "---\n",
    "* Highly optimized for performance, with critical code paths written in Cython or C.\n",
    "\n",
    "source: https://pandas.pydata.org/about/index.html"
   ]
  },
  {
   "cell_type": "markdown",
   "id": "7e370d52",
   "metadata": {},
   "source": [
    "## Install pandas"
   ]
  },
  {
   "cell_type": "markdown",
   "id": "4a30b6c0",
   "metadata": {},
   "source": [
    "### using pip to install pandas"
   ]
  },
  {
   "cell_type": "markdown",
   "id": "4e6c6095",
   "metadata": {
    "heading_collapsed": true
   },
   "source": [
    "#### command line"
   ]
  },
  {
   "cell_type": "markdown",
   "id": "b9b135e0",
   "metadata": {
    "hidden": true
   },
   "source": [
    "pip install pandas"
   ]
  },
  {
   "cell_type": "markdown",
   "id": "dd5a924e",
   "metadata": {
    "hidden": true
   },
   "source": [
    "python -m pip install pandas"
   ]
  },
  {
   "cell_type": "markdown",
   "id": "143633ba",
   "metadata": {
    "heading_collapsed": true
   },
   "source": [
    "#### jupyter notebook"
   ]
  },
  {
   "cell_type": "markdown",
   "id": "75dd27a3",
   "metadata": {
    "hidden": true
   },
   "source": [
    "!pip install pandas"
   ]
  },
  {
   "cell_type": "markdown",
   "id": "c489b7dc",
   "metadata": {},
   "source": [
    "### Using conda to install pandas"
   ]
  },
  {
   "cell_type": "markdown",
   "id": "a0340f14",
   "metadata": {
    "heading_collapsed": true
   },
   "source": [
    "#### anaconda prompt"
   ]
  },
  {
   "cell_type": "markdown",
   "id": "e63711ed",
   "metadata": {
    "hidden": true
   },
   "source": [
    "conda install pandas"
   ]
  },
  {
   "cell_type": "markdown",
   "id": "864dcfae",
   "metadata": {
    "hidden": true
   },
   "source": [
    "conda install -c conda-forge pandas"
   ]
  },
  {
   "cell_type": "markdown",
   "id": "c735de14",
   "metadata": {},
   "source": [
    "## Import pandas"
   ]
  },
  {
   "cell_type": "markdown",
   "id": "3f7634a4",
   "metadata": {},
   "source": [
    "import pandas"
   ]
  },
  {
   "cell_type": "markdown",
   "id": "2ae91d09",
   "metadata": {},
   "source": [
    "### Import and alias as pd"
   ]
  },
  {
   "cell_type": "code",
   "execution_count": 1,
   "id": "325a08ad",
   "metadata": {
    "ExecuteTime": {
     "end_time": "2022-08-06T14:22:09.678542Z",
     "start_time": "2022-08-06T14:22:06.693855Z"
    }
   },
   "outputs": [],
   "source": [
    "import pandas as pd\n",
    "import numpy as np"
   ]
  },
  {
   "cell_type": "markdown",
   "id": "91982d0b",
   "metadata": {},
   "source": [
    "## pandas IO"
   ]
  },
  {
   "cell_type": "markdown",
   "id": "ad4c8cc9",
   "metadata": {},
   "source": [
    "### Read Functions"
   ]
  },
  {
   "cell_type": "markdown",
   "id": "01f404ea",
   "metadata": {
    "ExecuteTime": {
     "end_time": "2022-04-23T14:41:00.692839Z",
     "start_time": "2022-04-23T14:41:00.672766Z"
    }
   },
   "source": [
    "- pd.read_csv()\n",
    "\n",
    "- pd.read_excel()\n",
    "\n",
    "- pd.read_sql()\n",
    "\n",
    "- pd.read_sql_query()\n",
    "\n",
    "- pd.read_sql_table()\n",
    "\n",
    "- pd.read_parquet()\n",
    "\n",
    "- pd.read_pickle()\n",
    "\n",
    "- pd.read_clipboard(sep=\",\")\n",
    "\n",
    "- pd.read_html()\n",
    "\n",
    "- pd.read_table()"
   ]
  },
  {
   "cell_type": "markdown",
   "id": "15e62927",
   "metadata": {},
   "source": [
    "### Output Functions"
   ]
  },
  {
   "cell_type": "markdown",
   "id": "576aeae5",
   "metadata": {},
   "source": [
    "- pd.to_csv()\n",
    "\n",
    "- pd.to_excel()\n",
    "\n",
    "- pd.to_sql()\n",
    "\n",
    "- pd.to_parquet()\n",
    "\n",
    "- pd.to_pickle()\n",
    "\n",
    "- pd.to_clipboard(sep=\",\")\n",
    "\n",
    "- pd.to_html()\n",
    "\n",
    "- pd.to_table()"
   ]
  },
  {
   "cell_type": "markdown",
   "id": "13146b26",
   "metadata": {
    "ExecuteTime": {
     "end_time": "2022-04-23T14:41:04.096610Z",
     "start_time": "2022-04-23T14:41:04.057613Z"
    }
   },
   "source": [
    "## Import a csv file"
   ]
  },
  {
   "cell_type": "code",
   "execution_count": 2,
   "id": "0473d729",
   "metadata": {
    "ExecuteTime": {
     "end_time": "2022-08-06T14:22:14.456277Z",
     "start_time": "2022-08-06T14:22:14.431276Z"
    }
   },
   "outputs": [],
   "source": [
    "data = pd.read_csv(\n",
    "    filepath_or_buffer=\"./data/farm_data.csv\",\n",
    "    sep=\",\",\n",
    "    engine=\"c\",\n",
    "    low_memory=False\n",
    ")"
   ]
  },
  {
   "cell_type": "markdown",
   "id": "3fb39d74",
   "metadata": {},
   "source": [
    "## pandas Datatypes"
   ]
  },
  {
   "cell_type": "markdown",
   "id": "f558e496",
   "metadata": {},
   "source": [
    "### DataFrames"
   ]
  },
  {
   "cell_type": "markdown",
   "id": "1a1e0aba",
   "metadata": {},
   "source": [
    "python dictionaries | matrix"
   ]
  },
  {
   "cell_type": "code",
   "execution_count": 3,
   "id": "8655e9b4",
   "metadata": {
    "ExecuteTime": {
     "end_time": "2022-08-06T14:22:28.681349Z",
     "start_time": "2022-08-06T14:22:28.659347Z"
    }
   },
   "outputs": [
    {
     "data": {
      "text/plain": [
       "pandas.core.frame.DataFrame"
      ]
     },
     "execution_count": 3,
     "metadata": {},
     "output_type": "execute_result"
    }
   ],
   "source": [
    "type(data)"
   ]
  },
  {
   "cell_type": "code",
   "execution_count": 4,
   "id": "36c45ad0",
   "metadata": {
    "ExecuteTime": {
     "end_time": "2022-08-06T14:22:28.728349Z",
     "start_time": "2022-08-06T14:22:28.710351Z"
    }
   },
   "outputs": [
    {
     "data": {
      "text/html": [
       "<div>\n",
       "<style scoped>\n",
       "    .dataframe tbody tr th:only-of-type {\n",
       "        vertical-align: middle;\n",
       "    }\n",
       "\n",
       "    .dataframe tbody tr th {\n",
       "        vertical-align: top;\n",
       "    }\n",
       "\n",
       "    .dataframe thead th {\n",
       "        text-align: right;\n",
       "    }\n",
       "</style>\n",
       "<table border=\"1\" class=\"dataframe\">\n",
       "  <thead>\n",
       "    <tr style=\"text-align: right;\">\n",
       "      <th></th>\n",
       "      <th>IDFARM</th>\n",
       "      <th>FARM_TOTAL_AREA_GPS</th>\n",
       "      <th>POINT_LATITUDE</th>\n",
       "      <th>POINT_LONGITUDE</th>\n",
       "      <th>POINT_DATE</th>\n",
       "    </tr>\n",
       "  </thead>\n",
       "  <tbody>\n",
       "    <tr>\n",
       "      <th>0</th>\n",
       "      <td>88797</td>\n",
       "      <td>0.0</td>\n",
       "      <td>6.153048</td>\n",
       "      <td>-2.673048</td>\n",
       "      <td>07/01/2016 13:11:59</td>\n",
       "    </tr>\n",
       "    <tr>\n",
       "      <th>1</th>\n",
       "      <td>88797</td>\n",
       "      <td>0.0</td>\n",
       "      <td>6.152918</td>\n",
       "      <td>-2.672938</td>\n",
       "      <td>07/01/2016 13:11:40</td>\n",
       "    </tr>\n",
       "    <tr>\n",
       "      <th>2</th>\n",
       "      <td>88797</td>\n",
       "      <td>0.0</td>\n",
       "      <td>6.152764</td>\n",
       "      <td>-2.672745</td>\n",
       "      <td>07/01/2016 13:11:10</td>\n",
       "    </tr>\n",
       "  </tbody>\n",
       "</table>\n",
       "</div>"
      ],
      "text/plain": [
       "   IDFARM  FARM_TOTAL_AREA_GPS  POINT_LATITUDE  POINT_LONGITUDE  \\\n",
       "0   88797                  0.0        6.153048        -2.673048   \n",
       "1   88797                  0.0        6.152918        -2.672938   \n",
       "2   88797                  0.0        6.152764        -2.672745   \n",
       "\n",
       "            POINT_DATE  \n",
       "0  07/01/2016 13:11:59  \n",
       "1  07/01/2016 13:11:40  \n",
       "2  07/01/2016 13:11:10  "
      ]
     },
     "execution_count": 4,
     "metadata": {},
     "output_type": "execute_result"
    }
   ],
   "source": [
    "data.loc[:2, :]"
   ]
  },
  {
   "cell_type": "markdown",
   "id": "4efba3c6",
   "metadata": {},
   "source": [
    "### Series"
   ]
  },
  {
   "cell_type": "code",
   "execution_count": 5,
   "id": "fb9b2d0d",
   "metadata": {
    "ExecuteTime": {
     "end_time": "2022-08-06T14:22:37.466844Z",
     "start_time": "2022-08-06T14:22:37.446843Z"
    }
   },
   "outputs": [
    {
     "data": {
      "text/plain": [
       "pandas.core.series.Series"
      ]
     },
     "execution_count": 5,
     "metadata": {},
     "output_type": "execute_result"
    }
   ],
   "source": [
    "type(data[\"IDFARM\"])"
   ]
  },
  {
   "cell_type": "code",
   "execution_count": 6,
   "id": "f88df032",
   "metadata": {
    "ExecuteTime": {
     "end_time": "2022-08-06T14:22:38.074414Z",
     "start_time": "2022-08-06T14:22:38.052421Z"
    }
   },
   "outputs": [
    {
     "data": {
      "text/plain": [
       "0        88797\n",
       "1        88797\n",
       "2        88797\n",
       "3        88797\n",
       "4        88797\n",
       "         ...  \n",
       "2501    262540\n",
       "2502    262540\n",
       "2503    262540\n",
       "2504    262540\n",
       "2505    262540\n",
       "Name: IDFARM, Length: 2506, dtype: int64"
      ]
     },
     "execution_count": 6,
     "metadata": {},
     "output_type": "execute_result"
    }
   ],
   "source": [
    "data[\"IDFARM\"]"
   ]
  },
  {
   "cell_type": "markdown",
   "id": "c6ca6e75",
   "metadata": {},
   "source": [
    "## Take a peek at the first five rows"
   ]
  },
  {
   "cell_type": "code",
   "execution_count": 7,
   "id": "0fd01e86",
   "metadata": {
    "ExecuteTime": {
     "end_time": "2022-08-06T14:22:41.039613Z",
     "start_time": "2022-08-06T14:22:41.024941Z"
    }
   },
   "outputs": [
    {
     "data": {
      "text/html": [
       "<div>\n",
       "<style scoped>\n",
       "    .dataframe tbody tr th:only-of-type {\n",
       "        vertical-align: middle;\n",
       "    }\n",
       "\n",
       "    .dataframe tbody tr th {\n",
       "        vertical-align: top;\n",
       "    }\n",
       "\n",
       "    .dataframe thead th {\n",
       "        text-align: right;\n",
       "    }\n",
       "</style>\n",
       "<table border=\"1\" class=\"dataframe\">\n",
       "  <thead>\n",
       "    <tr style=\"text-align: right;\">\n",
       "      <th></th>\n",
       "      <th>IDFARM</th>\n",
       "      <th>FARM_TOTAL_AREA_GPS</th>\n",
       "      <th>POINT_LATITUDE</th>\n",
       "      <th>POINT_LONGITUDE</th>\n",
       "      <th>POINT_DATE</th>\n",
       "    </tr>\n",
       "  </thead>\n",
       "  <tbody>\n",
       "    <tr>\n",
       "      <th>0</th>\n",
       "      <td>88797</td>\n",
       "      <td>0.0</td>\n",
       "      <td>6.153048</td>\n",
       "      <td>-2.673048</td>\n",
       "      <td>07/01/2016 13:11:59</td>\n",
       "    </tr>\n",
       "    <tr>\n",
       "      <th>1</th>\n",
       "      <td>88797</td>\n",
       "      <td>0.0</td>\n",
       "      <td>6.152918</td>\n",
       "      <td>-2.672938</td>\n",
       "      <td>07/01/2016 13:11:40</td>\n",
       "    </tr>\n",
       "    <tr>\n",
       "      <th>2</th>\n",
       "      <td>88797</td>\n",
       "      <td>0.0</td>\n",
       "      <td>6.152764</td>\n",
       "      <td>-2.672745</td>\n",
       "      <td>07/01/2016 13:11:10</td>\n",
       "    </tr>\n",
       "    <tr>\n",
       "      <th>3</th>\n",
       "      <td>88797</td>\n",
       "      <td>0.0</td>\n",
       "      <td>6.152710</td>\n",
       "      <td>-2.672877</td>\n",
       "      <td>07/01/2016 13:10:54</td>\n",
       "    </tr>\n",
       "    <tr>\n",
       "      <th>4</th>\n",
       "      <td>88797</td>\n",
       "      <td>0.0</td>\n",
       "      <td>6.152379</td>\n",
       "      <td>-2.672898</td>\n",
       "      <td>07/01/2016 13:10:21</td>\n",
       "    </tr>\n",
       "  </tbody>\n",
       "</table>\n",
       "</div>"
      ],
      "text/plain": [
       "   IDFARM  FARM_TOTAL_AREA_GPS  POINT_LATITUDE  POINT_LONGITUDE  \\\n",
       "0   88797                  0.0        6.153048        -2.673048   \n",
       "1   88797                  0.0        6.152918        -2.672938   \n",
       "2   88797                  0.0        6.152764        -2.672745   \n",
       "3   88797                  0.0        6.152710        -2.672877   \n",
       "4   88797                  0.0        6.152379        -2.672898   \n",
       "\n",
       "            POINT_DATE  \n",
       "0  07/01/2016 13:11:59  \n",
       "1  07/01/2016 13:11:40  \n",
       "2  07/01/2016 13:11:10  \n",
       "3  07/01/2016 13:10:54  \n",
       "4  07/01/2016 13:10:21  "
      ]
     },
     "execution_count": 7,
     "metadata": {},
     "output_type": "execute_result"
    }
   ],
   "source": [
    "data.head()"
   ]
  },
  {
   "cell_type": "markdown",
   "id": "d749a811",
   "metadata": {},
   "source": [
    "## Take a peek at the last five rows"
   ]
  },
  {
   "cell_type": "code",
   "execution_count": 8,
   "id": "802e5b83",
   "metadata": {
    "ExecuteTime": {
     "end_time": "2022-08-06T14:22:43.271203Z",
     "start_time": "2022-08-06T14:22:43.257203Z"
    }
   },
   "outputs": [
    {
     "data": {
      "text/html": [
       "<div>\n",
       "<style scoped>\n",
       "    .dataframe tbody tr th:only-of-type {\n",
       "        vertical-align: middle;\n",
       "    }\n",
       "\n",
       "    .dataframe tbody tr th {\n",
       "        vertical-align: top;\n",
       "    }\n",
       "\n",
       "    .dataframe thead th {\n",
       "        text-align: right;\n",
       "    }\n",
       "</style>\n",
       "<table border=\"1\" class=\"dataframe\">\n",
       "  <thead>\n",
       "    <tr style=\"text-align: right;\">\n",
       "      <th></th>\n",
       "      <th>IDFARM</th>\n",
       "      <th>FARM_TOTAL_AREA_GPS</th>\n",
       "      <th>POINT_LATITUDE</th>\n",
       "      <th>POINT_LONGITUDE</th>\n",
       "      <th>POINT_DATE</th>\n",
       "    </tr>\n",
       "  </thead>\n",
       "  <tbody>\n",
       "    <tr>\n",
       "      <th>2501</th>\n",
       "      <td>262540</td>\n",
       "      <td>NaN</td>\n",
       "      <td>6.782437</td>\n",
       "      <td>-3.120298</td>\n",
       "      <td>19/12/2020 16:42:47</td>\n",
       "    </tr>\n",
       "    <tr>\n",
       "      <th>2502</th>\n",
       "      <td>262540</td>\n",
       "      <td>NaN</td>\n",
       "      <td>6.782326</td>\n",
       "      <td>-3.120410</td>\n",
       "      <td>19/12/2020 16:42:20</td>\n",
       "    </tr>\n",
       "    <tr>\n",
       "      <th>2503</th>\n",
       "      <td>262540</td>\n",
       "      <td>NaN</td>\n",
       "      <td>6.782322</td>\n",
       "      <td>-3.120423</td>\n",
       "      <td>19/12/2020 16:42:18</td>\n",
       "    </tr>\n",
       "    <tr>\n",
       "      <th>2504</th>\n",
       "      <td>262540</td>\n",
       "      <td>NaN</td>\n",
       "      <td>6.782152</td>\n",
       "      <td>-3.120367</td>\n",
       "      <td>19/12/2020 16:41:49</td>\n",
       "    </tr>\n",
       "    <tr>\n",
       "      <th>2505</th>\n",
       "      <td>262540</td>\n",
       "      <td>NaN</td>\n",
       "      <td>6.782094</td>\n",
       "      <td>-3.120059</td>\n",
       "      <td>19/12/2020 16:41:05</td>\n",
       "    </tr>\n",
       "  </tbody>\n",
       "</table>\n",
       "</div>"
      ],
      "text/plain": [
       "      IDFARM  FARM_TOTAL_AREA_GPS  POINT_LATITUDE  POINT_LONGITUDE  \\\n",
       "2501  262540                  NaN        6.782437        -3.120298   \n",
       "2502  262540                  NaN        6.782326        -3.120410   \n",
       "2503  262540                  NaN        6.782322        -3.120423   \n",
       "2504  262540                  NaN        6.782152        -3.120367   \n",
       "2505  262540                  NaN        6.782094        -3.120059   \n",
       "\n",
       "               POINT_DATE  \n",
       "2501  19/12/2020 16:42:47  \n",
       "2502  19/12/2020 16:42:20  \n",
       "2503  19/12/2020 16:42:18  \n",
       "2504  19/12/2020 16:41:49  \n",
       "2505  19/12/2020 16:41:05  "
      ]
     },
     "execution_count": 8,
     "metadata": {},
     "output_type": "execute_result"
    }
   ],
   "source": [
    "data.tail()"
   ]
  },
  {
   "cell_type": "markdown",
   "id": "3d791272",
   "metadata": {},
   "source": [
    "## Take a peek at sample of the data"
   ]
  },
  {
   "cell_type": "code",
   "execution_count": 9,
   "id": "7feb700a",
   "metadata": {
    "ExecuteTime": {
     "end_time": "2022-08-06T14:22:46.638388Z",
     "start_time": "2022-08-06T14:22:46.625407Z"
    }
   },
   "outputs": [
    {
     "data": {
      "text/html": [
       "<div>\n",
       "<style scoped>\n",
       "    .dataframe tbody tr th:only-of-type {\n",
       "        vertical-align: middle;\n",
       "    }\n",
       "\n",
       "    .dataframe tbody tr th {\n",
       "        vertical-align: top;\n",
       "    }\n",
       "\n",
       "    .dataframe thead th {\n",
       "        text-align: right;\n",
       "    }\n",
       "</style>\n",
       "<table border=\"1\" class=\"dataframe\">\n",
       "  <thead>\n",
       "    <tr style=\"text-align: right;\">\n",
       "      <th></th>\n",
       "      <th>IDFARM</th>\n",
       "      <th>FARM_TOTAL_AREA_GPS</th>\n",
       "      <th>POINT_LATITUDE</th>\n",
       "      <th>POINT_LONGITUDE</th>\n",
       "      <th>POINT_DATE</th>\n",
       "    </tr>\n",
       "  </thead>\n",
       "  <tbody>\n",
       "    <tr>\n",
       "      <th>1487</th>\n",
       "      <td>381968</td>\n",
       "      <td>NaN</td>\n",
       "      <td>5.669843</td>\n",
       "      <td>-2.226048</td>\n",
       "      <td>25/03/2021 14:22:52</td>\n",
       "    </tr>\n",
       "    <tr>\n",
       "      <th>1596</th>\n",
       "      <td>284552</td>\n",
       "      <td>0.0</td>\n",
       "      <td>5.735992</td>\n",
       "      <td>-2.368637</td>\n",
       "      <td>13/09/2021 08:03:18</td>\n",
       "    </tr>\n",
       "    <tr>\n",
       "      <th>360</th>\n",
       "      <td>460111</td>\n",
       "      <td>NaN</td>\n",
       "      <td>6.326545</td>\n",
       "      <td>-1.108070</td>\n",
       "      <td>30/11/2020 07:54:20</td>\n",
       "    </tr>\n",
       "    <tr>\n",
       "      <th>1479</th>\n",
       "      <td>381968</td>\n",
       "      <td>NaN</td>\n",
       "      <td>5.669445</td>\n",
       "      <td>-2.225593</td>\n",
       "      <td>25/03/2021 14:24:45</td>\n",
       "    </tr>\n",
       "    <tr>\n",
       "      <th>842</th>\n",
       "      <td>512966</td>\n",
       "      <td>NaN</td>\n",
       "      <td>6.439805</td>\n",
       "      <td>-2.737399</td>\n",
       "      <td>10/12/2020 10:24:15</td>\n",
       "    </tr>\n",
       "  </tbody>\n",
       "</table>\n",
       "</div>"
      ],
      "text/plain": [
       "      IDFARM  FARM_TOTAL_AREA_GPS  POINT_LATITUDE  POINT_LONGITUDE  \\\n",
       "1487  381968                  NaN        5.669843        -2.226048   \n",
       "1596  284552                  0.0        5.735992        -2.368637   \n",
       "360   460111                  NaN        6.326545        -1.108070   \n",
       "1479  381968                  NaN        5.669445        -2.225593   \n",
       "842   512966                  NaN        6.439805        -2.737399   \n",
       "\n",
       "               POINT_DATE  \n",
       "1487  25/03/2021 14:22:52  \n",
       "1596  13/09/2021 08:03:18  \n",
       "360   30/11/2020 07:54:20  \n",
       "1479  25/03/2021 14:24:45  \n",
       "842   10/12/2020 10:24:15  "
      ]
     },
     "execution_count": 9,
     "metadata": {},
     "output_type": "execute_result"
    }
   ],
   "source": [
    "data.sample(5)"
   ]
  },
  {
   "cell_type": "markdown",
   "id": "b4d5fc78",
   "metadata": {},
   "source": [
    "## Get Data Information"
   ]
  },
  {
   "cell_type": "code",
   "execution_count": 10,
   "id": "19f4ad0d",
   "metadata": {
    "ExecuteTime": {
     "end_time": "2022-08-06T14:23:02.287245Z",
     "start_time": "2022-08-06T14:23:02.262106Z"
    }
   },
   "outputs": [
    {
     "name": "stdout",
     "output_type": "stream",
     "text": [
      "<class 'pandas.core.frame.DataFrame'>\n",
      "RangeIndex: 2506 entries, 0 to 2505\n",
      "Data columns (total 5 columns):\n",
      " #   Column               Non-Null Count  Dtype  \n",
      "---  ------               --------------  -----  \n",
      " 0   IDFARM               2506 non-null   int64  \n",
      " 1   FARM_TOTAL_AREA_GPS  719 non-null    float64\n",
      " 2   POINT_LATITUDE       2506 non-null   float64\n",
      " 3   POINT_LONGITUDE      2506 non-null   float64\n",
      " 4   POINT_DATE           2506 non-null   object \n",
      "dtypes: float64(3), int64(1), object(1)\n",
      "memory usage: 98.0+ KB\n"
     ]
    }
   ],
   "source": [
    "data.info()"
   ]
  },
  {
   "cell_type": "markdown",
   "id": "670ca10b",
   "metadata": {},
   "source": [
    "## Get Statistical Summary"
   ]
  },
  {
   "cell_type": "code",
   "execution_count": 11,
   "id": "cadb9105",
   "metadata": {
    "ExecuteTime": {
     "end_time": "2022-08-06T14:26:31.103686Z",
     "start_time": "2022-08-06T14:26:31.075687Z"
    }
   },
   "outputs": [
    {
     "data": {
      "text/html": [
       "<div>\n",
       "<style scoped>\n",
       "    .dataframe tbody tr th:only-of-type {\n",
       "        vertical-align: middle;\n",
       "    }\n",
       "\n",
       "    .dataframe tbody tr th {\n",
       "        vertical-align: top;\n",
       "    }\n",
       "\n",
       "    .dataframe thead th {\n",
       "        text-align: right;\n",
       "    }\n",
       "</style>\n",
       "<table border=\"1\" class=\"dataframe\">\n",
       "  <thead>\n",
       "    <tr style=\"text-align: right;\">\n",
       "      <th></th>\n",
       "      <th>IDFARM</th>\n",
       "      <th>FARM_TOTAL_AREA_GPS</th>\n",
       "      <th>POINT_LATITUDE</th>\n",
       "      <th>POINT_LONGITUDE</th>\n",
       "    </tr>\n",
       "  </thead>\n",
       "  <tbody>\n",
       "    <tr>\n",
       "      <th>count</th>\n",
       "      <td>2506.000000</td>\n",
       "      <td>719.0</td>\n",
       "      <td>2506.000000</td>\n",
       "      <td>2506.000000</td>\n",
       "    </tr>\n",
       "    <tr>\n",
       "      <th>mean</th>\n",
       "      <td>272702.160814</td>\n",
       "      <td>0.0</td>\n",
       "      <td>6.146618</td>\n",
       "      <td>-2.534416</td>\n",
       "    </tr>\n",
       "    <tr>\n",
       "      <th>std</th>\n",
       "      <td>139665.849334</td>\n",
       "      <td>0.0</td>\n",
       "      <td>0.449901</td>\n",
       "      <td>0.392378</td>\n",
       "    </tr>\n",
       "    <tr>\n",
       "      <th>min</th>\n",
       "      <td>390.000000</td>\n",
       "      <td>0.0</td>\n",
       "      <td>5.589454</td>\n",
       "      <td>-3.165431</td>\n",
       "    </tr>\n",
       "    <tr>\n",
       "      <th>25%</th>\n",
       "      <td>203705.000000</td>\n",
       "      <td>0.0</td>\n",
       "      <td>5.744747</td>\n",
       "      <td>-2.842259</td>\n",
       "    </tr>\n",
       "    <tr>\n",
       "      <th>50%</th>\n",
       "      <td>284383.000000</td>\n",
       "      <td>0.0</td>\n",
       "      <td>6.115800</td>\n",
       "      <td>-2.626135</td>\n",
       "    </tr>\n",
       "    <tr>\n",
       "      <th>75%</th>\n",
       "      <td>384337.000000</td>\n",
       "      <td>0.0</td>\n",
       "      <td>6.373064</td>\n",
       "      <td>-2.349313</td>\n",
       "    </tr>\n",
       "    <tr>\n",
       "      <th>max</th>\n",
       "      <td>578641.000000</td>\n",
       "      <td>0.0</td>\n",
       "      <td>7.222613</td>\n",
       "      <td>-1.039747</td>\n",
       "    </tr>\n",
       "  </tbody>\n",
       "</table>\n",
       "</div>"
      ],
      "text/plain": [
       "              IDFARM  FARM_TOTAL_AREA_GPS  POINT_LATITUDE  POINT_LONGITUDE\n",
       "count    2506.000000                719.0     2506.000000      2506.000000\n",
       "mean   272702.160814                  0.0        6.146618        -2.534416\n",
       "std    139665.849334                  0.0        0.449901         0.392378\n",
       "min       390.000000                  0.0        5.589454        -3.165431\n",
       "25%    203705.000000                  0.0        5.744747        -2.842259\n",
       "50%    284383.000000                  0.0        6.115800        -2.626135\n",
       "75%    384337.000000                  0.0        6.373064        -2.349313\n",
       "max    578641.000000                  0.0        7.222613        -1.039747"
      ]
     },
     "execution_count": 11,
     "metadata": {},
     "output_type": "execute_result"
    }
   ],
   "source": [
    "data.describe()"
   ]
  },
  {
   "cell_type": "code",
   "execution_count": 12,
   "id": "fd1a3667",
   "metadata": {
    "ExecuteTime": {
     "end_time": "2022-08-06T14:28:43.455896Z",
     "start_time": "2022-08-06T14:28:43.439897Z"
    }
   },
   "outputs": [
    {
     "data": {
      "text/html": [
       "<div>\n",
       "<style scoped>\n",
       "    .dataframe tbody tr th:only-of-type {\n",
       "        vertical-align: middle;\n",
       "    }\n",
       "\n",
       "    .dataframe tbody tr th {\n",
       "        vertical-align: top;\n",
       "    }\n",
       "\n",
       "    .dataframe thead th {\n",
       "        text-align: right;\n",
       "    }\n",
       "</style>\n",
       "<table border=\"1\" class=\"dataframe\">\n",
       "  <thead>\n",
       "    <tr style=\"text-align: right;\">\n",
       "      <th></th>\n",
       "      <th>POINT_DATE</th>\n",
       "    </tr>\n",
       "  </thead>\n",
       "  <tbody>\n",
       "    <tr>\n",
       "      <th>count</th>\n",
       "      <td>2506</td>\n",
       "    </tr>\n",
       "    <tr>\n",
       "      <th>unique</th>\n",
       "      <td>2429</td>\n",
       "    </tr>\n",
       "    <tr>\n",
       "      <th>top</th>\n",
       "      <td>20/03/2016 03:24:56</td>\n",
       "    </tr>\n",
       "    <tr>\n",
       "      <th>freq</th>\n",
       "      <td>3</td>\n",
       "    </tr>\n",
       "  </tbody>\n",
       "</table>\n",
       "</div>"
      ],
      "text/plain": [
       "                 POINT_DATE\n",
       "count                  2506\n",
       "unique                 2429\n",
       "top     20/03/2016 03:24:56\n",
       "freq                      3"
      ]
     },
     "execution_count": 12,
     "metadata": {},
     "output_type": "execute_result"
    }
   ],
   "source": [
    "data.describe(include=\"object\")"
   ]
  },
  {
   "cell_type": "code",
   "execution_count": 13,
   "id": "ab6424e5",
   "metadata": {
    "ExecuteTime": {
     "end_time": "2022-08-06T14:29:38.349055Z",
     "start_time": "2022-08-06T14:29:38.309057Z"
    }
   },
   "outputs": [
    {
     "data": {
      "text/html": [
       "<div>\n",
       "<style scoped>\n",
       "    .dataframe tbody tr th:only-of-type {\n",
       "        vertical-align: middle;\n",
       "    }\n",
       "\n",
       "    .dataframe tbody tr th {\n",
       "        vertical-align: top;\n",
       "    }\n",
       "\n",
       "    .dataframe thead th {\n",
       "        text-align: right;\n",
       "    }\n",
       "</style>\n",
       "<table border=\"1\" class=\"dataframe\">\n",
       "  <thead>\n",
       "    <tr style=\"text-align: right;\">\n",
       "      <th></th>\n",
       "      <th>IDFARM</th>\n",
       "      <th>FARM_TOTAL_AREA_GPS</th>\n",
       "      <th>POINT_LATITUDE</th>\n",
       "      <th>POINT_LONGITUDE</th>\n",
       "    </tr>\n",
       "  </thead>\n",
       "  <tbody>\n",
       "    <tr>\n",
       "      <th>count</th>\n",
       "      <td>2506.000000</td>\n",
       "      <td>719.0</td>\n",
       "      <td>2506.000000</td>\n",
       "      <td>2506.000000</td>\n",
       "    </tr>\n",
       "    <tr>\n",
       "      <th>mean</th>\n",
       "      <td>272702.160814</td>\n",
       "      <td>0.0</td>\n",
       "      <td>6.146618</td>\n",
       "      <td>-2.534416</td>\n",
       "    </tr>\n",
       "    <tr>\n",
       "      <th>std</th>\n",
       "      <td>139665.849334</td>\n",
       "      <td>0.0</td>\n",
       "      <td>0.449901</td>\n",
       "      <td>0.392378</td>\n",
       "    </tr>\n",
       "    <tr>\n",
       "      <th>min</th>\n",
       "      <td>390.000000</td>\n",
       "      <td>0.0</td>\n",
       "      <td>5.589454</td>\n",
       "      <td>-3.165431</td>\n",
       "    </tr>\n",
       "    <tr>\n",
       "      <th>25%</th>\n",
       "      <td>203705.000000</td>\n",
       "      <td>0.0</td>\n",
       "      <td>5.744747</td>\n",
       "      <td>-2.842259</td>\n",
       "    </tr>\n",
       "    <tr>\n",
       "      <th>50%</th>\n",
       "      <td>284383.000000</td>\n",
       "      <td>0.0</td>\n",
       "      <td>6.115800</td>\n",
       "      <td>-2.626135</td>\n",
       "    </tr>\n",
       "    <tr>\n",
       "      <th>75%</th>\n",
       "      <td>384337.000000</td>\n",
       "      <td>0.0</td>\n",
       "      <td>6.373064</td>\n",
       "      <td>-2.349313</td>\n",
       "    </tr>\n",
       "    <tr>\n",
       "      <th>max</th>\n",
       "      <td>578641.000000</td>\n",
       "      <td>0.0</td>\n",
       "      <td>7.222613</td>\n",
       "      <td>-1.039747</td>\n",
       "    </tr>\n",
       "  </tbody>\n",
       "</table>\n",
       "</div>"
      ],
      "text/plain": [
       "              IDFARM  FARM_TOTAL_AREA_GPS  POINT_LATITUDE  POINT_LONGITUDE\n",
       "count    2506.000000                719.0     2506.000000      2506.000000\n",
       "mean   272702.160814                  0.0        6.146618        -2.534416\n",
       "std    139665.849334                  0.0        0.449901         0.392378\n",
       "min       390.000000                  0.0        5.589454        -3.165431\n",
       "25%    203705.000000                  0.0        5.744747        -2.842259\n",
       "50%    284383.000000                  0.0        6.115800        -2.626135\n",
       "75%    384337.000000                  0.0        6.373064        -2.349313\n",
       "max    578641.000000                  0.0        7.222613        -1.039747"
      ]
     },
     "execution_count": 13,
     "metadata": {},
     "output_type": "execute_result"
    }
   ],
   "source": [
    "data.describe(include=np.number)"
   ]
  },
  {
   "cell_type": "code",
   "execution_count": 14,
   "id": "351f21f6",
   "metadata": {
    "ExecuteTime": {
     "end_time": "2022-08-06T14:30:17.325417Z",
     "start_time": "2022-08-06T14:30:17.283424Z"
    }
   },
   "outputs": [
    {
     "data": {
      "text/html": [
       "<div>\n",
       "<style scoped>\n",
       "    .dataframe tbody tr th:only-of-type {\n",
       "        vertical-align: middle;\n",
       "    }\n",
       "\n",
       "    .dataframe tbody tr th {\n",
       "        vertical-align: top;\n",
       "    }\n",
       "\n",
       "    .dataframe thead th {\n",
       "        text-align: right;\n",
       "    }\n",
       "</style>\n",
       "<table border=\"1\" class=\"dataframe\">\n",
       "  <thead>\n",
       "    <tr style=\"text-align: right;\">\n",
       "      <th></th>\n",
       "      <th>IDFARM</th>\n",
       "      <th>FARM_TOTAL_AREA_GPS</th>\n",
       "      <th>POINT_LATITUDE</th>\n",
       "      <th>POINT_LONGITUDE</th>\n",
       "    </tr>\n",
       "  </thead>\n",
       "  <tbody>\n",
       "    <tr>\n",
       "      <th>count</th>\n",
       "      <td>2506.000000</td>\n",
       "      <td>719.0</td>\n",
       "      <td>2506.000000</td>\n",
       "      <td>2506.000000</td>\n",
       "    </tr>\n",
       "    <tr>\n",
       "      <th>mean</th>\n",
       "      <td>272702.160814</td>\n",
       "      <td>0.0</td>\n",
       "      <td>6.146618</td>\n",
       "      <td>-2.534416</td>\n",
       "    </tr>\n",
       "    <tr>\n",
       "      <th>std</th>\n",
       "      <td>139665.849334</td>\n",
       "      <td>0.0</td>\n",
       "      <td>0.449901</td>\n",
       "      <td>0.392378</td>\n",
       "    </tr>\n",
       "    <tr>\n",
       "      <th>min</th>\n",
       "      <td>390.000000</td>\n",
       "      <td>0.0</td>\n",
       "      <td>5.589454</td>\n",
       "      <td>-3.165431</td>\n",
       "    </tr>\n",
       "    <tr>\n",
       "      <th>25%</th>\n",
       "      <td>203705.000000</td>\n",
       "      <td>0.0</td>\n",
       "      <td>5.744747</td>\n",
       "      <td>-2.842259</td>\n",
       "    </tr>\n",
       "    <tr>\n",
       "      <th>50%</th>\n",
       "      <td>284383.000000</td>\n",
       "      <td>0.0</td>\n",
       "      <td>6.115800</td>\n",
       "      <td>-2.626135</td>\n",
       "    </tr>\n",
       "    <tr>\n",
       "      <th>75%</th>\n",
       "      <td>384337.000000</td>\n",
       "      <td>0.0</td>\n",
       "      <td>6.373064</td>\n",
       "      <td>-2.349313</td>\n",
       "    </tr>\n",
       "    <tr>\n",
       "      <th>max</th>\n",
       "      <td>578641.000000</td>\n",
       "      <td>0.0</td>\n",
       "      <td>7.222613</td>\n",
       "      <td>-1.039747</td>\n",
       "    </tr>\n",
       "  </tbody>\n",
       "</table>\n",
       "</div>"
      ],
      "text/plain": [
       "              IDFARM  FARM_TOTAL_AREA_GPS  POINT_LATITUDE  POINT_LONGITUDE\n",
       "count    2506.000000                719.0     2506.000000      2506.000000\n",
       "mean   272702.160814                  0.0        6.146618        -2.534416\n",
       "std    139665.849334                  0.0        0.449901         0.392378\n",
       "min       390.000000                  0.0        5.589454        -3.165431\n",
       "25%    203705.000000                  0.0        5.744747        -2.842259\n",
       "50%    284383.000000                  0.0        6.115800        -2.626135\n",
       "75%    384337.000000                  0.0        6.373064        -2.349313\n",
       "max    578641.000000                  0.0        7.222613        -1.039747"
      ]
     },
     "execution_count": 14,
     "metadata": {},
     "output_type": "execute_result"
    }
   ],
   "source": [
    "data.describe(exclude=\"object\")"
   ]
  },
  {
   "cell_type": "code",
   "execution_count": 15,
   "id": "71d8a46c",
   "metadata": {
    "ExecuteTime": {
     "end_time": "2022-08-06T14:30:29.529945Z",
     "start_time": "2022-08-06T14:30:29.501882Z"
    }
   },
   "outputs": [
    {
     "data": {
      "text/html": [
       "<div>\n",
       "<style scoped>\n",
       "    .dataframe tbody tr th:only-of-type {\n",
       "        vertical-align: middle;\n",
       "    }\n",
       "\n",
       "    .dataframe tbody tr th {\n",
       "        vertical-align: top;\n",
       "    }\n",
       "\n",
       "    .dataframe thead th {\n",
       "        text-align: right;\n",
       "    }\n",
       "</style>\n",
       "<table border=\"1\" class=\"dataframe\">\n",
       "  <thead>\n",
       "    <tr style=\"text-align: right;\">\n",
       "      <th></th>\n",
       "      <th>IDFARM</th>\n",
       "      <th>POINT_DATE</th>\n",
       "    </tr>\n",
       "  </thead>\n",
       "  <tbody>\n",
       "    <tr>\n",
       "      <th>count</th>\n",
       "      <td>2506.000000</td>\n",
       "      <td>2506</td>\n",
       "    </tr>\n",
       "    <tr>\n",
       "      <th>unique</th>\n",
       "      <td>NaN</td>\n",
       "      <td>2429</td>\n",
       "    </tr>\n",
       "    <tr>\n",
       "      <th>top</th>\n",
       "      <td>NaN</td>\n",
       "      <td>20/03/2016 03:24:56</td>\n",
       "    </tr>\n",
       "    <tr>\n",
       "      <th>freq</th>\n",
       "      <td>NaN</td>\n",
       "      <td>3</td>\n",
       "    </tr>\n",
       "    <tr>\n",
       "      <th>mean</th>\n",
       "      <td>272702.160814</td>\n",
       "      <td>NaN</td>\n",
       "    </tr>\n",
       "    <tr>\n",
       "      <th>std</th>\n",
       "      <td>139665.849334</td>\n",
       "      <td>NaN</td>\n",
       "    </tr>\n",
       "    <tr>\n",
       "      <th>min</th>\n",
       "      <td>390.000000</td>\n",
       "      <td>NaN</td>\n",
       "    </tr>\n",
       "    <tr>\n",
       "      <th>25%</th>\n",
       "      <td>203705.000000</td>\n",
       "      <td>NaN</td>\n",
       "    </tr>\n",
       "    <tr>\n",
       "      <th>50%</th>\n",
       "      <td>284383.000000</td>\n",
       "      <td>NaN</td>\n",
       "    </tr>\n",
       "    <tr>\n",
       "      <th>75%</th>\n",
       "      <td>384337.000000</td>\n",
       "      <td>NaN</td>\n",
       "    </tr>\n",
       "    <tr>\n",
       "      <th>max</th>\n",
       "      <td>578641.000000</td>\n",
       "      <td>NaN</td>\n",
       "    </tr>\n",
       "  </tbody>\n",
       "</table>\n",
       "</div>"
      ],
      "text/plain": [
       "               IDFARM           POINT_DATE\n",
       "count     2506.000000                 2506\n",
       "unique            NaN                 2429\n",
       "top               NaN  20/03/2016 03:24:56\n",
       "freq              NaN                    3\n",
       "mean    272702.160814                  NaN\n",
       "std     139665.849334                  NaN\n",
       "min        390.000000                  NaN\n",
       "25%     203705.000000                  NaN\n",
       "50%     284383.000000                  NaN\n",
       "75%     384337.000000                  NaN\n",
       "max     578641.000000                  NaN"
      ]
     },
     "execution_count": 15,
     "metadata": {},
     "output_type": "execute_result"
    }
   ],
   "source": [
    "data.describe(exclude=\"float\")"
   ]
  },
  {
   "cell_type": "markdown",
   "id": "ba67f756",
   "metadata": {},
   "source": [
    "## Format Column Heads"
   ]
  },
  {
   "cell_type": "code",
   "execution_count": 17,
   "id": "5b7ffb9b",
   "metadata": {
    "ExecuteTime": {
     "end_time": "2022-08-06T14:34:23.476815Z",
     "start_time": "2022-08-06T14:34:23.458814Z"
    }
   },
   "outputs": [
    {
     "data": {
      "text/plain": [
       "Index(['IDFARM', 'FARM_TOTAL_AREA_GPS', 'POINT_LATITUDE', 'POINT_LONGITUDE',\n",
       "       'POINT_DATE'],\n",
       "      dtype='object')"
      ]
     },
     "execution_count": 17,
     "metadata": {},
     "output_type": "execute_result"
    }
   ],
   "source": [
    "data.columns"
   ]
  },
  {
   "cell_type": "code",
   "execution_count": 18,
   "id": "82561ef7",
   "metadata": {
    "ExecuteTime": {
     "end_time": "2022-08-06T14:35:01.739046Z",
     "start_time": "2022-08-06T14:35:01.720639Z"
    }
   },
   "outputs": [
    {
     "data": {
      "text/plain": [
       "Index(['IDFARM', 'FARM_TOTAL_AREA_GPS', 'POINT_LATITUDE', 'POINT_LONGITUDE',\n",
       "       'POINT_DATE'],\n",
       "      dtype='object')"
      ]
     },
     "execution_count": 18,
     "metadata": {},
     "output_type": "execute_result"
    }
   ],
   "source": [
    "data_columns = data.columns\n",
    "\n",
    "data_columns"
   ]
  },
  {
   "cell_type": "code",
   "execution_count": 19,
   "id": "05956028",
   "metadata": {
    "ExecuteTime": {
     "end_time": "2022-08-06T14:35:33.117162Z",
     "start_time": "2022-08-06T14:35:33.104144Z"
    }
   },
   "outputs": [
    {
     "data": {
      "text/plain": [
       "Index(['idfarm', 'farm_total_area_gps', 'point_latitude', 'point_longitude',\n",
       "       'point_date'],\n",
       "      dtype='object')"
      ]
     },
     "execution_count": 19,
     "metadata": {},
     "output_type": "execute_result"
    }
   ],
   "source": [
    "formatted_columns = data_columns.str.lower()\n",
    "\n",
    "formatted_columns"
   ]
  },
  {
   "cell_type": "code",
   "execution_count": 20,
   "id": "9e3a3af3",
   "metadata": {
    "ExecuteTime": {
     "end_time": "2022-08-06T14:35:53.018385Z",
     "start_time": "2022-08-06T14:35:53.009424Z"
    }
   },
   "outputs": [],
   "source": [
    "data.columns = formatted_columns"
   ]
  },
  {
   "cell_type": "code",
   "execution_count": 21,
   "id": "1fb89594",
   "metadata": {
    "ExecuteTime": {
     "end_time": "2022-08-06T14:35:56.093310Z",
     "start_time": "2022-08-06T14:35:56.064313Z"
    }
   },
   "outputs": [
    {
     "data": {
      "text/html": [
       "<div>\n",
       "<style scoped>\n",
       "    .dataframe tbody tr th:only-of-type {\n",
       "        vertical-align: middle;\n",
       "    }\n",
       "\n",
       "    .dataframe tbody tr th {\n",
       "        vertical-align: top;\n",
       "    }\n",
       "\n",
       "    .dataframe thead th {\n",
       "        text-align: right;\n",
       "    }\n",
       "</style>\n",
       "<table border=\"1\" class=\"dataframe\">\n",
       "  <thead>\n",
       "    <tr style=\"text-align: right;\">\n",
       "      <th></th>\n",
       "      <th>idfarm</th>\n",
       "      <th>farm_total_area_gps</th>\n",
       "      <th>point_latitude</th>\n",
       "      <th>point_longitude</th>\n",
       "      <th>point_date</th>\n",
       "    </tr>\n",
       "  </thead>\n",
       "  <tbody>\n",
       "    <tr>\n",
       "      <th>0</th>\n",
       "      <td>88797</td>\n",
       "      <td>0.0</td>\n",
       "      <td>6.153048</td>\n",
       "      <td>-2.673048</td>\n",
       "      <td>07/01/2016 13:11:59</td>\n",
       "    </tr>\n",
       "    <tr>\n",
       "      <th>1</th>\n",
       "      <td>88797</td>\n",
       "      <td>0.0</td>\n",
       "      <td>6.152918</td>\n",
       "      <td>-2.672938</td>\n",
       "      <td>07/01/2016 13:11:40</td>\n",
       "    </tr>\n",
       "    <tr>\n",
       "      <th>2</th>\n",
       "      <td>88797</td>\n",
       "      <td>0.0</td>\n",
       "      <td>6.152764</td>\n",
       "      <td>-2.672745</td>\n",
       "      <td>07/01/2016 13:11:10</td>\n",
       "    </tr>\n",
       "    <tr>\n",
       "      <th>3</th>\n",
       "      <td>88797</td>\n",
       "      <td>0.0</td>\n",
       "      <td>6.152710</td>\n",
       "      <td>-2.672877</td>\n",
       "      <td>07/01/2016 13:10:54</td>\n",
       "    </tr>\n",
       "    <tr>\n",
       "      <th>4</th>\n",
       "      <td>88797</td>\n",
       "      <td>0.0</td>\n",
       "      <td>6.152379</td>\n",
       "      <td>-2.672898</td>\n",
       "      <td>07/01/2016 13:10:21</td>\n",
       "    </tr>\n",
       "  </tbody>\n",
       "</table>\n",
       "</div>"
      ],
      "text/plain": [
       "   idfarm  farm_total_area_gps  point_latitude  point_longitude  \\\n",
       "0   88797                  0.0        6.153048        -2.673048   \n",
       "1   88797                  0.0        6.152918        -2.672938   \n",
       "2   88797                  0.0        6.152764        -2.672745   \n",
       "3   88797                  0.0        6.152710        -2.672877   \n",
       "4   88797                  0.0        6.152379        -2.672898   \n",
       "\n",
       "            point_date  \n",
       "0  07/01/2016 13:11:59  \n",
       "1  07/01/2016 13:11:40  \n",
       "2  07/01/2016 13:11:10  \n",
       "3  07/01/2016 13:10:54  \n",
       "4  07/01/2016 13:10:21  "
      ]
     },
     "execution_count": 21,
     "metadata": {},
     "output_type": "execute_result"
    }
   ],
   "source": [
    "data.head()"
   ]
  },
  {
   "cell_type": "markdown",
   "id": "3c7842f5",
   "metadata": {
    "ExecuteTime": {
     "end_time": "2022-04-23T15:36:15.917663Z",
     "start_time": "2022-04-23T15:36:15.910663Z"
    }
   },
   "source": [
    "## Rename Column Names"
   ]
  },
  {
   "cell_type": "code",
   "execution_count": 24,
   "id": "7fd7ba52",
   "metadata": {
    "ExecuteTime": {
     "end_time": "2022-08-06T14:38:42.471118Z",
     "start_time": "2022-08-06T14:38:42.456114Z"
    },
    "scrolled": true
   },
   "outputs": [],
   "source": [
    "data.rename(\n",
    "    columns={\n",
    "        'farm_total_area_gps': \"farm_size\",\n",
    "        \"idfarm\": \"farm_id\",\n",
    "    }, \n",
    "    inplace=True\n",
    ")"
   ]
  },
  {
   "cell_type": "code",
   "execution_count": 25,
   "id": "2575727c",
   "metadata": {
    "ExecuteTime": {
     "end_time": "2022-08-06T14:38:43.610051Z",
     "start_time": "2022-08-06T14:38:43.591085Z"
    }
   },
   "outputs": [
    {
     "data": {
      "text/html": [
       "<div>\n",
       "<style scoped>\n",
       "    .dataframe tbody tr th:only-of-type {\n",
       "        vertical-align: middle;\n",
       "    }\n",
       "\n",
       "    .dataframe tbody tr th {\n",
       "        vertical-align: top;\n",
       "    }\n",
       "\n",
       "    .dataframe thead th {\n",
       "        text-align: right;\n",
       "    }\n",
       "</style>\n",
       "<table border=\"1\" class=\"dataframe\">\n",
       "  <thead>\n",
       "    <tr style=\"text-align: right;\">\n",
       "      <th></th>\n",
       "      <th>farm_id</th>\n",
       "      <th>farm_size</th>\n",
       "      <th>point_latitude</th>\n",
       "      <th>point_longitude</th>\n",
       "      <th>point_date</th>\n",
       "    </tr>\n",
       "  </thead>\n",
       "  <tbody>\n",
       "    <tr>\n",
       "      <th>0</th>\n",
       "      <td>88797</td>\n",
       "      <td>0.0</td>\n",
       "      <td>6.153048</td>\n",
       "      <td>-2.673048</td>\n",
       "      <td>07/01/2016 13:11:59</td>\n",
       "    </tr>\n",
       "    <tr>\n",
       "      <th>1</th>\n",
       "      <td>88797</td>\n",
       "      <td>0.0</td>\n",
       "      <td>6.152918</td>\n",
       "      <td>-2.672938</td>\n",
       "      <td>07/01/2016 13:11:40</td>\n",
       "    </tr>\n",
       "  </tbody>\n",
       "</table>\n",
       "</div>"
      ],
      "text/plain": [
       "   farm_id  farm_size  point_latitude  point_longitude           point_date\n",
       "0    88797        0.0        6.153048        -2.673048  07/01/2016 13:11:59\n",
       "1    88797        0.0        6.152918        -2.672938  07/01/2016 13:11:40"
      ]
     },
     "execution_count": 25,
     "metadata": {},
     "output_type": "execute_result"
    }
   ],
   "source": [
    "data.head(2)"
   ]
  },
  {
   "cell_type": "markdown",
   "id": "902e5005",
   "metadata": {},
   "source": [
    "## Change Type"
   ]
  },
  {
   "cell_type": "code",
   "execution_count": 26,
   "id": "20e3f783",
   "metadata": {
    "ExecuteTime": {
     "end_time": "2022-08-06T14:40:26.407399Z",
     "start_time": "2022-08-06T14:40:25.984374Z"
    }
   },
   "outputs": [
    {
     "data": {
      "text/plain": [
       "0      2016-07-01 13:11:59\n",
       "1      2016-07-01 13:11:40\n",
       "2      2016-07-01 13:11:10\n",
       "3      2016-07-01 13:10:54\n",
       "4      2016-07-01 13:10:21\n",
       "               ...        \n",
       "2501   2020-12-19 16:42:47\n",
       "2502   2020-12-19 16:42:20\n",
       "2503   2020-12-19 16:42:18\n",
       "2504   2020-12-19 16:41:49\n",
       "2505   2020-12-19 16:41:05\n",
       "Name: point_date, Length: 2506, dtype: datetime64[ns]"
      ]
     },
     "execution_count": 26,
     "metadata": {},
     "output_type": "execute_result"
    }
   ],
   "source": [
    "pd.to_datetime(data[\"point_date\"])"
   ]
  },
  {
   "cell_type": "code",
   "execution_count": 27,
   "id": "081533a0",
   "metadata": {
    "ExecuteTime": {
     "end_time": "2022-08-06T14:40:53.395702Z",
     "start_time": "2022-08-06T14:40:53.386701Z"
    }
   },
   "outputs": [
    {
     "data": {
      "text/plain": [
       "dtype('O')"
      ]
     },
     "execution_count": 27,
     "metadata": {},
     "output_type": "execute_result"
    }
   ],
   "source": [
    "data[\"point_date\"].dtype"
   ]
  },
  {
   "cell_type": "code",
   "execution_count": 28,
   "id": "a93bac4a",
   "metadata": {
    "ExecuteTime": {
     "end_time": "2022-08-06T14:42:09.368600Z",
     "start_time": "2022-08-06T14:42:08.945571Z"
    }
   },
   "outputs": [],
   "source": [
    "data[\"point_date\"] = pd.to_datetime(data[\"point_date\"])"
   ]
  },
  {
   "cell_type": "code",
   "execution_count": 29,
   "id": "a10915cb",
   "metadata": {
    "ExecuteTime": {
     "end_time": "2022-08-06T14:42:14.346443Z",
     "start_time": "2022-08-06T14:42:14.328440Z"
    }
   },
   "outputs": [
    {
     "name": "stdout",
     "output_type": "stream",
     "text": [
      "<class 'pandas.core.frame.DataFrame'>\n",
      "RangeIndex: 2506 entries, 0 to 2505\n",
      "Data columns (total 5 columns):\n",
      " #   Column           Non-Null Count  Dtype         \n",
      "---  ------           --------------  -----         \n",
      " 0   farm_id          2506 non-null   int64         \n",
      " 1   farm_size        719 non-null    float64       \n",
      " 2   point_latitude   2506 non-null   float64       \n",
      " 3   point_longitude  2506 non-null   float64       \n",
      " 4   point_date       2506 non-null   datetime64[ns]\n",
      "dtypes: datetime64[ns](1), float64(3), int64(1)\n",
      "memory usage: 98.0 KB\n"
     ]
    }
   ],
   "source": [
    "data.info()"
   ]
  },
  {
   "cell_type": "markdown",
   "id": "228f665d",
   "metadata": {},
   "source": [
    "## Check Missing Values"
   ]
  },
  {
   "cell_type": "code",
   "execution_count": 36,
   "id": "ab527774",
   "metadata": {
    "ExecuteTime": {
     "end_time": "2022-08-06T14:46:21.388477Z",
     "start_time": "2022-08-06T14:46:21.364478Z"
    }
   },
   "outputs": [
    {
     "data": {
      "text/plain": [
       "farm_id            False\n",
       "farm_size           True\n",
       "point_latitude     False\n",
       "point_longitude    False\n",
       "point_date         False\n",
       "dtype: bool"
      ]
     },
     "execution_count": 36,
     "metadata": {},
     "output_type": "execute_result"
    }
   ],
   "source": [
    "data.isnull().any()"
   ]
  },
  {
   "cell_type": "code",
   "execution_count": 32,
   "id": "3e99d7ff",
   "metadata": {
    "ExecuteTime": {
     "end_time": "2022-08-06T14:45:09.089166Z",
     "start_time": "2022-08-06T14:45:09.061610Z"
    }
   },
   "outputs": [
    {
     "data": {
      "text/plain": [
       "farm_id            False\n",
       "farm_size           True\n",
       "point_latitude     False\n",
       "point_longitude    False\n",
       "point_date         False\n",
       "dtype: bool"
      ]
     },
     "execution_count": 32,
     "metadata": {},
     "output_type": "execute_result"
    }
   ],
   "source": [
    "data.isna().any()"
   ]
  },
  {
   "cell_type": "code",
   "execution_count": 33,
   "id": "a0a7e204",
   "metadata": {
    "ExecuteTime": {
     "end_time": "2022-08-06T14:45:29.676746Z",
     "start_time": "2022-08-06T14:45:29.661745Z"
    }
   },
   "outputs": [
    {
     "data": {
      "text/plain": [
       "farm_id               0\n",
       "farm_size          1787\n",
       "point_latitude        0\n",
       "point_longitude       0\n",
       "point_date            0\n",
       "dtype: int64"
      ]
     },
     "execution_count": 33,
     "metadata": {},
     "output_type": "execute_result"
    }
   ],
   "source": [
    "data.isnull().sum()"
   ]
  },
  {
   "cell_type": "markdown",
   "id": "1b2ede84",
   "metadata": {},
   "source": [
    "---\n",
    "---"
   ]
  },
  {
   "cell_type": "markdown",
   "id": "9dd88ce9",
   "metadata": {},
   "source": [
    "## Subset DataFrame"
   ]
  },
  {
   "cell_type": "code",
   "execution_count": 34,
   "id": "64803c01",
   "metadata": {
    "ExecuteTime": {
     "end_time": "2022-08-06T14:45:41.675848Z",
     "start_time": "2022-08-06T14:45:41.654846Z"
    }
   },
   "outputs": [
    {
     "data": {
      "text/html": [
       "<div>\n",
       "<style scoped>\n",
       "    .dataframe tbody tr th:only-of-type {\n",
       "        vertical-align: middle;\n",
       "    }\n",
       "\n",
       "    .dataframe tbody tr th {\n",
       "        vertical-align: top;\n",
       "    }\n",
       "\n",
       "    .dataframe thead th {\n",
       "        text-align: right;\n",
       "    }\n",
       "</style>\n",
       "<table border=\"1\" class=\"dataframe\">\n",
       "  <thead>\n",
       "    <tr style=\"text-align: right;\">\n",
       "      <th></th>\n",
       "      <th>farm_id</th>\n",
       "      <th>farm_size</th>\n",
       "      <th>point_latitude</th>\n",
       "      <th>point_longitude</th>\n",
       "      <th>point_date</th>\n",
       "    </tr>\n",
       "  </thead>\n",
       "  <tbody>\n",
       "    <tr>\n",
       "      <th>0</th>\n",
       "      <td>88797</td>\n",
       "      <td>0.0</td>\n",
       "      <td>6.153048</td>\n",
       "      <td>-2.673048</td>\n",
       "      <td>2016-07-01 13:11:59</td>\n",
       "    </tr>\n",
       "    <tr>\n",
       "      <th>1</th>\n",
       "      <td>88797</td>\n",
       "      <td>0.0</td>\n",
       "      <td>6.152918</td>\n",
       "      <td>-2.672938</td>\n",
       "      <td>2016-07-01 13:11:40</td>\n",
       "    </tr>\n",
       "    <tr>\n",
       "      <th>2</th>\n",
       "      <td>88797</td>\n",
       "      <td>0.0</td>\n",
       "      <td>6.152764</td>\n",
       "      <td>-2.672745</td>\n",
       "      <td>2016-07-01 13:11:10</td>\n",
       "    </tr>\n",
       "    <tr>\n",
       "      <th>3</th>\n",
       "      <td>88797</td>\n",
       "      <td>0.0</td>\n",
       "      <td>6.152710</td>\n",
       "      <td>-2.672877</td>\n",
       "      <td>2016-07-01 13:10:54</td>\n",
       "    </tr>\n",
       "    <tr>\n",
       "      <th>4</th>\n",
       "      <td>88797</td>\n",
       "      <td>0.0</td>\n",
       "      <td>6.152379</td>\n",
       "      <td>-2.672898</td>\n",
       "      <td>2016-07-01 13:10:21</td>\n",
       "    </tr>\n",
       "  </tbody>\n",
       "</table>\n",
       "</div>"
      ],
      "text/plain": [
       "   farm_id  farm_size  point_latitude  point_longitude          point_date\n",
       "0    88797        0.0        6.153048        -2.673048 2016-07-01 13:11:59\n",
       "1    88797        0.0        6.152918        -2.672938 2016-07-01 13:11:40\n",
       "2    88797        0.0        6.152764        -2.672745 2016-07-01 13:11:10\n",
       "3    88797        0.0        6.152710        -2.672877 2016-07-01 13:10:54\n",
       "4    88797        0.0        6.152379        -2.672898 2016-07-01 13:10:21"
      ]
     },
     "execution_count": 34,
     "metadata": {},
     "output_type": "execute_result"
    }
   ],
   "source": [
    "data.head()"
   ]
  },
  {
   "cell_type": "code",
   "execution_count": null,
   "id": "ff64d97d",
   "metadata": {
    "ExecuteTime": {
     "end_time": "2022-04-23T15:47:59.753373Z",
     "start_time": "2022-04-23T15:47:59.729358Z"
    },
    "run_control": {
     "marked": false
    }
   },
   "outputs": [],
   "source": [
    "farm_id_size = data[[\"idfarm\", \"farm_size\"]].copy()\n",
    "\n",
    "farm_id_size.head()"
   ]
  },
  {
   "cell_type": "markdown",
   "id": "be3b01d7",
   "metadata": {},
   "source": [
    "## Get Unique Values"
   ]
  },
  {
   "cell_type": "code",
   "execution_count": null,
   "id": "cdabe29b",
   "metadata": {
    "ExecuteTime": {
     "end_time": "2022-04-23T15:58:33.207415Z",
     "start_time": "2022-04-23T15:58:33.198417Z"
    },
    "scrolled": true
   },
   "outputs": [],
   "source": [
    "data[\"idfarm\"].nunique()"
   ]
  },
  {
   "cell_type": "code",
   "execution_count": null,
   "id": "8b73362c",
   "metadata": {
    "ExecuteTime": {
     "end_time": "2022-04-23T15:58:54.154383Z",
     "start_time": "2022-04-23T15:58:54.133372Z"
    }
   },
   "outputs": [],
   "source": [
    "data[\"idfarm\"].unique()"
   ]
  },
  {
   "cell_type": "markdown",
   "id": "1885ba81",
   "metadata": {},
   "source": [
    "## Aggregation Functions/Methods"
   ]
  },
  {
   "cell_type": "markdown",
   "id": "f1bb161b",
   "metadata": {
    "ExecuteTime": {
     "end_time": "2022-04-23T15:45:51.440598Z",
     "start_time": "2022-04-23T15:45:51.418610Z"
    }
   },
   "source": [
    "- .min()\n",
    "- .max()\n",
    "- .sum()\n",
    "- .median()\n",
    "- .mean()\n",
    "- .std()\n",
    "- .var()\n",
    "- .cov()\n",
    "- .mode()\n",
    "- .cumsum()\n",
    "- .cumprod()\n",
    "- .cummin()\n",
    "- .cummax()"
   ]
  },
  {
   "cell_type": "markdown",
   "id": "c7ba3f1e",
   "metadata": {},
   "source": [
    "## Groupby"
   ]
  },
  {
   "cell_type": "code",
   "execution_count": null,
   "id": "078a3217",
   "metadata": {
    "ExecuteTime": {
     "end_time": "2022-04-23T15:57:11.919759Z",
     "start_time": "2022-04-23T15:57:11.890758Z"
    },
    "scrolled": true
   },
   "outputs": [],
   "source": [
    "farm_id_size.groupby(by=\"idfarm\")[\"farm_size\"].sum().reset_index()"
   ]
  },
  {
   "cell_type": "code",
   "execution_count": null,
   "id": "617b5511",
   "metadata": {},
   "outputs": [],
   "source": []
  }
 ],
 "metadata": {
  "kernelspec": {
   "display_name": "Python 3 (ipykernel)",
   "language": "python",
   "name": "python3"
  },
  "language_info": {
   "codemirror_mode": {
    "name": "ipython",
    "version": 3
   },
   "file_extension": ".py",
   "mimetype": "text/x-python",
   "name": "python",
   "nbconvert_exporter": "python",
   "pygments_lexer": "ipython3",
   "version": "3.8.13"
  },
  "latex_envs": {
   "LaTeX_envs_menu_present": true,
   "autoclose": false,
   "autocomplete": true,
   "bibliofile": "biblio.bib",
   "cite_by": "apalike",
   "current_citInitial": 1,
   "eqLabelWithNumbers": true,
   "eqNumInitial": 1,
   "hotkeys": {
    "equation": "Ctrl-E",
    "itemize": "Ctrl-I"
   },
   "labels_anchors": false,
   "latex_user_defs": false,
   "report_style_numbering": false,
   "user_envs_cfg": false
  },
  "nbTranslate": {
   "displayLangs": [
    "*"
   ],
   "hotkey": "alt-t",
   "langInMainMenu": true,
   "sourceLang": "en",
   "targetLang": "fr",
   "useGoogleTranslate": true
  },
  "toc": {
   "base_numbering": 1,
   "nav_menu": {},
   "number_sections": true,
   "sideBar": true,
   "skip_h1_title": false,
   "title_cell": "Table of Contents",
   "title_sidebar": "Contents",
   "toc_cell": false,
   "toc_position": {},
   "toc_section_display": true,
   "toc_window_display": false
  },
  "varInspector": {
   "cols": {
    "lenName": 16,
    "lenType": 16,
    "lenVar": 40
   },
   "kernels_config": {
    "python": {
     "delete_cmd_postfix": "",
     "delete_cmd_prefix": "del ",
     "library": "var_list.py",
     "varRefreshCmd": "print(var_dic_list())"
    },
    "r": {
     "delete_cmd_postfix": ") ",
     "delete_cmd_prefix": "rm(",
     "library": "var_list.r",
     "varRefreshCmd": "cat(var_dic_list()) "
    }
   },
   "types_to_exclude": [
    "module",
    "function",
    "builtin_function_or_method",
    "instance",
    "_Feature"
   ],
   "window_display": false
  }
 },
 "nbformat": 4,
 "nbformat_minor": 5
}
