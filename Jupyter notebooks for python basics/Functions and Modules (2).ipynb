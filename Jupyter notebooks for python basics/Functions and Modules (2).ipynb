{
 "cells": [
  {
   "cell_type": "markdown",
   "id": "87c10037",
   "metadata": {},
   "source": [
    "# Functions and Modules"
   ]
  },
  {
   "cell_type": "markdown",
   "id": "2764c1aa",
   "metadata": {},
   "source": [
    "## Create User-Define Module"
   ]
  },
  {
   "cell_type": "code",
   "execution_count": 1,
   "id": "59a49d1c",
   "metadata": {
    "ExecuteTime": {
     "end_time": "2022-07-23T14:43:52.719836Z",
     "start_time": "2022-07-23T14:43:52.691496Z"
    }
   },
   "outputs": [
    {
     "name": "stdout",
     "output_type": "stream",
     "text": [
      "Overwriting ./modules/math_functions.py\n"
     ]
    }
   ],
   "source": [
    "%%writefile ./modules/math_functions.py\n",
    "\n",
    "\"\"\"\n",
    "Collection of simple math functions\n",
    "\n",
    "Functions:\n",
    "----------\n",
    "add,\n",
    "    Function to add two numbers.\n",
    "\n",
    "subtract,\n",
    "    Function to subtract two numbers.\n",
    "\n",
    "divide;\n",
    "    Function to divide two numbers.\n",
    "\n",
    "multiply,\n",
    "    Function to multiply two numbers.\n",
    "\"\"\"\n",
    "\n",
    "def add(num_1: float, num_2: float) -> float:\n",
    "    \"\"\"\n",
    "    Function to add two numbers.\n",
    "    \n",
    "    Parameters:\n",
    "    -----------\n",
    "    num_1: float,\n",
    "    First number for the addition operation\n",
    "    \n",
    "    num_2: float,\n",
    "    Second number for the addition operation\n",
    "    \n",
    "    Return:\n",
    "    ------------\n",
    "    output: float,\n",
    "    The sum of two numbers\n",
    "    \n",
    "    Example:\n",
    "    --------\n",
    "    >>> add(num_1=10, num_2=5)\n",
    "    >>> 15\n",
    "    \n",
    "    >>> add(10, 5)\n",
    "    >>> 15\n",
    "    \n",
    "    >>> add(num_2=5, num_1=5)\n",
    "    >>> 15\n",
    "    \"\"\"\n",
    "    output: float = num_1 + num_2\n",
    "    \n",
    "    return output\n",
    "\n",
    "\n",
    "def subtract(num_1: float, num_2: float) -> float:\n",
    "    \"\"\"\n",
    "    Function to subtract two numbers.\n",
    "    \n",
    "    Parameters:\n",
    "    -----------\n",
    "    num_1: float,\n",
    "    First number for the subtraction operation\n",
    "    \n",
    "    num_2: float,\n",
    "    Second number for the subtraction operation\n",
    "    \n",
    "    Return:\n",
    "    ------------\n",
    "    output: float,\n",
    "    The difference between two numbers.\n",
    "    \n",
    "    Example:\n",
    "    --------\n",
    "    >>> subtract(num_1=10, num_2=5)\n",
    "    >>> 10\n",
    "    \n",
    "    >>> subtract(10, 5)\n",
    "    >>> 10\n",
    "    \n",
    "    >>> subtract(num_2=5, num_1=5)\n",
    "    >>> 10\n",
    "    \"\"\"\n",
    "    \n",
    "    output: float = num_1 - num_2\n",
    "    \n",
    "    return output\n",
    "\n",
    "\n",
    "def divide(num_1: float, num_2: float) -> float:\n",
    "    \"\"\"\n",
    "    Function to divide two numbers.\n",
    "    \n",
    "    Parameters:\n",
    "    -----------\n",
    "    num_1: float,\n",
    "    The dividend\n",
    "    \n",
    "    num_2: float,\n",
    "    The divisor\n",
    "    \n",
    "    Return:\n",
    "    ------------\n",
    "    output: float,\n",
    "    The quotient.\n",
    "    \n",
    "    Example:\n",
    "    --------\n",
    "    >>> divide(num_1=10, num_2=5)\n",
    "    >>> 2\n",
    "    \n",
    "    >>> divide(10, 5)\n",
    "    >>> 2\n",
    "    \n",
    "    >>> divide(num_2=5, num_1=5)\n",
    "    >>> 2\n",
    "    \"\"\"\n",
    "    \n",
    "    output: float = num_1 / num_2\n",
    "    \n",
    "    return output\n",
    "\n",
    "\n",
    "def multiply(num_1: float, num_2: float) -> float:\n",
    "    \"\"\"\n",
    "    Function to multiply two numbers.\n",
    "    \n",
    "    Parameters:\n",
    "    -----------\n",
    "    num_1: float,\n",
    "    First number for the multiplication operation\n",
    "    \n",
    "    num_2: float,\n",
    "    Second number for the multiplication operation\n",
    "    \n",
    "    Return:\n",
    "    ------------\n",
    "    output: float,\n",
    "    The product of the two numbers.\n",
    "    \n",
    "    Example:\n",
    "    --------\n",
    "    >>> multiply(num_1=10, num_2=5)\n",
    "    >>> 50\n",
    "    \n",
    "    >>> multiply(10, 5)\n",
    "    >>> 50\n",
    "    \n",
    "    >>> multiply(num_2=5, num_1=5)\n",
    "    >>> 50\n",
    "    \"\"\"\n",
    "    \n",
    "    output: float = num_1 * num_2\n",
    "    \n",
    "    return output"
   ]
  },
  {
   "cell_type": "markdown",
   "id": "f53fd4dd",
   "metadata": {},
   "source": [
    "---\n",
    "---"
   ]
  },
  {
   "cell_type": "markdown",
   "id": "af54f7d6",
   "metadata": {},
   "source": [
    "## Importing a Package"
   ]
  },
  {
   "cell_type": "code",
   "execution_count": 14,
   "id": "32230920",
   "metadata": {
    "ExecuteTime": {
     "end_time": "2022-07-23T14:51:30.738879Z",
     "start_time": "2022-07-23T14:51:30.721883Z"
    }
   },
   "outputs": [],
   "source": [
    "import modules"
   ]
  },
  {
   "cell_type": "code",
   "execution_count": 15,
   "id": "c0c73500",
   "metadata": {
    "ExecuteTime": {
     "end_time": "2022-07-23T14:51:52.855736Z",
     "start_time": "2022-07-23T14:51:52.837345Z"
    }
   },
   "outputs": [
    {
     "data": {
      "text/plain": [
       "50"
      ]
     },
     "execution_count": 15,
     "metadata": {},
     "output_type": "execute_result"
    }
   ],
   "source": [
    "modules.math_functions.multiply(10, 5)"
   ]
  },
  {
   "cell_type": "markdown",
   "id": "d8129477",
   "metadata": {},
   "source": [
    "## Import a Module from a Package"
   ]
  },
  {
   "cell_type": "code",
   "execution_count": 12,
   "id": "f5ebab18",
   "metadata": {
    "ExecuteTime": {
     "end_time": "2022-07-23T14:51:06.384155Z",
     "start_time": "2022-07-23T14:51:06.378156Z"
    }
   },
   "outputs": [],
   "source": [
    "from modules import math_functions"
   ]
  },
  {
   "cell_type": "code",
   "execution_count": 13,
   "id": "f772afb0",
   "metadata": {
    "ExecuteTime": {
     "end_time": "2022-07-23T14:51:06.809152Z",
     "start_time": "2022-07-23T14:51:06.791149Z"
    }
   },
   "outputs": [
    {
     "data": {
      "text/plain": [
       "35"
      ]
     },
     "execution_count": 13,
     "metadata": {},
     "output_type": "execute_result"
    }
   ],
   "source": [
    "math_functions.add(10, 25)"
   ]
  },
  {
   "cell_type": "markdown",
   "id": "c04664ec",
   "metadata": {},
   "source": [
    "## Import a Function in Module from a Package"
   ]
  },
  {
   "cell_type": "code",
   "execution_count": 10,
   "id": "c37d6d8a",
   "metadata": {
    "ExecuteTime": {
     "end_time": "2022-07-23T14:50:43.769919Z",
     "start_time": "2022-07-23T14:50:43.756827Z"
    }
   },
   "outputs": [],
   "source": [
    "from modules.math_functions import subtract"
   ]
  },
  {
   "cell_type": "code",
   "execution_count": 11,
   "id": "d3cdc814",
   "metadata": {
    "ExecuteTime": {
     "end_time": "2022-07-23T14:50:44.987626Z",
     "start_time": "2022-07-23T14:50:44.969960Z"
    }
   },
   "outputs": [
    {
     "data": {
      "text/plain": [
       "5"
      ]
     },
     "execution_count": 11,
     "metadata": {},
     "output_type": "execute_result"
    }
   ],
   "source": [
    "subtract(10, 5)"
   ]
  },
  {
   "cell_type": "markdown",
   "id": "6a829b42",
   "metadata": {},
   "source": [
    "## Aliasing"
   ]
  },
  {
   "cell_type": "code",
   "execution_count": 8,
   "id": "33fbf41c",
   "metadata": {
    "ExecuteTime": {
     "end_time": "2022-07-23T14:48:07.171532Z",
     "start_time": "2022-07-23T14:48:07.162516Z"
    }
   },
   "outputs": [],
   "source": [
    "from modules import math_functions as mf"
   ]
  },
  {
   "cell_type": "code",
   "execution_count": 9,
   "id": "2d205270",
   "metadata": {
    "ExecuteTime": {
     "end_time": "2022-07-23T14:48:21.550713Z",
     "start_time": "2022-07-23T14:48:21.532675Z"
    }
   },
   "outputs": [
    {
     "data": {
      "text/plain": [
       "4.0"
      ]
     },
     "execution_count": 9,
     "metadata": {},
     "output_type": "execute_result"
    }
   ],
   "source": [
    "mf.divide(20, 5)"
   ]
  },
  {
   "cell_type": "markdown",
   "id": "1ba21c1d",
   "metadata": {},
   "source": [
    "## Use Case"
   ]
  },
  {
   "cell_type": "markdown",
   "id": "ff35a1d6",
   "metadata": {},
   "source": [
    "**Python Program to Calculate the age of a person**"
   ]
  },
  {
   "cell_type": "markdown",
   "id": "7ff81628",
   "metadata": {},
   "source": [
    "### Logic 1"
   ]
  },
  {
   "cell_type": "code",
   "execution_count": 60,
   "id": "9145d928",
   "metadata": {
    "ExecuteTime": {
     "end_time": "2022-07-23T16:15:15.655911Z",
     "start_time": "2022-07-23T16:15:08.710144Z"
    }
   },
   "outputs": [
    {
     "name": "stdout",
     "output_type": "stream",
     "text": [
      "Enter your birthdate in (yyyy-mm-dd); Example[1990-10-25] \n",
      ">>> 1990-10-25\n",
      "You are 32 years old.\n"
     ]
    }
   ],
   "source": [
    "# Import in-built module\n",
    "from datetime import datetime\n",
    "\n",
    "# Import user-define module\n",
    "from modules.math_functions import subtract\n",
    "\n",
    "# Get user's birthdate input\n",
    "input_birth_date = input(\"Enter your birthdate in (yyyy-mm-dd); Example[1990-10-25] \\n>>> \")\n",
    "\n",
    "# Split birthdate input for date components\n",
    "birth_date_ = input_birth_date.split(\"-\")\n",
    "\n",
    "# Assign date componets from user's the splitted birthdate input ot variables\n",
    "year_ = int(birth_date_[0])\n",
    "\n",
    "month_ = int(birth_date_[1])\n",
    "\n",
    "day_ = int(birth_date_[2])\n",
    "\n",
    "# Convert users's birthdate to datetime object\n",
    "user_birth_date = datetime(year=year_, month=month_, day=day_).date()\n",
    "\n",
    "# Get today's date\n",
    "todays_date = datetime.today().date()\n",
    "\n",
    "# Get user's age\n",
    "users_age = subtract(todays_date.year, user_birth_date.year)\n",
    "\n",
    "print(f\"You are {users_age} years old.\")"
   ]
  },
  {
   "cell_type": "markdown",
   "id": "bf6b4734",
   "metadata": {
    "ExecuteTime": {
     "end_time": "2022-07-23T16:17:13.625033Z",
     "start_time": "2022-07-23T16:17:13.607615Z"
    }
   },
   "source": [
    "### Logic 2"
   ]
  },
  {
   "cell_type": "code",
   "execution_count": 66,
   "id": "fc30af83",
   "metadata": {
    "ExecuteTime": {
     "end_time": "2022-07-23T16:18:21.045174Z",
     "start_time": "2022-07-23T16:18:10.861797Z"
    }
   },
   "outputs": [
    {
     "name": "stdout",
     "output_type": "stream",
     "text": [
      "Enter your birthdate in (yyyy-mm-dd); Example[1990-10-25] \n",
      ">>> 1990-10-25\n",
      "You are 32 years old.\n"
     ]
    }
   ],
   "source": [
    "# Import in-built module\n",
    "from datetime import datetime\n",
    "\n",
    "# Import user-define module\n",
    "from modules.math_functions import subtract\n",
    "\n",
    "# Get user's birthdate input\n",
    "input_birth_date = input(\"Enter your birthdate in (yyyy-mm-dd); Example[1990-10-25] \\n>>> \")\n",
    "\n",
    "# Convert users's birthdate to datetime object\n",
    "user_birth_date = datetime.strptime(input_birth_date,'%Y-%m-%d').date()\n",
    "\n",
    "# Get today's date\n",
    "todays_date = datetime.today().date()\n",
    "\n",
    "# Get user's age\n",
    "users_age = subtract(todays_date.year, user_birth_date.year)\n",
    "\n",
    "print(f\"You are {users_age} years old.\")"
   ]
  },
  {
   "cell_type": "markdown",
   "id": "9a1771fb",
   "metadata": {},
   "source": [
    "---\n",
    "---"
   ]
  },
  {
   "cell_type": "markdown",
   "id": "b489c3b0",
   "metadata": {},
   "source": [
    "## Working External Libraries/Packages/Modules"
   ]
  },
  {
   "cell_type": "markdown",
   "id": "a377136b",
   "metadata": {
    "ExecuteTime": {
     "end_time": "2022-07-23T14:55:50.636018Z",
     "start_time": "2022-07-23T14:55:50.621965Z"
    }
   },
   "source": [
    "### Installing External Packages"
   ]
  },
  {
   "cell_type": "markdown",
   "id": "39726740",
   "metadata": {},
   "source": [
    "#### Using `pip`"
   ]
  },
  {
   "cell_type": "markdown",
   "id": "1fa411b7",
   "metadata": {
    "run_control": {
     "marked": true
    }
   },
   "source": [
    "* `pip install` <**package_name**>\n",
    "\n",
    "---\n",
    "\n",
    "* `python -m pip install` <**package_name**>"
   ]
  },
  {
   "cell_type": "markdown",
   "id": "1bc903d3",
   "metadata": {},
   "source": [
    "#### Usng conda"
   ]
  },
  {
   "cell_type": "markdown",
   "id": "3a6a7f30",
   "metadata": {
    "run_control": {
     "marked": false
    }
   },
   "source": [
    "* `conda install` <**package_name**>\n",
    "\n",
    "---\n",
    "\n",
    "* `conda install -c conda-forge` <**package_name**>"
   ]
  },
  {
   "cell_type": "markdown",
   "id": "d12e40f5",
   "metadata": {},
   "source": [
    "## Libraries"
   ]
  },
  {
   "cell_type": "markdown",
   "id": "f32107d2",
   "metadata": {},
   "source": [
    "* `pandas`\n",
    "> - Data Wrangling/Munging/Manipulation\n",
    "\n",
    "* `numpy`\n",
    "> - Math/Scientific Computation\n",
    "\n",
    "* `matplotlib`\n",
    "> - Visualization\n",
    "\n",
    "* `sci-kit learn`\n",
    "> - Machine Learning"
   ]
  },
  {
   "cell_type": "code",
   "execution_count": null,
   "id": "50d1263e",
   "metadata": {},
   "outputs": [],
   "source": []
  }
 ],
 "metadata": {
  "kernelspec": {
   "display_name": "Python 3 (ipykernel)",
   "language": "python",
   "name": "python3"
  },
  "language_info": {
   "codemirror_mode": {
    "name": "ipython",
    "version": 3
   },
   "file_extension": ".py",
   "mimetype": "text/x-python",
   "name": "python",
   "nbconvert_exporter": "python",
   "pygments_lexer": "ipython3",
   "version": "3.10.0"
  },
  "nbTranslate": {
   "displayLangs": [
    "*"
   ],
   "hotkey": "alt-t",
   "langInMainMenu": true,
   "sourceLang": "en",
   "targetLang": "fr",
   "useGoogleTranslate": true
  },
  "toc": {
   "base_numbering": 1,
   "nav_menu": {},
   "number_sections": true,
   "sideBar": true,
   "skip_h1_title": false,
   "title_cell": "Table of Contents",
   "title_sidebar": "Contents",
   "toc_cell": false,
   "toc_position": {},
   "toc_section_display": true,
   "toc_window_display": false
  },
  "varInspector": {
   "cols": {
    "lenName": 16,
    "lenType": 16,
    "lenVar": 40
   },
   "kernels_config": {
    "python": {
     "delete_cmd_postfix": "",
     "delete_cmd_prefix": "del ",
     "library": "var_list.py",
     "varRefreshCmd": "print(var_dic_list())"
    },
    "r": {
     "delete_cmd_postfix": ") ",
     "delete_cmd_prefix": "rm(",
     "library": "var_list.r",
     "varRefreshCmd": "cat(var_dic_list()) "
    }
   },
   "types_to_exclude": [
    "module",
    "function",
    "builtin_function_or_method",
    "instance",
    "_Feature"
   ],
   "window_display": false
  }
 },
 "nbformat": 4,
 "nbformat_minor": 5
}
