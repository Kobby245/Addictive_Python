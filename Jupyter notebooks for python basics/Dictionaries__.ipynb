{
 "cells": [
  {
   "cell_type": "markdown",
   "id": "a10f376c",
   "metadata": {},
   "source": [
    "# Dictionaries"
   ]
  },
  {
   "cell_type": "markdown",
   "id": "016867a7",
   "metadata": {},
   "source": [
    "* Key and Value Pairs\n",
    "\n",
    "* Keys are used for indexing\n",
    "\n",
    "    - they are supposed to be immutable\n",
    "\n",
    "* Values can be any data type in python\n",
    "\n",
    "    - Can be immutable and mutable\n",
    "    \n",
    "Python dictionaries are similar to the JSON data structure"
   ]
  },
  {
   "cell_type": "markdown",
   "id": "666b7246",
   "metadata": {},
   "source": [
    "## Creating Dictionaries"
   ]
  },
  {
   "cell_type": "code",
   "execution_count": null,
   "id": "0ce18ca3",
   "metadata": {
    "ExecuteTime": {
     "end_time": "2022-07-09T16:13:48.468691Z",
     "start_time": "2022-07-09T16:13:48.468691Z"
    }
   },
   "outputs": [],
   "source": [
    "dictionary = {}\n",
    "\n",
    "dictionary"
   ]
  },
  {
   "cell_type": "code",
   "execution_count": null,
   "id": "e589870c",
   "metadata": {
    "ExecuteTime": {
     "end_time": "2022-07-09T16:13:48.470690Z",
     "start_time": "2022-07-09T16:13:48.470690Z"
    }
   },
   "outputs": [],
   "source": [
    "type(dictionary)"
   ]
  },
  {
   "cell_type": "code",
   "execution_count": null,
   "id": "2507f004",
   "metadata": {
    "ExecuteTime": {
     "end_time": "2022-07-09T16:13:48.471689Z",
     "start_time": "2022-07-09T16:13:48.471689Z"
    }
   },
   "outputs": [],
   "source": [
    "dictionary_ = dict()\n",
    "\n",
    "dictionary_"
   ]
  },
  {
   "cell_type": "code",
   "execution_count": null,
   "id": "d6abbbaf",
   "metadata": {
    "ExecuteTime": {
     "end_time": "2022-07-09T16:13:48.473690Z",
     "start_time": "2022-07-09T16:13:48.473690Z"
    }
   },
   "outputs": [],
   "source": [
    "type(dictionary_)"
   ]
  },
  {
   "cell_type": "markdown",
   "id": "87a345dc",
   "metadata": {},
   "source": [
    "---"
   ]
  },
  {
   "cell_type": "code",
   "execution_count": null,
   "id": "1ce73056",
   "metadata": {
    "ExecuteTime": {
     "end_time": "2022-07-09T16:13:48.474690Z",
     "start_time": "2022-07-09T16:13:48.474690Z"
    }
   },
   "outputs": [],
   "source": [
    "dict_of_integers = {\n",
    "    1: 10,\n",
    "    2: 20,\n",
    "    3: 30,\n",
    "    4: 50\n",
    "}\n",
    "\n",
    "dict_of_integers"
   ]
  },
  {
   "cell_type": "code",
   "execution_count": null,
   "id": "0a7f93e4",
   "metadata": {
    "ExecuteTime": {
     "end_time": "2022-07-09T16:13:48.476690Z",
     "start_time": "2022-07-09T16:13:48.476690Z"
    }
   },
   "outputs": [],
   "source": [
    "dict_of_floats = {\n",
    "    1.0: 10.0,\n",
    "    2.0: 20.0,\n",
    "    3.0: 30.0,\n",
    "    4.0: 50.0\n",
    "}\n",
    "\n",
    "dict_of_floats"
   ]
  },
  {
   "cell_type": "code",
   "execution_count": null,
   "id": "2a1eb1b4",
   "metadata": {
    "ExecuteTime": {
     "end_time": "2022-07-09T16:13:48.477689Z",
     "start_time": "2022-07-09T16:13:48.477689Z"
    }
   },
   "outputs": [],
   "source": [
    "dict_of_strings = {\n",
    "    \"name\": \"Kobe\",\n",
    "    \"gender\": \"Male\",\n",
    "    \"email\": \"kobe@gmail.com\"\n",
    "}\n",
    "\n",
    "dict_of_strings"
   ]
  },
  {
   "cell_type": "code",
   "execution_count": 1,
   "id": "1bcf064e",
   "metadata": {
    "ExecuteTime": {
     "end_time": "2022-07-09T16:13:48.491688Z",
     "start_time": "2022-07-09T16:13:48.479691Z"
    }
   },
   "outputs": [
    {
     "data": {
      "text/plain": [
       "{'fruits': ['Guava', 'Mango', 'Kiwi'],\n",
       " 'colors': ['brown', 'purple', 'pink'],\n",
       " 'car_brands': ['Mercedez', 'Audi', 'BMW']}"
      ]
     },
     "execution_count": 1,
     "metadata": {},
     "output_type": "execute_result"
    }
   ],
   "source": [
    "dict_of_lists = {\n",
    "    \"fruits\": [\"Guava\", \"Mango\", \"Kiwi\"],\n",
    "    \"colors\": [\"brown\", \"purple\", \"pink\"],\n",
    "    \"car_brands\": [\"Mercedez\", \"Audi\", \"BMW\"]\n",
    "}\n",
    "\n",
    "dict_of_lists"
   ]
  },
  {
   "cell_type": "code",
   "execution_count": 2,
   "id": "55bd7aad",
   "metadata": {
    "ExecuteTime": {
     "end_time": "2022-07-09T16:13:48.522684Z",
     "start_time": "2022-07-09T16:13:48.507686Z"
    }
   },
   "outputs": [
    {
     "data": {
      "text/plain": [
       "{'fruits': ('Apricot', 'Banana', 'Pear'),\n",
       " 'colors': ('darkorange', 'mauve', 'teal')}"
      ]
     },
     "execution_count": 2,
     "metadata": {},
     "output_type": "execute_result"
    }
   ],
   "source": [
    "dict_of_tuples = {\n",
    "    \"fruits\": (\"Apricot\", \"Banana\", \"Pear\"),\n",
    "    \"colors\": (\"darkorange\", \"mauve\", \"teal\"),\n",
    "}\n",
    "\n",
    "dict_of_tuples"
   ]
  },
  {
   "cell_type": "code",
   "execution_count": 3,
   "id": "955cf22c",
   "metadata": {
    "ExecuteTime": {
     "end_time": "2022-07-09T16:13:48.554686Z",
     "start_time": "2022-07-09T16:13:48.536692Z"
    }
   },
   "outputs": [
    {
     "data": {
      "text/plain": [
       "{'first_name': ['Kobe', 'Jason'],\n",
       " 'last_name': ['Bryant', 'Tatum'],\n",
       " 'gender': ['Male', 'Male'],\n",
       " 'age': [25, 30],\n",
       " 'height': [6.5, 6.0],\n",
       " 'class': ('Level 300', 'Level 400'),\n",
       " 'email': ['kobe@gmail.com', 'jason@gmail.com']}"
      ]
     },
     "execution_count": 3,
     "metadata": {},
     "output_type": "execute_result"
    }
   ],
   "source": [
    "dictionary_of_student_details = {\n",
    "    \"first_name\": [\"Kobe\", \"Jason\"],\n",
    "    \"last_name\": [\"Bryant\", \"Tatum\"],\n",
    "    \"gender\": [\"Male\", \"Male\"],\n",
    "    \"age\": [25, 30],\n",
    "    \"height\": [6.5, 6.0],\n",
    "    \"class\": (\"Level 300\", \"Level 400\"),\n",
    "    \"email\": [\"kobe@gmail.com\", \"jason@gmail.com\"],\n",
    "}\n",
    "\n",
    "dictionary_of_student_details"
   ]
  },
  {
   "cell_type": "markdown",
   "id": "69009a86",
   "metadata": {},
   "source": [
    "## Accessing the Values of a Dictionary"
   ]
  },
  {
   "cell_type": "code",
   "execution_count": 4,
   "id": "40256baf",
   "metadata": {
    "ExecuteTime": {
     "end_time": "2022-07-09T16:13:48.662701Z",
     "start_time": "2022-07-09T16:13:48.657688Z"
    }
   },
   "outputs": [
    {
     "data": {
      "text/plain": [
       "['kobe@gmail.com', 'jason@gmail.com']"
      ]
     },
     "execution_count": 4,
     "metadata": {},
     "output_type": "execute_result"
    }
   ],
   "source": [
    "dictionary_of_student_details[\"email\"]"
   ]
  },
  {
   "cell_type": "code",
   "execution_count": 5,
   "id": "7220b019",
   "metadata": {
    "ExecuteTime": {
     "end_time": "2022-07-09T16:13:48.693717Z",
     "start_time": "2022-07-09T16:13:48.679700Z"
    }
   },
   "outputs": [
    {
     "data": {
      "text/plain": [
       "['Kobe', 'Jason']"
      ]
     },
     "execution_count": 5,
     "metadata": {},
     "output_type": "execute_result"
    }
   ],
   "source": [
    "dictionary_of_student_details[\"first_name\"]"
   ]
  },
  {
   "cell_type": "code",
   "execution_count": 6,
   "id": "9eb1d7fc",
   "metadata": {
    "ExecuteTime": {
     "end_time": "2022-07-09T16:13:48.724685Z",
     "start_time": "2022-07-09T16:13:48.707684Z"
    }
   },
   "outputs": [
    {
     "data": {
      "text/plain": [
       "['Bryant', 'Tatum']"
      ]
     },
     "execution_count": 6,
     "metadata": {},
     "output_type": "execute_result"
    }
   ],
   "source": [
    "dictionary_of_student_details[\"last_name\"]"
   ]
  },
  {
   "cell_type": "markdown",
   "id": "e1544825",
   "metadata": {},
   "source": [
    "## Adding New Key-Value Pair to a Defined Dictionary"
   ]
  },
  {
   "cell_type": "code",
   "execution_count": 7,
   "id": "4ffcb461",
   "metadata": {
    "ExecuteTime": {
     "end_time": "2022-07-09T16:13:48.802861Z",
     "start_time": "2022-07-09T16:13:48.795849Z"
    }
   },
   "outputs": [
    {
     "data": {
      "text/plain": [
       "{'first_name': ['Kobe', 'Jason'],\n",
       " 'last_name': ['Bryant', 'Tatum'],\n",
       " 'gender': ['Male', 'Male'],\n",
       " 'age': [25, 30],\n",
       " 'height': [6.5, 6.0],\n",
       " 'class': ('Level 300', 'Level 400'),\n",
       " 'email': ['kobe@gmail.com', 'jason@gmail.com']}"
      ]
     },
     "execution_count": 7,
     "metadata": {},
     "output_type": "execute_result"
    }
   ],
   "source": [
    "dictionary_of_student_details"
   ]
  },
  {
   "cell_type": "code",
   "execution_count": 8,
   "id": "a006453c",
   "metadata": {
    "ExecuteTime": {
     "end_time": "2022-07-09T16:13:48.833859Z",
     "start_time": "2022-07-09T16:13:48.816859Z"
    }
   },
   "outputs": [
    {
     "data": {
      "text/plain": [
       "{'first_name': ['Kobe', 'Jason'],\n",
       " 'last_name': ['Bryant', 'Tatum'],\n",
       " 'gender': ['Male', 'Male'],\n",
       " 'age': [25, 30],\n",
       " 'height': [6.5, 6.0],\n",
       " 'class': ('Level 300', 'Level 400'),\n",
       " 'email': ['kobe@gmail.com', 'jason@gmail.com'],\n",
       " 'GPA': [4.0, 3.5]}"
      ]
     },
     "execution_count": 8,
     "metadata": {},
     "output_type": "execute_result"
    }
   ],
   "source": [
    "dictionary_of_student_details[\"GPA\"] = [4.0, 3.5]\n",
    "\n",
    "dictionary_of_student_details"
   ]
  },
  {
   "cell_type": "code",
   "execution_count": 9,
   "id": "22b2b7d1",
   "metadata": {
    "ExecuteTime": {
     "end_time": "2022-07-09T16:13:48.849850Z",
     "start_time": "2022-07-09T16:13:48.839847Z"
    }
   },
   "outputs": [
    {
     "data": {
      "text/plain": [
       "{'first_name': ['Kobe', 'Jason'],\n",
       " 'last_name': ['Bryant', 'Tatum'],\n",
       " 'gender': ['Male', 'Male'],\n",
       " 'age': [25, 30],\n",
       " 'height': [6.5, 6.0],\n",
       " 'class': ('Level 300', 'Level 400'),\n",
       " 'email': ['kobe@gmail.com', 'jason@gmail.com'],\n",
       " 'GPA': [4.0, 3.5],\n",
       " 'Program': ['Computer Engineering', 'Data Science']}"
      ]
     },
     "execution_count": 9,
     "metadata": {},
     "output_type": "execute_result"
    }
   ],
   "source": [
    "dictionary_of_student_details.update(Program=[\"Computer Engineering\", \"Data Science\"])\n",
    "\n",
    "dictionary_of_student_details"
   ]
  },
  {
   "cell_type": "markdown",
   "id": "57a54527",
   "metadata": {},
   "source": [
    "---"
   ]
  },
  {
   "cell_type": "markdown",
   "id": "f3480b9b",
   "metadata": {},
   "source": [
    "## Traversing a Dictionary"
   ]
  },
  {
   "cell_type": "code",
   "execution_count": 10,
   "id": "22b76b05",
   "metadata": {
    "ExecuteTime": {
     "end_time": "2022-07-09T16:13:49.005720Z",
     "start_time": "2022-07-09T16:13:48.999733Z"
    }
   },
   "outputs": [
    {
     "data": {
      "text/plain": [
       "dict_keys(['first_name', 'last_name', 'gender', 'age', 'height', 'class', 'email', 'GPA', 'Program'])"
      ]
     },
     "execution_count": 10,
     "metadata": {},
     "output_type": "execute_result"
    }
   ],
   "source": [
    "dictionary_of_student_details.keys()"
   ]
  },
  {
   "cell_type": "code",
   "execution_count": 11,
   "id": "3a45d5b6",
   "metadata": {
    "ExecuteTime": {
     "end_time": "2022-07-09T16:13:49.037729Z",
     "start_time": "2022-07-09T16:13:49.020726Z"
    }
   },
   "outputs": [
    {
     "data": {
      "text/plain": [
       "dict_values([['Kobe', 'Jason'], ['Bryant', 'Tatum'], ['Male', 'Male'], [25, 30], [6.5, 6.0], ('Level 300', 'Level 400'), ['kobe@gmail.com', 'jason@gmail.com'], [4.0, 3.5], ['Computer Engineering', 'Data Science']])"
      ]
     },
     "execution_count": 11,
     "metadata": {},
     "output_type": "execute_result"
    }
   ],
   "source": [
    "dictionary_of_student_details.values()"
   ]
  },
  {
   "cell_type": "markdown",
   "id": "e81ec062",
   "metadata": {},
   "source": [
    "---"
   ]
  },
  {
   "cell_type": "code",
   "execution_count": 12,
   "id": "feed54ae",
   "metadata": {
    "ExecuteTime": {
     "end_time": "2022-07-09T16:13:49.129212Z",
     "start_time": "2022-07-09T16:13:49.113000Z"
    }
   },
   "outputs": [
    {
     "name": "stdout",
     "output_type": "stream",
     "text": [
      "first_name >>> ['Kobe', 'Jason']\n",
      "\n",
      "last_name >>> ['Bryant', 'Tatum']\n",
      "\n",
      "gender >>> ['Male', 'Male']\n",
      "\n",
      "age >>> [25, 30]\n",
      "\n",
      "height >>> [6.5, 6.0]\n",
      "\n",
      "class >>> ('Level 300', 'Level 400')\n",
      "\n",
      "email >>> ['kobe@gmail.com', 'jason@gmail.com']\n",
      "\n",
      "GPA >>> [4.0, 3.5]\n",
      "\n",
      "Program >>> ['Computer Engineering', 'Data Science']\n",
      "\n"
     ]
    }
   ],
   "source": [
    "for key in dictionary_of_student_details.keys():\n",
    "    \n",
    "    print(f\"{key} >>> {dictionary_of_student_details[key]}\\n\")"
   ]
  },
  {
   "cell_type": "markdown",
   "id": "6285523e",
   "metadata": {},
   "source": [
    "## Dictionary Methods"
   ]
  },
  {
   "cell_type": "markdown",
   "id": "7b1a5923",
   "metadata": {},
   "source": [
    "* Find 5 dictionary methods and how they are used."
   ]
  },
  {
   "cell_type": "markdown",
   "id": "b3210781",
   "metadata": {},
   "source": [
    "---"
   ]
  }
 ],
 "metadata": {
  "kernelspec": {
   "display_name": "Python 3 (ipykernel)",
   "language": "python",
   "name": "python3"
  },
  "language_info": {
   "codemirror_mode": {
    "name": "ipython",
    "version": 3
   },
   "file_extension": ".py",
   "mimetype": "text/x-python",
   "name": "python",
   "nbconvert_exporter": "python",
   "pygments_lexer": "ipython3",
   "version": "3.10.0"
  },
  "nbTranslate": {
   "displayLangs": [
    "*"
   ],
   "hotkey": "alt-t",
   "langInMainMenu": true,
   "sourceLang": "en",
   "targetLang": "fr",
   "useGoogleTranslate": true
  },
  "toc": {
   "base_numbering": 1,
   "nav_menu": {},
   "number_sections": true,
   "sideBar": true,
   "skip_h1_title": false,
   "title_cell": "Table of Contents",
   "title_sidebar": "Contents",
   "toc_cell": false,
   "toc_position": {},
   "toc_section_display": true,
   "toc_window_display": false
  },
  "varInspector": {
   "cols": {
    "lenName": 16,
    "lenType": 16,
    "lenVar": 40
   },
   "kernels_config": {
    "python": {
     "delete_cmd_postfix": "",
     "delete_cmd_prefix": "del ",
     "library": "var_list.py",
     "varRefreshCmd": "print(var_dic_list())"
    },
    "r": {
     "delete_cmd_postfix": ") ",
     "delete_cmd_prefix": "rm(",
     "library": "var_list.r",
     "varRefreshCmd": "cat(var_dic_list()) "
    }
   },
   "types_to_exclude": [
    "module",
    "function",
    "builtin_function_or_method",
    "instance",
    "_Feature"
   ],
   "window_display": false
  }
 },
 "nbformat": 4,
 "nbformat_minor": 5
}
