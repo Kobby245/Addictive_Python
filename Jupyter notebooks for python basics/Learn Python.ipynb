{
 "cells": [
  {
   "cell_type": "markdown",
   "id": "dcea65a2",
   "metadata": {},
   "source": [
    "* ## Variables.\n",
    "\n",
    "\n",
    "* ##### Naming the variables"
   ]
  },
  {
   "cell_type": "code",
   "execution_count": null,
   "id": "f351fa55",
   "metadata": {},
   "outputs": [],
   "source": [
    "first_name = \"kobby\""
   ]
  },
  {
   "cell_type": "code",
   "execution_count": null,
   "id": "7a615b7b",
   "metadata": {},
   "outputs": [],
   "source": [
    "first_name"
   ]
  },
  {
   "cell_type": "code",
   "execution_count": 1,
   "id": "474e2fdc",
   "metadata": {},
   "outputs": [],
   "source": [
    "l = 50\n",
    "b = 30\n",
    "# where l=lenth of the rectangle.\n",
    "# where b=breadth of the rectangle.\n",
    "# a =total area of the rectangle\n",
    "\n",
    "area_of_the_rectangle = l * b\n"
   ]
  },
  {
   "cell_type": "code",
   "execution_count": null,
   "id": "2ccb1b57",
   "metadata": {},
   "outputs": [],
   "source": [
    "area_of_the_rectangle"
   ]
  },
  {
   "cell_type": "code",
   "execution_count": null,
   "id": "81bfdb0c",
   "metadata": {},
   "outputs": [],
   "source": [
    "male_student_name = \"Prince\"\n",
    "female_student_name = \"El\"\n",
    "\n",
    "number_of_students = male_student_name + \" and \" + female_student_name\n",
    "\n"
   ]
  },
  {
   "cell_type": "code",
   "execution_count": null,
   "id": "24d9e430",
   "metadata": {},
   "outputs": [],
   "source": [
    "print(\"hello World\")"
   ]
  },
  {
   "cell_type": "code",
   "execution_count": null,
   "id": "0900f2f6",
   "metadata": {},
   "outputs": [],
   "source": [
    "x = 35.5"
   ]
  },
  {
   "cell_type": "code",
   "execution_count": null,
   "id": "e8311414",
   "metadata": {},
   "outputs": [],
   "source": [
    "%whos"
   ]
  },
  {
   "cell_type": "code",
   "execution_count": null,
   "id": "672d230b",
   "metadata": {},
   "outputs": [],
   "source": [
    "type((x))"
   ]
  },
  {
   "cell_type": "code",
   "execution_count": null,
   "id": "0e7d7ce9",
   "metadata": {},
   "outputs": [],
   "source": [
    "a = 35.5"
   ]
  },
  {
   "cell_type": "code",
   "execution_count": null,
   "id": "8077f566",
   "metadata": {},
   "outputs": [],
   "source": [
    "%whos"
   ]
  },
  {
   "cell_type": "code",
   "execution_count": null,
   "id": "f01105d1",
   "metadata": {},
   "outputs": [],
   "source": [
    " a,b,c,d,e,f,g,abc = 5,56.8,-10,\"john\",5.8,8889.5,\"Kobby\",10"
   ]
  },
  {
   "cell_type": "code",
   "execution_count": null,
   "id": "42f5867f",
   "metadata": {},
   "outputs": [],
   "source": [
    "%whos"
   ]
  },
  {
   "cell_type": "code",
   "execution_count": null,
   "id": "7aaae959",
   "metadata": {},
   "outputs": [],
   "source": [
    "type((abc))"
   ]
  },
  {
   "cell_type": "code",
   "execution_count": null,
   "id": "3277030a",
   "metadata": {},
   "outputs": [],
   "source": [
    "del abc"
   ]
  },
  {
   "cell_type": "code",
   "execution_count": null,
   "id": "2c3bcfe0",
   "metadata": {},
   "outputs": [],
   "source": [
    "abc"
   ]
  },
  {
   "cell_type": "markdown",
   "id": "75ab1679",
   "metadata": {},
   "source": [
    "# Python OPerators"
   ]
  },
  {
   "cell_type": "markdown",
   "id": "b40a8366",
   "metadata": {},
   "source": [
    "# Types of Operator\n",
    "\n",
    "\n",
    "## * Python language supports the following types of operators.\n",
    "\n",
    "* Arithmetic Operators\n",
    "\n",
    "* Comparison (Relational) Operators\n",
    "\n",
    "* Assignment Operators\n",
    "\n",
    "* Logical Operators\n",
    "\n",
    "* Bitwise Operators\n",
    "\n",
    "* Membership Operators\n",
    "\n",
    "* Identity Operators"
   ]
  },
  {
   "cell_type": "markdown",
   "id": "cbac7c4c",
   "metadata": {},
   "source": [
    "# Python Arithmetic Operators"
   ]
  },
  {
   "cell_type": "markdown",
   "id": "f6ac8775",
   "metadata": {},
   "source": [
    "* addition (+)        \n",
    "* subtraction (-)      \n",
    "* multiplication (*)  \n",
    "* division (/)\n",
    "* exponentiation (**)\n",
    "* floor division (//)\n",
    "* modulus (%)\n",
    "* negation (-) negative figures\n",
    "* absolute value (to think of all numbers as positive)"
   ]
  },
  {
   "cell_type": "markdown",
   "id": "b8dc29f5",
   "metadata": {},
   "source": [
    "# Practicing with Pything Arithmetic Operators\n",
    "\n",
    "\n",
    "##### Pything Arithmetic Operators are for working on mathematical operations. \n",
    "\n"
   ]
  },
  {
   "cell_type": "code",
   "execution_count": null,
   "id": "f42718c0",
   "metadata": {},
   "outputs": [],
   "source": [
    "# These alphabet (a,b,c) are representation only for \n",
    "\n",
    "a = 5\n",
    "b = 10\n",
    "c = 3"
   ]
  },
  {
   "cell_type": "code",
   "execution_count": null,
   "id": "aa54d085",
   "metadata": {},
   "outputs": [],
   "source": [
    "a+b"
   ]
  },
  {
   "cell_type": "code",
   "execution_count": null,
   "id": "a24d834a",
   "metadata": {},
   "outputs": [],
   "source": [
    "c%a"
   ]
  },
  {
   "cell_type": "code",
   "execution_count": null,
   "id": "63c744b3",
   "metadata": {},
   "outputs": [],
   "source": [
    "b-c"
   ]
  },
  {
   "cell_type": "code",
   "execution_count": null,
   "id": "c2d5d9a8",
   "metadata": {},
   "outputs": [],
   "source": [
    "x = c*b*a"
   ]
  },
  {
   "cell_type": "code",
   "execution_count": null,
   "id": "a61d000d",
   "metadata": {},
   "outputs": [],
   "source": [
    "x"
   ]
  },
  {
   "cell_type": "code",
   "execution_count": null,
   "id": "0656b23a",
   "metadata": {},
   "outputs": [],
   "source": [
    "x/a"
   ]
  },
  {
   "cell_type": "code",
   "execution_count": null,
   "id": "0e4c87e4",
   "metadata": {},
   "outputs": [],
   "source": [
    "a**c"
   ]
  },
  {
   "cell_type": "code",
   "execution_count": null,
   "id": "08c18a35",
   "metadata": {},
   "outputs": [],
   "source": [
    "a//c"
   ]
  },
  {
   "cell_type": "code",
   "execution_count": null,
   "id": "438445de",
   "metadata": {},
   "outputs": [],
   "source": [
    "a%c"
   ]
  },
  {
   "cell_type": "markdown",
   "id": "4579bc18",
   "metadata": {},
   "source": [
    "# String operators"
   ]
  },
  {
   "cell_type": "markdown",
   "id": "78f3ed3a",
   "metadata": {},
   "source": [
    "## The string operators are;\n",
    "\n",
    "* Assignment operator: “=.”\n",
    "\n",
    "* Concatenate operator: “+.”\n",
    "\n",
    "* String repetition operator: “*.”\n",
    "\n",
    "* String slicing operator: “[]”\n",
    "\n",
    "* String comparison operator: “==” & “!=”\n",
    "\n",
    "* Membership operator: “in” & “not in”\n",
    "\n",
    "* Escape sequence operator: “\\.”\n",
    "\n",
    "* String formatting operator: “%” & “{}”"
   ]
  },
  {
   "cell_type": "markdown",
   "id": "90b01253",
   "metadata": {},
   "source": [
    "# Practicing with Strings Operators"
   ]
  },
  {
   "cell_type": "markdown",
   "id": "0a12cd9d",
   "metadata": {},
   "source": [
    "## Example #1 – Assignment Operator “=.”\n",
    "\n",
    "#### Python string can be assigned to any variable with an assignment operator “= “. Python string can be defined with either single quotes [‘ ’], double quotes[“ ”] or triple quotes[‘’’  ‘’’]. var_name = “string” assigns “string” to variable var_name."
   ]
  },
  {
   "cell_type": "code",
   "execution_count": null,
   "id": "2da8bddd",
   "metadata": {},
   "outputs": [],
   "source": [
    "# This code is for practicing on Assignment Operators. \n",
    "# Where s1 = string 1 and s2 = string 2\n",
    "\n",
    "s1 = \"hello\"\n",
    "s2 = 'hello'\n",
    "s3 = '''hello'''"
   ]
  },
  {
   "cell_type": "code",
   "execution_count": 8,
   "id": "275ef35e",
   "metadata": {},
   "outputs": [
    {
     "ename": "NameError",
     "evalue": "name 's1' is not defined",
     "output_type": "error",
     "traceback": [
      "\u001b[1;31m---------------------------------------------------------------------------\u001b[0m",
      "\u001b[1;31mNameError\u001b[0m                                 Traceback (most recent call last)",
      "\u001b[1;32m<ipython-input-8-57e30c7f3742>\u001b[0m in \u001b[0;36m<module>\u001b[1;34m\u001b[0m\n\u001b[1;32m----> 1\u001b[1;33m \u001b[0mprint\u001b[0m\u001b[1;33m(\u001b[0m\u001b[0ms1\u001b[0m\u001b[1;33m)\u001b[0m\u001b[1;33m\u001b[0m\u001b[1;33m\u001b[0m\u001b[0m\n\u001b[0m\u001b[0;32m      2\u001b[0m \u001b[0mprint\u001b[0m\u001b[1;33m(\u001b[0m\u001b[0ms2\u001b[0m\u001b[1;33m)\u001b[0m\u001b[1;33m\u001b[0m\u001b[1;33m\u001b[0m\u001b[0m\n\u001b[0;32m      3\u001b[0m \u001b[0mprint\u001b[0m\u001b[1;33m(\u001b[0m\u001b[0ms3\u001b[0m\u001b[1;33m)\u001b[0m\u001b[1;33m\u001b[0m\u001b[1;33m\u001b[0m\u001b[0m\n",
      "\u001b[1;31mNameError\u001b[0m: name 's1' is not defined"
     ]
    }
   ],
   "source": [
    "print(s1)\n",
    "print(s2)\n",
    "print(s3)"
   ]
  },
  {
   "cell_type": "markdown",
   "id": "1c0263e0",
   "metadata": {},
   "source": [
    "# Example #2 – Concatenate Operator “+.”\n",
    "\n",
    "\n",
    "#### Two strings can be concatenated or join using the “+” operator in python"
   ]
  },
  {
   "cell_type": "code",
   "execution_count": null,
   "id": "0039894a",
   "metadata": {},
   "outputs": [],
   "source": [
    "s1 = \"hello\"\n",
    "s2 = \"World\"\n",
    "s3 = s1 + s2"
   ]
  },
  {
   "cell_type": "code",
   "execution_count": null,
   "id": "f122490d",
   "metadata": {},
   "outputs": [],
   "source": [
    "s3"
   ]
  },
  {
   "cell_type": "code",
   "execution_count": null,
   "id": "39579efb",
   "metadata": {},
   "outputs": [],
   "source": [
    "s3 = \"helloworld\""
   ]
  },
  {
   "cell_type": "code",
   "execution_count": null,
   "id": "7624920f",
   "metadata": {},
   "outputs": [],
   "source": [
    "print(s3[0])\n",
    "print(s3[1])\n",
    "print(s3[-3])\n",
    "print(s3[1:5])\n",
    "print(s3[1:-3])\n",
    "print(s3[2:])\n",
    "print(s3[:5])\n",
    "print(s3[:-2])\n",
    "print(s3[-2:])\n",
    "print(s3[::-1])"
   ]
  },
  {
   "cell_type": "markdown",
   "id": "88dcfce5",
   "metadata": {},
   "source": [
    "# Comparison String Operator\n",
    "\n",
    "The string comparison operator in python is used to compare two strings.\n",
    "\n",
    "####   * “==” operator returns Boolean True if two strings are the same and return Boolean False if two strings are not the same.\n",
    "\n",
    "####   * “!=” operator returns Boolean True if two strings are not the same and return Boolean False if two strings are the same.\n",
    "\n",
    "#####  * These operators are mainly used along with if condition to compare two strings where the decision is to be taken based on    string comparison."
   ]
  },
  {
   "cell_type": "code",
   "execution_count": null,
   "id": "8e397f65",
   "metadata": {},
   "outputs": [],
   "source": [
    "string1 = \"hello\"\n",
    "string2 = \"hello, world\"\n",
    "string3 = \"hello, world\"\n",
    "string4 = \"world\""
   ]
  },
  {
   "cell_type": "code",
   "execution_count": null,
   "id": "00c53abb",
   "metadata": {},
   "outputs": [],
   "source": [
    "print(string4==string1)"
   ]
  },
  {
   "cell_type": "code",
   "execution_count": null,
   "id": "525be9dc",
   "metadata": {},
   "outputs": [],
   "source": [
    "print(string3==string2)"
   ]
  },
  {
   "cell_type": "code",
   "execution_count": null,
   "id": "4cfd65da",
   "metadata": {},
   "outputs": [],
   "source": [
    "print(string1!=string4)"
   ]
  },
  {
   "cell_type": "code",
   "execution_count": null,
   "id": "aa148aac",
   "metadata": {},
   "outputs": [],
   "source": [
    "print(string2!=string4)"
   ]
  },
  {
   "cell_type": "markdown",
   "id": "d1164b15",
   "metadata": {},
   "source": [
    "# Example #6 – Membership Operator “in” & “not in”\n",
    "\n",
    "\n",
    "## Membership operator is used to searching whether the specific character is part/member of a given input python string.\n",
    "\n",
    " \n",
    " \n",
    " * “a” in the string: Returns boolean True if “a” is in the string and returns False if “a” is not in the string.\n",
    "\n",
    "\n",
    "* “a” not in the string: Returns boolean True if “a” is not in the string and returns False if “a” is in the string.\n",
    "\n",
    "\n",
    "* A membership operator is also useful to find whether a specific substring is part of a given string."
   ]
  },
  {
   "cell_type": "code",
   "execution_count": 11,
   "id": "98711624",
   "metadata": {},
   "outputs": [],
   "source": [
    "first_name = \"kobby media\""
   ]
  },
  {
   "cell_type": "code",
   "execution_count": 12,
   "id": "348ca007",
   "metadata": {},
   "outputs": [
    {
     "name": "stdout",
     "output_type": "stream",
     "text": [
      "kobby media\n"
     ]
    }
   ],
   "source": [
    "print(first_name)"
   ]
  },
  {
   "cell_type": "code",
   "execution_count": 13,
   "id": "9b3694da",
   "metadata": {},
   "outputs": [
    {
     "name": "stdout",
     "output_type": "stream",
     "text": [
      "True\n"
     ]
    }
   ],
   "source": [
    "print(\"k\" in first_name)"
   ]
  },
  {
   "cell_type": "code",
   "execution_count": 14,
   "id": "bc11f62f",
   "metadata": {},
   "outputs": [
    {
     "name": "stdout",
     "output_type": "stream",
     "text": [
      "False\n"
     ]
    }
   ],
   "source": [
    "print(\"K\" in first_name)"
   ]
  },
  {
   "cell_type": "code",
   "execution_count": 15,
   "id": "7018419e",
   "metadata": {},
   "outputs": [
    {
     "name": "stdout",
     "output_type": "stream",
     "text": [
      "True\n"
     ]
    }
   ],
   "source": [
    "print(\"media\" in first_name)"
   ]
  },
  {
   "cell_type": "code",
   "execution_count": 16,
   "id": "0b1b9d2f",
   "metadata": {},
   "outputs": [
    {
     "name": "stdout",
     "output_type": "stream",
     "text": [
      "False\n"
     ]
    }
   ],
   "source": [
    "print(\"media\" not in first_name)"
   ]
  },
  {
   "cell_type": "code",
   "execution_count": 17,
   "id": "16146536",
   "metadata": {},
   "outputs": [
    {
     "name": "stdout",
     "output_type": "stream",
     "text": [
      "True\n"
     ]
    }
   ],
   "source": [
    "print(\"Kobby\" not in first_name)"
   ]
  },
  {
   "cell_type": "code",
   "execution_count": null,
   "id": "2f75e838",
   "metadata": {},
   "outputs": [],
   "source": []
  },
  {
   "cell_type": "code",
   "execution_count": null,
   "id": "1369d7a2",
   "metadata": {},
   "outputs": [],
   "source": []
  },
  {
   "cell_type": "markdown",
   "id": "2ca68d01",
   "metadata": {},
   "source": [
    "# Programming Concepts"
   ]
  },
  {
   "cell_type": "markdown",
   "id": "1c1f369d",
   "metadata": {},
   "source": [
    "### Input    -->  Processing    -->    Output"
   ]
  },
  {
   "cell_type": "code",
   "execution_count": null,
   "id": "c947f3dc",
   "metadata": {},
   "outputs": [],
   "source": []
  },
  {
   "cell_type": "code",
   "execution_count": null,
   "id": "c7a500d7",
   "metadata": {},
   "outputs": [],
   "source": []
  },
  {
   "cell_type": "code",
   "execution_count": null,
   "id": "77cf3633",
   "metadata": {},
   "outputs": [],
   "source": []
  },
  {
   "cell_type": "code",
   "execution_count": null,
   "id": "98614743",
   "metadata": {},
   "outputs": [],
   "source": []
  },
  {
   "cell_type": "markdown",
   "id": "4c831c0e",
   "metadata": {},
   "source": [
    "# Calculating the Density of a substance.\n",
    "\n",
    "\n",
    "#### Formula: Density = Mass/Volume"
   ]
  },
  {
   "cell_type": "code",
   "execution_count": 2,
   "id": "87a83880",
   "metadata": {},
   "outputs": [
    {
     "name": "stdout",
     "output_type": "stream",
     "text": [
      "Enter the mass of the subtance: 54\n",
      "Enther the volume of the substance: 23\n",
      "2.347826086956522\n"
     ]
    }
   ],
   "source": [
    "# d = density \n",
    "# m = mass\n",
    "# v = volume\n",
    "\n",
    "\n",
    "m = float(input(\"Enter the mass of the subtance: \"))\n",
    "      \n",
    "v = float(input(\"Enther the volume of the substance: \"))\n",
    "            \n",
    "d = m/v\n",
    "\n",
    "print(d)"
   ]
  },
  {
   "cell_type": "code",
   "execution_count": null,
   "id": "4b102684",
   "metadata": {},
   "outputs": [],
   "source": []
  },
  {
   "cell_type": "markdown",
   "id": "8fb2019e",
   "metadata": {},
   "source": [
    "# Write a programme to Calculat the Force of a Machine. \n",
    "\n",
    "\n",
    "### Let the programme accept keyboard input()"
   ]
  },
  {
   "cell_type": "code",
   "execution_count": 7,
   "id": "163b977c",
   "metadata": {
    "scrolled": true
   },
   "outputs": [
    {
     "name": "stdout",
     "output_type": "stream",
     "text": [
      "Enter the mass of the machine: 20.8\n",
      "Enter the acceleration of the machine: 50.20\n",
      "Enter the velocity of the machine: 25.8\n",
      "Enter the distance covered by the machine: 30\n",
      "Enter the time used by the machine to cover distance: 10\n",
      "1821.16\n"
     ]
    }
   ],
   "source": [
    "# Calculating the force of machince\n",
    "\n",
    "# Formular Force = Mass x acceleration; velocity x distance; distance / time. \n",
    "\n",
    "# where mass = mas, acceleration = acc, velocity = vel, distance = dis, time = tim, force = foc\n",
    "\n",
    "\n",
    "mas = float(input(\"Enter the mass of the machine: \"))\n",
    "\n",
    "acc = float(input(\"Enter the acceleration of the machine: \"))\n",
    "\n",
    "vel = float(input(\"Enter the velocity of the machine: \"))\n",
    "\n",
    "dis = int(input(\"Enter the distance covered by the machine: \"))\n",
    "\n",
    "tim = int(input(\"Enter the time used by the machine to cover distance: \"))\n",
    "                \n",
    "foc = (mas * acc) + (vel * dis) + (dis / tim)\n",
    "\n",
    "print(foc)"
   ]
  },
  {
   "cell_type": "code",
   "execution_count": null,
   "id": "18274214",
   "metadata": {},
   "outputs": [],
   "source": []
  },
  {
   "cell_type": "markdown",
   "id": "df89efc7",
   "metadata": {},
   "source": [
    "## Calculating the area of a room. \n",
    "\n",
    "\n",
    "* Write a python program to calculate the area of a room. \n",
    "\n",
    "* Let the program accept input()\n",
    "#### Formula;  [Area = Length * Breadth of the Room]"
   ]
  }
 ],
 "metadata": {
  "kernelspec": {
   "display_name": "Python 3",
   "language": "python",
   "name": "python3"
  },
  "language_info": {
   "codemirror_mode": {
    "name": "ipython",
    "version": 3
   },
   "file_extension": ".py",
   "mimetype": "text/x-python",
   "name": "python",
   "nbconvert_exporter": "python",
   "pygments_lexer": "ipython3",
   "version": "3.8.8"
  }
 },
 "nbformat": 4,
 "nbformat_minor": 5
}
