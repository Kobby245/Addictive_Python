{
 "cells": [
  {
   "cell_type": "markdown",
   "id": "9162c983",
   "metadata": {},
   "source": [
    "# Sets"
   ]
  },
  {
   "cell_type": "markdown",
   "id": "aeee72e0",
   "metadata": {},
   "source": [
    "Unordered sequence of unique elements"
   ]
  },
  {
   "cell_type": "markdown",
   "id": "ec92dbfe",
   "metadata": {},
   "source": [
    "## Creating Sets"
   ]
  },
  {
   "cell_type": "code",
   "execution_count": 3,
   "id": "4bc5f702",
   "metadata": {
    "ExecuteTime": {
     "end_time": "2022-07-11T11:31:15.516598Z",
     "start_time": "2022-07-11T11:31:15.509609Z"
    }
   },
   "outputs": [
    {
     "data": {
      "text/plain": [
       "[2, 3, 3, 6, 4, 2, 5, 1]"
      ]
     },
     "execution_count": 3,
     "metadata": {},
     "output_type": "execute_result"
    }
   ],
   "source": [
    "list_integers = [2, 3, 3, 6, 4, 2, 5, 1]\n",
    "\n",
    "list_integers"
   ]
  },
  {
   "cell_type": "markdown",
   "id": "b200f4cc",
   "metadata": {},
   "source": [
    "### Using `set()` - the argument you pass to it should be an iterable/sequence/collection of items/values"
   ]
  },
  {
   "cell_type": "code",
   "execution_count": 4,
   "id": "5e3167dd",
   "metadata": {
    "ExecuteTime": {
     "end_time": "2022-07-11T11:32:02.180442Z",
     "start_time": "2022-07-11T11:32:02.165443Z"
    }
   },
   "outputs": [
    {
     "data": {
      "text/plain": [
       "{1, 2, 3, 4, 5, 6}"
      ]
     },
     "execution_count": 4,
     "metadata": {},
     "output_type": "execute_result"
    }
   ],
   "source": [
    "set_items = set(list_integers)\n",
    "\n",
    "set_items"
   ]
  },
  {
   "cell_type": "markdown",
   "id": "2cf7e325",
   "metadata": {},
   "source": [
    "### By default Curly braces are used for dictionaries"
   ]
  },
  {
   "cell_type": "code",
   "execution_count": 5,
   "id": "e7923494",
   "metadata": {
    "ExecuteTime": {
     "end_time": "2022-07-11T11:34:35.025532Z",
     "start_time": "2022-07-11T11:34:35.020102Z"
    }
   },
   "outputs": [
    {
     "data": {
      "text/plain": [
       "dict"
      ]
     },
     "execution_count": 5,
     "metadata": {},
     "output_type": "execute_result"
    }
   ],
   "source": [
    "set_items_2 = {}\n",
    "\n",
    "type(set_items_2)"
   ]
  },
  {
   "cell_type": "markdown",
   "id": "6080e520",
   "metadata": {},
   "source": [
    "### Using `{}` - the element inside the curly braces must be unique"
   ]
  },
  {
   "cell_type": "code",
   "execution_count": 6,
   "id": "24db46e6",
   "metadata": {
    "ExecuteTime": {
     "end_time": "2022-07-11T11:35:30.151825Z",
     "start_time": "2022-07-11T11:35:30.146830Z"
    }
   },
   "outputs": [
    {
     "data": {
      "text/plain": [
       "({1, 2, 3, 4, 5}, set)"
      ]
     },
     "execution_count": 6,
     "metadata": {},
     "output_type": "execute_result"
    }
   ],
   "source": [
    "set_items_3 = {1, 2, 3, 4, 5}\n",
    "\n",
    "set_items_3, type(set_items_3)"
   ]
  },
  {
   "cell_type": "code",
   "execution_count": 8,
   "id": "dbeca611",
   "metadata": {
    "ExecuteTime": {
     "end_time": "2022-07-11T11:35:53.706843Z",
     "start_time": "2022-07-11T11:35:53.688249Z"
    }
   },
   "outputs": [
    {
     "data": {
      "text/plain": [
       "(0, 1, 2, 3, 4, 5)"
      ]
     },
     "execution_count": 8,
     "metadata": {},
     "output_type": "execute_result"
    }
   ],
   "source": [
    "tuple_of_integers = tuple(range(6))\n",
    "\n",
    "tuple_of_integers"
   ]
  },
  {
   "cell_type": "code",
   "execution_count": 9,
   "id": "b25f37f7",
   "metadata": {
    "ExecuteTime": {
     "end_time": "2022-07-11T11:36:03.571518Z",
     "start_time": "2022-07-11T11:36:03.555520Z"
    }
   },
   "outputs": [
    {
     "data": {
      "text/plain": [
       "{(0, 1, 2, 3, 4, 5)}"
      ]
     },
     "execution_count": 9,
     "metadata": {},
     "output_type": "execute_result"
    }
   ],
   "source": [
    "set_items_4 = {tuple_of_integers}\n",
    "\n",
    "set_items_4"
   ]
  },
  {
   "cell_type": "code",
   "execution_count": 12,
   "id": "bc6b3a44",
   "metadata": {
    "ExecuteTime": {
     "end_time": "2022-07-11T11:36:52.485024Z",
     "start_time": "2022-07-11T11:36:52.469047Z"
    }
   },
   "outputs": [
    {
     "data": {
      "text/plain": [
       "[0, 1, 2, 3, 4, 5]"
      ]
     },
     "execution_count": 12,
     "metadata": {},
     "output_type": "execute_result"
    }
   ],
   "source": [
    "list_of_integers_2 = list(range(6))\n",
    "\n",
    "list_of_integers_2"
   ]
  },
  {
   "cell_type": "code",
   "execution_count": 13,
   "id": "1237ad65",
   "metadata": {
    "ExecuteTime": {
     "end_time": "2022-07-11T11:37:28.029769Z",
     "start_time": "2022-07-11T11:37:27.981778Z"
    }
   },
   "outputs": [
    {
     "ename": "TypeError",
     "evalue": "unhashable type: 'list'",
     "output_type": "error",
     "traceback": [
      "\u001b[1;31m---------------------------------------------------------------------------\u001b[0m",
      "\u001b[1;31mTypeError\u001b[0m                                 Traceback (most recent call last)",
      "Input \u001b[1;32mIn [13]\u001b[0m, in \u001b[0;36m<cell line: 1>\u001b[1;34m()\u001b[0m\n\u001b[1;32m----> 1\u001b[0m set_items_5 \u001b[38;5;241m=\u001b[39m {list_of_integers_2}\n\u001b[0;32m      3\u001b[0m set_items_5\n",
      "\u001b[1;31mTypeError\u001b[0m: unhashable type: 'list'"
     ]
    }
   ],
   "source": [
    "set_items_5 = {list_of_integers_2}\n",
    "\n",
    "set_items_5"
   ]
  },
  {
   "cell_type": "code",
   "execution_count": 14,
   "id": "26a6e95d",
   "metadata": {
    "ExecuteTime": {
     "end_time": "2022-07-11T11:38:46.868825Z",
     "start_time": "2022-07-11T11:38:46.851828Z"
    }
   },
   "outputs": [
    {
     "data": {
      "text/plain": [
       "({0.5, 1, '100', 2, 'Arcane'}, set)"
      ]
     },
     "execution_count": 14,
     "metadata": {},
     "output_type": "execute_result"
    }
   ],
   "source": [
    "set_items_6 = {1, 2, 2, 0.5, \"Arcane\", \"100\", \"Arcane\"}\n",
    "\n",
    "set_items_6, type(set_items_6)"
   ]
  },
  {
   "cell_type": "markdown",
   "id": "a5c17667",
   "metadata": {},
   "source": [
    "---"
   ]
  },
  {
   "cell_type": "markdown",
   "id": "e8a7af37",
   "metadata": {},
   "source": [
    "## The difference between using `set()` and `{}` in creating sets"
   ]
  },
  {
   "cell_type": "markdown",
   "id": "1f8dcdab",
   "metadata": {},
   "source": [
    "The set() function accepts iterables\n",
    "\n",
    "Set() accepts immutale and mutable iterables\n",
    "\n",
    "{} accepts values and they are placed into it as they are.\n",
    "\n",
    "{} accepts immutable types"
   ]
  },
  {
   "cell_type": "code",
   "execution_count": 15,
   "id": "4d9370ae",
   "metadata": {
    "ExecuteTime": {
     "end_time": "2022-07-11T11:42:12.328336Z",
     "start_time": "2022-07-11T11:42:12.313337Z"
    }
   },
   "outputs": [
    {
     "data": {
      "text/plain": [
       "{1, 2, 3, 4, 5, 6}"
      ]
     },
     "execution_count": 15,
     "metadata": {},
     "output_type": "execute_result"
    }
   ],
   "source": [
    "set(list_integers)"
   ]
  },
  {
   "cell_type": "code",
   "execution_count": 16,
   "id": "41f4f5f3",
   "metadata": {
    "ExecuteTime": {
     "end_time": "2022-07-11T11:42:24.108194Z",
     "start_time": "2022-07-11T11:42:24.096200Z"
    }
   },
   "outputs": [
    {
     "data": {
      "text/plain": [
       "{1, 2, 4, 5, 6, 7}"
      ]
     },
     "execution_count": 16,
     "metadata": {},
     "output_type": "execute_result"
    }
   ],
   "source": [
    "{1, 2, 4, 5, 6, 5, 5, 6, 7, 7}"
   ]
  },
  {
   "cell_type": "code",
   "execution_count": 17,
   "id": "f520c146",
   "metadata": {
    "ExecuteTime": {
     "end_time": "2022-07-11T11:42:46.631804Z",
     "start_time": "2022-07-11T11:42:46.625807Z"
    }
   },
   "outputs": [
    {
     "data": {
      "text/plain": [
       "{'Raspberry'}"
      ]
     },
     "execution_count": 17,
     "metadata": {},
     "output_type": "execute_result"
    }
   ],
   "source": [
    "{\"Raspberry\"}"
   ]
  },
  {
   "cell_type": "code",
   "execution_count": 18,
   "id": "f16e4e90",
   "metadata": {
    "ExecuteTime": {
     "end_time": "2022-07-11T11:43:40.762861Z",
     "start_time": "2022-07-11T11:43:40.744844Z"
    }
   },
   "outputs": [
    {
     "data": {
      "text/plain": [
       "{'R', 'a', 'b', 'e', 'p', 'r', 's', 'y'}"
      ]
     },
     "execution_count": 18,
     "metadata": {},
     "output_type": "execute_result"
    }
   ],
   "source": [
    "set(\"Raspberry\")"
   ]
  },
  {
   "cell_type": "code",
   "execution_count": 19,
   "id": "6ab59693",
   "metadata": {
    "ExecuteTime": {
     "end_time": "2022-07-11T11:43:52.842039Z",
     "start_time": "2022-07-11T11:43:52.831951Z"
    }
   },
   "outputs": [
    {
     "data": {
      "text/plain": [
       "{1, 2, 3, 4}"
      ]
     },
     "execution_count": 19,
     "metadata": {},
     "output_type": "execute_result"
    }
   ],
   "source": [
    "set([1, 2, 3, 3, 4])"
   ]
  },
  {
   "cell_type": "code",
   "execution_count": 20,
   "id": "34575de5",
   "metadata": {
    "ExecuteTime": {
     "end_time": "2022-07-11T11:43:55.690435Z",
     "start_time": "2022-07-11T11:43:55.671442Z"
    }
   },
   "outputs": [
    {
     "ename": "TypeError",
     "evalue": "unhashable type: 'list'",
     "output_type": "error",
     "traceback": [
      "\u001b[1;31m---------------------------------------------------------------------------\u001b[0m",
      "\u001b[1;31mTypeError\u001b[0m                                 Traceback (most recent call last)",
      "Input \u001b[1;32mIn [20]\u001b[0m, in \u001b[0;36m<cell line: 1>\u001b[1;34m()\u001b[0m\n\u001b[1;32m----> 1\u001b[0m {[\u001b[38;5;241m1\u001b[39m, \u001b[38;5;241m2\u001b[39m, \u001b[38;5;241m3\u001b[39m, \u001b[38;5;241m3\u001b[39m, \u001b[38;5;241m4\u001b[39m]}\n",
      "\u001b[1;31mTypeError\u001b[0m: unhashable type: 'list'"
     ]
    }
   ],
   "source": [
    "{[1, 2, 3, 3, 4]}"
   ]
  },
  {
   "cell_type": "code",
   "execution_count": 21,
   "id": "bdda277b",
   "metadata": {
    "ExecuteTime": {
     "end_time": "2022-07-11T11:44:11.764417Z",
     "start_time": "2022-07-11T11:44:11.751237Z"
    }
   },
   "outputs": [
    {
     "data": {
      "text/plain": [
       "{'name': 'Kwan', 'age': 15}"
      ]
     },
     "execution_count": 21,
     "metadata": {},
     "output_type": "execute_result"
    }
   ],
   "source": [
    "dictionary = {\"name\": \"Kwan\", \"age\": 15}\n",
    "\n",
    "dictionary"
   ]
  },
  {
   "cell_type": "code",
   "execution_count": 22,
   "id": "bae28497",
   "metadata": {
    "ExecuteTime": {
     "end_time": "2022-07-11T11:44:19.453567Z",
     "start_time": "2022-07-11T11:44:19.446580Z"
    }
   },
   "outputs": [
    {
     "data": {
      "text/plain": [
       "{'age', 'name'}"
      ]
     },
     "execution_count": 22,
     "metadata": {},
     "output_type": "execute_result"
    }
   ],
   "source": [
    "set(dictionary)"
   ]
  },
  {
   "cell_type": "code",
   "execution_count": 23,
   "id": "d29981ee",
   "metadata": {
    "ExecuteTime": {
     "end_time": "2022-07-11T11:44:57.389315Z",
     "start_time": "2022-07-11T11:44:57.372313Z"
    }
   },
   "outputs": [
    {
     "ename": "TypeError",
     "evalue": "unhashable type: 'dict'",
     "output_type": "error",
     "traceback": [
      "\u001b[1;31m---------------------------------------------------------------------------\u001b[0m",
      "\u001b[1;31mTypeError\u001b[0m                                 Traceback (most recent call last)",
      "Input \u001b[1;32mIn [23]\u001b[0m, in \u001b[0;36m<cell line: 1>\u001b[1;34m()\u001b[0m\n\u001b[1;32m----> 1\u001b[0m {dictionary}\n",
      "\u001b[1;31mTypeError\u001b[0m: unhashable type: 'dict'"
     ]
    }
   ],
   "source": [
    "{dictionary}"
   ]
  },
  {
   "cell_type": "markdown",
   "id": "21a17156",
   "metadata": {},
   "source": [
    "### Membership Operators"
   ]
  },
  {
   "cell_type": "code",
   "execution_count": 24,
   "id": "14da39c0",
   "metadata": {
    "ExecuteTime": {
     "end_time": "2022-07-11T11:45:38.620643Z",
     "start_time": "2022-07-11T11:45:38.611645Z"
    }
   },
   "outputs": [
    {
     "data": {
      "text/plain": [
       "{1, 2, 3, 4, 5, 6}"
      ]
     },
     "execution_count": 24,
     "metadata": {},
     "output_type": "execute_result"
    }
   ],
   "source": [
    "set_items"
   ]
  },
  {
   "cell_type": "code",
   "execution_count": 25,
   "id": "69eb4202",
   "metadata": {
    "ExecuteTime": {
     "end_time": "2022-07-11T11:46:48.264313Z",
     "start_time": "2022-07-11T11:46:48.256327Z"
    }
   },
   "outputs": [
    {
     "data": {
      "text/plain": [
       "True"
      ]
     },
     "execution_count": 25,
     "metadata": {},
     "output_type": "execute_result"
    }
   ],
   "source": [
    "2 in set_items"
   ]
  },
  {
   "cell_type": "code",
   "execution_count": 26,
   "id": "c4d56b11",
   "metadata": {
    "ExecuteTime": {
     "end_time": "2022-07-11T11:47:09.557649Z",
     "start_time": "2022-07-11T11:47:09.539648Z"
    }
   },
   "outputs": [
    {
     "data": {
      "text/plain": [
       "False"
      ]
     },
     "execution_count": 26,
     "metadata": {},
     "output_type": "execute_result"
    }
   ],
   "source": [
    "3 not in set_items"
   ]
  },
  {
   "cell_type": "markdown",
   "id": "a54d4874",
   "metadata": {},
   "source": [
    "## Performing Set Operations"
   ]
  },
  {
   "cell_type": "markdown",
   "id": "ee49587d",
   "metadata": {},
   "source": [
    "### Using Union"
   ]
  },
  {
   "cell_type": "code",
   "execution_count": 27,
   "id": "30981a0d",
   "metadata": {
    "ExecuteTime": {
     "end_time": "2022-07-11T11:47:28.160266Z",
     "start_time": "2022-07-11T11:47:28.154268Z"
    }
   },
   "outputs": [
    {
     "data": {
      "text/plain": [
       "{1, 2, 3, 4, 5, 6}"
      ]
     },
     "execution_count": 27,
     "metadata": {},
     "output_type": "execute_result"
    }
   ],
   "source": [
    "set_items"
   ]
  },
  {
   "cell_type": "code",
   "execution_count": 28,
   "id": "0fe3a459",
   "metadata": {
    "ExecuteTime": {
     "end_time": "2022-07-11T11:47:38.424527Z",
     "start_time": "2022-07-11T11:47:38.415525Z"
    }
   },
   "outputs": [
    {
     "data": {
      "text/plain": [
       "{6, 7, 8, 9, 10}"
      ]
     },
     "execution_count": 28,
     "metadata": {},
     "output_type": "execute_result"
    }
   ],
   "source": [
    "set_item_5 = {6, 7, 8, 9, 10}\n",
    "\n",
    "set_item_5"
   ]
  },
  {
   "cell_type": "code",
   "execution_count": 29,
   "id": "ce2d95bf",
   "metadata": {
    "ExecuteTime": {
     "end_time": "2022-07-11T11:48:22.634499Z",
     "start_time": "2022-07-11T11:48:22.615508Z"
    }
   },
   "outputs": [
    {
     "data": {
      "text/plain": [
       "{1, 2, 3, 4, 5, 6, 7, 8, 9, 10}"
      ]
     },
     "execution_count": 29,
     "metadata": {},
     "output_type": "execute_result"
    }
   ],
   "source": [
    "set_items | set_item_5"
   ]
  },
  {
   "cell_type": "code",
   "execution_count": 30,
   "id": "e374314a",
   "metadata": {
    "ExecuteTime": {
     "end_time": "2022-07-11T11:49:04.237748Z",
     "start_time": "2022-07-11T11:49:04.221745Z"
    }
   },
   "outputs": [
    {
     "data": {
      "text/plain": [
       "{1, 2, 3, 4, 5, 6, 7, 8, 9, 10}"
      ]
     },
     "execution_count": 30,
     "metadata": {},
     "output_type": "execute_result"
    }
   ],
   "source": [
    "set_items.union(set_item_5)"
   ]
  },
  {
   "cell_type": "markdown",
   "id": "161e1c88",
   "metadata": {},
   "source": [
    "---"
   ]
  },
  {
   "cell_type": "code",
   "execution_count": 31,
   "id": "a85e5c0c",
   "metadata": {
    "ExecuteTime": {
     "end_time": "2022-07-11T11:49:12.868753Z",
     "start_time": "2022-07-11T11:49:12.852753Z"
    }
   },
   "outputs": [
    {
     "data": {
      "text/plain": [
       "{5, 10, 15, 20, 25, 30, 35, 40, 45}"
      ]
     },
     "execution_count": 31,
     "metadata": {},
     "output_type": "execute_result"
    }
   ],
   "source": [
    "set_A = set(range(5, 50, 5))\n",
    "\n",
    "set_A"
   ]
  },
  {
   "cell_type": "code",
   "execution_count": 32,
   "id": "18fd1a82",
   "metadata": {
    "ExecuteTime": {
     "end_time": "2022-07-11T11:50:11.332878Z",
     "start_time": "2022-07-11T11:50:11.315891Z"
    }
   },
   "outputs": [
    {
     "data": {
      "text/plain": [
       "{2, 4, 5, 6, 8, 10, 15, 20, 25, 30, 35, 40, 45}"
      ]
     },
     "execution_count": 32,
     "metadata": {},
     "output_type": "execute_result"
    }
   ],
   "source": [
    "set_A | {2, 4, 6, 8}"
   ]
  },
  {
   "cell_type": "code",
   "execution_count": 33,
   "id": "22eaa8e4",
   "metadata": {
    "ExecuteTime": {
     "end_time": "2022-07-11T11:50:39.930641Z",
     "start_time": "2022-07-11T11:50:39.902618Z"
    }
   },
   "outputs": [
    {
     "ename": "TypeError",
     "evalue": "unsupported operand type(s) for |: 'set' and 'list'",
     "output_type": "error",
     "traceback": [
      "\u001b[1;31m---------------------------------------------------------------------------\u001b[0m",
      "\u001b[1;31mTypeError\u001b[0m                                 Traceback (most recent call last)",
      "Input \u001b[1;32mIn [33]\u001b[0m, in \u001b[0;36m<cell line: 1>\u001b[1;34m()\u001b[0m\n\u001b[1;32m----> 1\u001b[0m \u001b[43mset_A\u001b[49m\u001b[43m \u001b[49m\u001b[38;5;241;43m|\u001b[39;49m\u001b[43m \u001b[49m\u001b[43m[\u001b[49m\u001b[38;5;241;43m2\u001b[39;49m\u001b[43m,\u001b[49m\u001b[43m \u001b[49m\u001b[38;5;241;43m4\u001b[39;49m\u001b[43m,\u001b[49m\u001b[43m \u001b[49m\u001b[38;5;241;43m6\u001b[39;49m\u001b[43m,\u001b[49m\u001b[43m \u001b[49m\u001b[38;5;241;43m8\u001b[39;49m\u001b[43m]\u001b[49m\n",
      "\u001b[1;31mTypeError\u001b[0m: unsupported operand type(s) for |: 'set' and 'list'"
     ]
    }
   ],
   "source": [
    "set_A | [2, 4, 6, 8]"
   ]
  },
  {
   "cell_type": "code",
   "execution_count": 34,
   "id": "ab21d3c3",
   "metadata": {
    "ExecuteTime": {
     "end_time": "2022-07-11T11:51:27.945301Z",
     "start_time": "2022-07-11T11:51:27.938308Z"
    }
   },
   "outputs": [
    {
     "data": {
      "text/plain": [
       "{2, 4, 5, 6, 8, 9, 10, 15, 20, 25, 30, 35, 40, 45}"
      ]
     },
     "execution_count": 34,
     "metadata": {},
     "output_type": "execute_result"
    }
   ],
   "source": [
    "set_A.union([2, 4, 6, 8, 8, 2, 9])"
   ]
  },
  {
   "cell_type": "markdown",
   "id": "56caceb3",
   "metadata": {},
   "source": [
    "---"
   ]
  },
  {
   "cell_type": "markdown",
   "id": "8072bab7",
   "metadata": {},
   "source": [
    "## Explore these operators"
   ]
  },
  {
   "cell_type": "markdown",
   "id": "9e1e8023",
   "metadata": {},
   "source": [
    "* intersection --- &\n",
    "\n",
    "* symmetric_difference\n",
    "\n",
    "* difference\n",
    "\n",
    "* issubset"
   ]
  },
  {
   "cell_type": "markdown",
   "id": "8375a5e7",
   "metadata": {},
   "source": [
    "---"
   ]
  },
  {
   "cell_type": "markdown",
   "id": "c7268ca8",
   "metadata": {},
   "source": [
    "## Modifying a Set"
   ]
  },
  {
   "cell_type": "markdown",
   "id": "8fd03038",
   "metadata": {},
   "source": [
    "A set itself can be modified but the elements within/contained in the set must be of an immutable type...\n",
    "\n",
    "That is to say the elements cannot be changed"
   ]
  },
  {
   "cell_type": "code",
   "execution_count": 35,
   "id": "af6c468e",
   "metadata": {
    "ExecuteTime": {
     "end_time": "2022-07-11T11:53:12.374979Z",
     "start_time": "2022-07-11T11:53:12.362981Z"
    }
   },
   "outputs": [
    {
     "data": {
      "text/plain": [
       "[1, 2, 3, 3, 4, 2, 5, 10, 10]"
      ]
     },
     "execution_count": 35,
     "metadata": {},
     "output_type": "execute_result"
    }
   ],
   "source": [
    "list_of_student_scores = [1, 2, 3, 3, 4, 2, 5, 10, 10] # --- this is a list\n",
    "\n",
    "list_of_student_scores"
   ]
  },
  {
   "cell_type": "code",
   "execution_count": 36,
   "id": "8ac45aa0",
   "metadata": {
    "ExecuteTime": {
     "end_time": "2022-07-11T11:53:25.242746Z",
     "start_time": "2022-07-11T11:53:25.225754Z"
    }
   },
   "outputs": [
    {
     "data": {
      "text/plain": [
       "{1, 2, 3, 4, 5, 10}"
      ]
     },
     "execution_count": 36,
     "metadata": {},
     "output_type": "execute_result"
    }
   ],
   "source": [
    "set_of_student_scores = set(list_of_student_scores)\n",
    "\n",
    "set_of_student_scores"
   ]
  },
  {
   "cell_type": "markdown",
   "id": "00c86a97",
   "metadata": {},
   "source": [
    "### Immutability test"
   ]
  },
  {
   "cell_type": "code",
   "execution_count": 37,
   "id": "89df5039",
   "metadata": {
    "ExecuteTime": {
     "end_time": "2022-07-11T11:53:35.306461Z",
     "start_time": "2022-07-11T11:53:35.295460Z"
    }
   },
   "outputs": [
    {
     "data": {
      "text/plain": [
       "[1, 2, 3, 3, 4, 2, 5, 10, 10]"
      ]
     },
     "execution_count": 37,
     "metadata": {},
     "output_type": "execute_result"
    }
   ],
   "source": [
    "list_of_student_scores"
   ]
  },
  {
   "cell_type": "code",
   "execution_count": 38,
   "id": "3f7dc36b",
   "metadata": {
    "ExecuteTime": {
     "end_time": "2022-07-11T11:54:17.803439Z",
     "start_time": "2022-07-11T11:54:17.795441Z"
    }
   },
   "outputs": [
    {
     "data": {
      "text/plain": [
       "[16, 2, 3, 3, 4, 2, 5, 10, 10]"
      ]
     },
     "execution_count": 38,
     "metadata": {},
     "output_type": "execute_result"
    }
   ],
   "source": [
    "list_of_student_scores[0] = 16\n",
    "\n",
    "list_of_student_scores"
   ]
  },
  {
   "cell_type": "code",
   "execution_count": 42,
   "id": "a6062105",
   "metadata": {
    "ExecuteTime": {
     "end_time": "2022-07-11T11:54:57.633197Z",
     "start_time": "2022-07-11T11:54:57.604216Z"
    }
   },
   "outputs": [
    {
     "ename": "TypeError",
     "evalue": "'set' object does not support item assignment",
     "output_type": "error",
     "traceback": [
      "\u001b[1;31m---------------------------------------------------------------------------\u001b[0m",
      "\u001b[1;31mTypeError\u001b[0m                                 Traceback (most recent call last)",
      "Input \u001b[1;32mIn [42]\u001b[0m, in \u001b[0;36m<cell line: 1>\u001b[1;34m()\u001b[0m\n\u001b[1;32m----> 1\u001b[0m set_of_student_scores[\u001b[38;5;241m0\u001b[39m] \u001b[38;5;241m=\u001b[39m \u001b[38;5;241m16\u001b[39m\n",
      "\u001b[1;31mTypeError\u001b[0m: 'set' object does not support item assignment"
     ]
    }
   ],
   "source": [
    "set_of_student_scores[0] = 16"
   ]
  },
  {
   "cell_type": "markdown",
   "id": "c5b74050",
   "metadata": {},
   "source": [
    "## Argumented Operators and Methods"
   ]
  },
  {
   "cell_type": "markdown",
   "id": "019bdb4f",
   "metadata": {},
   "source": [
    "### Update"
   ]
  },
  {
   "cell_type": "code",
   "execution_count": 43,
   "id": "4c5632fa",
   "metadata": {
    "ExecuteTime": {
     "end_time": "2022-07-11T11:56:32.004324Z",
     "start_time": "2022-07-11T11:56:31.995326Z"
    }
   },
   "outputs": [
    {
     "data": {
      "text/plain": [
       "{0, 1, 2, 3, 4, 5, 10, 20, 25, 30}"
      ]
     },
     "execution_count": 43,
     "metadata": {},
     "output_type": "execute_result"
    }
   ],
   "source": [
    "set_of_student_scores.update([25, 20, 25, 20, 0, 30])\n",
    "\n",
    "set_of_student_scores"
   ]
  },
  {
   "cell_type": "code",
   "execution_count": 44,
   "id": "a5190510",
   "metadata": {
    "ExecuteTime": {
     "end_time": "2022-07-11T11:56:46.668137Z",
     "start_time": "2022-07-11T11:56:46.659061Z"
    }
   },
   "outputs": [
    {
     "data": {
      "text/plain": [
       "{0, 0.5, 1, 2, 3, 4, 5, 10, 20, 25, 30, 40, 55, 100}"
      ]
     },
     "execution_count": 44,
     "metadata": {},
     "output_type": "execute_result"
    }
   ],
   "source": [
    "set_of_student_scores |= {100, 40, 55, 40, 0.5}\n",
    "\n",
    "set_of_student_scores"
   ]
  },
  {
   "cell_type": "markdown",
   "id": "c2b3be17",
   "metadata": {},
   "source": [
    "## Explore these Argumented Operators find extra 2"
   ]
  },
  {
   "cell_type": "markdown",
   "id": "361abfd1",
   "metadata": {},
   "source": [
    "intersection_update"
   ]
  },
  {
   "cell_type": "markdown",
   "id": "e9d81a3e",
   "metadata": {},
   "source": [
    "## Explore These Set Methods"
   ]
  },
  {
   "cell_type": "markdown",
   "id": "854b7992",
   "metadata": {},
   "source": [
    "* add\n",
    "* remove\n",
    "* clear"
   ]
  },
  {
   "cell_type": "markdown",
   "id": "3952bf1e",
   "metadata": {},
   "source": [
    "## Use Case"
   ]
  },
  {
   "cell_type": "code",
   "execution_count": 45,
   "id": "af6febbf",
   "metadata": {
    "ExecuteTime": {
     "end_time": "2022-07-11T11:57:26.969678Z",
     "start_time": "2022-07-11T11:57:26.965690Z"
    }
   },
   "outputs": [],
   "source": [
    "import random"
   ]
  },
  {
   "cell_type": "code",
   "execution_count": 46,
   "id": "e50a6e3c",
   "metadata": {
    "ExecuteTime": {
     "end_time": "2022-07-11T11:57:29.339261Z",
     "start_time": "2022-07-11T11:57:29.198799Z"
    }
   },
   "outputs": [],
   "source": [
    "idproducer = random.sample(range(10000, 160000), 150000)"
   ]
  },
  {
   "cell_type": "code",
   "execution_count": 47,
   "id": "fd543d7b",
   "metadata": {
    "ExecuteTime": {
     "end_time": "2022-07-11T11:58:53.615857Z",
     "start_time": "2022-07-11T11:58:53.608847Z"
    }
   },
   "outputs": [
    {
     "data": {
      "text/plain": [
       "list"
      ]
     },
     "execution_count": 47,
     "metadata": {},
     "output_type": "execute_result"
    }
   ],
   "source": [
    "type(idproducer)"
   ]
  },
  {
   "cell_type": "code",
   "execution_count": 48,
   "id": "e188c54d",
   "metadata": {
    "ExecuteTime": {
     "end_time": "2022-07-11T11:59:25.499085Z",
     "start_time": "2022-07-11T11:59:25.461091Z"
    }
   },
   "outputs": [
    {
     "data": {
      "text/plain": [
       "{10000,\n",
       " 10001,\n",
       " 10002,\n",
       " 10003,\n",
       " 10004,\n",
       " 10005,\n",
       " 10006,\n",
       " 10007,\n",
       " 10008,\n",
       " 10009,\n",
       " 10010,\n",
       " 10011,\n",
       " 10012,\n",
       " 10013,\n",
       " 10014,\n",
       " 10015,\n",
       " 10016,\n",
       " 10017,\n",
       " 10018,\n",
       " 10019,\n",
       " 10020,\n",
       " 10021,\n",
       " 10022,\n",
       " 10023,\n",
       " 10024,\n",
       " 10025,\n",
       " 10026,\n",
       " 10027,\n",
       " 10028,\n",
       " 10029,\n",
       " 10030,\n",
       " 10031,\n",
       " 10032,\n",
       " 10033,\n",
       " 10034,\n",
       " 10035,\n",
       " 10036,\n",
       " 10037,\n",
       " 10038,\n",
       " 10039,\n",
       " 10040,\n",
       " 10041,\n",
       " 10042,\n",
       " 10043,\n",
       " 10044,\n",
       " 10045,\n",
       " 10046,\n",
       " 10047,\n",
       " 10048,\n",
       " 10049,\n",
       " 10050,\n",
       " 10051,\n",
       " 10052,\n",
       " 10053,\n",
       " 10054,\n",
       " 10055,\n",
       " 10056,\n",
       " 10057,\n",
       " 10058,\n",
       " 10059,\n",
       " 10060,\n",
       " 10061,\n",
       " 10062,\n",
       " 10063,\n",
       " 10064,\n",
       " 10065,\n",
       " 10066,\n",
       " 10067,\n",
       " 10068,\n",
       " 10069,\n",
       " 10070,\n",
       " 10071,\n",
       " 10072,\n",
       " 10073,\n",
       " 10074,\n",
       " 10075,\n",
       " 10076,\n",
       " 10077,\n",
       " 10078,\n",
       " 10079,\n",
       " 10080,\n",
       " 10081,\n",
       " 10082,\n",
       " 10083,\n",
       " 10084,\n",
       " 10085,\n",
       " 10086,\n",
       " 10087,\n",
       " 10088,\n",
       " 10089,\n",
       " 10090,\n",
       " 10091,\n",
       " 10092,\n",
       " 10093,\n",
       " 10094,\n",
       " 10095,\n",
       " 10096,\n",
       " 10097,\n",
       " 10098,\n",
       " 10099,\n",
       " 10100,\n",
       " 10101,\n",
       " 10102,\n",
       " 10103,\n",
       " 10104,\n",
       " 10105,\n",
       " 10106,\n",
       " 10107,\n",
       " 10108,\n",
       " 10109,\n",
       " 10110,\n",
       " 10111,\n",
       " 10112,\n",
       " 10113,\n",
       " 10114,\n",
       " 10115,\n",
       " 10116,\n",
       " 10117,\n",
       " 10118,\n",
       " 10119,\n",
       " 10120,\n",
       " 10121,\n",
       " 10122,\n",
       " 10123,\n",
       " 10124,\n",
       " 10125,\n",
       " 10126,\n",
       " 10127,\n",
       " 10128,\n",
       " 10129,\n",
       " 10130,\n",
       " 10131,\n",
       " 10132,\n",
       " 10133,\n",
       " 10134,\n",
       " 10135,\n",
       " 10136,\n",
       " 10137,\n",
       " 10138,\n",
       " 10139,\n",
       " 10140,\n",
       " 10141,\n",
       " 10142,\n",
       " 10143,\n",
       " 10144,\n",
       " 10145,\n",
       " 10146,\n",
       " 10147,\n",
       " 10148,\n",
       " 10149,\n",
       " 10150,\n",
       " 10151,\n",
       " 10152,\n",
       " 10153,\n",
       " 10154,\n",
       " 10155,\n",
       " 10156,\n",
       " 10157,\n",
       " 10158,\n",
       " 10159,\n",
       " 10160,\n",
       " 10161,\n",
       " 10162,\n",
       " 10163,\n",
       " 10164,\n",
       " 10165,\n",
       " 10166,\n",
       " 10167,\n",
       " 10168,\n",
       " 10169,\n",
       " 10170,\n",
       " 10171,\n",
       " 10172,\n",
       " 10173,\n",
       " 10174,\n",
       " 10175,\n",
       " 10176,\n",
       " 10177,\n",
       " 10178,\n",
       " 10179,\n",
       " 10180,\n",
       " 10181,\n",
       " 10182,\n",
       " 10183,\n",
       " 10184,\n",
       " 10185,\n",
       " 10186,\n",
       " 10187,\n",
       " 10188,\n",
       " 10189,\n",
       " 10190,\n",
       " 10191,\n",
       " 10192,\n",
       " 10193,\n",
       " 10194,\n",
       " 10195,\n",
       " 10196,\n",
       " 10197,\n",
       " 10198,\n",
       " 10199,\n",
       " 10200,\n",
       " 10201,\n",
       " 10202,\n",
       " 10203,\n",
       " 10204,\n",
       " 10205,\n",
       " 10206,\n",
       " 10207,\n",
       " 10208,\n",
       " 10209,\n",
       " 10210,\n",
       " 10211,\n",
       " 10212,\n",
       " 10213,\n",
       " 10214,\n",
       " 10215,\n",
       " 10216,\n",
       " 10217,\n",
       " 10218,\n",
       " 10219,\n",
       " 10220,\n",
       " 10221,\n",
       " 10222,\n",
       " 10223,\n",
       " 10224,\n",
       " 10225,\n",
       " 10226,\n",
       " 10227,\n",
       " 10228,\n",
       " 10229,\n",
       " 10230,\n",
       " 10231,\n",
       " 10232,\n",
       " 10233,\n",
       " 10234,\n",
       " 10235,\n",
       " 10236,\n",
       " 10237,\n",
       " 10238,\n",
       " 10239,\n",
       " 10240,\n",
       " 10241,\n",
       " 10242,\n",
       " 10243,\n",
       " 10244,\n",
       " 10245,\n",
       " 10246,\n",
       " 10247,\n",
       " 10248,\n",
       " 10249,\n",
       " 10250,\n",
       " 10251,\n",
       " 10252,\n",
       " 10253,\n",
       " 10254,\n",
       " 10255,\n",
       " 10256,\n",
       " 10257,\n",
       " 10258,\n",
       " 10259,\n",
       " 10260,\n",
       " 10261,\n",
       " 10262,\n",
       " 10263,\n",
       " 10264,\n",
       " 10265,\n",
       " 10266,\n",
       " 10267,\n",
       " 10268,\n",
       " 10269,\n",
       " 10270,\n",
       " 10271,\n",
       " 10272,\n",
       " 10273,\n",
       " 10274,\n",
       " 10275,\n",
       " 10276,\n",
       " 10277,\n",
       " 10278,\n",
       " 10279,\n",
       " 10280,\n",
       " 10281,\n",
       " 10282,\n",
       " 10283,\n",
       " 10284,\n",
       " 10285,\n",
       " 10286,\n",
       " 10287,\n",
       " 10288,\n",
       " 10289,\n",
       " 10290,\n",
       " 10291,\n",
       " 10292,\n",
       " 10293,\n",
       " 10294,\n",
       " 10295,\n",
       " 10296,\n",
       " 10297,\n",
       " 10298,\n",
       " 10299,\n",
       " 10300,\n",
       " 10301,\n",
       " 10302,\n",
       " 10303,\n",
       " 10304,\n",
       " 10305,\n",
       " 10306,\n",
       " 10307,\n",
       " 10308,\n",
       " 10309,\n",
       " 10310,\n",
       " 10311,\n",
       " 10312,\n",
       " 10313,\n",
       " 10314,\n",
       " 10315,\n",
       " 10316,\n",
       " 10317,\n",
       " 10318,\n",
       " 10319,\n",
       " 10320,\n",
       " 10321,\n",
       " 10322,\n",
       " 10323,\n",
       " 10324,\n",
       " 10325,\n",
       " 10326,\n",
       " 10327,\n",
       " 10328,\n",
       " 10329,\n",
       " 10330,\n",
       " 10331,\n",
       " 10332,\n",
       " 10333,\n",
       " 10334,\n",
       " 10335,\n",
       " 10336,\n",
       " 10337,\n",
       " 10338,\n",
       " 10339,\n",
       " 10340,\n",
       " 10341,\n",
       " 10342,\n",
       " 10343,\n",
       " 10344,\n",
       " 10345,\n",
       " 10346,\n",
       " 10347,\n",
       " 10348,\n",
       " 10349,\n",
       " 10350,\n",
       " 10351,\n",
       " 10352,\n",
       " 10353,\n",
       " 10354,\n",
       " 10355,\n",
       " 10356,\n",
       " 10357,\n",
       " 10358,\n",
       " 10359,\n",
       " 10360,\n",
       " 10361,\n",
       " 10362,\n",
       " 10363,\n",
       " 10364,\n",
       " 10365,\n",
       " 10366,\n",
       " 10367,\n",
       " 10368,\n",
       " 10369,\n",
       " 10370,\n",
       " 10371,\n",
       " 10372,\n",
       " 10373,\n",
       " 10374,\n",
       " 10375,\n",
       " 10376,\n",
       " 10377,\n",
       " 10378,\n",
       " 10379,\n",
       " 10380,\n",
       " 10381,\n",
       " 10382,\n",
       " 10383,\n",
       " 10384,\n",
       " 10385,\n",
       " 10386,\n",
       " 10387,\n",
       " 10388,\n",
       " 10389,\n",
       " 10390,\n",
       " 10391,\n",
       " 10392,\n",
       " 10393,\n",
       " 10394,\n",
       " 10395,\n",
       " 10396,\n",
       " 10397,\n",
       " 10398,\n",
       " 10399,\n",
       " 10400,\n",
       " 10401,\n",
       " 10402,\n",
       " 10403,\n",
       " 10404,\n",
       " 10405,\n",
       " 10406,\n",
       " 10407,\n",
       " 10408,\n",
       " 10409,\n",
       " 10410,\n",
       " 10411,\n",
       " 10412,\n",
       " 10413,\n",
       " 10414,\n",
       " 10415,\n",
       " 10416,\n",
       " 10417,\n",
       " 10418,\n",
       " 10419,\n",
       " 10420,\n",
       " 10421,\n",
       " 10422,\n",
       " 10423,\n",
       " 10424,\n",
       " 10425,\n",
       " 10426,\n",
       " 10427,\n",
       " 10428,\n",
       " 10429,\n",
       " 10430,\n",
       " 10431,\n",
       " 10432,\n",
       " 10433,\n",
       " 10434,\n",
       " 10435,\n",
       " 10436,\n",
       " 10437,\n",
       " 10438,\n",
       " 10439,\n",
       " 10440,\n",
       " 10441,\n",
       " 10442,\n",
       " 10443,\n",
       " 10444,\n",
       " 10445,\n",
       " 10446,\n",
       " 10447,\n",
       " 10448,\n",
       " 10449,\n",
       " 10450,\n",
       " 10451,\n",
       " 10452,\n",
       " 10453,\n",
       " 10454,\n",
       " 10455,\n",
       " 10456,\n",
       " 10457,\n",
       " 10458,\n",
       " 10459,\n",
       " 10460,\n",
       " 10461,\n",
       " 10462,\n",
       " 10463,\n",
       " 10464,\n",
       " 10465,\n",
       " 10466,\n",
       " 10467,\n",
       " 10468,\n",
       " 10469,\n",
       " 10470,\n",
       " 10471,\n",
       " 10472,\n",
       " 10473,\n",
       " 10474,\n",
       " 10475,\n",
       " 10476,\n",
       " 10477,\n",
       " 10478,\n",
       " 10479,\n",
       " 10480,\n",
       " 10481,\n",
       " 10482,\n",
       " 10483,\n",
       " 10484,\n",
       " 10485,\n",
       " 10486,\n",
       " 10487,\n",
       " 10488,\n",
       " 10489,\n",
       " 10490,\n",
       " 10491,\n",
       " 10492,\n",
       " 10493,\n",
       " 10494,\n",
       " 10495,\n",
       " 10496,\n",
       " 10497,\n",
       " 10498,\n",
       " 10499,\n",
       " 10500,\n",
       " 10501,\n",
       " 10502,\n",
       " 10503,\n",
       " 10504,\n",
       " 10505,\n",
       " 10506,\n",
       " 10507,\n",
       " 10508,\n",
       " 10509,\n",
       " 10510,\n",
       " 10511,\n",
       " 10512,\n",
       " 10513,\n",
       " 10514,\n",
       " 10515,\n",
       " 10516,\n",
       " 10517,\n",
       " 10518,\n",
       " 10519,\n",
       " 10520,\n",
       " 10521,\n",
       " 10522,\n",
       " 10523,\n",
       " 10524,\n",
       " 10525,\n",
       " 10526,\n",
       " 10527,\n",
       " 10528,\n",
       " 10529,\n",
       " 10530,\n",
       " 10531,\n",
       " 10532,\n",
       " 10533,\n",
       " 10534,\n",
       " 10535,\n",
       " 10536,\n",
       " 10537,\n",
       " 10538,\n",
       " 10539,\n",
       " 10540,\n",
       " 10541,\n",
       " 10542,\n",
       " 10543,\n",
       " 10544,\n",
       " 10545,\n",
       " 10546,\n",
       " 10547,\n",
       " 10548,\n",
       " 10549,\n",
       " 10550,\n",
       " 10551,\n",
       " 10552,\n",
       " 10553,\n",
       " 10554,\n",
       " 10555,\n",
       " 10556,\n",
       " 10557,\n",
       " 10558,\n",
       " 10559,\n",
       " 10560,\n",
       " 10561,\n",
       " 10562,\n",
       " 10563,\n",
       " 10564,\n",
       " 10565,\n",
       " 10566,\n",
       " 10567,\n",
       " 10568,\n",
       " 10569,\n",
       " 10570,\n",
       " 10571,\n",
       " 10572,\n",
       " 10573,\n",
       " 10574,\n",
       " 10575,\n",
       " 10576,\n",
       " 10577,\n",
       " 10578,\n",
       " 10579,\n",
       " 10580,\n",
       " 10581,\n",
       " 10582,\n",
       " 10583,\n",
       " 10584,\n",
       " 10585,\n",
       " 10586,\n",
       " 10587,\n",
       " 10588,\n",
       " 10589,\n",
       " 10590,\n",
       " 10591,\n",
       " 10592,\n",
       " 10593,\n",
       " 10594,\n",
       " 10595,\n",
       " 10596,\n",
       " 10597,\n",
       " 10598,\n",
       " 10599,\n",
       " 10600,\n",
       " 10601,\n",
       " 10602,\n",
       " 10603,\n",
       " 10604,\n",
       " 10605,\n",
       " 10606,\n",
       " 10607,\n",
       " 10608,\n",
       " 10609,\n",
       " 10610,\n",
       " 10611,\n",
       " 10612,\n",
       " 10613,\n",
       " 10614,\n",
       " 10615,\n",
       " 10616,\n",
       " 10617,\n",
       " 10618,\n",
       " 10619,\n",
       " 10620,\n",
       " 10621,\n",
       " 10622,\n",
       " 10623,\n",
       " 10624,\n",
       " 10625,\n",
       " 10626,\n",
       " 10627,\n",
       " 10628,\n",
       " 10629,\n",
       " 10630,\n",
       " 10631,\n",
       " 10632,\n",
       " 10633,\n",
       " 10634,\n",
       " 10635,\n",
       " 10636,\n",
       " 10637,\n",
       " 10638,\n",
       " 10639,\n",
       " 10640,\n",
       " 10641,\n",
       " 10642,\n",
       " 10643,\n",
       " 10644,\n",
       " 10645,\n",
       " 10646,\n",
       " 10647,\n",
       " 10648,\n",
       " 10649,\n",
       " 10650,\n",
       " 10651,\n",
       " 10652,\n",
       " 10653,\n",
       " 10654,\n",
       " 10655,\n",
       " 10656,\n",
       " 10657,\n",
       " 10658,\n",
       " 10659,\n",
       " 10660,\n",
       " 10661,\n",
       " 10662,\n",
       " 10663,\n",
       " 10664,\n",
       " 10665,\n",
       " 10666,\n",
       " 10667,\n",
       " 10668,\n",
       " 10669,\n",
       " 10670,\n",
       " 10671,\n",
       " 10672,\n",
       " 10673,\n",
       " 10674,\n",
       " 10675,\n",
       " 10676,\n",
       " 10677,\n",
       " 10678,\n",
       " 10679,\n",
       " 10680,\n",
       " 10681,\n",
       " 10682,\n",
       " 10683,\n",
       " 10684,\n",
       " 10685,\n",
       " 10686,\n",
       " 10687,\n",
       " 10688,\n",
       " 10689,\n",
       " 10690,\n",
       " 10691,\n",
       " 10692,\n",
       " 10693,\n",
       " 10694,\n",
       " 10695,\n",
       " 10696,\n",
       " 10697,\n",
       " 10698,\n",
       " 10699,\n",
       " 10700,\n",
       " 10701,\n",
       " 10702,\n",
       " 10703,\n",
       " 10704,\n",
       " 10705,\n",
       " 10706,\n",
       " 10707,\n",
       " 10708,\n",
       " 10709,\n",
       " 10710,\n",
       " 10711,\n",
       " 10712,\n",
       " 10713,\n",
       " 10714,\n",
       " 10715,\n",
       " 10716,\n",
       " 10717,\n",
       " 10718,\n",
       " 10719,\n",
       " 10720,\n",
       " 10721,\n",
       " 10722,\n",
       " 10723,\n",
       " 10724,\n",
       " 10725,\n",
       " 10726,\n",
       " 10727,\n",
       " 10728,\n",
       " 10729,\n",
       " 10730,\n",
       " 10731,\n",
       " 10732,\n",
       " 10733,\n",
       " 10734,\n",
       " 10735,\n",
       " 10736,\n",
       " 10737,\n",
       " 10738,\n",
       " 10739,\n",
       " 10740,\n",
       " 10741,\n",
       " 10742,\n",
       " 10743,\n",
       " 10744,\n",
       " 10745,\n",
       " 10746,\n",
       " 10747,\n",
       " 10748,\n",
       " 10749,\n",
       " 10750,\n",
       " 10751,\n",
       " 10752,\n",
       " 10753,\n",
       " 10754,\n",
       " 10755,\n",
       " 10756,\n",
       " 10757,\n",
       " 10758,\n",
       " 10759,\n",
       " 10760,\n",
       " 10761,\n",
       " 10762,\n",
       " 10763,\n",
       " 10764,\n",
       " 10765,\n",
       " 10766,\n",
       " 10767,\n",
       " 10768,\n",
       " 10769,\n",
       " 10770,\n",
       " 10771,\n",
       " 10772,\n",
       " 10773,\n",
       " 10774,\n",
       " 10775,\n",
       " 10776,\n",
       " 10777,\n",
       " 10778,\n",
       " 10779,\n",
       " 10780,\n",
       " 10781,\n",
       " 10782,\n",
       " 10783,\n",
       " 10784,\n",
       " 10785,\n",
       " 10786,\n",
       " 10787,\n",
       " 10788,\n",
       " 10789,\n",
       " 10790,\n",
       " 10791,\n",
       " 10792,\n",
       " 10793,\n",
       " 10794,\n",
       " 10795,\n",
       " 10796,\n",
       " 10797,\n",
       " 10798,\n",
       " 10799,\n",
       " 10800,\n",
       " 10801,\n",
       " 10802,\n",
       " 10803,\n",
       " 10804,\n",
       " 10805,\n",
       " 10806,\n",
       " 10807,\n",
       " 10808,\n",
       " 10809,\n",
       " 10810,\n",
       " 10811,\n",
       " 10812,\n",
       " 10813,\n",
       " 10814,\n",
       " 10815,\n",
       " 10816,\n",
       " 10817,\n",
       " 10818,\n",
       " 10819,\n",
       " 10820,\n",
       " 10821,\n",
       " 10822,\n",
       " 10823,\n",
       " 10824,\n",
       " 10825,\n",
       " 10826,\n",
       " 10827,\n",
       " 10828,\n",
       " 10829,\n",
       " 10830,\n",
       " 10831,\n",
       " 10832,\n",
       " 10833,\n",
       " 10834,\n",
       " 10835,\n",
       " 10836,\n",
       " 10837,\n",
       " 10838,\n",
       " 10839,\n",
       " 10840,\n",
       " 10841,\n",
       " 10842,\n",
       " 10843,\n",
       " 10844,\n",
       " 10845,\n",
       " 10846,\n",
       " 10847,\n",
       " 10848,\n",
       " 10849,\n",
       " 10850,\n",
       " 10851,\n",
       " 10852,\n",
       " 10853,\n",
       " 10854,\n",
       " 10855,\n",
       " 10856,\n",
       " 10857,\n",
       " 10858,\n",
       " 10859,\n",
       " 10860,\n",
       " 10861,\n",
       " 10862,\n",
       " 10863,\n",
       " 10864,\n",
       " 10865,\n",
       " 10866,\n",
       " 10867,\n",
       " 10868,\n",
       " 10869,\n",
       " 10870,\n",
       " 10871,\n",
       " 10872,\n",
       " 10873,\n",
       " 10874,\n",
       " 10875,\n",
       " 10876,\n",
       " 10877,\n",
       " 10878,\n",
       " 10879,\n",
       " 10880,\n",
       " 10881,\n",
       " 10882,\n",
       " 10883,\n",
       " 10884,\n",
       " 10885,\n",
       " 10886,\n",
       " 10887,\n",
       " 10888,\n",
       " 10889,\n",
       " 10890,\n",
       " 10891,\n",
       " 10892,\n",
       " 10893,\n",
       " 10894,\n",
       " 10895,\n",
       " 10896,\n",
       " 10897,\n",
       " 10898,\n",
       " 10899,\n",
       " 10900,\n",
       " 10901,\n",
       " 10902,\n",
       " 10903,\n",
       " 10904,\n",
       " 10905,\n",
       " 10906,\n",
       " 10907,\n",
       " 10908,\n",
       " 10909,\n",
       " 10910,\n",
       " 10911,\n",
       " 10912,\n",
       " 10913,\n",
       " 10914,\n",
       " 10915,\n",
       " 10916,\n",
       " 10917,\n",
       " 10918,\n",
       " 10919,\n",
       " 10920,\n",
       " 10921,\n",
       " 10922,\n",
       " 10923,\n",
       " 10924,\n",
       " 10925,\n",
       " 10926,\n",
       " 10927,\n",
       " 10928,\n",
       " 10929,\n",
       " 10930,\n",
       " 10931,\n",
       " 10932,\n",
       " 10933,\n",
       " 10934,\n",
       " 10935,\n",
       " 10936,\n",
       " 10937,\n",
       " 10938,\n",
       " 10939,\n",
       " 10940,\n",
       " 10941,\n",
       " 10942,\n",
       " 10943,\n",
       " 10944,\n",
       " 10945,\n",
       " 10946,\n",
       " 10947,\n",
       " 10948,\n",
       " 10949,\n",
       " 10950,\n",
       " 10951,\n",
       " 10952,\n",
       " 10953,\n",
       " 10954,\n",
       " 10955,\n",
       " 10956,\n",
       " 10957,\n",
       " 10958,\n",
       " 10959,\n",
       " 10960,\n",
       " 10961,\n",
       " 10962,\n",
       " 10963,\n",
       " 10964,\n",
       " 10965,\n",
       " 10966,\n",
       " 10967,\n",
       " 10968,\n",
       " 10969,\n",
       " 10970,\n",
       " 10971,\n",
       " 10972,\n",
       " 10973,\n",
       " 10974,\n",
       " 10975,\n",
       " 10976,\n",
       " 10977,\n",
       " 10978,\n",
       " 10979,\n",
       " 10980,\n",
       " 10981,\n",
       " 10982,\n",
       " 10983,\n",
       " 10984,\n",
       " 10985,\n",
       " 10986,\n",
       " 10987,\n",
       " 10988,\n",
       " 10989,\n",
       " 10990,\n",
       " 10991,\n",
       " 10992,\n",
       " 10993,\n",
       " 10994,\n",
       " 10995,\n",
       " 10996,\n",
       " 10997,\n",
       " 10998,\n",
       " 10999,\n",
       " ...}"
      ]
     },
     "execution_count": 48,
     "metadata": {},
     "output_type": "execute_result"
    }
   ],
   "source": [
    "set(idproducer) # pandas.Series.unique()"
   ]
  },
  {
   "cell_type": "code",
   "execution_count": 49,
   "id": "2e8d11b2",
   "metadata": {
    "ExecuteTime": {
     "end_time": "2022-07-11T12:01:27.777830Z",
     "start_time": "2022-07-11T12:01:27.749788Z"
    }
   },
   "outputs": [
    {
     "data": {
      "text/plain": [
       "150000"
      ]
     },
     "execution_count": 49,
     "metadata": {},
     "output_type": "execute_result"
    }
   ],
   "source": [
    "len(set(idproducer)) # pandas.Series.nunique()"
   ]
  },
  {
   "cell_type": "code",
   "execution_count": 50,
   "id": "5478ab02",
   "metadata": {
    "ExecuteTime": {
     "end_time": "2022-07-11T12:01:36.927770Z",
     "start_time": "2022-07-11T12:01:36.218414Z"
    }
   },
   "outputs": [],
   "source": [
    "import pandas as pd"
   ]
  },
  {
   "cell_type": "code",
   "execution_count": 51,
   "id": "3b6dcb61",
   "metadata": {
    "ExecuteTime": {
     "end_time": "2022-07-11T12:01:37.730133Z",
     "start_time": "2022-07-11T12:01:37.723165Z"
    }
   },
   "outputs": [],
   "source": [
    "# Good way\n",
    "relative_path = \"./data/farm_data.csv\"\n",
    "\n",
    "# Bad way\n",
    "absolute_path = r\"C:\\Users\\mholdbrook01\\Desktop\\py-ecom\\data\\farm_data.csv\""
   ]
  },
  {
   "cell_type": "code",
   "execution_count": 52,
   "id": "f2155979",
   "metadata": {
    "ExecuteTime": {
     "end_time": "2022-07-11T12:01:39.723080Z",
     "start_time": "2022-07-11T12:01:39.666095Z"
    }
   },
   "outputs": [
    {
     "data": {
      "text/html": [
       "<div>\n",
       "<style scoped>\n",
       "    .dataframe tbody tr th:only-of-type {\n",
       "        vertical-align: middle;\n",
       "    }\n",
       "\n",
       "    .dataframe tbody tr th {\n",
       "        vertical-align: top;\n",
       "    }\n",
       "\n",
       "    .dataframe thead th {\n",
       "        text-align: right;\n",
       "    }\n",
       "</style>\n",
       "<table border=\"1\" class=\"dataframe\">\n",
       "  <thead>\n",
       "    <tr style=\"text-align: right;\">\n",
       "      <th></th>\n",
       "      <th>IDFARM</th>\n",
       "      <th>FARM_TOTAL_AREA_GPS</th>\n",
       "      <th>POINT_LATITUDE</th>\n",
       "      <th>POINT_LONGITUDE</th>\n",
       "      <th>POINT_DATE</th>\n",
       "    </tr>\n",
       "  </thead>\n",
       "  <tbody>\n",
       "    <tr>\n",
       "      <th>0</th>\n",
       "      <td>88797</td>\n",
       "      <td>0.0</td>\n",
       "      <td>6.153048</td>\n",
       "      <td>-2.673048</td>\n",
       "      <td>07/01/2016 13:11:59</td>\n",
       "    </tr>\n",
       "    <tr>\n",
       "      <th>1</th>\n",
       "      <td>88797</td>\n",
       "      <td>0.0</td>\n",
       "      <td>6.152918</td>\n",
       "      <td>-2.672938</td>\n",
       "      <td>07/01/2016 13:11:40</td>\n",
       "    </tr>\n",
       "    <tr>\n",
       "      <th>2</th>\n",
       "      <td>88797</td>\n",
       "      <td>0.0</td>\n",
       "      <td>6.152764</td>\n",
       "      <td>-2.672745</td>\n",
       "      <td>07/01/2016 13:11:10</td>\n",
       "    </tr>\n",
       "    <tr>\n",
       "      <th>3</th>\n",
       "      <td>88797</td>\n",
       "      <td>0.0</td>\n",
       "      <td>6.152710</td>\n",
       "      <td>-2.672877</td>\n",
       "      <td>07/01/2016 13:10:54</td>\n",
       "    </tr>\n",
       "    <tr>\n",
       "      <th>4</th>\n",
       "      <td>88797</td>\n",
       "      <td>0.0</td>\n",
       "      <td>6.152379</td>\n",
       "      <td>-2.672898</td>\n",
       "      <td>07/01/2016 13:10:21</td>\n",
       "    </tr>\n",
       "  </tbody>\n",
       "</table>\n",
       "</div>"
      ],
      "text/plain": [
       "   IDFARM  FARM_TOTAL_AREA_GPS  POINT_LATITUDE  POINT_LONGITUDE  \\\n",
       "0   88797                  0.0        6.153048        -2.673048   \n",
       "1   88797                  0.0        6.152918        -2.672938   \n",
       "2   88797                  0.0        6.152764        -2.672745   \n",
       "3   88797                  0.0        6.152710        -2.672877   \n",
       "4   88797                  0.0        6.152379        -2.672898   \n",
       "\n",
       "            POINT_DATE  \n",
       "0  07/01/2016 13:11:59  \n",
       "1  07/01/2016 13:11:40  \n",
       "2  07/01/2016 13:11:10  \n",
       "3  07/01/2016 13:10:54  \n",
       "4  07/01/2016 13:10:21  "
      ]
     },
     "execution_count": 52,
     "metadata": {},
     "output_type": "execute_result"
    }
   ],
   "source": [
    "farm_data = pd.read_csv(filepath_or_buffer=relative_path)\n",
    "\n",
    "farm_data.head()"
   ]
  },
  {
   "cell_type": "code",
   "execution_count": 53,
   "id": "56e16e09",
   "metadata": {
    "ExecuteTime": {
     "end_time": "2022-07-11T12:03:18.252413Z",
     "start_time": "2022-07-11T12:03:18.236184Z"
    }
   },
   "outputs": [
    {
     "data": {
      "text/plain": [
       "{390,\n",
       " 808,\n",
       " 6303,\n",
       " 16576,\n",
       " 40818,\n",
       " 50728,\n",
       " 74971,\n",
       " 87548,\n",
       " 88795,\n",
       " 88797,\n",
       " 90022,\n",
       " 91501,\n",
       " 92358,\n",
       " 110567,\n",
       " 112369,\n",
       " 114311,\n",
       " 114312,\n",
       " 126120,\n",
       " 126433,\n",
       " 126601,\n",
       " 127185,\n",
       " 127693,\n",
       " 127796,\n",
       " 129601,\n",
       " 129695,\n",
       " 129699,\n",
       " 132739,\n",
       " 134820,\n",
       " 140602,\n",
       " 161910,\n",
       " 188788,\n",
       " 188790,\n",
       " 203705,\n",
       " 203723,\n",
       " 203736,\n",
       " 204311,\n",
       " 204312,\n",
       " 210080,\n",
       " 213476,\n",
       " 213488,\n",
       " 213774,\n",
       " 214141,\n",
       " 220469,\n",
       " 227135,\n",
       " 227183,\n",
       " 243301,\n",
       " 243332,\n",
       " 243524,\n",
       " 249666,\n",
       " 249686,\n",
       " 262540,\n",
       " 277981,\n",
       " 284383,\n",
       " 284386,\n",
       " 284552,\n",
       " 284554,\n",
       " 284913,\n",
       " 285358,\n",
       " 285359,\n",
       " 285827,\n",
       " 286295,\n",
       " 331832,\n",
       " 332177,\n",
       " 332194,\n",
       " 346724,\n",
       " 378192,\n",
       " 379979,\n",
       " 381034,\n",
       " 381968,\n",
       " 381985,\n",
       " 382516,\n",
       " 384336,\n",
       " 384337,\n",
       " 384338,\n",
       " 384831,\n",
       " 385223,\n",
       " 390639,\n",
       " 396429,\n",
       " 396430,\n",
       " 396431,\n",
       " 396433,\n",
       " 396434,\n",
       " 396436,\n",
       " 396438,\n",
       " 396441,\n",
       " 396446,\n",
       " 396449,\n",
       " 400806,\n",
       " 401191,\n",
       " 404523,\n",
       " 409868,\n",
       " 409870,\n",
       " 410661,\n",
       " 415305,\n",
       " 440855,\n",
       " 442586,\n",
       " 459886,\n",
       " 459894,\n",
       " 460111,\n",
       " 461513,\n",
       " 485896,\n",
       " 512966,\n",
       " 525831,\n",
       " 525839,\n",
       " 568795,\n",
       " 578641}"
      ]
     },
     "execution_count": 53,
     "metadata": {},
     "output_type": "execute_result"
    }
   ],
   "source": [
    "set(farm_data[\"IDFARM\"])"
   ]
  },
  {
   "cell_type": "code",
   "execution_count": 54,
   "id": "741ec1d2",
   "metadata": {
    "ExecuteTime": {
     "end_time": "2022-07-11T12:03:30.298451Z",
     "start_time": "2022-07-11T12:03:30.284450Z"
    }
   },
   "outputs": [
    {
     "data": {
      "text/plain": [
       "array([ 88797,  88795,  90022, 127796, 127185, 126601, 379979, 126120,\n",
       "       396441, 400806,  92358, 442586,    808,    390,  50728,  91501,\n",
       "       390639, 332177, 214141, 126433, 460111,  74971, 114311, 114312,\n",
       "       404523, 161910, 243332, 220469, 440855, 203705, 203723, 110567,\n",
       "       284913, 461513, 415305, 285358, 512966, 284383,  16576, 227135,\n",
       "       525839, 384831, 112369, 188788, 459894, 213488, 204312, 134820,\n",
       "       286295, 285359, 132739, 140602, 396429, 396431, 396438, 285827,\n",
       "       382516, 384338, 249686, 381985,  87548, 243524, 381968, 401191,\n",
       "       188790, 346724, 213476, 381034, 284552,   6303, 203736, 204311,\n",
       "       277981, 410661, 396433, 396434, 396436, 396449, 409870, 485896,\n",
       "       249666, 384336, 525831, 378192, 129695, 213774,  40818, 284554,\n",
       "       396430, 396446, 409868, 243301, 459886, 384337, 385223, 568795,\n",
       "       331832, 284386, 210080, 578641, 127693, 129601, 129699, 227183,\n",
       "       332194, 262540], dtype=int64)"
      ]
     },
     "execution_count": 54,
     "metadata": {},
     "output_type": "execute_result"
    }
   ],
   "source": [
    "farm_data[\"IDFARM\"].unique()"
   ]
  },
  {
   "cell_type": "code",
   "execution_count": 55,
   "id": "be8f51a3",
   "metadata": {
    "ExecuteTime": {
     "end_time": "2022-07-11T12:03:47.682053Z",
     "start_time": "2022-07-11T12:03:47.667056Z"
    }
   },
   "outputs": [
    {
     "data": {
      "text/plain": [
       "106"
      ]
     },
     "execution_count": 55,
     "metadata": {},
     "output_type": "execute_result"
    }
   ],
   "source": [
    "farm_data[\"IDFARM\"].nunique()"
   ]
  },
  {
   "cell_type": "code",
   "execution_count": 56,
   "id": "0d54a1c2",
   "metadata": {
    "ExecuteTime": {
     "end_time": "2022-07-11T12:04:03.849269Z",
     "start_time": "2022-07-11T12:04:03.828264Z"
    }
   },
   "outputs": [
    {
     "data": {
      "text/plain": [
       "106"
      ]
     },
     "execution_count": 56,
     "metadata": {},
     "output_type": "execute_result"
    }
   ],
   "source": [
    "len(set(farm_data[\"IDFARM\"]))"
   ]
  },
  {
   "cell_type": "code",
   "execution_count": null,
   "id": "e7757a78",
   "metadata": {},
   "outputs": [],
   "source": [
    "# is of type pandas.DataFrame\n",
    "\n",
    "# farm_data = pd.read_csv(io=path_of_csv_file/name_of_csv_file.csv)\n",
    "\n",
    "# farm_data[\"idproducer\"].unique()\n",
    "# farm_data[\"idproducer\"].nunique()"
   ]
  },
  {
   "cell_type": "markdown",
   "id": "bfcb7ac1",
   "metadata": {},
   "source": [
    "---"
   ]
  }
 ],
 "metadata": {
  "kernelspec": {
   "display_name": "Python 3 (ipykernel)",
   "language": "python",
   "name": "python3"
  },
  "language_info": {
   "codemirror_mode": {
    "name": "ipython",
    "version": 3
   },
   "file_extension": ".py",
   "mimetype": "text/x-python",
   "name": "python",
   "nbconvert_exporter": "python",
   "pygments_lexer": "ipython3",
   "version": "3.8.13"
  },
  "nbTranslate": {
   "displayLangs": [
    "*"
   ],
   "hotkey": "alt-t",
   "langInMainMenu": true,
   "sourceLang": "en",
   "targetLang": "fr",
   "useGoogleTranslate": true
  },
  "toc": {
   "base_numbering": 1,
   "nav_menu": {},
   "number_sections": true,
   "sideBar": true,
   "skip_h1_title": false,
   "title_cell": "Table of Contents",
   "title_sidebar": "Contents",
   "toc_cell": false,
   "toc_position": {},
   "toc_section_display": true,
   "toc_window_display": false
  },
  "varInspector": {
   "cols": {
    "lenName": 16,
    "lenType": 16,
    "lenVar": 40
   },
   "kernels_config": {
    "python": {
     "delete_cmd_postfix": "",
     "delete_cmd_prefix": "del ",
     "library": "var_list.py",
     "varRefreshCmd": "print(var_dic_list())"
    },
    "r": {
     "delete_cmd_postfix": ") ",
     "delete_cmd_prefix": "rm(",
     "library": "var_list.r",
     "varRefreshCmd": "cat(var_dic_list()) "
    }
   },
   "types_to_exclude": [
    "module",
    "function",
    "builtin_function_or_method",
    "instance",
    "_Feature"
   ],
   "window_display": false
  }
 },
 "nbformat": 4,
 "nbformat_minor": 5
}
