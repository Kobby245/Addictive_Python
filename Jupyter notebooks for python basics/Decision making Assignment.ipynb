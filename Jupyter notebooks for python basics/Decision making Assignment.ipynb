{
 "cells": [
  {
   "cell_type": "markdown",
   "id": "26df4d72",
   "metadata": {},
   "source": [
    "## Trial Work"
   ]
  },
  {
   "cell_type": "markdown",
   "id": "37867146",
   "metadata": {},
   "source": [
    "## Write a python program to determine whether a year is a or not; \n",
    "* your program should take a year as an input."
   ]
  },
  {
   "cell_type": "code",
   "execution_count": null,
   "id": "25405740",
   "metadata": {},
   "outputs": [],
   "source": [
    "year = int(input(\"Enter the year: \"))\n",
    "\n",
    "if year % 4 ==0:\n",
    "    \n",
    "    print(f\"{year}is a leap year.\")\n",
    "\n",
    "else:\n",
    "    \n",
    "    print(f\"{year}is not leap year.\")  \n",
    "    "
   ]
  },
  {
   "cell_type": "markdown",
   "id": "e67bfd9c",
   "metadata": {},
   "source": [
    "---"
   ]
  },
  {
   "cell_type": "markdown",
   "id": "c3c8199d",
   "metadata": {},
   "source": [
    "## Write a python program to determine if a user is eligible to vote or not;\n",
    "* your program should take the user's first name, last name, gender and age."
   ]
  },
  {
   "cell_type": "code",
   "execution_count": null,
   "id": "3c7322e9",
   "metadata": {},
   "outputs": [],
   "source": [
    "first_name = str(input(\"Enter the first name of the citizen: \" ))\n",
    "\n",
    "\n",
    "last_name = str(input(\"Enter the last name of the citizen: \"))\n",
    "\n",
    "\n",
    "age = int(input(\"Enter the age of the citizen: \"))\n",
    "\n",
    "\n",
    "\n",
    "gender = str(input(\"Enter the gender of the citizen: \"))\n",
    "   \n",
    "\n",
    "if age >=18:\n",
    "    \n",
    "            \n",
    "    print(first_name, last_name, \"is\", age, \"and he is eligible to vote\")\n",
    "    \n",
    "else:\n",
    "    \n",
    "    print(first_name, last_name, \"is\", age, \"and he is not eligible to vote\")\n",
    "\n",
    "             "
   ]
  },
  {
   "cell_type": "markdown",
   "id": "8f719aac",
   "metadata": {},
   "source": [
    "---"
   ]
  },
  {
   "cell_type": "markdown",
   "id": "1400a876",
   "metadata": {},
   "source": [
    "## Write a python program to calculate the grade of students in an exams.\n",
    "\n",
    "* Your program should have (first name, last name, gender, student score)\n",
    "\n",
    "    \n",
    "* Your program should take keyboard input.\n",
    "\n",
    "\n",
    "* follow these score;\n",
    "\n",
    "* 80 - 100 = pass\n",
    "\n",
    "* 60 - 79 = average\n",
    "\n",
    "* 39 - 59 = below average\n",
    "\n",
    "* 0 - 30 = fail \n"
   ]
  },
  {
   "cell_type": "code",
   "execution_count": null,
   "id": "ec64a8d5",
   "metadata": {
    "scrolled": true
   },
   "outputs": [],
   "source": [
    "first_name = str(input(\"Enter the first name of the student: \"))\n",
    "\n",
    "\n",
    "last_name = str(input(\"Enter the last name of the student: \"))\n",
    "\n",
    "\n",
    "student_score = float(input(\"Enter the score of the student: \"))\n",
    "\n",
    "\n",
    "if student_score >= 80:\n",
    "    \n",
    "    print(first_name, last_name, \"has pass the exam.\")\n",
    "    \n",
    "\n",
    "elif student_score < 79 and student_score <= 59:\n",
    "    \n",
    "\n",
    "    print(first_name, last_name, \"has average score exams.\")\n",
    "    \n",
    "\n",
    "elif student_score <= 30:\n",
    "    \n",
    "    print(first_name, last_name, \"has failed in the exams.\")\n"
   ]
  },
  {
   "cell_type": "markdown",
   "id": "982e03f3",
   "metadata": {},
   "source": [
    "---"
   ]
  },
  {
   "cell_type": "markdown",
   "id": "0aa03d4d",
   "metadata": {},
   "source": [
    "## A student will not be allowed to sit in exam if his/her attendence is less than 75%.\n",
    "\n",
    "* Take following input from user\n",
    "\n",
    "* Number of classes held\n",
    "\n",
    "* Number of classes attended.\n",
    "\n",
    "* And print;\n",
    "* percentage of class attended\n",
    "\n",
    "* Is student is allowed to sit in exam or not.\n",
    "\n",
    "###  Write a python program to check this."
   ]
  },
  {
   "cell_type": "code",
   "execution_count": null,
   "id": "ad626307",
   "metadata": {},
   "outputs": [],
   "source": [
    "number_of_classes = int(input(\"Enter the number of class held by the school: \"))\n",
    "\n",
    "number_of_classes_attended = int(input(\"Enter the number of classes attended by the student: \"))\n",
    "\n",
    "first_name = str(input(\"Enter the first name of the student: \"))\n",
    "\n",
    "last_name = str(input(\"Enter the last name of the student: \"))\n",
    "\n",
    "\n",
    "total_class = (number_of_classes // number_of_classes_attended)*100\n",
    "\n",
    "\n",
    "if total_class <74:\n",
    "    \n",
    "    print(first_name, last_name, \"does not qualify to take the exams.\")\n",
    "    \n",
    "else:\n",
    "    \n",
    "    print(first_name, last_name, \"is qualified to take the exams.\")\n"
   ]
  },
  {
   "cell_type": "markdown",
   "id": "aa089583",
   "metadata": {},
   "source": [
    "---"
   ]
  },
  {
   "cell_type": "markdown",
   "id": "6a944848",
   "metadata": {},
   "source": [
    "## Write a python program for the user. \n",
    "\n",
    "\n",
    "* A school has following rules for grading system:\n",
    "* a. Below 25 - F\n",
    "* b. 25 to 45 - E\n",
    "* c. 45 to 50 - D\n",
    "* d. 50 to 60 - C\n",
    "* e. 60 to 80 - B\n",
    "* f. Above 80 - A\n",
    "\n",
    "* Ask user to enter marks and print the corresponding grade.\n",
    "\n"
   ]
  },
  {
   "cell_type": "code",
   "execution_count": null,
   "id": "1483ed73",
   "metadata": {},
   "outputs": [],
   "source": [
    "marks = float(input(\"Enter the marks of the student: \"))\n",
    "\n",
    "if marks < 25:\n",
    "    \n",
    "    print(\"F\")\n",
    "    \n",
    "elif mark >=25 and <45:\n",
    "\n",
    "    print(\"E\")\n",
    "    \n",
    "elif mark >=45 and <50:\n",
    "    \n",
    "    print(\"D\")\n",
    "\n",
    "\n",
    "elif marks >=50 and <60:\n",
    "    \n",
    "    print \"C\"\n",
    "    \n",
    "\n",
    "elif marks >=60 and <80:\n",
    "    \n",
    "    print(\"B\")\n",
    "    \n",
    "\n",
    "elif marks >=80:\n",
    "    \n",
    "    print(\"A\")\n",
    "    \n",
    "    "
   ]
  },
  {
   "cell_type": "markdown",
   "id": "e064543d",
   "metadata": {},
   "source": [
    "---"
   ]
  },
  {
   "cell_type": "markdown",
   "id": "12d40782",
   "metadata": {},
   "source": [
    "## Ask user to enter age, sex ( M or F ), marital status ( Y or N ) and then using following rules print their place of service.\n",
    "\n",
    "\n",
    "* if employee is female, then she will work only in urban areas.\n",
    "\n",
    "* if employee is a male and age is in between 20 to 40 then he may work in anywhere\n",
    "\n",
    "* if employee is male and age is in between 40 t0 60 then he will work in urban areas only.\n",
    "\n",
    "\n",
    "### And any other input of age should print \"ERROR\".\n"
   ]
  },
  {
   "cell_type": "code",
   "execution_count": 4,
   "id": "41a3d137",
   "metadata": {},
   "outputs": [
    {
     "name": "stdout",
     "output_type": "stream",
     "text": [
      "Enter the name of the user: kobby\n",
      "Enter the age of the user: 43\n",
      "Enter the sex of the user Y or N: Y\n",
      "Enter the marital status of the user M or F: M\n",
      "ERROR ENTERED, PLEASE CHECK AGAIN !!!\n"
     ]
    }
   ],
   "source": [
    "name = str(input(\"Enter the name of the user: \"))\n",
    "\n",
    "age = int(input(\"Enter the age of the user: \"))\n",
    "\n",
    "sex = str(input(\"Enter the sex of the user Y or N: \"))\n",
    "\n",
    "marital_status = str(input(\"Enter the marital status of the user M or F: \"))\n",
    "\n",
    "if sex == \"F\" and age>=20 and age<=60:\n",
    "    \n",
    "    print(name, \"works in urban areas only.\")\n",
    "    \n",
    "elif sex == \"M\" and age >=20 and age <=40:\n",
    "    \n",
    "    print(name, \"can work everywhere.\")\n",
    "    \n",
    "elif sex == \"M\" and age >40 and age <=60:\n",
    "    \n",
    "    print(name, \"works in the urband areas only.\")\n",
    "    \n",
    "else:\n",
    "    \n",
    "    print (\"ERROR ENTERED, PLEASE CHECK AGAIN !!!\")\n"
   ]
  },
  {
   "cell_type": "code",
   "execution_count": null,
   "id": "0bf3fd3e",
   "metadata": {},
   "outputs": [],
   "source": []
  }
 ],
 "metadata": {
  "kernelspec": {
   "display_name": "Python 3",
   "language": "python",
   "name": "python3"
  },
  "language_info": {
   "codemirror_mode": {
    "name": "ipython",
    "version": 3
   },
   "file_extension": ".py",
   "mimetype": "text/x-python",
   "name": "python",
   "nbconvert_exporter": "python",
   "pygments_lexer": "ipython3",
   "version": "3.8.8"
  }
 },
 "nbformat": 4,
 "nbformat_minor": 5
}
