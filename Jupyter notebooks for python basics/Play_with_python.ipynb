{
 "cells": [
  {
   "cell_type": "code",
   "execution_count": 19,
   "id": "dd00ac2e",
   "metadata": {},
   "outputs": [
    {
     "name": "stdout",
     "output_type": "stream",
     "text": [
      "Hello+how are you?\n"
     ]
    }
   ],
   "source": [
    "print(\"Hello\", \"how are you?\", sep=\"+\")"
   ]
  },
  {
   "cell_type": "code",
   "execution_count": null,
   "id": "797273f2",
   "metadata": {},
   "outputs": [],
   "source": []
  },
  {
   "cell_type": "code",
   "execution_count": 24,
   "id": "16018db1",
   "metadata": {},
   "outputs": [
    {
     "name": "stdout",
     "output_type": "stream",
     "text": [
      "10,50\n"
     ]
    }
   ],
   "source": [
    "a = 10\n",
    "b = 50\n",
    "\n",
    "print(a, end=\",\")\n",
    "\n",
    "print(b)"
   ]
  },
  {
   "cell_type": "code",
   "execution_count": 29,
   "id": "d3b78b8d",
   "metadata": {},
   "outputs": [
    {
     "name": "stdout",
     "output_type": "stream",
     "text": [
      "ghanaians love mangoes \n"
     ]
    }
   ],
   "source": [
    "a = \"mangoes\" \n",
    "b = \"ghanaians\"\n",
    "c = \"banana\"\n",
    " \n",
    "print(\"{1} love {0} \".format(a,b)) "
   ]
  }
 ],
 "metadata": {
  "kernelspec": {
   "display_name": "Python 3",
   "language": "python",
   "name": "python3"
  },
  "language_info": {
   "codemirror_mode": {
    "name": "ipython",
    "version": 3
   },
   "file_extension": ".py",
   "mimetype": "text/x-python",
   "name": "python",
   "nbconvert_exporter": "python",
   "pygments_lexer": "ipython3",
   "version": "3.8.8"
  }
 },
 "nbformat": 4,
 "nbformat_minor": 5
}
