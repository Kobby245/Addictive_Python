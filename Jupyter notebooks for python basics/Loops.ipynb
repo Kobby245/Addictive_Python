{
 "cells": [
  {
   "cell_type": "markdown",
   "id": "2e996c70",
   "metadata": {
    "ExecuteTime": {
     "end_time": "2022-07-02T12:23:42.797986Z",
     "start_time": "2022-07-02T12:23:42.775017Z"
    }
   },
   "source": [
    "# Loops"
   ]
  },
  {
   "cell_type": "markdown",
   "id": "896fce22",
   "metadata": {},
   "source": [
    "## Incrementation"
   ]
  },
  {
   "cell_type": "code",
   "execution_count": 2,
   "id": "28bee91e",
   "metadata": {
    "ExecuteTime": {
     "end_time": "2022-07-02T12:27:08.915048Z",
     "start_time": "2022-07-02T12:27:08.897020Z"
    }
   },
   "outputs": [
    {
     "data": {
      "text/plain": [
       "10"
      ]
     },
     "metadata": {},
     "output_type": "display_data"
    },
    {
     "data": {
      "text/plain": [
       "0"
      ]
     },
     "metadata": {},
     "output_type": "display_data"
    }
   ],
   "source": [
    "number_of_items_in_red_box = 10\n",
    "\n",
    "number_of_items_in_black_box = 0\n",
    "\n",
    "display(number_of_items_in_red_box, number_of_items_in_black_box)"
   ]
  },
  {
   "cell_type": "markdown",
   "id": "f35da142",
   "metadata": {},
   "source": [
    "**Syntax:**\n",
    "\n",
    "* variable = variable + value"
   ]
  },
  {
   "cell_type": "code",
   "execution_count": 3,
   "id": "f508e1a2",
   "metadata": {
    "ExecuteTime": {
     "end_time": "2022-07-02T12:27:09.088020Z",
     "start_time": "2022-07-02T12:27:09.079031Z"
    }
   },
   "outputs": [],
   "source": [
    "number_of_items_in_black_box = number_of_items_in_black_box + number_of_items_in_red_box"
   ]
  },
  {
   "cell_type": "code",
   "execution_count": 4,
   "id": "af0ec9da",
   "metadata": {
    "ExecuteTime": {
     "end_time": "2022-07-02T12:28:00.012965Z",
     "start_time": "2022-07-02T12:28:00.000842Z"
    }
   },
   "outputs": [
    {
     "data": {
      "text/plain": [
       "10"
      ]
     },
     "execution_count": 4,
     "metadata": {},
     "output_type": "execute_result"
    }
   ],
   "source": [
    "number_of_items_in_black_box"
   ]
  },
  {
   "cell_type": "markdown",
   "id": "cded1f52",
   "metadata": {},
   "source": [
    "## Decrementation"
   ]
  },
  {
   "cell_type": "markdown",
   "id": "a3fa8c06",
   "metadata": {},
   "source": [
    "**Syntax:**\n",
    "\n",
    "* variable = variable - value"
   ]
  },
  {
   "cell_type": "code",
   "execution_count": 5,
   "id": "f49f7ce2",
   "metadata": {
    "ExecuteTime": {
     "end_time": "2022-07-02T12:30:35.488705Z",
     "start_time": "2022-07-02T12:30:35.477703Z"
    }
   },
   "outputs": [],
   "source": [
    "number_of_items_in_red_box = number_of_items_in_red_box - 10"
   ]
  },
  {
   "cell_type": "code",
   "execution_count": 6,
   "id": "ceb5de83",
   "metadata": {
    "ExecuteTime": {
     "end_time": "2022-07-02T12:30:40.079921Z",
     "start_time": "2022-07-02T12:30:40.067924Z"
    }
   },
   "outputs": [
    {
     "data": {
      "text/plain": [
       "0"
      ]
     },
     "execution_count": 6,
     "metadata": {},
     "output_type": "execute_result"
    }
   ],
   "source": [
    "number_of_items_in_red_box"
   ]
  },
  {
   "cell_type": "markdown",
   "id": "c969214c",
   "metadata": {},
   "source": [
    "## Updating Operators"
   ]
  },
  {
   "cell_type": "markdown",
   "id": "8d7a1abe",
   "metadata": {},
   "source": [
    "### Incrementation Operator"
   ]
  },
  {
   "cell_type": "code",
   "execution_count": 9,
   "id": "80cef739",
   "metadata": {
    "ExecuteTime": {
     "end_time": "2022-07-02T12:37:16.891603Z",
     "start_time": "2022-07-02T12:37:16.887606Z"
    }
   },
   "outputs": [
    {
     "name": "stdout",
     "output_type": "stream",
     "text": [
      "0\n",
      "10\n"
     ]
    }
   ],
   "source": [
    "number = 0\n",
    "\n",
    "print(number)\n",
    "\n",
    "number += 10\n",
    "\n",
    "print(number)"
   ]
  },
  {
   "cell_type": "markdown",
   "id": "aec51ca3",
   "metadata": {},
   "source": [
    "### Decrementation Operator"
   ]
  },
  {
   "cell_type": "code",
   "execution_count": 10,
   "id": "11de5a6b",
   "metadata": {
    "ExecuteTime": {
     "end_time": "2022-07-02T12:37:59.692500Z",
     "start_time": "2022-07-02T12:37:59.683917Z"
    }
   },
   "outputs": [
    {
     "name": "stdout",
     "output_type": "stream",
     "text": [
      "20\n",
      "10\n"
     ]
    }
   ],
   "source": [
    "number = 20\n",
    "\n",
    "print(number)\n",
    "\n",
    "number -= 10\n",
    "\n",
    "print(number)"
   ]
  },
  {
   "cell_type": "markdown",
   "id": "1d4a193b",
   "metadata": {},
   "source": [
    "* `**=` --> Update by exponentiation\n",
    "\n",
    "* `*=` --> Update by multiplication\n",
    "\n",
    "* `/=` --> Update by division\n",
    "\n",
    "* `//=` --> Update by floor division\n",
    "\n",
    "* `%=` --> update by modulus"
   ]
  },
  {
   "cell_type": "markdown",
   "id": "9cb60600",
   "metadata": {},
   "source": [
    "## Implicit Type Conversion"
   ]
  },
  {
   "cell_type": "code",
   "execution_count": 11,
   "id": "f40b8962",
   "metadata": {
    "ExecuteTime": {
     "end_time": "2022-07-02T12:42:49.204873Z",
     "start_time": "2022-07-02T12:42:49.200288Z"
    }
   },
   "outputs": [],
   "source": [
    "integer_number = 10\n",
    "\n",
    "decimal_number = 2.5"
   ]
  },
  {
   "cell_type": "code",
   "execution_count": 12,
   "id": "8916952c",
   "metadata": {
    "ExecuteTime": {
     "end_time": "2022-07-02T12:43:22.244705Z",
     "start_time": "2022-07-02T12:43:22.237292Z"
    }
   },
   "outputs": [
    {
     "data": {
      "text/plain": [
       "int"
      ]
     },
     "metadata": {},
     "output_type": "display_data"
    },
    {
     "data": {
      "text/plain": [
       "float"
      ]
     },
     "metadata": {},
     "output_type": "display_data"
    }
   ],
   "source": [
    "display(type(integer_number), type(decimal_number))"
   ]
  },
  {
   "cell_type": "code",
   "execution_count": 16,
   "id": "c65e818a",
   "metadata": {
    "ExecuteTime": {
     "end_time": "2022-07-02T12:45:02.499235Z",
     "start_time": "2022-07-02T12:45:02.491185Z"
    }
   },
   "outputs": [
    {
     "name": "stdout",
     "output_type": "stream",
     "text": [
      "<class 'float'>\n",
      "12.5\n"
     ]
    }
   ],
   "source": [
    "sum_ = integer_number + decimal_number\n",
    "\n",
    "print(type(sum_))\n",
    "\n",
    "print(sum_)"
   ]
  },
  {
   "cell_type": "code",
   "execution_count": 20,
   "id": "79fdfb81",
   "metadata": {
    "ExecuteTime": {
     "end_time": "2022-07-02T12:45:33.492277Z",
     "start_time": "2022-07-02T12:45:33.474205Z"
    }
   },
   "outputs": [
    {
     "data": {
      "text/plain": [
       "int"
      ]
     },
     "execution_count": 20,
     "metadata": {},
     "output_type": "execute_result"
    }
   ],
   "source": [
    "type(integer_number + 10)"
   ]
  },
  {
   "cell_type": "markdown",
   "id": "d55723cf",
   "metadata": {},
   "source": [
    "## The types of loops in Python "
   ]
  },
  {
   "cell_type": "markdown",
   "id": "b8af540e",
   "metadata": {},
   "source": [
    "### While Loop"
   ]
  },
  {
   "cell_type": "markdown",
   "id": "911d83b3",
   "metadata": {},
   "source": [
    "It uses a negative logic to express a stop condition"
   ]
  },
  {
   "cell_type": "markdown",
   "id": "d9227c01",
   "metadata": {},
   "source": [
    "Syntax:\n",
    "\n",
    "* **while** condition[bool]:\n",
    "        action[if condition is True]"
   ]
  },
  {
   "cell_type": "code",
   "execution_count": 1,
   "id": "43a90c01",
   "metadata": {
    "ExecuteTime": {
     "end_time": "2022-07-02T13:13:29.064738Z",
     "start_time": "2022-07-02T13:13:29.048599Z"
    }
   },
   "outputs": [
    {
     "name": "stdout",
     "output_type": "stream",
     "text": [
      "Put item in the box\n",
      "Put item in the box\n",
      "Put item in the box\n",
      "Put item in the box\n",
      "Put item in the box\n",
      "Put item in the box\n",
      "Put item in the box\n",
      "Put item in the box\n",
      "Put item in the box\n",
      "Put item in the box\n",
      "Put item in the box\n",
      "Put item in the box\n",
      "Put item in the box\n",
      "Put item in the box\n",
      "Put item in the box\n",
      "Put item in the box\n",
      "Put item in the box\n",
      "Put item in the box\n",
      "Put item in the box\n",
      "Put item in the box\n",
      "All items have been kept in the box\n"
     ]
    }
   ],
   "source": [
    "number_of_items = 20\n",
    "\n",
    "while number_of_items > 0:\n",
    "    \n",
    "    number_of_items -= 1\n",
    "    \n",
    "    print(\"Put item in the box\")\n",
    "    \n",
    "print(\"All items have been kept in the box\")"
   ]
  },
  {
   "cell_type": "markdown",
   "id": "4f6eadd5",
   "metadata": {},
   "source": [
    "## For Loops"
   ]
  },
  {
   "cell_type": "markdown",
   "id": "cca325db",
   "metadata": {},
   "source": [
    "It is used to iterate over squence of items/object | collection of items/objects"
   ]
  },
  {
   "cell_type": "markdown",
   "id": "d5e42bab",
   "metadata": {},
   "source": [
    "**Syntax:**\n",
    "\n",
    "- `for` **placeholder** `in` **list_of_items**:\n",
    "> **`action`**"
   ]
  },
  {
   "cell_type": "code",
   "execution_count": 2,
   "id": "a64c6b04",
   "metadata": {
    "ExecuteTime": {
     "end_time": "2022-07-02T13:26:36.136006Z",
     "start_time": "2022-07-02T13:26:36.120942Z"
    }
   },
   "outputs": [
    {
     "name": "stdout",
     "output_type": "stream",
     "text": [
      "0\n",
      "2\n",
      "4\n",
      "6\n",
      "8\n",
      "10\n",
      "12\n",
      "14\n",
      "16\n",
      "18\n"
     ]
    }
   ],
   "source": [
    "for number in range(0, 10):\n",
    "    \n",
    "    results = number * 2\n",
    "    \n",
    "    print(results)"
   ]
  },
  {
   "cell_type": "markdown",
   "id": "da1b57dc",
   "metadata": {},
   "source": [
    "## The Break Statement"
   ]
  },
  {
   "cell_type": "code",
   "execution_count": 4,
   "id": "30c29dd0",
   "metadata": {
    "ExecuteTime": {
     "end_time": "2022-07-02T13:33:53.828681Z",
     "start_time": "2022-07-02T13:33:53.822683Z"
    },
    "code_folding": []
   },
   "outputs": [
    {
     "name": "stdout",
     "output_type": "stream",
     "text": [
      "Put item in the box\n",
      "Put item in the box\n",
      "Put item in the box\n",
      "Put item in the box\n",
      "Put item in the box\n",
      "All items have been kept in the box\n"
     ]
    }
   ],
   "source": [
    "number_of_items = 20\n",
    "\n",
    "while number_of_items > 0:\n",
    "    \n",
    "    number_of_items -= 1\n",
    "    \n",
    "    print(\"Put item in the box\")\n",
    "    \n",
    "    if number_of_items == 15:\n",
    "        \n",
    "        break\n",
    "    \n",
    "print(\"All items have been kept in the box\")"
   ]
  },
  {
   "cell_type": "code",
   "execution_count": 7,
   "id": "2e4008d9",
   "metadata": {
    "ExecuteTime": {
     "end_time": "2022-07-02T13:53:07.580944Z",
     "start_time": "2022-07-02T13:53:07.570950Z"
    }
   },
   "outputs": [
    {
     "name": "stdout",
     "output_type": "stream",
     "text": [
      "0\n",
      "2\n",
      "4\n",
      "6\n",
      "8\n",
      "10\n",
      "12\n",
      "14\n"
     ]
    }
   ],
   "source": [
    "for number in range(0, 10):\n",
    "    \n",
    "    if number == 8:\n",
    "        \n",
    "        break\n",
    "    \n",
    "    results = number * 2\n",
    "    \n",
    "    print(results)"
   ]
  },
  {
   "cell_type": "markdown",
   "id": "4f75c9ae",
   "metadata": {},
   "source": [
    "## The Continue Statement"
   ]
  },
  {
   "cell_type": "code",
   "execution_count": 12,
   "id": "046a2f0b",
   "metadata": {
    "ExecuteTime": {
     "end_time": "2022-07-02T13:59:28.287147Z",
     "start_time": "2022-07-02T13:59:28.279098Z"
    }
   },
   "outputs": [
    {
     "name": "stdout",
     "output_type": "stream",
     "text": [
      "Put item in the box\n",
      "Put item in the box\n",
      "Put item in the box\n",
      "Put item in the box\n",
      "Put item in the box\n",
      "Put item in the box\n",
      "Put item in the box\n",
      "Put item in the box\n",
      "Put item in the box\n",
      "Put item in the box\n",
      "Put item in the box\n",
      "Put item in the box\n",
      "Put item in the box\n",
      "Put item in the box\n",
      "Put item in the box\n",
      "Put item in the box\n",
      "Put item in the box\n",
      "Put item in the box\n",
      "Put item in the box\n",
      "Put item in the box\n",
      "All items have been kept in the box\n"
     ]
    }
   ],
   "source": [
    "number_of_items = 20\n",
    "\n",
    "while number_of_items > 0:\n",
    "    \n",
    "    if number_of_items == 10:\n",
    "        \n",
    "        continue\n",
    "    \n",
    "    number_of_items -= 1\n",
    "    \n",
    "    print(\"Put item in the box\")\n",
    "    \n",
    "print(\"All items have been kept in the box\")"
   ]
  },
  {
   "cell_type": "code",
   "execution_count": 13,
   "id": "20079e5a",
   "metadata": {
    "ExecuteTime": {
     "end_time": "2022-07-02T14:01:10.687338Z",
     "start_time": "2022-07-02T14:01:10.676332Z"
    }
   },
   "outputs": [
    {
     "name": "stdout",
     "output_type": "stream",
     "text": [
      "0\n",
      "2\n",
      "4\n",
      "6\n",
      "8\n"
     ]
    }
   ],
   "source": [
    "for number in range(0, 10):\n",
    "    \n",
    "    if number % 2 != 0:\n",
    "        \n",
    "        continue\n",
    "    \n",
    "    print(number)"
   ]
  },
  {
   "cell_type": "markdown",
   "id": "afbb0d1c",
   "metadata": {},
   "source": [
    "## Range Function"
   ]
  },
  {
   "cell_type": "markdown",
   "id": "f71306e5",
   "metadata": {},
   "source": [
    "**Syntax:**\n",
    "    \n",
    "* ```python\n",
    "range(start, end, step)\n",
    "```\n",
    "\n",
    "* ```python\n",
    "range(start, end)\n",
    "```\n",
    "\n",
    "* ```python\n",
    "range(end)\n",
    "```"
   ]
  },
  {
   "cell_type": "code",
   "execution_count": 14,
   "id": "d60e0048",
   "metadata": {
    "ExecuteTime": {
     "end_time": "2022-07-02T14:03:59.498508Z",
     "start_time": "2022-07-02T14:03:59.481207Z"
    }
   },
   "outputs": [
    {
     "data": {
      "text/plain": [
       "range(0, 10)"
      ]
     },
     "execution_count": 14,
     "metadata": {},
     "output_type": "execute_result"
    }
   ],
   "source": [
    "range(10)"
   ]
  },
  {
   "cell_type": "code",
   "execution_count": 15,
   "id": "9591352b",
   "metadata": {
    "ExecuteTime": {
     "end_time": "2022-07-02T14:04:31.402550Z",
     "start_time": "2022-07-02T14:04:31.387921Z"
    }
   },
   "outputs": [
    {
     "data": {
      "text/plain": [
       "range(1, 10)"
      ]
     },
     "execution_count": 15,
     "metadata": {},
     "output_type": "execute_result"
    }
   ],
   "source": [
    "range(1, 10) "
   ]
  },
  {
   "cell_type": "code",
   "execution_count": 16,
   "id": "fe179b1a",
   "metadata": {
    "ExecuteTime": {
     "end_time": "2022-07-02T14:05:07.702408Z",
     "start_time": "2022-07-02T14:05:07.696405Z"
    }
   },
   "outputs": [
    {
     "data": {
      "text/plain": [
       "range(0, 20, 2)"
      ]
     },
     "execution_count": 16,
     "metadata": {},
     "output_type": "execute_result"
    }
   ],
   "source": [
    "range(0, 20, 2)"
   ]
  },
  {
   "cell_type": "code",
   "execution_count": 17,
   "id": "1c08a012",
   "metadata": {
    "ExecuteTime": {
     "end_time": "2022-07-02T14:06:26.734908Z",
     "start_time": "2022-07-02T14:06:26.722103Z"
    }
   },
   "outputs": [
    {
     "name": "stdout",
     "output_type": "stream",
     "text": [
      "0\n",
      "1\n",
      "2\n",
      "3\n",
      "4\n",
      "5\n",
      "6\n",
      "7\n",
      "8\n",
      "9\n"
     ]
    }
   ],
   "source": [
    "for number in range(10):\n",
    "    print(number)"
   ]
  },
  {
   "cell_type": "code",
   "execution_count": 18,
   "id": "f10e8226",
   "metadata": {
    "ExecuteTime": {
     "end_time": "2022-07-02T14:06:58.834517Z",
     "start_time": "2022-07-02T14:06:58.818519Z"
    }
   },
   "outputs": [
    {
     "name": "stdout",
     "output_type": "stream",
     "text": [
      "1\n",
      "2\n",
      "3\n",
      "4\n",
      "5\n",
      "6\n",
      "7\n",
      "8\n",
      "9\n"
     ]
    }
   ],
   "source": [
    "for number in range(1, 10):\n",
    "    print(number)"
   ]
  },
  {
   "cell_type": "code",
   "execution_count": 20,
   "id": "d702cc1d",
   "metadata": {
    "ExecuteTime": {
     "end_time": "2022-07-02T14:07:22.479790Z",
     "start_time": "2022-07-02T14:07:22.462796Z"
    }
   },
   "outputs": [
    {
     "name": "stdout",
     "output_type": "stream",
     "text": [
      "0\n",
      "2\n",
      "4\n",
      "6\n",
      "8\n",
      "10\n",
      "12\n",
      "14\n",
      "16\n",
      "18\n"
     ]
    }
   ],
   "source": [
    "for number in range(0, 20, 2):\n",
    "    print(number)"
   ]
  },
  {
   "cell_type": "markdown",
   "id": "be395729",
   "metadata": {},
   "source": [
    "### The end value of the range function"
   ]
  },
  {
   "cell_type": "markdown",
   "id": "3e82f4c1",
   "metadata": {},
   "source": [
    "end_value always minus 1"
   ]
  },
  {
   "cell_type": "code",
   "execution_count": 22,
   "id": "04f14e96",
   "metadata": {
    "ExecuteTime": {
     "end_time": "2022-07-02T14:08:53.649199Z",
     "start_time": "2022-07-02T14:08:53.644199Z"
    }
   },
   "outputs": [
    {
     "name": "stdout",
     "output_type": "stream",
     "text": [
      "1\n",
      "2\n",
      "3\n",
      "4\n"
     ]
    }
   ],
   "source": [
    "for number in range(1, 5):\n",
    "    print(number)"
   ]
  },
  {
   "cell_type": "markdown",
   "id": "3936868e",
   "metadata": {},
   "source": [
    "## Recursion"
   ]
  },
  {
   "cell_type": "code",
   "execution_count": 24,
   "id": "79e7f39e",
   "metadata": {
    "ExecuteTime": {
     "end_time": "2022-07-02T14:13:09.904382Z",
     "start_time": "2022-07-02T14:13:09.887260Z"
    }
   },
   "outputs": [],
   "source": [
    "def timer(number):\n",
    "    \n",
    "    if number <= 0:\n",
    "        \n",
    "        print(\"AddictivePython\")\n",
    "        \n",
    "    else:\n",
    "        \n",
    "        print(number)\n",
    "        \n",
    "        timer(number - 1)"
   ]
  },
  {
   "cell_type": "code",
   "execution_count": 28,
   "id": "15501ecc",
   "metadata": {
    "ExecuteTime": {
     "end_time": "2022-07-02T14:17:01.074999Z",
     "start_time": "2022-07-02T14:17:01.071993Z"
    }
   },
   "outputs": [
    {
     "name": "stdout",
     "output_type": "stream",
     "text": [
      "10\n",
      "9\n",
      "8\n",
      "7\n",
      "6\n",
      "5\n",
      "4\n",
      "3\n",
      "2\n",
      "1\n",
      "AddictivePython\n"
     ]
    }
   ],
   "source": [
    "timer(number=10)"
   ]
  },
  {
   "cell_type": "code",
   "execution_count": null,
   "id": "31a3bee8",
   "metadata": {},
   "outputs": [],
   "source": []
  }
 ],
 "metadata": {
  "kernelspec": {
   "display_name": "Python 3",
   "language": "python",
   "name": "python3"
  },
  "language_info": {
   "codemirror_mode": {
    "name": "ipython",
    "version": 3
   },
   "file_extension": ".py",
   "mimetype": "text/x-python",
   "name": "python",
   "nbconvert_exporter": "python",
   "pygments_lexer": "ipython3",
   "version": "3.8.8"
  },
  "nbTranslate": {
   "displayLangs": [
    "*"
   ],
   "hotkey": "alt-t",
   "langInMainMenu": true,
   "sourceLang": "en",
   "targetLang": "fr",
   "useGoogleTranslate": true
  },
  "toc": {
   "base_numbering": 1,
   "nav_menu": {},
   "number_sections": true,
   "sideBar": true,
   "skip_h1_title": false,
   "title_cell": "Table of Contents",
   "title_sidebar": "Contents",
   "toc_cell": false,
   "toc_position": {},
   "toc_section_display": true,
   "toc_window_display": false
  },
  "varInspector": {
   "cols": {
    "lenName": 16,
    "lenType": 16,
    "lenVar": 40
   },
   "kernels_config": {
    "python": {
     "delete_cmd_postfix": "",
     "delete_cmd_prefix": "del ",
     "library": "var_list.py",
     "varRefreshCmd": "print(var_dic_list())"
    },
    "r": {
     "delete_cmd_postfix": ") ",
     "delete_cmd_prefix": "rm(",
     "library": "var_list.r",
     "varRefreshCmd": "cat(var_dic_list()) "
    }
   },
   "types_to_exclude": [
    "module",
    "function",
    "builtin_function_or_method",
    "instance",
    "_Feature"
   ],
   "window_display": false
  }
 },
 "nbformat": 4,
 "nbformat_minor": 5
}
