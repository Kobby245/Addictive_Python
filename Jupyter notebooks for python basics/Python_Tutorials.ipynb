{
 "cells": [
  {
   "cell_type": "markdown",
   "id": "bb86db5a",
   "metadata": {
    "ExecuteTime": {
     "end_time": "2022-06-11T14:10:18.855625Z",
     "start_time": "2022-06-11T14:10:18.845619Z"
    }
   },
   "source": [
    "# Python `print()` Function\n",
    "\n",
    "* This is a Markdown Cell"
   ]
  },
  {
   "cell_type": "markdown",
   "id": "fe23b15d",
   "metadata": {},
   "source": [
    "A usage example of using the python print() function to display hello on the screen\n",
    "\n",
    "* This is another Markdown Cell"
   ]
  },
  {
   "cell_type": "code",
   "execution_count": 2,
   "id": "6f46bf6f",
   "metadata": {
    "ExecuteTime": {
     "end_time": "2022-06-11T14:19:29.504659Z",
     "start_time": "2022-06-11T14:19:29.489658Z"
    },
    "run_control": {
     "marked": false
    }
   },
   "outputs": [
    {
     "name": "stdout",
     "output_type": "stream",
     "text": [
      "First Cell\n"
     ]
    }
   ],
   "source": [
    "# This is a code cell\n",
    "print(\"First Cell\")"
   ]
  },
  {
   "cell_type": "code",
   "execution_count": 3,
   "id": "c3ccdf8f",
   "metadata": {
    "ExecuteTime": {
     "end_time": "2022-06-11T14:19:29.726092Z",
     "start_time": "2022-06-11T14:19:29.713094Z"
    },
    "run_control": {
     "marked": false
    }
   },
   "outputs": [
    {
     "name": "stdout",
     "output_type": "stream",
     "text": [
      "Second Cell\n"
     ]
    }
   ],
   "source": [
    "# This is another code cell\n",
    "print(\"Second Cell\")"
   ]
  },
  {
   "cell_type": "markdown",
   "id": "bb168d6f",
   "metadata": {},
   "source": [
    "---"
   ]
  },
  {
   "cell_type": "markdown",
   "id": "a4c9adb5",
   "metadata": {},
   "source": [
    "## Variables"
   ]
  },
  {
   "cell_type": "markdown",
   "id": "57b38f35",
   "metadata": {},
   "source": [
    "Maths Theory:"
   ]
  },
  {
   "cell_type": "markdown",
   "id": "4acf4426",
   "metadata": {},
   "source": [
    "Mathematical Expression\n",
    "- x + y = 20\n",
    "\n",
    "    * x - variable | independent variable\n",
    "    * y - variable | independent variable\n",
    "    * 20 - constant\n",
    "    \n",
    "- 2x + 3y = z\n",
    "\n",
    "    * x - variable | independent variable\n",
    "    * y - variable | independent variable\n",
    "    * 2 - constant\n",
    "    * 3 - constant\n",
    "    * z - variable | dependent variable"
   ]
  },
  {
   "cell_type": "code",
   "execution_count": null,
   "id": "966098e8",
   "metadata": {
    "ExecuteTime": {
     "end_time": "2022-06-11T14:37:05.729831Z",
     "start_time": "2022-06-11T14:37:05.715740Z"
    }
   },
   "outputs": [],
   "source": [
    "full_name = \"Jason Brown\""
   ]
  },
  {
   "cell_type": "markdown",
   "id": "92aa13ab",
   "metadata": {
    "run_control": {
     "marked": false
    }
   },
   "source": [
    "Keywords\n",
    "\n",
    "* in\n",
    "* for\n",
    "* and\n",
    "* is\n",
    "* while\n",
    "* or\n",
    "* try\n",
    "* except\n",
    "* finally\n",
    "* global\n",
    "\n",
    "This will give an error\n",
    "\n",
    "while = 100 "
   ]
  },
  {
   "cell_type": "markdown",
   "id": "41701443",
   "metadata": {
    "ExecuteTime": {
     "end_time": "2022-06-11T14:40:13.913263Z",
     "start_time": "2022-06-11T14:40:13.901630Z"
    },
    "run_control": {
     "marked": false
    }
   },
   "source": [
    "* list\n",
    "* set\n",
    "* tuple\n",
    "* dict\n",
    "* int\n",
    "* float\n",
    "* range\n",
    "* complex"
   ]
  },
  {
   "cell_type": "code",
   "execution_count": 5,
   "id": "db7dbb10",
   "metadata": {
    "ExecuteTime": {
     "end_time": "2022-06-11T14:48:02.692957Z",
     "start_time": "2022-06-11T14:48:02.683973Z"
    },
    "run_control": {
     "marked": false
    }
   },
   "outputs": [
    {
     "data": {
      "text/plain": [
       "10"
      ]
     },
     "execution_count": 5,
     "metadata": {},
     "output_type": "execute_result"
    }
   ],
   "source": [
    "int_ = 10\n",
    "\n",
    "int_"
   ]
  },
  {
   "cell_type": "code",
   "execution_count": 6,
   "id": "e9cfe1da",
   "metadata": {
    "ExecuteTime": {
     "end_time": "2022-06-11T14:48:15.887426Z",
     "start_time": "2022-06-11T14:48:15.877257Z"
    }
   },
   "outputs": [
    {
     "data": {
      "text/plain": [
       "20"
      ]
     },
     "execution_count": 6,
     "metadata": {},
     "output_type": "execute_result"
    }
   ],
   "source": [
    "int(20.7866)"
   ]
  },
  {
   "cell_type": "code",
   "execution_count": 4,
   "id": "98601340",
   "metadata": {
    "ExecuteTime": {
     "end_time": "2022-06-11T14:47:51.305892Z",
     "start_time": "2022-06-11T14:47:51.291919Z"
    },
    "run_control": {
     "marked": false
    }
   },
   "outputs": [
    {
     "data": {
      "text/plain": [
       "[0, 1, 2, 3, 4, 5, 6, 7, 8, 9]"
      ]
     },
     "execution_count": 4,
     "metadata": {},
     "output_type": "execute_result"
    }
   ],
   "source": [
    "list(range(10))"
   ]
  },
  {
   "cell_type": "code",
   "execution_count": 7,
   "id": "4aefe4b3",
   "metadata": {
    "ExecuteTime": {
     "end_time": "2022-06-11T14:50:48.102276Z",
     "start_time": "2022-06-11T14:50:48.095278Z"
    }
   },
   "outputs": [],
   "source": [
    "god = 10"
   ]
  },
  {
   "cell_type": "code",
   "execution_count": 10,
   "id": "915ffdd6",
   "metadata": {
    "ExecuteTime": {
     "end_time": "2022-06-11T14:52:19.365241Z",
     "start_time": "2022-06-11T14:52:19.358247Z"
    },
    "run_control": {
     "marked": false
    }
   },
   "outputs": [],
   "source": [
    "# first_name_of_all_males_in_ecom\n",
    "\n",
    "x = 1\n",
    "\n",
    "number_1 = 1\n",
    "\n",
    "name = \"Jason\"\n",
    "\n",
    "first_name = \"Jason\"\n",
    "\n",
    "ball = \"red_ball\"\n",
    "\n",
    "red_ball = \"red_ball\""
   ]
  },
  {
   "cell_type": "code",
   "execution_count": 15,
   "id": "b6df1db5",
   "metadata": {
    "ExecuteTime": {
     "end_time": "2022-06-11T14:57:15.902675Z",
     "start_time": "2022-06-11T14:57:15.883261Z"
    }
   },
   "outputs": [],
   "source": [
    "FirstName = \"Jason\"\n",
    "\n",
    "First_Name = \"Lebron\"\n",
    "\n",
    "firstName = \"Steph\"\n",
    "\n",
    "Firstname = \"Malik\"\n",
    "\n",
    "FIRSTname = \"Davis\"\n",
    "\n",
    "firstNAME = \"Phil\"\n",
    "\n",
    "# snake_case\n",
    "first_name = \"Kobe\""
   ]
  },
  {
   "cell_type": "markdown",
   "id": "388370b1",
   "metadata": {},
   "source": [
    "## Scope of a Variable"
   ]
  },
  {
   "cell_type": "code",
   "execution_count": 28,
   "id": "79836e44",
   "metadata": {
    "ExecuteTime": {
     "end_time": "2022-06-11T15:11:53.995243Z",
     "start_time": "2022-06-11T15:11:53.984213Z"
    },
    "run_control": {
     "marked": false
    }
   },
   "outputs": [],
   "source": [
    "global_variable = 24\n",
    "\n",
    "def add_two_local_numbers():\n",
    "    \n",
    "    local_number_1 = global_variable\n",
    "    \n",
    "    global local_number_2\n",
    "    \n",
    "    local_number_2 = 2\n",
    "    \n",
    "    total_sum = local_number_1 + local_number_2\n",
    "    \n",
    "    return total_sum\n"
   ]
  },
  {
   "cell_type": "code",
   "execution_count": 29,
   "id": "e3785916",
   "metadata": {
    "ExecuteTime": {
     "end_time": "2022-06-11T15:11:56.699188Z",
     "start_time": "2022-06-11T15:11:56.687984Z"
    }
   },
   "outputs": [
    {
     "data": {
      "text/plain": [
       "24"
      ]
     },
     "execution_count": 29,
     "metadata": {},
     "output_type": "execute_result"
    }
   ],
   "source": [
    "global_variable"
   ]
  },
  {
   "cell_type": "code",
   "execution_count": 30,
   "id": "f7af4ecc",
   "metadata": {
    "ExecuteTime": {
     "end_time": "2022-06-11T15:11:58.223682Z",
     "start_time": "2022-06-11T15:11:58.216618Z"
    }
   },
   "outputs": [
    {
     "data": {
      "text/plain": [
       "26"
      ]
     },
     "execution_count": 30,
     "metadata": {},
     "output_type": "execute_result"
    }
   ],
   "source": [
    "add_two_local_numbers()"
   ]
  },
  {
   "cell_type": "code",
   "execution_count": 31,
   "id": "704583ad",
   "metadata": {
    "ExecuteTime": {
     "end_time": "2022-06-11T15:12:01.572774Z",
     "start_time": "2022-06-11T15:12:01.551777Z"
    }
   },
   "outputs": [
    {
     "ename": "NameError",
     "evalue": "name 'local_number_1' is not defined",
     "output_type": "error",
     "traceback": [
      "\u001b[1;31m---------------------------------------------------------------------------\u001b[0m",
      "\u001b[1;31mNameError\u001b[0m                                 Traceback (most recent call last)",
      "\u001b[1;32m~\\AppData\\Local\\Temp\\ipykernel_30260\\1317241207.py\u001b[0m in \u001b[0;36m<module>\u001b[1;34m\u001b[0m\n\u001b[1;32m----> 1\u001b[1;33m \u001b[0mlocal_number_1\u001b[0m\u001b[1;33m\u001b[0m\u001b[1;33m\u001b[0m\u001b[0m\n\u001b[0m",
      "\u001b[1;31mNameError\u001b[0m: name 'local_number_1' is not defined"
     ]
    }
   ],
   "source": [
    "local_number_1"
   ]
  },
  {
   "cell_type": "code",
   "execution_count": 32,
   "id": "bcc15fc8",
   "metadata": {
    "ExecuteTime": {
     "end_time": "2022-06-11T15:12:03.625722Z",
     "start_time": "2022-06-11T15:12:03.618722Z"
    }
   },
   "outputs": [
    {
     "data": {
      "text/plain": [
       "2"
      ]
     },
     "execution_count": 32,
     "metadata": {},
     "output_type": "execute_result"
    }
   ],
   "source": [
    "local_number_2"
   ]
  },
  {
   "cell_type": "code",
   "execution_count": 33,
   "id": "db5564cb",
   "metadata": {
    "ExecuteTime": {
     "end_time": "2022-06-11T15:12:11.907140Z",
     "start_time": "2022-06-11T15:12:11.897038Z"
    }
   },
   "outputs": [
    {
     "ename": "NameError",
     "evalue": "name 'total_sum' is not defined",
     "output_type": "error",
     "traceback": [
      "\u001b[1;31m---------------------------------------------------------------------------\u001b[0m",
      "\u001b[1;31mNameError\u001b[0m                                 Traceback (most recent call last)",
      "\u001b[1;32m~\\AppData\\Local\\Temp\\ipykernel_30260\\1697855835.py\u001b[0m in \u001b[0;36m<module>\u001b[1;34m\u001b[0m\n\u001b[1;32m----> 1\u001b[1;33m \u001b[0mtotal_sum\u001b[0m\u001b[1;33m\u001b[0m\u001b[1;33m\u001b[0m\u001b[0m\n\u001b[0m",
      "\u001b[1;31mNameError\u001b[0m: name 'total_sum' is not defined"
     ]
    }
   ],
   "source": [
    "total_sum"
   ]
  },
  {
   "cell_type": "markdown",
   "id": "ee1445c8",
   "metadata": {},
   "source": [
    "## Assignment and Initialization"
   ]
  },
  {
   "cell_type": "markdown",
   "id": "bb3c0dc5",
   "metadata": {},
   "source": [
    "C, C++ Java --- Statically Typed Languages"
   ]
  },
  {
   "cell_type": "markdown",
   "id": "c9f702c5",
   "metadata": {},
   "source": [
    "* int integer_number;\n",
    "\n",
    "* integer_number = 1;"
   ]
  },
  {
   "cell_type": "code",
   "execution_count": 35,
   "id": "0cf134ec",
   "metadata": {
    "ExecuteTime": {
     "end_time": "2022-06-11T15:17:50.740711Z",
     "start_time": "2022-06-11T15:17:50.729736Z"
    }
   },
   "outputs": [],
   "source": [
    "global decimal_number\n",
    "\n",
    "decimal_number = 2.5"
   ]
  },
  {
   "cell_type": "code",
   "execution_count": 36,
   "id": "c05c6c90",
   "metadata": {
    "ExecuteTime": {
     "end_time": "2022-06-11T15:18:54.120719Z",
     "start_time": "2022-06-11T15:18:54.111725Z"
    }
   },
   "outputs": [],
   "source": [
    "integer_number_1 = 1"
   ]
  },
  {
   "cell_type": "code",
   "execution_count": 37,
   "id": "c14ef83f",
   "metadata": {
    "ExecuteTime": {
     "end_time": "2022-06-11T15:19:56.897616Z",
     "start_time": "2022-06-11T15:19:56.881615Z"
    },
    "run_control": {
     "marked": false
    }
   },
   "outputs": [],
   "source": [
    "integer_number_2: int\n",
    "\n",
    "integer_number_2 = 3"
   ]
  },
  {
   "cell_type": "code",
   "execution_count": 40,
   "id": "c5efe322",
   "metadata": {
    "ExecuteTime": {
     "end_time": "2022-06-11T15:21:45.668140Z",
     "start_time": "2022-06-11T15:21:45.653469Z"
    },
    "run_control": {
     "marked": false
    }
   },
   "outputs": [],
   "source": [
    "integer_number_3: int = 4"
   ]
  },
  {
   "cell_type": "markdown",
   "id": "7458faa1",
   "metadata": {},
   "source": [
    "---"
   ]
  },
  {
   "cell_type": "markdown",
   "id": "bc80100b",
   "metadata": {},
   "source": [
    "## Comments"
   ]
  },
  {
   "cell_type": "markdown",
   "id": "2b9c2149",
   "metadata": {},
   "source": [
    "Area of a Rectangle\n",
    "- lenght x breadth"
   ]
  },
  {
   "cell_type": "code",
   "execution_count": 42,
   "id": "0db465d8",
   "metadata": {
    "ExecuteTime": {
     "end_time": "2022-06-11T15:31:13.431737Z",
     "start_time": "2022-06-11T15:31:13.425742Z"
    }
   },
   "outputs": [
    {
     "name": "stdout",
     "output_type": "stream",
     "text": [
      "200\n"
     ]
    }
   ],
   "source": [
    "l = 10\n",
    "\n",
    "b = 20\n",
    "\n",
    "a = l * b\n",
    "\n",
    "print(a)"
   ]
  },
  {
   "cell_type": "code",
   "execution_count": 41,
   "id": "9fe75194",
   "metadata": {
    "ExecuteTime": {
     "end_time": "2022-06-11T15:30:35.999319Z",
     "start_time": "2022-06-11T15:30:35.991320Z"
    }
   },
   "outputs": [
    {
     "name": "stdout",
     "output_type": "stream",
     "text": [
      "200\n"
     ]
    }
   ],
   "source": [
    "# Get the total length of the rectangle\n",
    "length_of_rectange = 10\n",
    "\n",
    "# Get the total breadth of the rectangle\n",
    "breadth_of_rectangle = 20\n",
    "\n",
    "# Get the total area of the rectangle\n",
    "# By mulitiplying to length of the rectangle\n",
    "# and the breadth of the rectangle\n",
    "area_of_rectangle = length_of_rectange * breadth_of_rectangle\n",
    "\n",
    "# Display to total area of the rectangle\n",
    "print(area_of_rectangle)"
   ]
  },
  {
   "cell_type": "markdown",
   "id": "3478d5d9",
   "metadata": {},
   "source": [
    "## Docstrings"
   ]
  },
  {
   "cell_type": "markdown",
   "id": "e3769d52",
   "metadata": {},
   "source": [
    "* Triple double quotes - \"\"\" \"\"\"\n",
    "\n",
    "* Triple single quotes - ''' '''"
   ]
  },
  {
   "cell_type": "code",
   "execution_count": null,
   "id": "122dcc59",
   "metadata": {
    "run_control": {
     "marked": false
    }
   },
   "outputs": [],
   "source": [
    "\"\"\"Get the total area of the rectangle\n",
    "by mulitiplying to length of the rectangle\n",
    "and the breadth of the rectangle\"\"\""
   ]
  },
  {
   "cell_type": "markdown",
   "id": "57b58be1",
   "metadata": {},
   "source": [
    "## Expressions"
   ]
  },
  {
   "cell_type": "code",
   "execution_count": 43,
   "id": "35af9f73",
   "metadata": {
    "ExecuteTime": {
     "end_time": "2022-06-11T15:45:17.203094Z",
     "start_time": "2022-06-11T15:45:17.185536Z"
    }
   },
   "outputs": [],
   "source": [
    "# This is an expression\n",
    "number = 5"
   ]
  },
  {
   "cell_type": "markdown",
   "id": "dd434eb3",
   "metadata": {},
   "source": [
    "## Statements"
   ]
  },
  {
   "cell_type": "code",
   "execution_count": 44,
   "id": "80acfb00",
   "metadata": {
    "ExecuteTime": {
     "end_time": "2022-06-11T15:45:23.196839Z",
     "start_time": "2022-06-11T15:45:23.183805Z"
    }
   },
   "outputs": [],
   "source": [
    "# This is also a statement in python\n",
    "number = 5"
   ]
  },
  {
   "cell_type": "code",
   "execution_count": 45,
   "id": "56caffe5",
   "metadata": {
    "ExecuteTime": {
     "end_time": "2022-06-11T15:46:00.262134Z",
     "start_time": "2022-06-11T15:46:00.250149Z"
    }
   },
   "outputs": [
    {
     "data": {
      "text/plain": [
       "[0, 1, 2, 3, 4]"
      ]
     },
     "execution_count": 45,
     "metadata": {},
     "output_type": "execute_result"
    }
   ],
   "source": [
    "list(range(5))"
   ]
  },
  {
   "cell_type": "code",
   "execution_count": 1,
   "id": "0b11fdfd",
   "metadata": {
    "ExecuteTime": {
     "end_time": "2022-06-11T15:49:12.693976Z",
     "start_time": "2022-06-11T15:49:12.685983Z"
    }
   },
   "outputs": [
    {
     "ename": "NameError",
     "evalue": "name 'number' is not defined",
     "output_type": "error",
     "traceback": [
      "\u001b[1;31m---------------------------------------------------------------------------\u001b[0m",
      "\u001b[1;31mNameError\u001b[0m                                 Traceback (most recent call last)",
      "\u001b[1;32m<ipython-input-1-03090db32dff>\u001b[0m in \u001b[0;36m<module>\u001b[1;34m\u001b[0m\n\u001b[1;32m----> 1\u001b[1;33m \u001b[0mprint\u001b[0m\u001b[1;33m(\u001b[0m\u001b[0mnumber\u001b[0m\u001b[1;33m)\u001b[0m\u001b[1;33m\u001b[0m\u001b[1;33m\u001b[0m\u001b[0m\n\u001b[0m",
      "\u001b[1;31mNameError\u001b[0m: name 'number' is not defined"
     ]
    }
   ],
   "source": [
    "print(number)"
   ]
  },
  {
   "cell_type": "code",
   "execution_count": 3,
   "id": "40676095",
   "metadata": {},
   "outputs": [],
   "source": [
    "l = 20\n",
    "b = 10\n",
    "\n",
    "a = l*b\n"
   ]
  },
  {
   "cell_type": "code",
   "execution_count": 5,
   "id": "6102fe6c",
   "metadata": {},
   "outputs": [
    {
     "data": {
      "text/plain": [
       "int"
      ]
     },
     "execution_count": 5,
     "metadata": {},
     "output_type": "execute_result"
    }
   ],
   "source": [
    "type(a)"
   ]
  }
 ],
 "metadata": {
  "kernelspec": {
   "display_name": "Python 3",
   "language": "python",
   "name": "python3"
  },
  "language_info": {
   "codemirror_mode": {
    "name": "ipython",
    "version": 3
   },
   "file_extension": ".py",
   "mimetype": "text/x-python",
   "name": "python",
   "nbconvert_exporter": "python",
   "pygments_lexer": "ipython3",
   "version": "3.8.8"
  },
  "nbTranslate": {
   "displayLangs": [
    "*"
   ],
   "hotkey": "alt-t",
   "langInMainMenu": true,
   "sourceLang": "en",
   "targetLang": "fr",
   "useGoogleTranslate": true
  },
  "toc": {
   "base_numbering": 1,
   "nav_menu": {},
   "number_sections": true,
   "sideBar": true,
   "skip_h1_title": false,
   "title_cell": "Table of Contents",
   "title_sidebar": "Contents",
   "toc_cell": false,
   "toc_position": {},
   "toc_section_display": true,
   "toc_window_display": false
  },
  "varInspector": {
   "cols": {
    "lenName": 16,
    "lenType": 16,
    "lenVar": 40
   },
   "kernels_config": {
    "python": {
     "delete_cmd_postfix": "",
     "delete_cmd_prefix": "del ",
     "library": "var_list.py",
     "varRefreshCmd": "print(var_dic_list())"
    },
    "r": {
     "delete_cmd_postfix": ") ",
     "delete_cmd_prefix": "rm(",
     "library": "var_list.r",
     "varRefreshCmd": "cat(var_dic_list()) "
    }
   },
   "types_to_exclude": [
    "module",
    "function",
    "builtin_function_or_method",
    "instance",
    "_Feature"
   ],
   "window_display": false
  }
 },
 "nbformat": 4,
 "nbformat_minor": 5
}
