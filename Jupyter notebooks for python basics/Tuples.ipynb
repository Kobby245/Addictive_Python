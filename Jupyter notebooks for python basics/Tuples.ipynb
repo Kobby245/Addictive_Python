{
 "cells": [
  {
   "cell_type": "markdown",
   "id": "8d25c5fd",
   "metadata": {},
   "source": [
    "# Tuples"
   ]
  },
  {
   "cell_type": "markdown",
   "id": "389d64c5",
   "metadata": {},
   "source": [
    "* Immutable sequence of values;\n",
    "    - values can be any data type in python\n",
    "    \n",
    "* Tuples are created with parentheses **`( )`**\n",
    "\n",
    "* Tuples can be of mix data types"
   ]
  },
  {
   "cell_type": "code",
   "execution_count": 1,
   "id": "73f1d96c",
   "metadata": {
    "ExecuteTime": {
     "end_time": "2022-07-09T15:00:51.296625Z",
     "start_time": "2022-07-09T15:00:51.279197Z"
    }
   },
   "outputs": [],
   "source": [
    "tuple_of_colors = (\"turquoise\", \"cyan\", \"deepskyblue\", \"gold\", \"maroon\")"
   ]
  },
  {
   "cell_type": "code",
   "execution_count": 2,
   "id": "7c0f48f3",
   "metadata": {
    "ExecuteTime": {
     "end_time": "2022-07-09T15:00:55.402931Z",
     "start_time": "2022-07-09T15:00:55.389920Z"
    }
   },
   "outputs": [
    {
     "data": {
      "text/plain": [
       "('turquoise', 'cyan', 'deepskyblue', 'gold', 'maroon')"
      ]
     },
     "execution_count": 2,
     "metadata": {},
     "output_type": "execute_result"
    }
   ],
   "source": [
    "tuple_of_colors"
   ]
  },
  {
   "cell_type": "code",
   "execution_count": 3,
   "id": "fdf896fe",
   "metadata": {
    "ExecuteTime": {
     "end_time": "2022-07-09T15:01:13.638702Z",
     "start_time": "2022-07-09T15:01:13.626802Z"
    }
   },
   "outputs": [],
   "source": [
    "tuple_of_names = (\"Kobe\", \"Gigi\", \"Phil\", \"Kyrie\")"
   ]
  },
  {
   "cell_type": "code",
   "execution_count": 4,
   "id": "69d74365",
   "metadata": {
    "ExecuteTime": {
     "end_time": "2022-07-09T15:01:18.383928Z",
     "start_time": "2022-07-09T15:01:18.377932Z"
    }
   },
   "outputs": [
    {
     "data": {
      "text/plain": [
       "('Kobe', 'Gigi', 'Phil', 'Kyrie')"
      ]
     },
     "execution_count": 4,
     "metadata": {},
     "output_type": "execute_result"
    }
   ],
   "source": [
    "tuple_of_names"
   ]
  },
  {
   "cell_type": "markdown",
   "id": "327b6d12",
   "metadata": {},
   "source": [
    "---"
   ]
  },
  {
   "cell_type": "markdown",
   "id": "df86b078",
   "metadata": {},
   "source": [
    "## Types of Tuples"
   ]
  },
  {
   "cell_type": "code",
   "execution_count": 5,
   "id": "5b13281a",
   "metadata": {
    "ExecuteTime": {
     "end_time": "2022-07-09T15:01:53.974554Z",
     "start_time": "2022-07-09T15:01:53.965500Z"
    }
   },
   "outputs": [
    {
     "data": {
      "text/plain": [
       "(1, 2, 3, 4, 5, 6, 7, 8, 9, 10, 11, 12, 13, 14, 15, 16, 17, 18, 19, 20)"
      ]
     },
     "execution_count": 5,
     "metadata": {},
     "output_type": "execute_result"
    }
   ],
   "source": [
    "tuple_of_integer_numbers = tuple(range(1, 21))\n",
    "\n",
    "tuple_of_integer_numbers"
   ]
  },
  {
   "cell_type": "code",
   "execution_count": 6,
   "id": "e58babc6",
   "metadata": {
    "ExecuteTime": {
     "end_time": "2022-07-09T15:02:15.534019Z",
     "start_time": "2022-07-09T15:02:15.523187Z"
    }
   },
   "outputs": [
    {
     "data": {
      "text/plain": [
       "(1.0, 2.3, 4.5, 5.8)"
      ]
     },
     "execution_count": 6,
     "metadata": {},
     "output_type": "execute_result"
    }
   ],
   "source": [
    "tuple_of_decimal_numbers = (1.0, 2.3, 4.5, 5.8)\n",
    "\n",
    "tuple_of_decimal_numbers"
   ]
  },
  {
   "cell_type": "code",
   "execution_count": 7,
   "id": "b63a62d0",
   "metadata": {
    "ExecuteTime": {
     "end_time": "2022-07-09T15:02:36.417261Z",
     "start_time": "2022-07-09T15:02:36.405581Z"
    }
   },
   "outputs": [
    {
     "data": {
      "text/plain": [
       "('Kobe', 'Gigi', 'Phil', 'Kyrie')"
      ]
     },
     "execution_count": 7,
     "metadata": {},
     "output_type": "execute_result"
    }
   ],
   "source": [
    "tuple_of_strings = (\"Kobe\", \"Gigi\", \"Phil\", \"Kyrie\")\n",
    "\n",
    "tuple_of_strings"
   ]
  },
  {
   "cell_type": "code",
   "execution_count": 8,
   "id": "a15dda8e",
   "metadata": {
    "ExecuteTime": {
     "end_time": "2022-07-09T15:02:52.015417Z",
     "start_time": "2022-07-09T15:02:52.001422Z"
    }
   },
   "outputs": [
    {
     "data": {
      "text/plain": [
       "(1, 2.3, 'Kobe', 'Stax-124B6', 10000, 234.60823)"
      ]
     },
     "execution_count": 8,
     "metadata": {},
     "output_type": "execute_result"
    }
   ],
   "source": [
    "tuple_of_mix_types = (1, 2.3, \"Kobe\", \"Stax-124B6\", 10000, 234.60823)\n",
    "\n",
    "tuple_of_mix_types"
   ]
  },
  {
   "cell_type": "code",
   "execution_count": 11,
   "id": "352ead97",
   "metadata": {
    "ExecuteTime": {
     "end_time": "2022-07-09T15:03:44.824645Z",
     "start_time": "2022-07-09T15:03:44.809647Z"
    }
   },
   "outputs": [
    {
     "data": {
      "text/plain": [
       "((1, 2, 3, 4, 5, 6, 7, 8, 9, 10, 11, 12, 13, 14, 15, 16, 17, 18, 19, 20),\n",
       " (1.0, 2.3, 4.5, 5.8),\n",
       " ('Kobe', 'Gigi', 'Phil', 'Kyrie'),\n",
       " (1, 2.3, 'Kobe', 'Stax-124B6', 10000, 234.60823))"
      ]
     },
     "execution_count": 11,
     "metadata": {},
     "output_type": "execute_result"
    }
   ],
   "source": [
    "tuple_of_tuples = (    \n",
    "    tuple_of_integer_numbers,\n",
    "    tuple_of_decimal_numbers,\n",
    "    tuple_of_strings,\n",
    "    tuple_of_mix_types,\n",
    ")\n",
    "\n",
    "tuple_of_tuples"
   ]
  },
  {
   "cell_type": "markdown",
   "id": "52ccaeed",
   "metadata": {},
   "source": [
    "---"
   ]
  },
  {
   "cell_type": "markdown",
   "id": "67db457b",
   "metadata": {},
   "source": [
    "## Indexing a Tuple"
   ]
  },
  {
   "cell_type": "code",
   "execution_count": 12,
   "id": "da3806e6",
   "metadata": {
    "ExecuteTime": {
     "end_time": "2022-07-09T15:04:01.467038Z",
     "start_time": "2022-07-09T15:04:01.454047Z"
    }
   },
   "outputs": [
    {
     "data": {
      "text/plain": [
       "('turquoise', 'cyan', 'deepskyblue', 'gold', 'maroon')"
      ]
     },
     "execution_count": 12,
     "metadata": {},
     "output_type": "execute_result"
    }
   ],
   "source": [
    "tuple_of_colors"
   ]
  },
  {
   "cell_type": "code",
   "execution_count": 13,
   "id": "e99f64a4",
   "metadata": {
    "ExecuteTime": {
     "end_time": "2022-07-09T15:04:09.476378Z",
     "start_time": "2022-07-09T15:04:09.459192Z"
    }
   },
   "outputs": [
    {
     "data": {
      "text/plain": [
       "'deepskyblue'"
      ]
     },
     "execution_count": 13,
     "metadata": {},
     "output_type": "execute_result"
    }
   ],
   "source": [
    "tuple_of_colors[2]"
   ]
  },
  {
   "cell_type": "code",
   "execution_count": 14,
   "id": "4c4dee61",
   "metadata": {
    "ExecuteTime": {
     "end_time": "2022-07-09T15:04:27.549215Z",
     "start_time": "2022-07-09T15:04:27.531008Z"
    }
   },
   "outputs": [
    {
     "data": {
      "text/plain": [
       "'turquoise'"
      ]
     },
     "execution_count": 14,
     "metadata": {},
     "output_type": "execute_result"
    }
   ],
   "source": [
    "tuple_of_colors[0]"
   ]
  },
  {
   "cell_type": "code",
   "execution_count": 15,
   "id": "b821f107",
   "metadata": {
    "ExecuteTime": {
     "end_time": "2022-07-09T15:04:34.424103Z",
     "start_time": "2022-07-09T15:04:34.416137Z"
    }
   },
   "outputs": [
    {
     "data": {
      "text/plain": [
       "'maroon'"
      ]
     },
     "execution_count": 15,
     "metadata": {},
     "output_type": "execute_result"
    }
   ],
   "source": [
    "tuple_of_colors[-1]"
   ]
  },
  {
   "cell_type": "code",
   "execution_count": 16,
   "id": "44f262c0",
   "metadata": {
    "ExecuteTime": {
     "end_time": "2022-07-09T15:04:45.107044Z",
     "start_time": "2022-07-09T15:04:45.097999Z"
    }
   },
   "outputs": [
    {
     "data": {
      "text/plain": [
       "'maroon'"
      ]
     },
     "execution_count": 16,
     "metadata": {},
     "output_type": "execute_result"
    }
   ],
   "source": [
    "tuple_of_colors[len(tuple_of_colors) - 1]"
   ]
  },
  {
   "cell_type": "markdown",
   "id": "98cbbda5",
   "metadata": {},
   "source": [
    "## Slicing a Tuple"
   ]
  },
  {
   "cell_type": "code",
   "execution_count": 17,
   "id": "d1d1deee",
   "metadata": {
    "ExecuteTime": {
     "end_time": "2022-07-09T15:05:04.404476Z",
     "start_time": "2022-07-09T15:05:04.397398Z"
    }
   },
   "outputs": [
    {
     "data": {
      "text/plain": [
       "('cyan', 'deepskyblue', 'gold')"
      ]
     },
     "execution_count": 17,
     "metadata": {},
     "output_type": "execute_result"
    }
   ],
   "source": [
    "tuple_of_colors[1:4]"
   ]
  },
  {
   "cell_type": "code",
   "execution_count": 18,
   "id": "6350491a",
   "metadata": {
    "ExecuteTime": {
     "end_time": "2022-07-09T15:05:14.720773Z",
     "start_time": "2022-07-09T15:05:14.710741Z"
    }
   },
   "outputs": [
    {
     "data": {
      "text/plain": [
       "('deepskyblue', 'gold', 'maroon')"
      ]
     },
     "execution_count": 18,
     "metadata": {},
     "output_type": "execute_result"
    }
   ],
   "source": [
    "tuple_of_colors[2:]"
   ]
  },
  {
   "cell_type": "markdown",
   "id": "209afb60",
   "metadata": {},
   "source": [
    "## Mutating a Tuple"
   ]
  },
  {
   "cell_type": "code",
   "execution_count": 19,
   "id": "4771b3df",
   "metadata": {
    "ExecuteTime": {
     "end_time": "2022-07-09T15:05:42.114544Z",
     "start_time": "2022-07-09T15:05:42.102458Z"
    }
   },
   "outputs": [
    {
     "data": {
      "text/plain": [
       "\"O'neil\""
      ]
     },
     "execution_count": 19,
     "metadata": {},
     "output_type": "execute_result"
    }
   ],
   "source": [
    "first_name = \"O'neil\"\n",
    "\n",
    "first_name"
   ]
  },
  {
   "cell_type": "code",
   "execution_count": 20,
   "id": "3e4a8a8f",
   "metadata": {
    "ExecuteTime": {
     "end_time": "2022-07-09T15:05:42.551862Z",
     "start_time": "2022-07-09T15:05:42.541849Z"
    }
   },
   "outputs": [
    {
     "ename": "TypeError",
     "evalue": "'str' object does not support item assignment",
     "output_type": "error",
     "traceback": [
      "\u001b[1;31m---------------------------------------------------------------------------\u001b[0m",
      "\u001b[1;31mTypeError\u001b[0m                                 Traceback (most recent call last)",
      "\u001b[1;32mC:\\Users\\MHOLDB~1\\AppData\\Local\\Temp/ipykernel_29260/3650801040.py\u001b[0m in \u001b[0;36m<module>\u001b[1;34m\u001b[0m\n\u001b[1;32m----> 1\u001b[1;33m \u001b[0mfirst_name\u001b[0m\u001b[1;33m[\u001b[0m\u001b[1;36m0\u001b[0m\u001b[1;33m]\u001b[0m \u001b[1;33m=\u001b[0m \u001b[1;34m\"o\"\u001b[0m\u001b[1;33m\u001b[0m\u001b[1;33m\u001b[0m\u001b[0m\n\u001b[0m",
      "\u001b[1;31mTypeError\u001b[0m: 'str' object does not support item assignment"
     ]
    }
   ],
   "source": [
    "first_name[0] = \"o\""
   ]
  },
  {
   "cell_type": "markdown",
   "id": "c602c5a4",
   "metadata": {},
   "source": [
    "---"
   ]
  },
  {
   "cell_type": "markdown",
   "id": "bfa836b7",
   "metadata": {},
   "source": [
    "### Adding New Values to a Defined Tuple"
   ]
  },
  {
   "cell_type": "code",
   "execution_count": 23,
   "id": "a61bffed",
   "metadata": {
    "ExecuteTime": {
     "end_time": "2022-07-09T15:06:24.312769Z",
     "start_time": "2022-07-09T15:06:24.292696Z"
    }
   },
   "outputs": [
    {
     "ename": "AttributeError",
     "evalue": "'tuple' object has no attribute 'append'",
     "output_type": "error",
     "traceback": [
      "\u001b[1;31m---------------------------------------------------------------------------\u001b[0m",
      "\u001b[1;31mAttributeError\u001b[0m                            Traceback (most recent call last)",
      "\u001b[1;32mC:\\Users\\MHOLDB~1\\AppData\\Local\\Temp/ipykernel_29260/2298990094.py\u001b[0m in \u001b[0;36m<module>\u001b[1;34m\u001b[0m\n\u001b[1;32m----> 1\u001b[1;33m \u001b[0mtuple_of_names\u001b[0m\u001b[1;33m.\u001b[0m\u001b[0mappend\u001b[0m\u001b[1;33m(\u001b[0m\u001b[1;34m\"Brooks\"\u001b[0m\u001b[1;33m)\u001b[0m\u001b[1;33m\u001b[0m\u001b[1;33m\u001b[0m\u001b[0m\n\u001b[0m",
      "\u001b[1;31mAttributeError\u001b[0m: 'tuple' object has no attribute 'append'"
     ]
    }
   ],
   "source": [
    "tuple_of_names.append(\"Brooks\")"
   ]
  },
  {
   "cell_type": "markdown",
   "id": "26ee4be1",
   "metadata": {},
   "source": [
    "### Changing a Value in a Define Tuple to a Different Value"
   ]
  },
  {
   "cell_type": "code",
   "execution_count": 24,
   "id": "b8b486a1",
   "metadata": {
    "ExecuteTime": {
     "end_time": "2022-07-09T15:07:03.268013Z",
     "start_time": "2022-07-09T15:07:03.251921Z"
    }
   },
   "outputs": [
    {
     "ename": "TypeError",
     "evalue": "'tuple' object does not support item assignment",
     "output_type": "error",
     "traceback": [
      "\u001b[1;31m---------------------------------------------------------------------------\u001b[0m",
      "\u001b[1;31mTypeError\u001b[0m                                 Traceback (most recent call last)",
      "\u001b[1;32mC:\\Users\\MHOLDB~1\\AppData\\Local\\Temp/ipykernel_29260/2907952775.py\u001b[0m in \u001b[0;36m<module>\u001b[1;34m\u001b[0m\n\u001b[1;32m----> 1\u001b[1;33m \u001b[0mtuple_of_names\u001b[0m\u001b[1;33m[\u001b[0m\u001b[1;36m0\u001b[0m\u001b[1;33m]\u001b[0m \u001b[1;33m=\u001b[0m \u001b[1;34m\"Bryant\"\u001b[0m\u001b[1;33m\u001b[0m\u001b[1;33m\u001b[0m\u001b[0m\n\u001b[0m",
      "\u001b[1;31mTypeError\u001b[0m: 'tuple' object does not support item assignment"
     ]
    }
   ],
   "source": [
    "tuple_of_names[0] = \"Bryant\""
   ]
  },
  {
   "cell_type": "markdown",
   "id": "cfb2ea18",
   "metadata": {},
   "source": [
    "### Removing a Value from a Define Tuple"
   ]
  },
  {
   "cell_type": "code",
   "execution_count": 26,
   "id": "87a7867e",
   "metadata": {
    "ExecuteTime": {
     "end_time": "2022-07-09T15:07:39.850464Z",
     "start_time": "2022-07-09T15:07:39.836472Z"
    }
   },
   "outputs": [
    {
     "data": {
      "text/plain": [
       "3"
      ]
     },
     "execution_count": 26,
     "metadata": {},
     "output_type": "execute_result"
    }
   ],
   "source": [
    "index_position_of_kyrie = tuple_of_names.index(\"Kyrie\")\n",
    "\n",
    "index_position_of_kyrie"
   ]
  },
  {
   "cell_type": "code",
   "execution_count": 27,
   "id": "7bcadc11",
   "metadata": {
    "ExecuteTime": {
     "end_time": "2022-07-09T15:07:50.063300Z",
     "start_time": "2022-07-09T15:07:50.040297Z"
    }
   },
   "outputs": [
    {
     "ename": "AttributeError",
     "evalue": "'tuple' object has no attribute 'pop'",
     "output_type": "error",
     "traceback": [
      "\u001b[1;31m---------------------------------------------------------------------------\u001b[0m",
      "\u001b[1;31mAttributeError\u001b[0m                            Traceback (most recent call last)",
      "\u001b[1;32mC:\\Users\\MHOLDB~1\\AppData\\Local\\Temp/ipykernel_29260/3933648564.py\u001b[0m in \u001b[0;36m<module>\u001b[1;34m\u001b[0m\n\u001b[1;32m----> 1\u001b[1;33m \u001b[0mtuple_of_names\u001b[0m\u001b[1;33m.\u001b[0m\u001b[0mpop\u001b[0m\u001b[1;33m(\u001b[0m\u001b[0mindex_position_of_kyrie\u001b[0m\u001b[1;33m)\u001b[0m\u001b[1;33m\u001b[0m\u001b[1;33m\u001b[0m\u001b[0m\n\u001b[0m",
      "\u001b[1;31mAttributeError\u001b[0m: 'tuple' object has no attribute 'pop'"
     ]
    }
   ],
   "source": [
    "tuple_of_names.pop(index_position_of_kyrie)"
   ]
  },
  {
   "cell_type": "markdown",
   "id": "b25c2829",
   "metadata": {},
   "source": [
    "---"
   ]
  },
  {
   "cell_type": "markdown",
   "id": "f6a0c34e",
   "metadata": {},
   "source": [
    "## Travering a Tuple"
   ]
  },
  {
   "cell_type": "code",
   "execution_count": 30,
   "id": "9b70a68f",
   "metadata": {
    "ExecuteTime": {
     "end_time": "2022-07-09T15:09:13.071112Z",
     "start_time": "2022-07-09T15:09:13.055117Z"
    }
   },
   "outputs": [],
   "source": [
    "tuple_of_fruits = tuple(\"apple grape watermelon orage raspberry strawberry cranberry blueberry\".split(\" \"))"
   ]
  },
  {
   "cell_type": "code",
   "execution_count": 31,
   "id": "68aa4b87",
   "metadata": {
    "ExecuteTime": {
     "end_time": "2022-07-09T15:09:14.275806Z",
     "start_time": "2022-07-09T15:09:14.271801Z"
    }
   },
   "outputs": [
    {
     "data": {
      "text/plain": [
       "('apple',\n",
       " 'grape',\n",
       " 'watermelon',\n",
       " 'orage',\n",
       " 'raspberry',\n",
       " 'strawberry',\n",
       " 'cranberry',\n",
       " 'blueberry')"
      ]
     },
     "execution_count": 31,
     "metadata": {},
     "output_type": "execute_result"
    }
   ],
   "source": [
    "tuple_of_fruits"
   ]
  },
  {
   "cell_type": "code",
   "execution_count": 32,
   "id": "61b62280",
   "metadata": {
    "ExecuteTime": {
     "end_time": "2022-07-09T15:09:26.371697Z",
     "start_time": "2022-07-09T15:09:26.359673Z"
    }
   },
   "outputs": [
    {
     "name": "stdout",
     "output_type": "stream",
     "text": [
      "apple\n",
      "grape\n",
      "watermelon\n",
      "orage\n",
      "raspberry\n",
      "strawberry\n",
      "cranberry\n",
      "blueberry\n"
     ]
    }
   ],
   "source": [
    "for fruit in tuple_of_fruits:\n",
    "    print(fruit)"
   ]
  },
  {
   "cell_type": "markdown",
   "id": "00bfe3c5",
   "metadata": {},
   "source": [
    "---"
   ]
  },
  {
   "cell_type": "markdown",
   "id": "3d9123c1",
   "metadata": {},
   "source": [
    "### Get tuple of Integer Numbers Between 0 and 100"
   ]
  },
  {
   "cell_type": "code",
   "execution_count": 35,
   "id": "7279229d",
   "metadata": {
    "ExecuteTime": {
     "end_time": "2022-07-09T15:11:36.185505Z",
     "start_time": "2022-07-09T15:11:36.173376Z"
    },
    "scrolled": true
   },
   "outputs": [
    {
     "data": {
      "text/plain": [
       "(1,\n",
       " 2,\n",
       " 3,\n",
       " 4,\n",
       " 5,\n",
       " 6,\n",
       " 7,\n",
       " 8,\n",
       " 9,\n",
       " 10,\n",
       " 11,\n",
       " 12,\n",
       " 13,\n",
       " 14,\n",
       " 15,\n",
       " 16,\n",
       " 17,\n",
       " 18,\n",
       " 19,\n",
       " 20,\n",
       " 21,\n",
       " 22,\n",
       " 23,\n",
       " 24,\n",
       " 25,\n",
       " 26,\n",
       " 27,\n",
       " 28,\n",
       " 29,\n",
       " 30,\n",
       " 31,\n",
       " 32,\n",
       " 33,\n",
       " 34,\n",
       " 35,\n",
       " 36,\n",
       " 37,\n",
       " 38,\n",
       " 39,\n",
       " 40,\n",
       " 41,\n",
       " 42,\n",
       " 43,\n",
       " 44,\n",
       " 45,\n",
       " 46,\n",
       " 47,\n",
       " 48,\n",
       " 49,\n",
       " 50,\n",
       " 51,\n",
       " 52,\n",
       " 53,\n",
       " 54,\n",
       " 55,\n",
       " 56,\n",
       " 57,\n",
       " 58,\n",
       " 59,\n",
       " 60,\n",
       " 61,\n",
       " 62,\n",
       " 63,\n",
       " 64,\n",
       " 65,\n",
       " 66,\n",
       " 67,\n",
       " 68,\n",
       " 69,\n",
       " 70,\n",
       " 71,\n",
       " 72,\n",
       " 73,\n",
       " 74,\n",
       " 75,\n",
       " 76,\n",
       " 77,\n",
       " 78,\n",
       " 79,\n",
       " 80,\n",
       " 81,\n",
       " 82,\n",
       " 83,\n",
       " 84,\n",
       " 85,\n",
       " 86,\n",
       " 87,\n",
       " 88,\n",
       " 89,\n",
       " 90,\n",
       " 91,\n",
       " 92,\n",
       " 93,\n",
       " 94,\n",
       " 95,\n",
       " 96,\n",
       " 97,\n",
       " 98,\n",
       " 99)"
      ]
     },
     "execution_count": 35,
     "metadata": {},
     "output_type": "execute_result"
    }
   ],
   "source": [
    "tuple_of_integers_between_0_and_100 = tuple(range(1, 100))\n",
    "\n",
    "tuple_of_integers_between_0_and_100"
   ]
  },
  {
   "cell_type": "code",
   "execution_count": 45,
   "id": "bff5f400",
   "metadata": {
    "ExecuteTime": {
     "end_time": "2022-07-09T15:15:28.482930Z",
     "start_time": "2022-07-09T15:15:28.468905Z"
    }
   },
   "outputs": [],
   "source": [
    "list_of_even_numbers_between_0_and_100 = []\n",
    "\n",
    "for integer_number in tuple_of_integers_between_0_and_100:\n",
    "    \n",
    "    if integer_number % 2 == 0:\n",
    "        \n",
    "        list_of_even_numbers_between_0_and_100.append(integer_number)\n",
    "        \n",
    "    else:\n",
    "        \n",
    "        continue\n",
    "        \n",
    "tuple_of_even_numbers_between_0_and_100 = tuple(list_of_even_numbers_between_0_and_100)"
   ]
  },
  {
   "cell_type": "code",
   "execution_count": 46,
   "id": "fca7e15b",
   "metadata": {
    "ExecuteTime": {
     "end_time": "2022-07-09T15:15:37.847964Z",
     "start_time": "2022-07-09T15:15:37.829967Z"
    },
    "scrolled": true
   },
   "outputs": [
    {
     "data": {
      "text/plain": [
       "(2,\n",
       " 4,\n",
       " 6,\n",
       " 8,\n",
       " 10,\n",
       " 12,\n",
       " 14,\n",
       " 16,\n",
       " 18,\n",
       " 20,\n",
       " 22,\n",
       " 24,\n",
       " 26,\n",
       " 28,\n",
       " 30,\n",
       " 32,\n",
       " 34,\n",
       " 36,\n",
       " 38,\n",
       " 40,\n",
       " 42,\n",
       " 44,\n",
       " 46,\n",
       " 48,\n",
       " 50,\n",
       " 52,\n",
       " 54,\n",
       " 56,\n",
       " 58,\n",
       " 60,\n",
       " 62,\n",
       " 64,\n",
       " 66,\n",
       " 68,\n",
       " 70,\n",
       " 72,\n",
       " 74,\n",
       " 76,\n",
       " 78,\n",
       " 80,\n",
       " 82,\n",
       " 84,\n",
       " 86,\n",
       " 88,\n",
       " 90,\n",
       " 92,\n",
       " 94,\n",
       " 96,\n",
       " 98)"
      ]
     },
     "execution_count": 46,
     "metadata": {},
     "output_type": "execute_result"
    }
   ],
   "source": [
    "tuple_of_even_numbers_between_0_and_100"
   ]
  },
  {
   "cell_type": "markdown",
   "id": "e595f24b",
   "metadata": {},
   "source": [
    "---"
   ]
  },
  {
   "cell_type": "code",
   "execution_count": 47,
   "id": "ddebaaee",
   "metadata": {
    "ExecuteTime": {
     "end_time": "2022-07-09T15:15:48.535498Z",
     "start_time": "2022-07-09T15:15:48.517460Z"
    }
   },
   "outputs": [
    {
     "data": {
      "text/plain": [
       "True"
      ]
     },
     "execution_count": 47,
     "metadata": {},
     "output_type": "execute_result"
    }
   ],
   "source": [
    "tuple_of_even_numbers_between_0_and_100 == tuple(range(2, 100, 2))"
   ]
  },
  {
   "cell_type": "markdown",
   "id": "9ab22247",
   "metadata": {},
   "source": [
    "## Tuple Methods"
   ]
  },
  {
   "cell_type": "markdown",
   "id": "fa6e437b",
   "metadata": {
    "run_control": {
     "marked": false
    }
   },
   "source": [
    "* Find Some Tuple Methods and how they are used."
   ]
  },
  {
   "cell_type": "code",
   "execution_count": null,
   "id": "e26930e5",
   "metadata": {},
   "outputs": [],
   "source": []
  }
 ],
 "metadata": {
  "kernelspec": {
   "display_name": "Python 3 (ipykernel)",
   "language": "python",
   "name": "python3"
  },
  "language_info": {
   "codemirror_mode": {
    "name": "ipython",
    "version": 3
   },
   "file_extension": ".py",
   "mimetype": "text/x-python",
   "name": "python",
   "nbconvert_exporter": "python",
   "pygments_lexer": "ipython3",
   "version": "3.10.0"
  },
  "nbTranslate": {
   "displayLangs": [
    "*"
   ],
   "hotkey": "alt-t",
   "langInMainMenu": true,
   "sourceLang": "en",
   "targetLang": "fr",
   "useGoogleTranslate": true
  },
  "toc": {
   "base_numbering": 1,
   "nav_menu": {},
   "number_sections": true,
   "sideBar": true,
   "skip_h1_title": false,
   "title_cell": "Table of Contents",
   "title_sidebar": "Contents",
   "toc_cell": false,
   "toc_position": {},
   "toc_section_display": true,
   "toc_window_display": false
  },
  "varInspector": {
   "cols": {
    "lenName": 16,
    "lenType": 16,
    "lenVar": 40
   },
   "kernels_config": {
    "python": {
     "delete_cmd_postfix": "",
     "delete_cmd_prefix": "del ",
     "library": "var_list.py",
     "varRefreshCmd": "print(var_dic_list())"
    },
    "r": {
     "delete_cmd_postfix": ") ",
     "delete_cmd_prefix": "rm(",
     "library": "var_list.r",
     "varRefreshCmd": "cat(var_dic_list()) "
    }
   },
   "types_to_exclude": [
    "module",
    "function",
    "builtin_function_or_method",
    "instance",
    "_Feature"
   ],
   "window_display": false
  }
 },
 "nbformat": 4,
 "nbformat_minor": 5
}
