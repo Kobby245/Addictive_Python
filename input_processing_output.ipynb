{
 "cells": [
  {
   "cell_type": "markdown",
   "id": "1413fda3",
   "metadata": {
    "ExecuteTime": {
     "end_time": "2022-06-18T11:47:27.165697Z",
     "start_time": "2022-06-18T11:47:27.152694Z"
    }
   },
   "source": [
    "# Concept"
   ]
  },
  {
   "cell_type": "markdown",
   "id": "d5de0dc8",
   "metadata": {},
   "source": [
    "## Computer Programs"
   ]
  },
  {
   "cell_type": "markdown",
   "id": "adadc8fb",
   "metadata": {},
   "source": [
    "### Traditional Workflow"
   ]
  },
  {
   "cell_type": "markdown",
   "id": "a47cfd41",
   "metadata": {},
   "source": [
    "**Input**  -->  **Process**   --> **Output**"
   ]
  },
  {
   "cell_type": "markdown",
   "id": "c3c609be",
   "metadata": {},
   "source": [
    "## Input"
   ]
  },
  {
   "cell_type": "markdown",
   "id": "290fbb29",
   "metadata": {},
   "source": [
    "Input are what computer programmes need to give a specific output;\n",
    "They can be files, values etc..."
   ]
  },
  {
   "cell_type": "markdown",
   "id": "01370c0b",
   "metadata": {},
   "source": [
    "## Processing"
   ]
  },
  {
   "cell_type": "markdown",
   "id": "06d27596",
   "metadata": {},
   "source": [
    "What computer programmes do to the inputs that they receive."
   ]
  },
  {
   "cell_type": "markdown",
   "id": "c4447dff",
   "metadata": {},
   "source": [
    "## Output"
   ]
  },
  {
   "cell_type": "markdown",
   "id": "7273938f",
   "metadata": {},
   "source": [
    "The outcome of what a computer programme has processed."
   ]
  },
  {
   "cell_type": "markdown",
   "id": "097bfade",
   "metadata": {},
   "source": [
    "---"
   ]
  },
  {
   "cell_type": "markdown",
   "id": "89bda355",
   "metadata": {},
   "source": [
    "**Mathematical Expression**\n",
    "\n",
    "- **x + y**\n",
    "\n",
    "    - x - variable | `independent variable` | **`Input`**\n",
    "    - y - variable | `independent variable` | **`Input`**\n",
    "\n",
    "- **2x + 3y = z**\n",
    "\n",
    "    - x - variable | `independent variable` | **`Input`**\n",
    "    - y - variable | `independent variable` | **`Input`**\n",
    "    - 2 - constant | **`Input`**\n",
    "    - 3 - constant | **`Input`**\n",
    "    - z - variable | `dependent variable` | **`Outcome`**"
   ]
  },
  {
   "cell_type": "markdown",
   "id": "2453e564",
   "metadata": {},
   "source": [
    "## A Typical Python Programme to add two numbers"
   ]
  },
  {
   "cell_type": "code",
   "execution_count": 2,
   "id": "987c4ae6",
   "metadata": {
    "ExecuteTime": {
     "end_time": "2022-06-18T12:00:49.768280Z",
     "start_time": "2022-06-18T12:00:49.757279Z"
    }
   },
   "outputs": [
    {
     "name": "stdout",
     "output_type": "stream",
     "text": [
      "20\n"
     ]
    }
   ],
   "source": [
    "# Inputs\n",
    "# Hard coded value\n",
    "x = 10\n",
    "\n",
    "# Hard coded value\n",
    "y = 10\n",
    "\n",
    "# Processing\n",
    "results = x + y\n",
    "\n",
    "# Output\n",
    "print(results)"
   ]
  },
  {
   "cell_type": "markdown",
   "id": "d0a62245",
   "metadata": {},
   "source": [
    "## `input()` function"
   ]
  },
  {
   "cell_type": "markdown",
   "id": "ca443806",
   "metadata": {
    "ExecuteTime": {
     "end_time": "2022-06-18T12:13:27.459619Z",
     "start_time": "2022-06-18T12:13:27.443152Z"
    }
   },
   "source": [
    "***syntax:***\n",
    "    \n",
    "    input(\"Prompt\")\n",
    "---\n",
    "\n",
    "Usage Example:\n",
    "```python\n",
    ">>> first_name = input(\"Enter your first name: \")\n",
    "\n",
    ">>> print(first_name)\n",
    "\n",
    ">>> 'Kobe'\n",
    "```"
   ]
  },
  {
   "cell_type": "code",
   "execution_count": 16,
   "id": "d6c12705",
   "metadata": {
    "ExecuteTime": {
     "end_time": "2022-06-18T12:29:09.124432Z",
     "start_time": "2022-06-18T12:29:02.198410Z"
    },
    "run_control": {
     "marked": true
    }
   },
   "outputs": [
    {
     "name": "stdout",
     "output_type": "stream",
     "text": [
      "Enter the value for x: 79872\n",
      "Enter the value for y: 89749.12312\n",
      "7987289749.12312\n"
     ]
    }
   ],
   "source": [
    "# Inputs\n",
    "# Take keyboard input from user\n",
    "x = input(\"Enter the value for x: \")\n",
    "\n",
    "# Take keyboard input from user\n",
    "y = input(\"Enter the value for y: \")\n",
    "\n",
    "# Processing\n",
    "results = x + y\n",
    "\n",
    "# Output\n",
    "print(results)"
   ]
  },
  {
   "cell_type": "markdown",
   "id": "d2529f27",
   "metadata": {},
   "source": [
    "## Gotchas about the `input()` function"
   ]
  },
  {
   "cell_type": "markdown",
   "id": "ec7bd34c",
   "metadata": {},
   "source": [
    "**Python 2.x**\n",
    "\n",
    "* `input()` - recognizes the type of input it receives.\n",
    "\n",
    "* `raw_input()` - takes in the keyboard input in it's raw form.\n",
    "\n",
    "\n",
    "**Pythonn 3.x***\n",
    "\n",
    "* `input()` - takes in the keyboard input in it's raw form."
   ]
  },
  {
   "cell_type": "markdown",
   "id": "6fe45b77",
   "metadata": {},
   "source": [
    "## Type Casting Functions"
   ]
  },
  {
   "cell_type": "markdown",
   "id": "611565dd",
   "metadata": {},
   "source": [
    "* int()\n",
    "\n",
    "* float()\n",
    "\n",
    "* str()\n",
    "\n",
    "* complex()\n",
    "\n",
    "* list()\n",
    "\n",
    "* tuple()\n",
    "\n",
    "* set()\n",
    "\n",
    "* dict()"
   ]
  },
  {
   "cell_type": "code",
   "execution_count": 18,
   "id": "73428f17",
   "metadata": {
    "ExecuteTime": {
     "end_time": "2022-06-18T12:31:07.365019Z",
     "start_time": "2022-06-18T12:31:01.740113Z"
    }
   },
   "outputs": [
    {
     "name": "stdout",
     "output_type": "stream",
     "text": [
      "Enter the value for x: 50\n",
      "Enter the value for y: 50\n",
      "100.0\n"
     ]
    }
   ],
   "source": [
    "# Inputs\n",
    "# Take keyboard input from user\n",
    "x = float(input(\"Enter the value for x: \"))\n",
    "\n",
    "# Take keyboard input from user\n",
    "y = float(input(\"Enter the value for y: \"))\n",
    "\n",
    "# Processing\n",
    "results = x + y\n",
    "\n",
    "# Output\n",
    "print(results)"
   ]
  },
  {
   "cell_type": "markdown",
   "id": "30948e58",
   "metadata": {},
   "source": [
    "## Write a Python programme to solve the following expression `2x + 3y = z`"
   ]
  },
  {
   "cell_type": "code",
   "execution_count": 3,
   "id": "5a6d62fe",
   "metadata": {
    "ExecuteTime": {
     "end_time": "2022-06-18T12:41:41.239176Z",
     "start_time": "2022-06-18T12:41:37.272908Z"
    }
   },
   "outputs": [
    {
     "name": "stdout",
     "output_type": "stream",
     "text": [
      "Enter a value for x: 5\n",
      "Enter a value for y: 6\n",
      "28 cm\n"
     ]
    }
   ],
   "source": [
    "x = int(input(\"Enter a value for x: \"))\n",
    "\n",
    "y = int(input(\"Enter a value for y: \"))\n",
    "\n",
    "z = (2 * x) + (3 * y)\n",
    "\n",
    "print(z, \"cm\")"
   ]
  },
  {
   "cell_type": "markdown",
   "id": "8e428656",
   "metadata": {},
   "source": [
    "## Order of Precendence for Python Operators"
   ]
  },
  {
   "cell_type": "markdown",
   "id": "79da1fb6",
   "metadata": {},
   "source": [
    "* P - Parenthesis `()`\n",
    "* E - Exponentiation `**`\n",
    "* M - Multiplication `*`\n",
    "* D - Division `/`\n",
    "* A - Addition `+`\n",
    "* S - Subtraction `-`"
   ]
  },
  {
   "cell_type": "code",
   "execution_count": 29,
   "id": "6b8ecd5e",
   "metadata": {
    "ExecuteTime": {
     "end_time": "2022-06-18T12:44:21.017455Z",
     "start_time": "2022-06-18T12:44:18.453883Z"
    }
   },
   "outputs": [
    {
     "name": "stdout",
     "output_type": "stream",
     "text": [
      "Enter a value for x: 8\n",
      "Enter a value for y: 5\n",
      "31.0\n"
     ]
    }
   ],
   "source": [
    "# TAKE INPUTS\n",
    "# Indepent variable x\n",
    "x = float(input(\"Enter a value for x: \"))\n",
    "\n",
    "# Indepent variable y\n",
    "y = float(input(\"Enter a value for y: \"))\n",
    "\n",
    "# Constant variable\n",
    "COEFFICIENT_OF_X = 2\n",
    "COEFFICIENT_OF_Y = 3\n",
    "\n",
    "# Constant variable\n",
    "\n",
    "# PROCESSING\n",
    "# Dependent variable z\n",
    "z = (COEFFICIENT_OF_X * x) + (COEFFICIENT_OF_Y * y)\n",
    "\n",
    "# OUTPUT\n",
    "print(z)"
   ]
  },
  {
   "cell_type": "markdown",
   "id": "71d4c796",
   "metadata": {},
   "source": [
    "---"
   ]
  },
  {
   "cell_type": "markdown",
   "id": "0b00c851",
   "metadata": {},
   "source": [
    "## Activity:"
   ]
  },
  {
   "cell_type": "markdown",
   "id": "c1ec3884",
   "metadata": {},
   "source": [
    "* **Write a python programme to calculate the density of a susbstance;**\n",
    "\n",
    "* Using the formula:\n",
    "    - **Density = Mass/Volume**\n",
    "\n",
    "* The programme should accept keyboard inputs."
   ]
  },
  {
   "cell_type": "markdown",
   "id": "36d5424c",
   "metadata": {},
   "source": [
    "## Try These"
   ]
  },
  {
   "cell_type": "markdown",
   "id": "57d8705e",
   "metadata": {},
   "source": [
    "* **Simple Interest**\n",
    "    - PRT\n",
    "\n",
    "---\n",
    "\n",
    "* **Area of Rectangle**\n",
    "    - lb\n",
    "\n",
    "---\n",
    "\n",
    "* **Area of a circle**\n",
    "    - π𝑟2\n",
    "\n",
    "---\n",
    "\n",
    "* **Circumference of a circle**\n",
    "    - 2π𝑟\n",
    "\n",
    "---\n",
    "\n",
    "* **Area of a triangle**\n",
    "    - 1/2bh\n",
    "\n",
    "---\n",
    "\n",
    "* **Square root of a number**\n",
    "    - x**2\n",
    "\n",
    "---\n",
    "\n",
    "* **Distance betwwen two points**\n",
    "    - ((𝑥1 − 𝑥2) ** 2 + (𝑦1 − 𝑦2) ** 2) ** 0.5\n",
    "\n",
    "---\n",
    "\n",
    "* **Slope of the line**\n",
    "    - 𝑦2 − 𝑦1 / 𝑥2 – 𝑥1\n",
    "\n",
    "---\n",
    "\n",
    "* **Equation of a line**\n",
    "    - y = mx + c"
   ]
  },
  {
   "cell_type": "markdown",
   "id": "f70af6aa",
   "metadata": {},
   "source": [
    "---"
   ]
  }
 ],
 "metadata": {
  "kernelspec": {
   "display_name": "Python 3",
   "language": "python",
   "name": "python3"
  },
  "language_info": {
   "codemirror_mode": {
    "name": "ipython",
    "version": 3
   },
   "file_extension": ".py",
   "mimetype": "text/x-python",
   "name": "python",
   "nbconvert_exporter": "python",
   "pygments_lexer": "ipython3",
   "version": "3.8.8"
  },
  "nbTranslate": {
   "displayLangs": [
    "*"
   ],
   "hotkey": "alt-t",
   "langInMainMenu": true,
   "sourceLang": "en",
   "targetLang": "fr",
   "useGoogleTranslate": true
  },
  "toc": {
   "base_numbering": 1,
   "nav_menu": {},
   "number_sections": true,
   "sideBar": true,
   "skip_h1_title": false,
   "title_cell": "Table of Contents",
   "title_sidebar": "Contents",
   "toc_cell": false,
   "toc_position": {},
   "toc_section_display": true,
   "toc_window_display": false
  },
  "varInspector": {
   "cols": {
    "lenName": 16,
    "lenType": 16,
    "lenVar": 40
   },
   "kernels_config": {
    "python": {
     "delete_cmd_postfix": "",
     "delete_cmd_prefix": "del ",
     "library": "var_list.py",
     "varRefreshCmd": "print(var_dic_list())"
    },
    "r": {
     "delete_cmd_postfix": ") ",
     "delete_cmd_prefix": "rm(",
     "library": "var_list.r",
     "varRefreshCmd": "cat(var_dic_list()) "
    }
   },
   "types_to_exclude": [
    "module",
    "function",
    "builtin_function_or_method",
    "instance",
    "_Feature"
   ],
   "window_display": false
  }
 },
 "nbformat": 4,
 "nbformat_minor": 5
}
